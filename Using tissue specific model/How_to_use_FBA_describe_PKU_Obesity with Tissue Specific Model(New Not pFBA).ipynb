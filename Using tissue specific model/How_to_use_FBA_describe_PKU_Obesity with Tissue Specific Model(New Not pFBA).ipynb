{
 "cells": [
  {
   "cell_type": "markdown",
   "metadata": {},
   "source": [
    "# Tissue specific model loading"
   ]
  },
  {
   "cell_type": "code",
   "execution_count": 1,
   "metadata": {},
   "outputs": [],
   "source": [
    "import cobra\n",
    "import pandas as pd\n",
    "import numpy as np\n",
    "import pickle\n",
    "from cobra.flux_analysis import pfba"
   ]
  },
  {
   "cell_type": "code",
   "execution_count": 23,
   "metadata": {},
   "outputs": [],
   "source": [
    "# import map visualization tools\n",
    "from utils import show_map\n",
    "import escher\n",
    "map_loc = 'Brain_liver_specific_plusthreeCompetitiveObesityMap.json' # the escher map used below\n",
    "# show all output\n",
    "from IPython.core.interactiveshell import InteractiveShell\n",
    "InteractiveShell.ast_node_interactivity = \"all\"\n",
    "\n",
    "# Load Recon2.2Model with a simplified medium for the course\n",
    "M = cobra.io.load_json_model('Brain_liver_specific_plusthreeCompetitive.json')"
   ]
  },
  {
   "cell_type": "code",
   "execution_count": 24,
   "metadata": {},
   "outputs": [],
   "source": [
    "M.reactions.Brain_biomass_maintenance.lower_bound=0"
   ]
  },
  {
   "cell_type": "code",
   "execution_count": 25,
   "metadata": {},
   "outputs": [],
   "source": [
    "# Setting objective function: biomass reaction in the brain + dopamine production + serotonin production\n",
    "quadratic_objective = M.problem.Objective(M.reactions.Brain_biomass_maintenance.flux_expression+\n",
    "                                              M.reactions.get_by_id('Brain_3HLYTCL').flux_expression+\n",
    "                                             M.reactions.get_by_id('Brain_5HLTDL').flux_expression,\n",
    "    direction='max')\n",
    "M.objective = quadratic_objective"
   ]
  },
  {
   "cell_type": "code",
   "execution_count": 26,
   "metadata": {},
   "outputs": [
    {
     "data": {
      "text/plain": [
       "3.6218423879711157"
      ]
     },
     "execution_count": 26,
     "metadata": {},
     "output_type": "execute_result"
    }
   ],
   "source": [
    "M.solver='glpk'\n",
    "sol = M.optimize()\n",
    "sol.objective_value"
   ]
  },
  {
   "cell_type": "code",
   "execution_count": 27,
   "metadata": {},
   "outputs": [],
   "source": [
    "M1=M.copy()"
   ]
  },
  {
   "cell_type": "code",
   "execution_count": 28,
   "metadata": {},
   "outputs": [],
   "source": [
    "# Setting objective function: biomass reaction in the brain + dopamine production + serotonin production\n",
    "quadratic_objective = M1.problem.Objective(M1.reactions.Brain_biomass_maintenance.flux_expression+\n",
    "                                              M1.reactions.get_by_id('Brain_3HLYTCL').flux_expression+\n",
    "                                             M1.reactions.get_by_id('Brain_5HLTDL').flux_expression,\n",
    "    direction='max')\n",
    "M1.objective = quadratic_objective"
   ]
  },
  {
   "cell_type": "code",
   "execution_count": 29,
   "metadata": {},
   "outputs": [],
   "source": [
    "## Brain Phe\n",
    "M1.reactions.Brain_EX_phe_L_e__csf.lower_bound=0\n",
    "M1.reactions.Brain_EX_phe_L_e__csf.upper_bound=0\n",
    "M1.reactions.Brain_PHETA1.lower_bound=0"
   ]
  },
  {
   "cell_type": "code",
   "execution_count": 30,
   "metadata": {},
   "outputs": [],
   "source": [
    "## Liver Phe_L_c\n",
    "M1.reactions.Liver_PHETA1.lower_bound=0\n",
    "M1.reactions.Liver_RE2269E.upper_bound=0"
   ]
  },
  {
   "cell_type": "code",
   "execution_count": 31,
   "metadata": {},
   "outputs": [],
   "source": [
    "## Brain Tyr\n",
    "M1.reactions.Brain_EX_tyr_L_e__csf.lower_bound=0\n",
    "M1.reactions.Brain_EX_tyr_L_e__csf.upper_bound=0\n",
    "M1.reactions.Brain_EX_34dhphe_e__csf.lower_bound=0\n",
    "M1.reactions.Brain_EX_34dhphe_e__csf.upper_bound=0\n",
    "M1.reactions.Brain_TYRTA.lower_bound=0\n",
    "M1.reactions.get_by_id('34dhpheTR_TOBD').upper_bound=0\n",
    "M1.reactions.Brain_TYRDOPO.upper_bound=0"
   ]
  },
  {
   "cell_type": "code",
   "execution_count": 32,
   "metadata": {},
   "outputs": [],
   "source": [
    "## Brain Trp\n",
    "M1.reactions.Brain_EX_trp_L_e__csf.lower_bound=0\n",
    "M1.reactions.Brain_EX_trp_L_e__csf.upper_bound=0"
   ]
  },
  {
   "cell_type": "code",
   "execution_count": 33,
   "metadata": {},
   "outputs": [],
   "source": [
    "## Reaction has upper_bound lower than 0, which will be changed to 0\n",
    "M1.reactions.Liver_EX_ala_L_e.upper_bound=0\n",
    "M1.reactions.Brain_EX_o2_e__csf.upper_bound=0\n",
    "M1.reactions.Brain_EX_glc_D_e__csf.upper_bound=0"
   ]
  },
  {
   "cell_type": "code",
   "execution_count": 34,
   "metadata": {},
   "outputs": [],
   "source": [
    "## Reaction has lower_bound higher than 0, which will be changed to 0\n",
    "for rxn in M1.reactions:\n",
    "    if M1.reactions.get_by_id(rxn.id).lower_bound>0:\n",
    "        M1.reactions.get_by_id(rxn.id).lower_bound=0"
   ]
  },
  {
   "cell_type": "code",
   "execution_count": 35,
   "metadata": {},
   "outputs": [
    {
     "data": {
      "text/plain": [
       "0.4262626210295204"
      ]
     },
     "execution_count": 35,
     "metadata": {},
     "output_type": "execute_result"
    },
    {
     "data": {
      "application/vnd.jupyter.widget-view+json": {
       "model_id": "c5cdbfd1301141218c62f56aca20a81d",
       "version_major": 2,
       "version_minor": 0
      },
      "text/plain": [
       "Builder(hide_secondary_metabolites=False, highlight_missing=True, reaction_data={'Liver_10FTHFtm': -0.019361, …"
      ]
     },
     "metadata": {},
     "output_type": "display_data"
    }
   ],
   "source": [
    "M1.solver='glpk'\n",
    "sol = M1.optimize()\n",
    "sol.objective_value\n",
    "b = show_map(sol,map_loc)\n",
    "b"
   ]
  },
  {
   "cell_type": "code",
   "execution_count": 36,
   "metadata": {},
   "outputs": [],
   "source": [
    "## Model setting\n",
    "M1.reactions.Liver_EX_tyr_L_e.lower_bound=-0.04\n",
    "M1.reactions.Liver_EX_trp_L_e.lower_bound=-0.1\n",
    "M1.reactions.Liver_EX_phe_L_e.lower_bound=-0.2\n",
    "M1.reactions.Liver_EX_phe_L_e.upper_bound=-0.2\n",
    "M1.reactions.Liver_biomass_reaction.lower_bound=0.05\n",
    "M1.reactions.Liver_biomass_reaction.upper_bound=0.05\n",
    "M1.reactions.Brain_biomass_maintenance.upper_bound=0.1\n",
    "M1.reactions.Brain_5HLTDL.lower_bound=0.095\n",
    "M1.reactions.Ti_To.upper_bound=0.195\n",
    "M1.reactions.Liver_PHETA1.upper_bound=0\n",
    "M1.reactions.Liver_TYRTA.lower_bound=0\n",
    "M1.reactions.Liver_RE2269E.lower_bound=0\n",
    "M1.reactions.Liver_HMR_7628.upper_bound=0\n",
    "M1.reactions.Liver_r1455.upper_bound=0\n",
    "M1.reactions.Liver_biomass_maintenance.upper_bound=0\n",
    "M1.reactions.Brain_Phe_TH.upper_bound=0"
   ]
  },
  {
   "cell_type": "code",
   "execution_count": 37,
   "metadata": {},
   "outputs": [],
   "source": [
    "M1.reactions.Liver_EX_glc_D_e.lower_bound=-1"
   ]
  },
  {
   "cell_type": "code",
   "execution_count": 38,
   "metadata": {},
   "outputs": [
    {
     "data": {
      "text/plain": [
       "0.25175539999999996"
      ]
     },
     "execution_count": 38,
     "metadata": {},
     "output_type": "execute_result"
    },
    {
     "data": {
      "application/vnd.jupyter.widget-view+json": {
       "model_id": "1b6dcb956e7d4ba696d40fd79d9d7dbd",
       "version_major": 2,
       "version_minor": 0
      },
      "text/plain": [
       "Builder(hide_secondary_metabolites=False, highlight_missing=True, reaction_data={'Liver_10FTHFtm': -0.019785, …"
      ]
     },
     "metadata": {},
     "output_type": "display_data"
    }
   ],
   "source": [
    "M1.solver='glpk'\n",
    "sol = M1.optimize()\n",
    "sol.objective_value\n",
    "b = show_map(sol,map_loc)\n",
    "b"
   ]
  },
  {
   "cell_type": "code",
   "execution_count": 39,
   "metadata": {},
   "outputs": [],
   "source": [
    "## Essential needs\n",
    "M1.reactions.Brain_biomass_maintenance.lower_bound=0.1\n",
    "M1.reactions.Brain_3HLYTCL.lower_bound=0.0567\n",
    "M1.reactions.Brain_5HLTDL.lower_bound=0.095"
   ]
  },
  {
   "cell_type": "code",
   "execution_count": 40,
   "metadata": {},
   "outputs": [],
   "source": [
    "exchanges = [ rxn for rxn in M1.reactions if rxn.products == [] and 'EX_' in rxn.id ]\n",
    "for rxn in exchanges:\n",
    "    rxn.upper_bound = 999999\n",
    "M1.reactions.Liver_EX_phe_L_e.upper_bound=-0.2"
   ]
  },
  {
   "cell_type": "code",
   "execution_count": 41,
   "metadata": {},
   "outputs": [],
   "source": [
    "M1.reactions.Liver_LPS.lower_bound=-1000"
   ]
  },
  {
   "cell_type": "code",
   "execution_count": 42,
   "metadata": {},
   "outputs": [
    {
     "data": {
      "text/plain": [
       "0.7408731888814316"
      ]
     },
     "execution_count": 42,
     "metadata": {},
     "output_type": "execute_result"
    }
   ],
   "source": [
    "M1.objective='Liver_EX_tag_hs_e'\n",
    "M1.solver='glpk'\n",
    "sol = M1.optimize()\n",
    "sol.objective_value"
   ]
  },
  {
   "cell_type": "code",
   "execution_count": 43,
   "metadata": {},
   "outputs": [
    {
     "data": {
      "application/vnd.jupyter.widget-view+json": {
       "model_id": "f855f51b27a242de977d14a9847e3767",
       "version_major": 2,
       "version_minor": 0
      },
      "text/plain": [
       "Builder(hide_secondary_metabolites=False, highlight_missing=True, reaction_data={'Liver_10FTHFtm': -0.0, 'Live…"
      ]
     },
     "metadata": {},
     "output_type": "display_data"
    }
   ],
   "source": [
    "fbasol =pfba(M1)\n",
    "b = show_map(fbasol,map_loc)\n",
    "b"
   ]
  },
  {
   "cell_type": "code",
   "execution_count": 44,
   "metadata": {},
   "outputs": [
    {
     "data": {
      "text/plain": [
       "0.8151504656544816"
      ]
     },
     "execution_count": 44,
     "metadata": {},
     "output_type": "execute_result"
    }
   ],
   "source": [
    "# To simulate the case for PKU patient (low Phe diet and high glucose)\n",
    "model=M1.copy()\n",
    "# Kncoking gene '5053' to simulate the PKU patients\n",
    "model.genes.get_by_id('5053').knock_out()\n",
    "model.reactions.Liver_PHETA1.upper_bound=0.1\n",
    "model.reactions.Liver_EX_phe_L_e.upper_bound=-0.04\n",
    "model.reactions.Liver_EX_phe_L_e.lower_bound=-0.04\n",
    "model.reactions.Liver_EX_tyr_L_e.lower_bound=-0.2\n",
    "## The Phe-restricted diet contains more carbohydrate content, We assumed more glucose.\n",
    "model.reactions.Liver_EX_glc_D_e.lower_bound=-2\n",
    "sol = model.optimize()\n",
    "sol.objective_value"
   ]
  },
  {
   "cell_type": "code",
   "execution_count": 45,
   "metadata": {},
   "outputs": [
    {
     "data": {
      "application/vnd.jupyter.widget-view+json": {
       "model_id": "1f4a9c1be8b64a69822e4811c7fdc9bf",
       "version_major": 2,
       "version_minor": 0
      },
      "text/plain": [
       "Builder(hide_secondary_metabolites=False, highlight_missing=True, reaction_data={'Liver_10FTHFtm': -0.0, 'Live…"
      ]
     },
     "metadata": {},
     "output_type": "display_data"
    }
   ],
   "source": [
    "fbasol = pfba(model)\n",
    "b = show_map(fbasol,map_loc)\n",
    "b"
   ]
  },
  {
   "cell_type": "code",
   "execution_count": 46,
   "metadata": {},
   "outputs": [
    {
     "data": {
      "text/plain": [
       "0.8151504656544816"
      ]
     },
     "execution_count": 46,
     "metadata": {},
     "output_type": "execute_result"
    }
   ],
   "source": [
    "## Normal person uptake more glucose\n",
    "model2=M1.copy()\n",
    "model2.reactions.Liver_EX_glc_D_e.lower_bound=-2\n",
    "sol = model2.optimize()\n",
    "sol.objective_value"
   ]
  },
  {
   "cell_type": "code",
   "execution_count": 47,
   "metadata": {},
   "outputs": [
    {
     "data": {
      "application/vnd.jupyter.widget-view+json": {
       "model_id": "e12dba4d2730409aa47ea64733491da0",
       "version_major": 2,
       "version_minor": 0
      },
      "text/plain": [
       "Builder(hide_secondary_metabolites=False, highlight_missing=True, reaction_data={'Liver_10FTHFtm': 2.576828, '…"
      ]
     },
     "metadata": {},
     "output_type": "display_data"
    }
   ],
   "source": [
    "fbasol = model2.optimize()\n",
    "b = show_map(fbasol,map_loc)\n",
    "b"
   ]
  },
  {
   "cell_type": "code",
   "execution_count": 48,
   "metadata": {},
   "outputs": [
    {
     "data": {
      "text/plain": [
       "0.740873191586966"
      ]
     },
     "execution_count": 48,
     "metadata": {},
     "output_type": "execute_result"
    }
   ],
   "source": [
    "## PKU patient uptake same glucose as normal person\n",
    "model3=M1.copy()\n",
    "# Kncoking gene '5053.1' to simulate the PKU patients\n",
    "model3.genes.get_by_id('5053').knock_out()\n",
    "model3.reactions.Liver_PHETA1.upper_bound=0.1\n",
    "model3.reactions.Liver_EX_phe_L_e.upper_bound=-0.04\n",
    "model3.reactions.Liver_EX_phe_L_e.lower_bound=-0.04\n",
    "model3.reactions.Liver_EX_tyr_L_e.lower_bound=-0.2\n",
    "## The Phe-restricted diet contains more carbohydrate content, We assumed more glucose.\n",
    "model3.reactions.Liver_EX_glc_D_e.lower_bound=-1\n",
    "sol = model3.optimize()\n",
    "sol.objective_value"
   ]
  },
  {
   "cell_type": "code",
   "execution_count": 49,
   "metadata": {},
   "outputs": [
    {
     "data": {
      "application/vnd.jupyter.widget-view+json": {
       "model_id": "e561140164f242d99d1a3eb3b60399a0",
       "version_major": 2,
       "version_minor": 0
      },
      "text/plain": [
       "Builder(hide_secondary_metabolites=False, highlight_missing=True, reaction_data={'Liver_10FTHFtm': 1.10108, 'L…"
      ]
     },
     "metadata": {},
     "output_type": "display_data"
    }
   ],
   "source": [
    "fbasol = model3.optimize()\n",
    "b = show_map(fbasol,map_loc)\n",
    "b"
   ]
  },
  {
   "cell_type": "code",
   "execution_count": null,
   "metadata": {},
   "outputs": [],
   "source": []
  }
 ],
 "metadata": {
  "kernelspec": {
   "display_name": "Python 3 (ipykernel)",
   "language": "python",
   "name": "python3"
  },
  "language_info": {
   "codemirror_mode": {
    "name": "ipython",
    "version": 3
   },
   "file_extension": ".py",
   "mimetype": "text/x-python",
   "name": "python",
   "nbconvert_exporter": "python",
   "pygments_lexer": "ipython3",
   "version": "3.10.6"
  },
  "toc": {
   "base_numbering": 1,
   "nav_menu": {},
   "number_sections": true,
   "sideBar": true,
   "skip_h1_title": false,
   "title_cell": "Table of Contents",
   "title_sidebar": "Contents",
   "toc_cell": false,
   "toc_position": {
    "height": "calc(100% - 180px)",
    "left": "10px",
    "top": "150px",
    "width": "165px"
   },
   "toc_section_display": true,
   "toc_window_display": true
  },
  "varInspector": {
   "cols": {
    "lenName": 16,
    "lenType": 16,
    "lenVar": 40
   },
   "kernels_config": {
    "python": {
     "delete_cmd_postfix": "",
     "delete_cmd_prefix": "del ",
     "library": "var_list.py",
     "varRefreshCmd": "print(var_dic_list())"
    },
    "r": {
     "delete_cmd_postfix": ") ",
     "delete_cmd_prefix": "rm(",
     "library": "var_list.r",
     "varRefreshCmd": "cat(var_dic_list()) "
    }
   },
   "types_to_exclude": [
    "module",
    "function",
    "builtin_function_or_method",
    "instance",
    "_Feature"
   ],
   "window_display": false
  }
 },
 "nbformat": 4,
 "nbformat_minor": 2
}
