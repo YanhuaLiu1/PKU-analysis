{
 "cells": [
  {
   "cell_type": "markdown",
   "metadata": {},
   "source": [
    "# Brain_liver_specific_plusthreeCompetitive (Tyr is not enough in medium)"
   ]
  },
  {
   "cell_type": "code",
   "execution_count": 1,
   "metadata": {},
   "outputs": [],
   "source": [
    "import cobra\n",
    "import pandas as pd\n",
    "import numpy as np\n",
    "import pickle\n",
    "from cobra.flux_analysis import pfba"
   ]
  },
  {
   "cell_type": "code",
   "execution_count": 2,
   "metadata": {},
   "outputs": [
    {
     "name": "stdout",
     "output_type": "stream",
     "text": [
      "Scaling...\n",
      " A: min|aij| =  1.000e+00  max|aij| =  1.000e+00  ratio =  1.000e+00\n",
      "Problem data seem to be well scaled\n"
     ]
    }
   ],
   "source": [
    "M = cobra.io.load_json_model('Brain_liver_specific_plusthreeCompetitive.json')"
   ]
  },
  {
   "cell_type": "code",
   "execution_count": 3,
   "metadata": {},
   "outputs": [],
   "source": [
    "M.reactions.Brain_biomass_maintenance.lower_bound=0"
   ]
  },
  {
   "cell_type": "code",
   "execution_count": 4,
   "metadata": {},
   "outputs": [],
   "source": [
    "# Setting objective function: biomass reaction in the brain + dopamine production + serotonin production\n",
    "quadratic_objective = M.problem.Objective(M.reactions.Brain_biomass_maintenance.flux_expression+\n",
    "                                              M.reactions.get_by_id('Brain_3HLYTCL').flux_expression+\n",
    "                                             M.reactions.get_by_id('Brain_5HLTDL').flux_expression,\n",
    "    direction='max')\n",
    "M.objective = quadratic_objective"
   ]
  },
  {
   "cell_type": "code",
   "execution_count": 5,
   "metadata": {},
   "outputs": [
    {
     "data": {
      "text/plain": [
       "3.6218423879711157"
      ]
     },
     "execution_count": 5,
     "metadata": {},
     "output_type": "execute_result"
    }
   ],
   "source": [
    "M.solver='glpk'\n",
    "sol = M.optimize()\n",
    "sol.objective_value"
   ]
  },
  {
   "cell_type": "code",
   "execution_count": 6,
   "metadata": {},
   "outputs": [],
   "source": [
    "M1=M.copy()"
   ]
  },
  {
   "cell_type": "code",
   "execution_count": 7,
   "metadata": {},
   "outputs": [],
   "source": [
    "# Setting objective function: biomass reaction in the brain + dopamine production + serotonin production\n",
    "quadratic_objective = M1.problem.Objective(M1.reactions.Brain_biomass_maintenance.flux_expression+\n",
    "                                              M1.reactions.get_by_id('Brain_3HLYTCL').flux_expression+\n",
    "                                             M1.reactions.get_by_id('Brain_5HLTDL').flux_expression,\n",
    "    direction='max')\n",
    "M1.objective = quadratic_objective"
   ]
  },
  {
   "cell_type": "code",
   "execution_count": 8,
   "metadata": {},
   "outputs": [],
   "source": [
    "## Brain Phe\n",
    "M1.reactions.Brain_EX_phe_L_e__csf.lower_bound=0\n",
    "M1.reactions.Brain_EX_phe_L_e__csf.upper_bound=0\n",
    "M1.reactions.Brain_PHETA1.lower_bound=0"
   ]
  },
  {
   "cell_type": "code",
   "execution_count": 9,
   "metadata": {},
   "outputs": [],
   "source": [
    "## Liver Phe_L_c\n",
    "M1.reactions.Liver_PHETA1.lower_bound=0\n",
    "M1.reactions.Liver_RE2269E.upper_bound=0"
   ]
  },
  {
   "cell_type": "code",
   "execution_count": 10,
   "metadata": {},
   "outputs": [],
   "source": [
    "## Brain Tyr\n",
    "M1.reactions.Brain_EX_tyr_L_e__csf.lower_bound=0\n",
    "M1.reactions.Brain_EX_tyr_L_e__csf.upper_bound=0\n",
    "M1.reactions.Brain_EX_34dhphe_e__csf.lower_bound=0\n",
    "M1.reactions.Brain_EX_34dhphe_e__csf.upper_bound=0\n",
    "M1.reactions.Brain_TYRTA.lower_bound=0\n",
    "M1.reactions.get_by_id('34dhpheTR_TOBD').upper_bound=0\n",
    "M1.reactions.Brain_TYRDOPO.upper_bound=0"
   ]
  },
  {
   "cell_type": "code",
   "execution_count": 11,
   "metadata": {},
   "outputs": [],
   "source": [
    "## Brain Trp\n",
    "M1.reactions.Brain_EX_trp_L_e__csf.lower_bound=0\n",
    "M1.reactions.Brain_EX_trp_L_e__csf.upper_bound=0"
   ]
  },
  {
   "cell_type": "code",
   "execution_count": 12,
   "metadata": {},
   "outputs": [],
   "source": [
    "## Reaction has upper_bound lower than 0, which will be changed to 0\n",
    "M1.reactions.Liver_EX_ala_L_e.upper_bound=0\n",
    "M1.reactions.Brain_EX_o2_e__csf.upper_bound=0\n",
    "M1.reactions.Brain_EX_glc_D_e__csf.upper_bound=0"
   ]
  },
  {
   "cell_type": "code",
   "execution_count": 13,
   "metadata": {},
   "outputs": [],
   "source": [
    "## Reaction has lower_bound higher than 0, which will be changed to 0\n",
    "for rxn in M1.reactions:\n",
    "    if M1.reactions.get_by_id(rxn.id).lower_bound>0:\n",
    "        M1.reactions.get_by_id(rxn.id).lower_bound=0"
   ]
  },
  {
   "cell_type": "code",
   "execution_count": 14,
   "metadata": {},
   "outputs": [
    {
     "name": "stderr",
     "output_type": "stream",
     "text": [
      "/Users/yanhualiu/Desktop/New_topic/model_building/model_building_exercise_by_yanhua/All code and Result (NEW) II (After deep discussion)/Using tissue specific model/utils/findBiomarkers.py:6: FutureWarning: Passing a negative integer is deprecated in version 1.0 and will not be supported in future version. Instead, use None to not limit the column width.\n",
      "  pd.set_option('display.max_colwidth', -1)\n"
     ]
    }
   ],
   "source": [
    "from cobra.flux_analysis import pfba\n",
    "# import map visualization tools\n",
    "from utils import show_map\n",
    "import escher\n",
    "map_loc = 'Brain_liver_specific_plusthreeCompetitive_map.json' # the escher map used below\n",
    "# show all output\n",
    "from IPython.core.interactiveshell import InteractiveShell\n",
    "InteractiveShell.ast_node_interactivity = \"all\""
   ]
  },
  {
   "cell_type": "code",
   "execution_count": 15,
   "metadata": {},
   "outputs": [
    {
     "data": {
      "text/plain": [
       "0.4262626210295204"
      ]
     },
     "execution_count": 15,
     "metadata": {},
     "output_type": "execute_result"
    },
    {
     "data": {
      "application/vnd.jupyter.widget-view+json": {
       "model_id": "1620a9f2eddb43e99c4656df32cc19d5",
       "version_major": 2,
       "version_minor": 0
      },
      "text/plain": [
       "Builder(hide_secondary_metabolites=False, highlight_missing=True, reaction_data={'Liver_10FTHFtm': -0.019361, …"
      ]
     },
     "metadata": {},
     "output_type": "display_data"
    }
   ],
   "source": [
    "M1.solver='glpk'\n",
    "sol = M1.optimize()\n",
    "sol.objective_value\n",
    "# fbasol=pfba(M1)\n",
    "b = show_map(sol,map_loc)\n",
    "b"
   ]
  },
  {
   "cell_type": "code",
   "execution_count": 19,
   "metadata": {},
   "outputs": [],
   "source": [
    "## Model setting\n",
    "M1.reactions.Liver_EX_tyr_L_e.lower_bound=-0.04\n",
    "M1.reactions.Liver_EX_trp_L_e.lower_bound=-0.1\n",
    "M1.reactions.Liver_EX_phe_L_e.lower_bound=-0.2\n",
    "M1.reactions.Liver_EX_phe_L_e.upper_bound=-0.2\n",
    "M1.reactions.Liver_biomass_reaction.lower_bound=0.05\n",
    "M1.reactions.Liver_biomass_reaction.upper_bound=0.05\n",
    "M1.reactions.Brain_biomass_maintenance.upper_bound=0.1\n",
    "M1.reactions.Brain_5HLTDL.lower_bound=0.095\n",
    "M1.reactions.Ti_To.upper_bound=0.195\n",
    "M1.reactions.Liver_PHETA1.upper_bound=0\n",
    "M1.reactions.Liver_TYRTA.lower_bound=0\n",
    "M1.reactions.Liver_RE2269E.lower_bound=0\n",
    "M1.reactions.Liver_HMR_7628.upper_bound=0\n",
    "M1.reactions.Liver_r1455.upper_bound=0\n",
    "M1.reactions.Liver_biomass_maintenance.upper_bound=0\n",
    "M1.reactions.Brain_Phe_TH.upper_bound=0"
   ]
  },
  {
   "cell_type": "code",
   "execution_count": 20,
   "metadata": {},
   "outputs": [
    {
     "data": {
      "text/plain": [
       "0.25175539999999996"
      ]
     },
     "execution_count": 20,
     "metadata": {},
     "output_type": "execute_result"
    },
    {
     "data": {
      "application/vnd.jupyter.widget-view+json": {
       "model_id": "ff1aa13f37e241059adb2d7b5fd715f2",
       "version_major": 2,
       "version_minor": 0
      },
      "text/plain": [
       "Builder(hide_secondary_metabolites=False, highlight_missing=True, reaction_data={'Liver_10FTHFtm': -0.019785, …"
      ]
     },
     "metadata": {},
     "output_type": "display_data"
    }
   ],
   "source": [
    "M1.solver='glpk'\n",
    "sol = M1.optimize()\n",
    "sol.objective_value\n",
    "# fbasol=pfba(M1)\n",
    "b = show_map(sol,map_loc)\n",
    "b"
   ]
  },
  {
   "cell_type": "code",
   "execution_count": 21,
   "metadata": {},
   "outputs": [
    {
     "data": {
      "text/plain": [
       "0.1488514013504764"
      ]
     },
     "execution_count": 21,
     "metadata": {},
     "output_type": "execute_result"
    },
    {
     "data": {
      "application/vnd.jupyter.widget-view+json": {
       "model_id": "9cd47d4256874b46adf990637edcde8a",
       "version_major": 2,
       "version_minor": 0
      },
      "text/plain": [
       "Builder(hide_secondary_metabolites=False, highlight_missing=True, reaction_data={'Liver_10FTHFtm': -0.01852, '…"
      ]
     },
     "metadata": {},
     "output_type": "display_data"
    }
   ],
   "source": [
    "##PKU disease\n",
    "M2=M1.copy()\n",
    "M2.genes.get_by_id('5053').knock_out()\n",
    "M2.reactions.Liver_PHETA1.upper_bound=0.1\n",
    "M2.solver='glpk'\n",
    "sol = M2.optimize()\n",
    "sol.objective_value\n",
    "# fbasol=pfba(M2)\n",
    "b = show_map(sol,map_loc)\n",
    "b"
   ]
  },
  {
   "cell_type": "code",
   "execution_count": 22,
   "metadata": {},
   "outputs": [
    {
     "data": {
      "text/plain": [
       "0.14885140135047645"
      ]
     },
     "execution_count": 22,
     "metadata": {},
     "output_type": "execute_result"
    },
    {
     "data": {
      "application/vnd.jupyter.widget-view+json": {
       "model_id": "e814c8771c2d456e939e3d1b75d7018e",
       "version_major": 2,
       "version_minor": 0
      },
      "text/plain": [
       "Builder(hide_secondary_metabolites=False, highlight_missing=True, reaction_data={'Liver_10FTHFtm': -0.19829, '…"
      ]
     },
     "metadata": {},
     "output_type": "display_data"
    }
   ],
   "source": [
    "## Tyr addition\n",
    "M3=M2.copy()\n",
    "M3.reactions.Liver_EX_tyr_L_e.lower_bound=-0.1\n",
    "sol = M3.optimize()\n",
    "sol.objective_value\n",
    "# fbasol=pfba(M3)\n",
    "b = show_map(sol,map_loc)\n",
    "b"
   ]
  },
  {
   "cell_type": "code",
   "execution_count": 23,
   "metadata": {},
   "outputs": [
    {
     "data": {
      "text/plain": [
       "0.2517554000000001"
      ]
     },
     "execution_count": 23,
     "metadata": {},
     "output_type": "execute_result"
    },
    {
     "data": {
      "application/vnd.jupyter.widget-view+json": {
       "model_id": "4ee6e125733b47998f2d633ffab925dd",
       "version_major": 2,
       "version_minor": 0
      },
      "text/plain": [
       "Builder(hide_secondary_metabolites=False, highlight_missing=True, reaction_data={'Liver_10FTHFtm': -0.201344, …"
      ]
     },
     "metadata": {},
     "output_type": "display_data"
    }
   ],
   "source": [
    "## Phe deprivation and Tyr addition\n",
    "M4=M2.copy()\n",
    "M4.reactions.Liver_EX_tyr_L_e.lower_bound=-0.1\n",
    "M4.reactions.Liver_EX_phe_L_e.upper_bound=-0.05\n",
    "M4.reactions.Liver_EX_phe_L_e.lower_bound=-0.05\n",
    "sol = M4.optimize()\n",
    "sol.objective_value\n",
    "# fbasol=pfba(M4)\n",
    "b = show_map(sol,map_loc)\n",
    "b"
   ]
  },
  {
   "cell_type": "code",
   "execution_count": 24,
   "metadata": {},
   "outputs": [
    {
     "data": {
      "text/plain": [
       "0.21422689999999994"
      ]
     },
     "execution_count": 24,
     "metadata": {},
     "output_type": "execute_result"
    },
    {
     "data": {
      "application/vnd.jupyter.widget-view+json": {
       "model_id": "bdb1076a3792491cb64eafffc46fcd80",
       "version_major": 2,
       "version_minor": 0
      },
      "text/plain": [
       "Builder(hide_secondary_metabolites=False, highlight_missing=True, reaction_data={'Liver_10FTHFtm': -0.202935, …"
      ]
     },
     "metadata": {},
     "output_type": "display_data"
    }
   ],
   "source": [
    "## Only Phe deprivation\n",
    "M5=M2.copy()\n",
    "M5.reactions.Liver_EX_phe_L_e.upper_bound=-0.05\n",
    "M5.reactions.Liver_EX_phe_L_e.lower_bound=-0.05\n",
    "sol = M5.optimize()\n",
    "sol.objective_value\n",
    "# fbasol=pfba(M5)\n",
    "b = show_map(sol,map_loc)\n",
    "b"
   ]
  },
  {
   "cell_type": "code",
   "execution_count": null,
   "metadata": {},
   "outputs": [],
   "source": []
  }
 ],
 "metadata": {
  "kernelspec": {
   "display_name": "Python 3 (ipykernel)",
   "language": "python",
   "name": "python3"
  },
  "language_info": {
   "codemirror_mode": {
    "name": "ipython",
    "version": 3
   },
   "file_extension": ".py",
   "mimetype": "text/x-python",
   "name": "python",
   "nbconvert_exporter": "python",
   "pygments_lexer": "ipython3",
   "version": "3.10.6"
  },
  "toc": {
   "base_numbering": 1,
   "nav_menu": {},
   "number_sections": true,
   "sideBar": true,
   "skip_h1_title": false,
   "title_cell": "Table of Contents",
   "title_sidebar": "Contents",
   "toc_cell": false,
   "toc_position": {
    "height": "540px",
    "left": "318px",
    "top": "156px",
    "width": "168px"
   },
   "toc_section_display": true,
   "toc_window_display": true
  },
  "varInspector": {
   "cols": {
    "lenName": 16,
    "lenType": 16,
    "lenVar": 40
   },
   "kernels_config": {
    "python": {
     "delete_cmd_postfix": "",
     "delete_cmd_prefix": "del ",
     "library": "var_list.py",
     "varRefreshCmd": "print(var_dic_list())"
    },
    "r": {
     "delete_cmd_postfix": ") ",
     "delete_cmd_prefix": "rm(",
     "library": "var_list.r",
     "varRefreshCmd": "cat(var_dic_list()) "
    }
   },
   "types_to_exclude": [
    "module",
    "function",
    "builtin_function_or_method",
    "instance",
    "_Feature"
   ],
   "window_display": false
  }
 },
 "nbformat": 4,
 "nbformat_minor": 2
}
