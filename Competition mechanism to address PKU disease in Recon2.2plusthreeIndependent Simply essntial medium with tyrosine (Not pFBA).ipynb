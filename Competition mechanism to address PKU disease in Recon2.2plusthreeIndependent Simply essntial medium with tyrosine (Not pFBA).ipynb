{
 "cells": [
  {
   "cell_type": "markdown",
   "metadata": {},
   "source": [
    "# Recon2.2plusthreeIndependent.json"
   ]
  },
  {
   "cell_type": "markdown",
   "metadata": {},
   "source": [
    "##Changing medium"
   ]
  },
  {
   "cell_type": "code",
   "execution_count": 1,
   "metadata": {},
   "outputs": [],
   "source": [
    "import cobra\n",
    "import pandas as pd\n",
    "import numpy as np\n",
    "import pickle\n",
    "from cobra.flux_analysis import pfba"
   ]
  },
  {
   "cell_type": "code",
   "execution_count": 2,
   "metadata": {},
   "outputs": [
    {
     "name": "stdout",
     "output_type": "stream",
     "text": [
      "Scaling...\n",
      " A: min|aij| =  1.000e+00  max|aij| =  1.000e+00  ratio =  1.000e+00\n",
      "Problem data seem to be well scaled\n"
     ]
    }
   ],
   "source": [
    "M = cobra.io.load_json_model('Recon2.2plusthreeIndependent.json')"
   ]
  },
  {
   "cell_type": "code",
   "execution_count": 3,
   "metadata": {},
   "outputs": [],
   "source": [
    "# deleting brain medium composition because this metabolite will uptake from blood\n",
    "M.reactions.EX_co2_e_INB.lower_bound=0\n",
    "M.reactions.EX_co2_e.lower_bound=0\n",
    "M.reactions.EX_glc_e_INB.lower_bound=0\n",
    "M.reactions.EX_h_e.lower_bound=0\n",
    "M.reactions.EX_h_e_INB.lower_bound=0\n",
    "M.reactions.EX_hco3_e_INB.lower_bound=0\n",
    "M.reactions.EX_hco3_e.lower_bound=0\n",
    "M.reactions.EX_his_L_e_INB.lower_bound=0\n",
    "M.reactions.EX_ile_L_e_INB.lower_bound=0\n",
    "M.reactions.EX_leu_L_e_INB.lower_bound=0\n",
    "M.reactions.EX_lys_L_e_INB.lower_bound=0\n",
    "M.reactions.EX_met_L_e_INB.lower_bound=0\n",
    "M.reactions.EX_nh4_e_INB.lower_bound=0\n",
    "M.reactions.EX_o2_e_INB.lower_bound=0\n",
    "M.reactions.EX_phe_L_e_INB.lower_bound=0\n",
    "M.reactions.EX_pi_e_INB.lower_bound=0\n",
    "M.reactions.EX_so4_e_INB.lower_bound=0\n",
    "M.reactions.EX_thr_L_e_INB.lower_bound=0\n",
    "M.reactions.EX_trp_L_e_INB.lower_bound=0\n",
    "M.reactions.EX_val_L_e_INB.lower_bound=0"
   ]
  },
  {
   "cell_type": "code",
   "execution_count": 4,
   "metadata": {},
   "outputs": [
    {
     "data": {
      "text/plain": [
       "0.16888753778858642"
      ]
     },
     "execution_count": 4,
     "metadata": {},
     "output_type": "execute_result"
    }
   ],
   "source": [
    "M.solver='glpk'\n",
    "sol = M.optimize()\n",
    "sol.objective_value"
   ]
  },
  {
   "cell_type": "markdown",
   "metadata": {},
   "source": [
    "##Tyrosine is not enough in the diet (model1)"
   ]
  },
  {
   "cell_type": "code",
   "execution_count": 5,
   "metadata": {},
   "outputs": [],
   "source": [
    "import cobra\n",
    "import pandas as pd\n",
    "import numpy as np"
   ]
  },
  {
   "cell_type": "code",
   "execution_count": 6,
   "metadata": {},
   "outputs": [
    {
     "name": "stderr",
     "output_type": "stream",
     "text": [
      "/Users/yanhualiu/Desktop/New_topic/model_building/model_building_exercise_by_yanhua/for different models/Competition between Phe, Tyr, Trp and L-dopa/Making brain specific model and complex model/Modelling for Paper submitted/utils/findBiomarkers.py:6: FutureWarning: Passing a negative integer is deprecated in version 1.0 and will not be supported in future version. Instead, use None to not limit the column width.\n",
      "  pd.set_option('display.max_colwidth', -1)\n"
     ]
    }
   ],
   "source": [
    "from cobra.flux_analysis import pfba\n",
    "# import map visualization tools\n",
    "from utils import show_map\n",
    "import escher\n",
    "map_loc = 'Recon2.2plusthreeIndependentmap.json' # the escher map used below\n",
    "# show all output\n",
    "from IPython.core.interactiveshell import InteractiveShell\n",
    "InteractiveShell.ast_node_interactivity = \"all\"\n",
    "\n",
    "model=M.copy()\n",
    "model1=model.copy()"
   ]
  },
  {
   "cell_type": "code",
   "execution_count": 7,
   "metadata": {},
   "outputs": [],
   "source": [
    "# Setting objective function: biomass reaction in the brain + dopamine production + serotonin production\n",
    "quadratic_objective = model1.problem.Objective(model1.reactions.biomass_reaction_INB.flux_expression+\n",
    "                                              model1.reactions.get_by_id('3HLYTCL_INB').flux_expression+\n",
    "                                              model1.reactions.get_by_id('5HLTDL_INB').flux_expression,\n",
    "    direction='max')\n",
    "model1.objective = quadratic_objective"
   ]
  },
  {
   "cell_type": "code",
   "execution_count": 8,
   "metadata": {},
   "outputs": [],
   "source": [
    "# Changing the phe and tyr in the medium, because they also use for producing dopa.\n",
    "model1.reactions.EX_phe_L_e.lower_bound=-0.1\n",
    "model1.reactions.EX_phe_L_e.upper_bound=-0.1\n",
    "model1.reactions.EX_tyr_L_e.lower_bound=-0.02"
   ]
  },
  {
   "cell_type": "code",
   "execution_count": 9,
   "metadata": {},
   "outputs": [
    {
     "data": {
      "text/plain": [
       "0.25513310000000006"
      ]
     },
     "execution_count": 9,
     "metadata": {},
     "output_type": "execute_result"
    },
    {
     "data": {
      "application/vnd.jupyter.widget-view+json": {
       "model_id": "a8349c4429d74349aec9a4786f9183b2",
       "version_major": 2,
       "version_minor": 0
      },
      "text/plain": [
       "Builder(hide_secondary_metabolites=False, highlight_missing=True, reaction_data={'13DAMPPOX': 0.0, '1a_24_25VI…"
      ]
     },
     "metadata": {},
     "output_type": "display_data"
    }
   ],
   "source": [
    "model1.reactions.EX_dopa_e_INB.upper_bound=1000\n",
    "model1.reactions.EX_adrnl_e_INB.upper_bound=1000\n",
    "model1.reactions.EX_srtn_e_INB.upper_bound=1000\n",
    "## Other reactions to produce l-dopa is forbidded\n",
    "model1.reactions.TYRDOPO_INB.upper_bound=0\n",
    "model1.reactions.TYR3MO2_INB.upper_bound=0\n",
    "## liver biomass is constant\n",
    "model1.reactions.biomass_reaction.lower_bound=0.05\n",
    "model1.reactions.biomass_reaction.upper_bound=0.05\n",
    "## do not need too much biomass in the brain\n",
    "model1.reactions.biomass_reaction_INB.upper_bound=0.1\n",
    "# No phenylpyruvate exchange in the brain\n",
    "model1.reactions.EX_phpyr_e_INB.upper_bound=0\n",
    "### No PAH in the brain\n",
    "model1.reactions.PHETHPTOX2_INB.lower_bound=0\n",
    "model1.reactions.PHETHPTOX2_INB.upper_bound=0\n",
    "model1.reactions.r0399_INB.lower_bound=0\n",
    "model1.reactions.r0399_INB.upper_bound=0\n",
    "### Tyrosine hydroxylase\n",
    "model1.reactions.EX_TH_B_INB.upper_bound=1000\n",
    "model1.reactions.LdopaTR_TOBD.upper_bound=0 ##No levodopa from liver to blood.\n",
    "model1.solver='glpk'\n",
    "sol = model1.optimize()\n",
    "sol.objective_value\n",
    "fbasol = model1.optimize()\n",
    "b = show_map(fbasol,map_loc)\n",
    "b"
   ]
  },
  {
   "cell_type": "code",
   "execution_count": 10,
   "metadata": {},
   "outputs": [
    {
     "data": {
      "text/plain": [
       "0.17359165779420038"
      ]
     },
     "execution_count": 10,
     "metadata": {},
     "output_type": "execute_result"
    },
    {
     "data": {
      "application/vnd.jupyter.widget-view+json": {
       "model_id": "1be349cbf6944c59b2e55014bd324cea",
       "version_major": 2,
       "version_minor": 0
      },
      "text/plain": [
       "Builder(hide_secondary_metabolites=False, highlight_missing=True, reaction_data={'13DAMPPOX': 0.0, '1a_24_25VI…"
      ]
     },
     "metadata": {},
     "output_type": "display_data"
    }
   ],
   "source": [
    "model2=model1.copy()\n",
    "# Kncoking gene 'HGNC:8582' to simulate the PKU patients\n",
    "model2.genes.get_by_id('HGNC:8582').knock_out()\n",
    "model2.reactions.PHPYRte.upper_bound=0\n",
    "model2.reactions.PHPYRte.lower_bound=0\n",
    "sol = model2.optimize()\n",
    "sol.objective_value\n",
    "fbasol = model2.optimize()\n",
    "b = show_map(fbasol,map_loc)\n",
    "b"
   ]
  },
  {
   "cell_type": "markdown",
   "metadata": {},
   "source": [
    "## Only Phe deprivation"
   ]
  },
  {
   "cell_type": "code",
   "execution_count": 11,
   "metadata": {},
   "outputs": [
    {
     "data": {
      "text/plain": [
       "0.17359165779420038"
      ]
     },
     "execution_count": 11,
     "metadata": {},
     "output_type": "execute_result"
    },
    {
     "data": {
      "application/vnd.jupyter.widget-view+json": {
       "model_id": "943c1f7d535e47d3a09fd3e3a76f8c02",
       "version_major": 2,
       "version_minor": 0
      },
      "text/plain": [
       "Builder(hide_secondary_metabolites=False, highlight_missing=True, reaction_data={'13DAMPPOX': 0.0, '1a_24_25VI…"
      ]
     },
     "metadata": {},
     "output_type": "display_data"
    }
   ],
   "source": [
    "model5=model2.copy()\n",
    "model5.reactions.EX_phe_L_e.upper_bound=-0.05\n",
    "model5.reactions.EX_phe_L_e.lower_bound=-0.05\n",
    "sol = model5.optimize()\n",
    "sol.objective_value\n",
    "fbasol = model5.optimize()\n",
    "b = show_map(fbasol,map_loc)\n",
    "b"
   ]
  },
  {
   "cell_type": "markdown",
   "metadata": {},
   "source": [
    "## Only supplying Tyr"
   ]
  },
  {
   "cell_type": "code",
   "execution_count": 12,
   "metadata": {},
   "outputs": [
    {
     "data": {
      "text/plain": [
       "0.25405359999999977"
      ]
     },
     "execution_count": 12,
     "metadata": {},
     "output_type": "execute_result"
    },
    {
     "data": {
      "application/vnd.jupyter.widget-view+json": {
       "model_id": "5813a80b8bda4e8aaea073cce79f7585",
       "version_major": 2,
       "version_minor": 0
      },
      "text/plain": [
       "Builder(hide_secondary_metabolites=False, highlight_missing=True, reaction_data={'13DAMPPOX': 0.0, '1a_24_25VI…"
      ]
     },
     "metadata": {},
     "output_type": "display_data"
    }
   ],
   "source": [
    "model3=model2.copy()\n",
    "model3.reactions.EX_tyr_L_e.lower_bound=-0.08\n",
    "sol = model3.optimize()\n",
    "sol.objective_value\n",
    "fbasol = model3.optimize()\n",
    "b = show_map(fbasol,map_loc)\n",
    "b"
   ]
  },
  {
   "cell_type": "markdown",
   "metadata": {},
   "source": [
    "##Even we consider the Phe toxicity for tyrosine hydroxylase, the system uptake more tyrosine could also improve the symptoms of PKU. So, the independent pathway for Phe, Tyr and Trp taking to brain could not describe the PKU disease. "
   ]
  },
  {
   "cell_type": "markdown",
   "metadata": {},
   "source": [
    "## Combining the Phe deprivation and Tyr addition"
   ]
  },
  {
   "cell_type": "code",
   "execution_count": 13,
   "metadata": {},
   "outputs": [
    {
     "data": {
      "text/plain": [
       "0.2540536"
      ]
     },
     "execution_count": 13,
     "metadata": {},
     "output_type": "execute_result"
    },
    {
     "data": {
      "application/vnd.jupyter.widget-view+json": {
       "model_id": "d967f05259434b11be27bd2afce800db",
       "version_major": 2,
       "version_minor": 0
      },
      "text/plain": [
       "Builder(hide_secondary_metabolites=False, highlight_missing=True, reaction_data={'13DAMPPOX': 0.0, '1a_24_25VI…"
      ]
     },
     "metadata": {},
     "output_type": "display_data"
    }
   ],
   "source": [
    "model4=model3.copy()\n",
    "model4.reactions.EX_phe_L_e.upper_bound=-0.05\n",
    "model4.reactions.EX_phe_L_e.lower_bound=-0.05\n",
    "sol = model4.optimize()\n",
    "sol.objective_value\n",
    "fbasol = model4.optimize()\n",
    "b = show_map(fbasol,map_loc)\n",
    "b"
   ]
  },
  {
   "cell_type": "markdown",
   "metadata": {},
   "source": [
    "# For Phe toxicity mechanism"
   ]
  },
  {
   "cell_type": "code",
   "execution_count": 28,
   "metadata": {},
   "outputs": [],
   "source": [
    "model1.reactions.TH_AToB_INB.upper_bound=0.058\n",
    "model6=model1.copy()"
   ]
  },
  {
   "cell_type": "code",
   "execution_count": 29,
   "metadata": {},
   "outputs": [
    {
     "data": {
      "text/plain": [
       "0.2551331"
      ]
     },
     "execution_count": 29,
     "metadata": {},
     "output_type": "execute_result"
    },
    {
     "data": {
      "application/vnd.jupyter.widget-view+json": {
       "model_id": "54620a9f71b04455abfcd638060436f6",
       "version_major": 2,
       "version_minor": 0
      },
      "text/plain": [
       "Builder(hide_secondary_metabolites=False, highlight_missing=True, reaction_data={'13DAMPPOX': 0.0, '1a_24_25VI…"
      ]
     },
     "metadata": {},
     "output_type": "display_data"
    }
   ],
   "source": [
    "sol = model6.optimize()\n",
    "sol.objective_value\n",
    "fbasol = model6.optimize()\n",
    "b = show_map(fbasol,map_loc)\n",
    "b"
   ]
  },
  {
   "cell_type": "code",
   "execution_count": 30,
   "metadata": {},
   "outputs": [
    {
     "name": "stdout",
     "output_type": "stream",
     "text": [
      "0.08702650000000002\n"
     ]
    },
    {
     "data": {
      "text/plain": [
       "0.17359165779420038"
      ]
     },
     "execution_count": 30,
     "metadata": {},
     "output_type": "execute_result"
    },
    {
     "data": {
      "application/vnd.jupyter.widget-view+json": {
       "model_id": "4bb8279bbb2c4ac89e503afa1e0dad09",
       "version_major": 2,
       "version_minor": 0
      },
      "text/plain": [
       "Builder(hide_secondary_metabolites=False, highlight_missing=True, reaction_data={'13DAMPPOX': 0.0, '1a_24_25VI…"
      ]
     },
     "metadata": {},
     "output_type": "display_data"
    }
   ],
   "source": [
    "model7=model6.copy()\n",
    "model7.genes.get_by_id('HGNC:8582').knock_out()\n",
    "model7.reactions.PHPYRte.upper_bound=0\n",
    "model7.reactions.PHPYRte.lower_bound=0\n",
    "sol = model7.optimize()\n",
    "fluxP=sol.fluxes.loc['PheTR_TOB']\n",
    "print(fluxP)\n",
    "if fluxP>=0.08:\n",
    "    model7.reactions.Phe_TH_INB.lower_bound=0.055\n",
    "sol = model7.optimize()\n",
    "sol.objective_value\n",
    "fbasol = model7.optimize()\n",
    "b = show_map(fbasol,map_loc)\n",
    "b"
   ]
  },
  {
   "cell_type": "markdown",
   "metadata": {},
   "source": [
    "## Only Phe deprivation"
   ]
  },
  {
   "cell_type": "code",
   "execution_count": 31,
   "metadata": {},
   "outputs": [
    {
     "name": "stdout",
     "output_type": "stream",
     "text": [
      "0.03702650000000001\n"
     ]
    },
    {
     "data": {
      "text/plain": [
       "0.17359165779420035"
      ]
     },
     "execution_count": 31,
     "metadata": {},
     "output_type": "execute_result"
    },
    {
     "data": {
      "application/vnd.jupyter.widget-view+json": {
       "model_id": "5a02eabf4c0e458686174beb86b5b89e",
       "version_major": 2,
       "version_minor": 0
      },
      "text/plain": [
       "Builder(hide_secondary_metabolites=False, highlight_missing=True, reaction_data={'13DAMPPOX': 0.0, '1a_24_25VI…"
      ]
     },
     "metadata": {},
     "output_type": "display_data"
    }
   ],
   "source": [
    "model8=model7.copy()\n",
    "model8.reactions.Phe_TH_INB.lower_bound=0\n",
    "model8.reactions.EX_phe_L_e.upper_bound=-0.05\n",
    "model8.reactions.EX_phe_L_e.lower_bound=-0.05\n",
    "sol = model8.optimize()\n",
    "fluxP=sol.fluxes.loc['PheTR_TOB']\n",
    "print(fluxP)\n",
    "if fluxP>=0.08:\n",
    "    model8.reactions.Phe_TH_INB.lower_bound=0.055\n",
    "sol = model8.optimize()\n",
    "sol.objective_value\n",
    "fbasol = model8.optimize()\n",
    "b = show_map(fbasol,map_loc)\n",
    "b"
   ]
  },
  {
   "cell_type": "markdown",
   "metadata": {},
   "source": [
    "## Only supplying Tyr"
   ]
  },
  {
   "cell_type": "code",
   "execution_count": 32,
   "metadata": {},
   "outputs": [
    {
     "name": "stdout",
     "output_type": "stream",
     "text": [
      "0.08702650000000002\n"
     ]
    },
    {
     "data": {
      "text/plain": [
       "0.20100409999999982"
      ]
     },
     "execution_count": 32,
     "metadata": {},
     "output_type": "execute_result"
    },
    {
     "data": {
      "application/vnd.jupyter.widget-view+json": {
       "model_id": "613cc2d8c3f84a6f9df68d3a0eaa4b24",
       "version_major": 2,
       "version_minor": 0
      },
      "text/plain": [
       "Builder(hide_secondary_metabolites=False, highlight_missing=True, reaction_data={'13DAMPPOX': 0.0, '1a_24_25VI…"
      ]
     },
     "metadata": {},
     "output_type": "display_data"
    }
   ],
   "source": [
    "model9=model7.copy()\n",
    "model9.reactions.Phe_TH_INB.lower_bound=0\n",
    "model9.reactions.EX_tyr_L_e.lower_bound=-0.08\n",
    "sol = model9.optimize()\n",
    "fluxP=sol.fluxes.loc['PheTR_TOB']\n",
    "print(fluxP)\n",
    "if fluxP>=0.08:\n",
    "    model9.reactions.Phe_TH_INB.lower_bound=0.055\n",
    "sol = model9.optimize()\n",
    "sol.objective_value\n",
    "fbasol = model9.optimize()\n",
    "b = show_map(fbasol,map_loc)\n",
    "b"
   ]
  },
  {
   "cell_type": "markdown",
   "metadata": {},
   "source": [
    "## Combining Phe deprivation and Tyr addition"
   ]
  },
  {
   "cell_type": "code",
   "execution_count": 33,
   "metadata": {},
   "outputs": [
    {
     "name": "stdout",
     "output_type": "stream",
     "text": [
      "0.03702650000000001\n"
     ]
    },
    {
     "data": {
      "text/plain": [
       "0.2540536"
      ]
     },
     "execution_count": 33,
     "metadata": {},
     "output_type": "execute_result"
    },
    {
     "data": {
      "application/vnd.jupyter.widget-view+json": {
       "model_id": "96a301d28e1742338ce87bcb5a7b5a8e",
       "version_major": 2,
       "version_minor": 0
      },
      "text/plain": [
       "Builder(hide_secondary_metabolites=False, highlight_missing=True, reaction_data={'13DAMPPOX': 0.0, '1a_24_25VI…"
      ]
     },
     "metadata": {},
     "output_type": "display_data"
    }
   ],
   "source": [
    "model10=model9.copy()\n",
    "model10.reactions.Phe_TH_INB.lower_bound=0\n",
    "model10.reactions.EX_phe_L_e.upper_bound=-0.05\n",
    "model10.reactions.EX_phe_L_e.lower_bound=-0.05\n",
    "sol = model10.optimize()\n",
    "fluxP=sol.fluxes.loc['PheTR_TOB']\n",
    "print(fluxP)\n",
    "if fluxP>=0.08:\n",
    "    model10.reactions.Phe_TH_INB.lower_bound=0.055\n",
    "sol = model10.optimize()\n",
    "sol.objective_value\n",
    "fbasol = model10.optimize()\n",
    "b = show_map(fbasol,map_loc)\n",
    "b"
   ]
  },
  {
   "cell_type": "code",
   "execution_count": null,
   "metadata": {},
   "outputs": [],
   "source": []
  }
 ],
 "metadata": {
  "kernelspec": {
   "display_name": "Python 3 (ipykernel)",
   "language": "python",
   "name": "python3"
  },
  "language_info": {
   "codemirror_mode": {
    "name": "ipython",
    "version": 3
   },
   "file_extension": ".py",
   "mimetype": "text/x-python",
   "name": "python",
   "nbconvert_exporter": "python",
   "pygments_lexer": "ipython3",
   "version": "3.10.6"
  },
  "toc": {
   "base_numbering": 1,
   "nav_menu": {},
   "number_sections": true,
   "sideBar": true,
   "skip_h1_title": false,
   "title_cell": "Table of Contents",
   "title_sidebar": "Contents",
   "toc_cell": false,
   "toc_position": {
    "height": "540px",
    "left": "318px",
    "top": "156px",
    "width": "168px"
   },
   "toc_section_display": true,
   "toc_window_display": true
  },
  "varInspector": {
   "cols": {
    "lenName": 16,
    "lenType": 16,
    "lenVar": 40
   },
   "kernels_config": {
    "python": {
     "delete_cmd_postfix": "",
     "delete_cmd_prefix": "del ",
     "library": "var_list.py",
     "varRefreshCmd": "print(var_dic_list())"
    },
    "r": {
     "delete_cmd_postfix": ") ",
     "delete_cmd_prefix": "rm(",
     "library": "var_list.r",
     "varRefreshCmd": "cat(var_dic_list()) "
    }
   },
   "types_to_exclude": [
    "module",
    "function",
    "builtin_function_or_method",
    "instance",
    "_Feature"
   ],
   "window_display": false
  }
 },
 "nbformat": 4,
 "nbformat_minor": 2
}
