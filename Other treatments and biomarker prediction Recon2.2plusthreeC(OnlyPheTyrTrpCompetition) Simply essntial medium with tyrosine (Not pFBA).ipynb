{
 "cells": [
  {
   "cell_type": "markdown",
   "metadata": {},
   "source": [
    "# Recon2.2plusthreeCompetition.json [Competitive mechanism only]"
   ]
  },
  {
   "cell_type": "markdown",
   "metadata": {},
   "source": [
    "##Changing medium"
   ]
  },
  {
   "cell_type": "code",
   "execution_count": 1,
   "metadata": {},
   "outputs": [],
   "source": [
    "import cobra\n",
    "import pandas as pd\n",
    "import numpy as np\n",
    "import pickle\n",
    "from cobra.flux_analysis import pfba"
   ]
  },
  {
   "cell_type": "code",
   "execution_count": 2,
   "metadata": {},
   "outputs": [
    {
     "name": "stdout",
     "output_type": "stream",
     "text": [
      "Scaling...\n",
      " A: min|aij| =  1.000e+00  max|aij| =  1.000e+00  ratio =  1.000e+00\n",
      "Problem data seem to be well scaled\n"
     ]
    }
   ],
   "source": [
    "M = cobra.io.load_json_model('Recon2.2plusthreeCompetitive.json')"
   ]
  },
  {
   "cell_type": "code",
   "execution_count": 3,
   "metadata": {},
   "outputs": [],
   "source": [
    "# deleting brain medium composition because this metabolite will uptake from blood\n",
    "M.reactions.EX_co2_e_INB.lower_bound=0\n",
    "M.reactions.EX_co2_e.lower_bound=0\n",
    "M.reactions.EX_glc_e_INB.lower_bound=0\n",
    "M.reactions.EX_h_e.lower_bound=0\n",
    "M.reactions.EX_h_e_INB.lower_bound=0\n",
    "M.reactions.EX_hco3_e_INB.lower_bound=0\n",
    "M.reactions.EX_hco3_e.lower_bound=0\n",
    "M.reactions.EX_his_L_e_INB.lower_bound=0\n",
    "M.reactions.EX_ile_L_e_INB.lower_bound=0\n",
    "M.reactions.EX_leu_L_e_INB.lower_bound=0\n",
    "M.reactions.EX_lys_L_e_INB.lower_bound=0\n",
    "M.reactions.EX_met_L_e_INB.lower_bound=0\n",
    "M.reactions.EX_nh4_e_INB.lower_bound=0\n",
    "M.reactions.EX_o2_e_INB.lower_bound=0\n",
    "M.reactions.EX_phe_L_e_INB.lower_bound=0\n",
    "M.reactions.EX_pi_e_INB.lower_bound=0\n",
    "M.reactions.EX_so4_e_INB.lower_bound=0\n",
    "M.reactions.EX_thr_L_e_INB.lower_bound=0\n",
    "M.reactions.EX_trp_L_e_INB.lower_bound=0\n",
    "M.reactions.EX_val_L_e_INB.lower_bound=0"
   ]
  },
  {
   "cell_type": "code",
   "execution_count": 4,
   "metadata": {},
   "outputs": [
    {
     "data": {
      "text/plain": [
       "0.16888753778858653"
      ]
     },
     "execution_count": 4,
     "metadata": {},
     "output_type": "execute_result"
    }
   ],
   "source": [
    "M.solver='glpk'\n",
    "sol = M.optimize()\n",
    "sol.objective_value"
   ]
  },
  {
   "cell_type": "markdown",
   "metadata": {},
   "source": [
    "# Recon2.2plus with exercise (Other treatment)"
   ]
  },
  {
   "cell_type": "code",
   "execution_count": 8,
   "metadata": {},
   "outputs": [],
   "source": [
    "import cobra\n",
    "import pandas as pd\n",
    "import numpy as np\n",
    "import pickle\n",
    "from cobra.flux_analysis import pfba"
   ]
  },
  {
   "cell_type": "code",
   "execution_count": 9,
   "metadata": {},
   "outputs": [],
   "source": [
    "from cobra.flux_analysis import pfba\n",
    "# import map visualization tools\n",
    "from utils import show_map\n",
    "import escher\n",
    "map_loc = 'Recon2.2plusthreeCompetitivemap.json' # the escher map used below\n",
    "# show all output\n",
    "from IPython.core.interactiveshell import InteractiveShell\n",
    "InteractiveShell.ast_node_interactivity = \"all\"\n",
    "\n",
    "# Load Recon2.2Model with a simplified medium for the course\n",
    "M = cobra.io.load_json_model('Recon2.2plusthreeCompetitive.json')"
   ]
  },
  {
   "cell_type": "code",
   "execution_count": 10,
   "metadata": {},
   "outputs": [],
   "source": [
    "# deleting brain medium composition because this metabolite will uptake from blood\n",
    "M.reactions.EX_co2_e_INB.lower_bound=0\n",
    "M.reactions.EX_co2_e.lower_bound=0\n",
    "M.reactions.EX_glc_e_INB.lower_bound=0\n",
    "M.reactions.EX_h_e.lower_bound=0\n",
    "M.reactions.EX_h_e_INB.lower_bound=0\n",
    "M.reactions.EX_hco3_e_INB.lower_bound=0\n",
    "M.reactions.EX_hco3_e.lower_bound=0\n",
    "M.reactions.EX_his_L_e_INB.lower_bound=0\n",
    "M.reactions.EX_ile_L_e_INB.lower_bound=0\n",
    "M.reactions.EX_leu_L_e_INB.lower_bound=0\n",
    "M.reactions.EX_lys_L_e_INB.lower_bound=0\n",
    "M.reactions.EX_met_L_e_INB.lower_bound=0\n",
    "M.reactions.EX_nh4_e_INB.lower_bound=0\n",
    "M.reactions.EX_o2_e_INB.lower_bound=0\n",
    "M.reactions.EX_phe_L_e_INB.lower_bound=0\n",
    "M.reactions.EX_pi_e_INB.lower_bound=0\n",
    "M.reactions.EX_so4_e_INB.lower_bound=0\n",
    "M.reactions.EX_thr_L_e_INB.lower_bound=0\n",
    "M.reactions.EX_trp_L_e_INB.lower_bound=0\n",
    "M.reactions.EX_val_L_e_INB.lower_bound=0"
   ]
  },
  {
   "cell_type": "code",
   "execution_count": 11,
   "metadata": {},
   "outputs": [],
   "source": [
    "model=M.copy()"
   ]
  },
  {
   "cell_type": "code",
   "execution_count": 12,
   "metadata": {},
   "outputs": [],
   "source": [
    "# Setting objective function: biomass reaction in the brain + dopamine production + serotonin production\n",
    "quadratic_objective = model.problem.Objective(model.reactions.biomass_reaction_INB.flux_expression+\n",
    "                                              model.reactions.get_by_id('3HLYTCL_INB').flux_expression+\n",
    "                                              model.reactions.get_by_id('5HLTDL_INB').flux_expression,\n",
    "    direction='max')\n",
    "model.objective = quadratic_objective"
   ]
  },
  {
   "cell_type": "code",
   "execution_count": 13,
   "metadata": {},
   "outputs": [],
   "source": [
    "# Changing the phe and tyr in the medium, because they also use for producing dopa.\n",
    "model.reactions.EX_phe_L_e.lower_bound=-0.1\n",
    "model.reactions.EX_phe_L_e.upper_bound=-0.1\n",
    "model.reactions.EX_tyr_L_e.lower_bound=-0.1"
   ]
  },
  {
   "cell_type": "code",
   "execution_count": 14,
   "metadata": {},
   "outputs": [
    {
     "data": {
      "text/plain": [
       "0.2547554000000001"
      ]
     },
     "execution_count": 14,
     "metadata": {},
     "output_type": "execute_result"
    },
    {
     "data": {
      "application/vnd.jupyter.widget-view+json": {
       "model_id": "50cc989deca84ad197a5bbb9aa13de2d",
       "version_major": 2,
       "version_minor": 0
      },
      "text/plain": [
       "Builder(hide_secondary_metabolites=False, highlight_missing=True, reaction_data={'13DAMPPOX': 0.0, '1a_24_25VI…"
      ]
     },
     "metadata": {},
     "output_type": "display_data"
    }
   ],
   "source": [
    "model.reactions.EX_dopa_e_INB.upper_bound=1000\n",
    "model.reactions.EX_adrnl_e_INB.upper_bound=1000\n",
    "model.reactions.EX_srtn_e_INB.upper_bound=1000\n",
    "## Other reactions to produce l-dopa is forbidded\n",
    "model.reactions.TYRDOPO_INB.upper_bound=0\n",
    "model.reactions.TYR3MO2_INB.upper_bound=0\n",
    "## liver biomass is constant\n",
    "model.reactions.biomass_reaction.lower_bound=0.05\n",
    "model.reactions.biomass_reaction.upper_bound=0.05\n",
    "## do not need too much biomass in the brain\n",
    "model.reactions.biomass_reaction_INB.upper_bound=0.1\n",
    "# No phenylpyruvate exchange in the brain\n",
    "model.reactions.get_by_id('EX_phpyr_e_INB').upper_bound=0\n",
    "# Serotonin production\n",
    "model.reactions.get_by_id('5HLTDL_INB').lower_bound=0.095\n",
    "### No PAH in the brain\n",
    "model.reactions.PHETHPTOX2_INB.lower_bound=0\n",
    "model.reactions.PHETHPTOX2_INB.upper_bound=0\n",
    "model.reactions.r0399_INB.lower_bound=0\n",
    "model.reactions.r0399_INB.upper_bound=0\n",
    "### Tyrosine hydroxylase\n",
    "model.reactions.EX_TH_B_INB.upper_bound=1000\n",
    "model.reactions.LdopaTR_TOBD.upper_bound=0 ##No levodopa from liver to blood.\n",
    "model.reactions.Ti_To.upper_bound=0.198\n",
    "model.solver='glpk'\n",
    "sol = model.optimize()\n",
    "sol.objective_value\n",
    "fbasol = model.optimize()\n",
    "b = show_map(fbasol,map_loc)\n",
    "b"
   ]
  },
  {
   "cell_type": "code",
   "execution_count": 15,
   "metadata": {},
   "outputs": [
    {
     "data": {
      "text/plain": [
       "0.18734518083433543"
      ]
     },
     "execution_count": 15,
     "metadata": {},
     "output_type": "execute_result"
    }
   ],
   "source": [
    "model1=model.copy()\n",
    "# Kncoking gene 'HGNC:8582' to simulate the PKU patients\n",
    "model1.genes.get_by_id('HGNC:8582').knock_out()\n",
    "model1.reactions.PHPYRte.upper_bound=0\n",
    "model1.reactions.PHPYRte.lower_bound=0\n",
    "model1.reactions.EX_phpyr_e_INB.upper_bound=0\n",
    "sol = model1.optimize()\n",
    "sol.objective_value"
   ]
  },
  {
   "cell_type": "code",
   "execution_count": 16,
   "metadata": {},
   "outputs": [
    {
     "data": {
      "application/vnd.jupyter.widget-view+json": {
       "model_id": "658f2db534ef4146a22a03ec03acc0bf",
       "version_major": 2,
       "version_minor": 0
      },
      "text/plain": [
       "Builder(hide_secondary_metabolites=False, highlight_missing=True, reaction_data={'13DAMPPOX': 0.0, '1a_24_25VI…"
      ]
     },
     "metadata": {},
     "output_type": "display_data"
    }
   ],
   "source": [
    "fbasol = model1.optimize()\n",
    "b = show_map(fbasol,map_loc)\n",
    "b"
   ]
  },
  {
   "cell_type": "code",
   "execution_count": 18,
   "metadata": {},
   "outputs": [],
   "source": [
    "#Remembering to add other amino acid\n",
    "model1.reactions.EX_glc_e.lower_bound=-2##Do not need much glucsoe.\n",
    "model1.reactions.EX_his_L_e.lower_bound=-0.2\n",
    "model1.reactions.EX_ile_L_e.lower_bound=-0.2\n",
    "model1.reactions.EX_leu_L_e.lower_bound=-0.2\n",
    "model1.reactions.EX_lys_L_e.lower_bound=-0.2\n",
    "model1.reactions.EX_met_L_e.lower_bound=-0.2\n",
    "model1.reactions.EX_thr_L_e.lower_bound=-0.2\n",
    "model1.reactions.EX_trp_L_e.lower_bound=-0.1\n",
    "model1.reactions.EX_val_L_e.lower_bound=-0.2"
   ]
  },
  {
   "cell_type": "code",
   "execution_count": 19,
   "metadata": {},
   "outputs": [
    {
     "data": {
      "text/plain": [
       "0.24190296608223896"
      ]
     },
     "execution_count": 19,
     "metadata": {},
     "output_type": "execute_result"
    }
   ],
   "source": [
    "model1.reactions.biomass_reaction.upper_bound=0.5\n",
    "sol = model1.optimize()\n",
    "sol.objective_value"
   ]
  },
  {
   "cell_type": "code",
   "execution_count": 20,
   "metadata": {},
   "outputs": [
    {
     "data": {
      "application/vnd.jupyter.widget-view+json": {
       "model_id": "36e15fd085a047f6acac414acdb65abe",
       "version_major": 2,
       "version_minor": 0
      },
      "text/plain": [
       "Builder(hide_secondary_metabolites=False, highlight_missing=True, reaction_data={'13DAMPPOX': 0.0, '1a_24_25VI…"
      ]
     },
     "metadata": {},
     "output_type": "display_data"
    }
   ],
   "source": [
    "fbasol = model1.optimize()\n",
    "b = show_map(fbasol,map_loc)\n",
    "b"
   ]
  },
  {
   "cell_type": "markdown",
   "metadata": {},
   "source": [
    "# Young PKU patient VS elderly PKU patient with Recon2.2plusthreeCompetitive"
   ]
  },
  {
   "cell_type": "markdown",
   "metadata": {},
   "source": [
    "## Young PKU patients"
   ]
  },
  {
   "cell_type": "code",
   "execution_count": 43,
   "metadata": {},
   "outputs": [],
   "source": [
    "import cobra\n",
    "import pandas as pd\n",
    "import numpy as np\n",
    "import pickle\n",
    "from cobra.flux_analysis import pfba"
   ]
  },
  {
   "cell_type": "code",
   "execution_count": 44,
   "metadata": {},
   "outputs": [],
   "source": [
    "from cobra.flux_analysis import pfba\n",
    "# import map visualization tools\n",
    "from utils import show_map\n",
    "import escher\n",
    "map_loc = 'Recon2.2plusthreeCompetitivemap.json' # the escher map used below\n",
    "# show all output\n",
    "from IPython.core.interactiveshell import InteractiveShell\n",
    "InteractiveShell.ast_node_interactivity = \"all\"\n",
    "\n",
    "# Load Recon2.2Model with a simplified medium for the course\n",
    "M = cobra.io.load_json_model('Recon2.2plusthreeCompetitive.json')"
   ]
  },
  {
   "cell_type": "code",
   "execution_count": 45,
   "metadata": {},
   "outputs": [],
   "source": [
    "# deleting brain medium composition because this metabolite will uptake from blood\n",
    "M.reactions.EX_co2_e_INB.lower_bound=0\n",
    "M.reactions.EX_co2_e.lower_bound=0\n",
    "M.reactions.EX_glc_e_INB.lower_bound=0\n",
    "M.reactions.EX_h_e.lower_bound=0\n",
    "M.reactions.EX_h_e_INB.lower_bound=0\n",
    "M.reactions.EX_hco3_e_INB.lower_bound=0\n",
    "M.reactions.EX_hco3_e.lower_bound=0\n",
    "M.reactions.EX_his_L_e_INB.lower_bound=0\n",
    "M.reactions.EX_ile_L_e_INB.lower_bound=0\n",
    "M.reactions.EX_leu_L_e_INB.lower_bound=0\n",
    "M.reactions.EX_lys_L_e_INB.lower_bound=0\n",
    "M.reactions.EX_met_L_e_INB.lower_bound=0\n",
    "M.reactions.EX_nh4_e_INB.lower_bound=0\n",
    "M.reactions.EX_o2_e_INB.lower_bound=0\n",
    "M.reactions.EX_phe_L_e_INB.lower_bound=0\n",
    "M.reactions.EX_pi_e_INB.lower_bound=0\n",
    "M.reactions.EX_so4_e_INB.lower_bound=0\n",
    "M.reactions.EX_thr_L_e_INB.lower_bound=0\n",
    "M.reactions.EX_trp_L_e_INB.lower_bound=0\n",
    "M.reactions.EX_val_L_e_INB.lower_bound=0"
   ]
  },
  {
   "cell_type": "code",
   "execution_count": 46,
   "metadata": {},
   "outputs": [],
   "source": [
    "model=M.copy()"
   ]
  },
  {
   "cell_type": "code",
   "execution_count": 47,
   "metadata": {},
   "outputs": [],
   "source": [
    "# Setting objective function: biomass reaction in the brain + dopamine production + serotonin production\n",
    "quadratic_objective = model.problem.Objective(model.reactions.biomass_reaction_INB.flux_expression+\n",
    "                                              model.reactions.get_by_id('3HLYTCL_INB').flux_expression+\n",
    "                                              model.reactions.get_by_id('5HLTDL_INB').flux_expression,\n",
    "    direction='max')\n",
    "model.objective = quadratic_objective"
   ]
  },
  {
   "cell_type": "code",
   "execution_count": 48,
   "metadata": {},
   "outputs": [],
   "source": [
    "# Changing the phe and tyr in the medium, because they also use for producing dopa.\n",
    "model.reactions.EX_phe_L_e.lower_bound=-0.1\n",
    "model.reactions.EX_phe_L_e.upper_bound=-0.1\n",
    "model.reactions.EX_tyr_L_e.lower_bound=-0.1"
   ]
  },
  {
   "cell_type": "code",
   "execution_count": 49,
   "metadata": {},
   "outputs": [
    {
     "data": {
      "text/plain": [
       "0.2547554000000001"
      ]
     },
     "execution_count": 49,
     "metadata": {},
     "output_type": "execute_result"
    },
    {
     "data": {
      "application/vnd.jupyter.widget-view+json": {
       "model_id": "0f0764810470499c983e4183352f82de",
       "version_major": 2,
       "version_minor": 0
      },
      "text/plain": [
       "Builder(hide_secondary_metabolites=False, highlight_missing=True, reaction_data={'13DAMPPOX': 0.0, '1a_24_25VI…"
      ]
     },
     "metadata": {},
     "output_type": "display_data"
    }
   ],
   "source": [
    "model.reactions.EX_dopa_e_INB.upper_bound=1000\n",
    "model.reactions.EX_adrnl_e_INB.upper_bound=1000\n",
    "model.reactions.EX_srtn_e_INB.upper_bound=1000\n",
    "## Other reactions to produce l-dopa is forbidded\n",
    "model.reactions.TYRDOPO_INB.upper_bound=0\n",
    "model.reactions.TYR3MO2_INB.upper_bound=0\n",
    "## liver biomass is constant\n",
    "model.reactions.biomass_reaction.lower_bound=0.05\n",
    "model.reactions.biomass_reaction.upper_bound=0.05\n",
    "## do not need too much biomass in the brain\n",
    "model.reactions.biomass_reaction_INB.upper_bound=0.1\n",
    "# No phenylpyruvate exchange in the brain\n",
    "model.reactions.get_by_id('EX_phpyr_e_INB').upper_bound=0\n",
    "# Serotonin production\n",
    "model.reactions.get_by_id('5HLTDL_INB').lower_bound=0.095\n",
    "### No PAH in the brain\n",
    "model.reactions.PHETHPTOX2_INB.lower_bound=0\n",
    "model.reactions.PHETHPTOX2_INB.upper_bound=0\n",
    "model.reactions.r0399_INB.lower_bound=0\n",
    "model.reactions.r0399_INB.upper_bound=0\n",
    "### Tyrosine hydroxylase\n",
    "model.reactions.EX_TH_B_INB.upper_bound=1000\n",
    "model.reactions.LdopaTR_TOBD.upper_bound=0 ##No levodopa from liver to blood.\n",
    "model.reactions.Ti_To.upper_bound=0.198\n",
    "model.solver='glpk'\n",
    "sol = model.optimize()\n",
    "sol.objective_value\n",
    "fbasol = model.optimize()\n",
    "b = show_map(fbasol,map_loc)\n",
    "b"
   ]
  },
  {
   "cell_type": "code",
   "execution_count": 50,
   "metadata": {},
   "outputs": [
    {
     "data": {
      "text/plain": [
       "0.18734518083433543"
      ]
     },
     "execution_count": 50,
     "metadata": {},
     "output_type": "execute_result"
    }
   ],
   "source": [
    "model1=model.copy()\n",
    "# Kncoking gene 'HGNC:8582' to simulate the PKU patients\n",
    "model1.genes.get_by_id('HGNC:8582').knock_out()\n",
    "model1.reactions.PHPYRte.upper_bound=0\n",
    "model1.reactions.PHPYRte.lower_bound=0\n",
    "model1.reactions.EX_phpyr_e_INB.upper_bound=0\n",
    "sol = model1.optimize()\n",
    "sol.objective_value"
   ]
  },
  {
   "cell_type": "code",
   "execution_count": 51,
   "metadata": {},
   "outputs": [
    {
     "data": {
      "application/vnd.jupyter.widget-view+json": {
       "model_id": "5d05aa2eb2564e75bf7531f7b2ecbda4",
       "version_major": 2,
       "version_minor": 0
      },
      "text/plain": [
       "Builder(hide_secondary_metabolites=False, highlight_missing=True, reaction_data={'13DAMPPOX': 0.0, '1a_24_25VI…"
      ]
     },
     "metadata": {},
     "output_type": "display_data"
    }
   ],
   "source": [
    "fbasol = model1.optimize()\n",
    "b = show_map(fbasol,map_loc)\n",
    "b"
   ]
  },
  {
   "cell_type": "code",
   "execution_count": 52,
   "metadata": {},
   "outputs": [],
   "source": [
    "# For children\n",
    "model2=model1.copy()\n",
    "model2.solver='glpk'"
   ]
  },
  {
   "cell_type": "code",
   "execution_count": 53,
   "metadata": {},
   "outputs": [
    {
     "data": {
      "application/vnd.jupyter.widget-view+json": {
       "model_id": "1549aaf524764593a16480f4aea8592a",
       "version_major": 2,
       "version_minor": 0
      },
      "text/plain": [
       "Builder(hide_secondary_metabolites=False, highlight_missing=True, reaction_data={'13DAMPPOX': 0.0, '1a_24_25VI…"
      ]
     },
     "metadata": {},
     "output_type": "display_data"
    }
   ],
   "source": [
    "model2.reactions.biomass_reaction_INB.upper_bound=0.1\n",
    "model2.reactions.biomass_reaction_INB.lower_bound=0.1\n",
    "model2.reactions.get_by_id('3HLYTCL_INB').lower_bound=0.0596\n",
    "model2.reactions.get_by_id('3HLYTCL_INB').upper_bound=0.0596\n",
    "model2.reactions.get_by_id('5HLTDL_INB').upper_bound=0.095\n",
    "model2.reactions.get_by_id('5HLTDL_INB').lower_bound=0.095\n",
    "model2.reactions.EX_phe_L_e.upper_bound=-0.039\n",
    "model2.reactions.EX_phe_L_e.lower_bound=-0.039\n",
    "fbasol = model2.optimize()\n",
    "b = show_map(fbasol,map_loc)\n",
    "b"
   ]
  },
  {
   "cell_type": "markdown",
   "metadata": {},
   "source": [
    "##For children, the basic need for Phe is 0.0389. And if they need the biomass, dopamine and serotonin in the brain be normal, they should decrease the Phe uptake flux to 0.04."
   ]
  },
  {
   "cell_type": "code",
   "execution_count": 54,
   "metadata": {},
   "outputs": [
    {
     "data": {
      "application/vnd.jupyter.widget-view+json": {
       "model_id": "bf53c79e27bc4517a06bab1fcb7d94fa",
       "version_major": 2,
       "version_minor": 0
      },
      "text/plain": [
       "Builder(hide_secondary_metabolites=False, highlight_missing=True, reaction_data={'13DAMPPOX': 0.0, '1a_24_25VI…"
      ]
     },
     "metadata": {},
     "output_type": "display_data"
    }
   ],
   "source": [
    "#For adult person\n",
    "model3=model1.copy()\n",
    "model3.reactions.biomass_reaction_INB.upper_bound=0.05\n",
    "model3.reactions.biomass_reaction_INB.lower_bound=0.05\n",
    "model3.reactions.get_by_id('3HLYTCL_INB').upper_bound=0.0596\n",
    "model3.reactions.get_by_id('3HLYTCL_INB').lower_bound=0.0596\n",
    "model3.reactions.get_by_id('5HLTDL_INB').upper_bound=0.095\n",
    "model3.reactions.get_by_id('5HLTDL_INB').lower_bound=0.095\n",
    "model3.reactions.EX_phe_L_e.upper_bound=-0.0475\n",
    "model3.reactions.EX_phe_L_e.lower_bound=-0.0475\n",
    "fbasol = model3.optimize()\n",
    "b = show_map(fbasol,map_loc)\n",
    "b"
   ]
  },
  {
   "cell_type": "code",
   "execution_count": 55,
   "metadata": {},
   "outputs": [
    {
     "data": {
      "application/vnd.jupyter.widget-view+json": {
       "model_id": "16a9add23529442eb5feecf4cac13f70",
       "version_major": 2,
       "version_minor": 0
      },
      "text/plain": [
       "Builder(hide_secondary_metabolites=False, highlight_missing=True, reaction_data={'13DAMPPOX': 0.004787, '1a_24…"
      ]
     },
     "metadata": {},
     "output_type": "display_data"
    }
   ],
   "source": [
    "#For old person\n",
    "model4=model1.copy()\n",
    "model4.reactions.biomass_reaction_INB.upper_bound=0.02\n",
    "model4.reactions.biomass_reaction_INB.lower_bound=0.02\n",
    "model4.reactions.get_by_id('3HLYTCL_INB').upper_bound=0.07\n",
    "model4.reactions.get_by_id('3HLYTCL_INB').lower_bound=0.07\n",
    "model4.reactions.get_by_id('5HLTDL_INB').upper_bound=0.095\n",
    "model4.reactions.get_by_id('5HLTDL_INB').lower_bound=0.095\n",
    "model4.reactions.EX_phe_L_e.upper_bound=-0.0425\n",
    "model4.reactions.EX_phe_L_e.lower_bound=-0.0425\n",
    "fbasol = model4.optimize()\n",
    "b = show_map(fbasol,map_loc)\n",
    "b"
   ]
  },
  {
   "cell_type": "code",
   "execution_count": 63,
   "metadata": {},
   "outputs": [
    {
     "data": {
      "application/vnd.jupyter.widget-view+json": {
       "model_id": "d23a0ad68df7462395649c2be4c6c659",
       "version_major": 2,
       "version_minor": 0
      },
      "text/plain": [
       "Builder(hide_secondary_metabolites=False, highlight_missing=True, reaction_data={'13DAMPPOX': 0.0, '1a_24_25VI…"
      ]
     },
     "metadata": {},
     "output_type": "display_data"
    }
   ],
   "source": [
    "#For old person (less biomass and more dopamine)\n",
    "model5=model1.copy()\n",
    "model5.reactions.biomass_reaction_INB.upper_bound=0.02\n",
    "model5.reactions.biomass_reaction_INB.lower_bound=0.02\n",
    "model5.reactions.get_by_id('3HLYTCL_INB').upper_bound=0.06\n",
    "model5.reactions.get_by_id('3HLYTCL_INB').lower_bound=0.06\n",
    "model5.reactions.get_by_id('5HLTDL_INB').upper_bound=0.095\n",
    "model5.reactions.get_by_id('5HLTDL_INB').lower_bound=0.095\n",
    "model5.reactions.EX_phe_L_e.upper_bound=-0.0524\n",
    "model5.reactions.EX_phe_L_e.lower_bound=-0.0524\n",
    "fbasol = model5.optimize()\n",
    "b = show_map(fbasol,map_loc)\n",
    "b"
   ]
  },
  {
   "cell_type": "markdown",
   "metadata": {},
   "source": [
    "# Parkinson analyze with Recon2.2plusthreeCompetitive"
   ]
  },
  {
   "cell_type": "markdown",
   "metadata": {},
   "source": [
    "## Parkinson only"
   ]
  },
  {
   "cell_type": "code",
   "execution_count": 64,
   "metadata": {},
   "outputs": [],
   "source": [
    "import cobra\n",
    "import pandas as pd\n",
    "import numpy as np\n",
    "import pickle\n",
    "from cobra.flux_analysis import pfba"
   ]
  },
  {
   "cell_type": "code",
   "execution_count": 65,
   "metadata": {},
   "outputs": [],
   "source": [
    "from cobra.flux_analysis import pfba\n",
    "# import map visualization tools\n",
    "from utils import show_map\n",
    "import escher\n",
    "map_loc = 'Recon2.2plusthreeCompetitivemap.json' # the escher map used below\n",
    "# show all output\n",
    "from IPython.core.interactiveshell import InteractiveShell\n",
    "InteractiveShell.ast_node_interactivity = \"all\"\n",
    "\n",
    "# Load Recon2.2Model with a simplified medium for the course\n",
    "M = cobra.io.load_json_model('Recon2.2plusthreeCompetitive.json')"
   ]
  },
  {
   "cell_type": "code",
   "execution_count": 66,
   "metadata": {},
   "outputs": [],
   "source": [
    "# deleting brain medium composition because this metabolite will uptake from blood\n",
    "M.reactions.EX_co2_e_INB.lower_bound=0\n",
    "M.reactions.EX_co2_e.lower_bound=0\n",
    "M.reactions.EX_glc_e_INB.lower_bound=0\n",
    "M.reactions.EX_h_e.lower_bound=0\n",
    "M.reactions.EX_h_e_INB.lower_bound=0\n",
    "M.reactions.EX_hco3_e_INB.lower_bound=0\n",
    "M.reactions.EX_hco3_e.lower_bound=0\n",
    "M.reactions.EX_his_L_e_INB.lower_bound=0\n",
    "M.reactions.EX_ile_L_e_INB.lower_bound=0\n",
    "M.reactions.EX_leu_L_e_INB.lower_bound=0\n",
    "M.reactions.EX_lys_L_e_INB.lower_bound=0\n",
    "M.reactions.EX_met_L_e_INB.lower_bound=0\n",
    "M.reactions.EX_nh4_e_INB.lower_bound=0\n",
    "M.reactions.EX_o2_e_INB.lower_bound=0\n",
    "M.reactions.EX_phe_L_e_INB.lower_bound=0\n",
    "M.reactions.EX_pi_e_INB.lower_bound=0\n",
    "M.reactions.EX_so4_e_INB.lower_bound=0\n",
    "M.reactions.EX_thr_L_e_INB.lower_bound=0\n",
    "M.reactions.EX_trp_L_e_INB.lower_bound=0\n",
    "M.reactions.EX_val_L_e_INB.lower_bound=0"
   ]
  },
  {
   "cell_type": "code",
   "execution_count": 67,
   "metadata": {},
   "outputs": [],
   "source": [
    "model=M.copy()"
   ]
  },
  {
   "cell_type": "code",
   "execution_count": 68,
   "metadata": {},
   "outputs": [],
   "source": [
    "# Setting objective function: biomass reaction in the brain + dopamine production + serotonin production\n",
    "quadratic_objective = model.problem.Objective(model.reactions.biomass_reaction_INB.flux_expression+\n",
    "                                              model.reactions.get_by_id('3HLYTCL_INB').flux_expression+\n",
    "                                              model.reactions.get_by_id('5HLTDL_INB').flux_expression,\n",
    "    direction='max')\n",
    "model.objective = quadratic_objective"
   ]
  },
  {
   "cell_type": "code",
   "execution_count": 69,
   "metadata": {},
   "outputs": [],
   "source": [
    "# Changing the phe and tyr in the medium, because they also use for producing dopa.\n",
    "model.reactions.EX_phe_L_e.lower_bound=-0.1\n",
    "model.reactions.EX_phe_L_e.upper_bound=-0.1\n",
    "model.reactions.EX_tyr_L_e.lower_bound=-0.1\n",
    "model.reactions.EX_trp_L_e.lower_bound=-0.12"
   ]
  },
  {
   "cell_type": "code",
   "execution_count": 70,
   "metadata": {},
   "outputs": [
    {
     "data": {
      "text/plain": [
       "0.2547554000000001"
      ]
     },
     "execution_count": 70,
     "metadata": {},
     "output_type": "execute_result"
    },
    {
     "data": {
      "application/vnd.jupyter.widget-view+json": {
       "model_id": "bf890df92d4f4c4391d17f762e40d942",
       "version_major": 2,
       "version_minor": 0
      },
      "text/plain": [
       "Builder(hide_secondary_metabolites=False, highlight_missing=True, reaction_data={'13DAMPPOX': 0.0, '1a_24_25VI…"
      ]
     },
     "metadata": {},
     "output_type": "display_data"
    }
   ],
   "source": [
    "model.reactions.EX_dopa_e_INB.upper_bound=1000\n",
    "model.reactions.EX_adrnl_e_INB.upper_bound=1000\n",
    "model.reactions.EX_srtn_e_INB.upper_bound=1000\n",
    "## Other reactions to produce l-dopa is forbidded\n",
    "model.reactions.TYRDOPO_INB.upper_bound=0\n",
    "model.reactions.TYR3MO2_INB.upper_bound=0\n",
    "## liver biomass is constant\n",
    "model.reactions.biomass_reaction.lower_bound=0.05\n",
    "model.reactions.biomass_reaction.upper_bound=0.05\n",
    "## do not need too much biomass in the brain\n",
    "model.reactions.biomass_reaction_INB.upper_bound=0.1\n",
    "# No phenylpyruvate exchange in the brain\n",
    "model.reactions.get_by_id('EX_phpyr_e_INB').upper_bound=0\n",
    "# Serotonin production\n",
    "model.reactions.get_by_id('5HLTDL_INB').lower_bound=0.095\n",
    "### No PAH in the brain\n",
    "model.reactions.PHETHPTOX2_INB.lower_bound=0\n",
    "model.reactions.PHETHPTOX2_INB.upper_bound=0\n",
    "model.reactions.r0399_INB.lower_bound=0\n",
    "model.reactions.r0399_INB.upper_bound=0\n",
    "### Tyrosine hydroxylase\n",
    "model.reactions.EX_TH_B_INB.upper_bound=1000\n",
    "model.reactions.LdopaTR_TOBD.upper_bound=0 ##No levodopa from liver to blood.\n",
    "model.reactions.Ti_To.upper_bound=0.198\n",
    "model.solver='glpk'\n",
    "sol = model.optimize()\n",
    "sol.objective_value\n",
    "fbasol = model.optimize()\n",
    "b = show_map(fbasol,map_loc)\n",
    "b"
   ]
  },
  {
   "cell_type": "code",
   "execution_count": 71,
   "metadata": {},
   "outputs": [],
   "source": [
    "model1=model.copy()\n",
    "# Simulating the Parkinson disease\n",
    "model1.reactions.get_by_id('TYRDOPO1_INB').upper_bound=0.02"
   ]
  },
  {
   "cell_type": "code",
   "execution_count": 72,
   "metadata": {},
   "outputs": [
    {
     "data": {
      "text/plain": [
       "0.23800409999999997"
      ]
     },
     "execution_count": 72,
     "metadata": {},
     "output_type": "execute_result"
    }
   ],
   "source": [
    "sol = model1.optimize()\n",
    "sol.objective_value"
   ]
  },
  {
   "cell_type": "code",
   "execution_count": 73,
   "metadata": {},
   "outputs": [
    {
     "data": {
      "application/vnd.jupyter.widget-view+json": {
       "model_id": "32a2d9d8a05b4bad97be0e6bf1e791a1",
       "version_major": 2,
       "version_minor": 0
      },
      "text/plain": [
       "Builder(hide_secondary_metabolites=False, highlight_missing=True, reaction_data={'13DAMPPOX': 0.0, '1a_24_25VI…"
      ]
     },
     "metadata": {},
     "output_type": "display_data"
    }
   ],
   "source": [
    "fbasol = model1.optimize()\n",
    "b = show_map(fbasol,map_loc)\n",
    "b"
   ]
  },
  {
   "cell_type": "code",
   "execution_count": 74,
   "metadata": {},
   "outputs": [],
   "source": [
    "## Providing extra L-dopa\n",
    "model2=model1.copy()\n",
    "model2.reactions.EX_tyr_L_e.upper_bound=-0.1\n",
    "model2.reactions.get_by_id('EX_Ldopa_BD').lower_bound=-0.04"
   ]
  },
  {
   "cell_type": "code",
   "execution_count": 75,
   "metadata": {},
   "outputs": [
    {
     "data": {
      "text/plain": [
       "0.2547554000000001"
      ]
     },
     "execution_count": 75,
     "metadata": {},
     "output_type": "execute_result"
    }
   ],
   "source": [
    "sol = model2.optimize()\n",
    "sol.objective_value"
   ]
  },
  {
   "cell_type": "code",
   "execution_count": 76,
   "metadata": {},
   "outputs": [
    {
     "data": {
      "application/vnd.jupyter.widget-view+json": {
       "model_id": "0c65baa682d14e8f969261648404ea66",
       "version_major": 2,
       "version_minor": 0
      },
      "text/plain": [
       "Builder(hide_secondary_metabolites=False, highlight_missing=True, reaction_data={'13DAMPPOX': 0.0, '1a_24_25VI…"
      ]
     },
     "metadata": {},
     "output_type": "display_data"
    }
   ],
   "source": [
    "fbasol = model2.optimize()\n",
    "b = show_map(fbasol,map_loc)\n",
    "b"
   ]
  },
  {
   "cell_type": "code",
   "execution_count": 77,
   "metadata": {},
   "outputs": [
    {
     "data": {
      "application/vnd.jupyter.widget-view+json": {
       "model_id": "56cf3a957d2a4e5fa89c696872d8b446",
       "version_major": 2,
       "version_minor": 0
      },
      "text/plain": [
       "Builder(hide_secondary_metabolites=False, highlight_missing=True, reaction_data={'13DAMPPOX': 0.0, '1a_24_25VI…"
      ]
     },
     "metadata": {},
     "output_type": "display_data"
    }
   ],
   "source": [
    "model2.reactions.EX_trp_L_e.lower_bound=-0.1\n",
    "fbasol = model2.optimize()\n",
    "b = show_map(fbasol,map_loc)\n",
    "b"
   ]
  },
  {
   "cell_type": "markdown",
   "metadata": {},
   "source": [
    "##In this case, the PD patients should also control their diet, otherwise the treated effection from levedopa will not be that good."
   ]
  },
  {
   "cell_type": "markdown",
   "metadata": {},
   "source": [
    "## Parkinson with PKU disease together"
   ]
  },
  {
   "cell_type": "code",
   "execution_count": 1,
   "metadata": {},
   "outputs": [],
   "source": [
    "import cobra\n",
    "import pandas as pd\n",
    "import numpy as np\n",
    "import pickle\n",
    "from cobra.flux_analysis import pfba"
   ]
  },
  {
   "cell_type": "code",
   "execution_count": 2,
   "metadata": {},
   "outputs": [
    {
     "name": "stderr",
     "output_type": "stream",
     "text": [
      "/Users/yanhualiu/Desktop/New_topic/model_building/model_building_exercise_by_yanhua/for different models/Competition between Phe, Tyr, Trp and L-dopa/Making brain specific model and complex model/utils/findBiomarkers.py:6: FutureWarning: Passing a negative integer is deprecated in version 1.0 and will not be supported in future version. Instead, use None to not limit the column width.\n",
      "  pd.set_option('display.max_colwidth', -1)\n"
     ]
    },
    {
     "name": "stdout",
     "output_type": "stream",
     "text": [
      "Scaling...\n",
      " A: min|aij| =  1.000e+00  max|aij| =  1.000e+00  ratio =  1.000e+00\n",
      "Problem data seem to be well scaled\n"
     ]
    }
   ],
   "source": [
    "from cobra.flux_analysis import pfba\n",
    "# import map visualization tools\n",
    "from utils import show_map\n",
    "import escher\n",
    "map_loc = 'Recon2.2plusthreeCompetitivemap.json' # the escher map used below\n",
    "# show all output\n",
    "from IPython.core.interactiveshell import InteractiveShell\n",
    "InteractiveShell.ast_node_interactivity = \"all\"\n",
    "\n",
    "# Load Recon2.2Model with a simplified medium for the course\n",
    "M = cobra.io.load_json_model('Recon2.2plusthreeCompetitive.json')"
   ]
  },
  {
   "cell_type": "code",
   "execution_count": 3,
   "metadata": {},
   "outputs": [],
   "source": [
    "# deleting brain medium composition because this metabolite will uptake from blood\n",
    "M.reactions.EX_co2_e_INB.lower_bound=0\n",
    "M.reactions.EX_co2_e.lower_bound=0\n",
    "M.reactions.EX_glc_e_INB.lower_bound=0\n",
    "M.reactions.EX_h_e.lower_bound=0\n",
    "M.reactions.EX_h_e_INB.lower_bound=0\n",
    "M.reactions.EX_hco3_e_INB.lower_bound=0\n",
    "M.reactions.EX_hco3_e.lower_bound=0\n",
    "M.reactions.EX_his_L_e_INB.lower_bound=0\n",
    "M.reactions.EX_ile_L_e_INB.lower_bound=0\n",
    "M.reactions.EX_leu_L_e_INB.lower_bound=0\n",
    "M.reactions.EX_lys_L_e_INB.lower_bound=0\n",
    "M.reactions.EX_met_L_e_INB.lower_bound=0\n",
    "M.reactions.EX_nh4_e_INB.lower_bound=0\n",
    "M.reactions.EX_o2_e_INB.lower_bound=0\n",
    "M.reactions.EX_phe_L_e_INB.lower_bound=0\n",
    "M.reactions.EX_pi_e_INB.lower_bound=0\n",
    "M.reactions.EX_so4_e_INB.lower_bound=0\n",
    "M.reactions.EX_thr_L_e_INB.lower_bound=0\n",
    "M.reactions.EX_trp_L_e_INB.lower_bound=0\n",
    "M.reactions.EX_val_L_e_INB.lower_bound=0"
   ]
  },
  {
   "cell_type": "code",
   "execution_count": 4,
   "metadata": {},
   "outputs": [],
   "source": [
    "model=M.copy()"
   ]
  },
  {
   "cell_type": "code",
   "execution_count": 5,
   "metadata": {},
   "outputs": [],
   "source": [
    "# Setting objective function: biomass reaction in the brain + dopamine production + serotonin production\n",
    "quadratic_objective = model.problem.Objective(model.reactions.biomass_reaction_INB.flux_expression+\n",
    "                                              model.reactions.get_by_id('3HLYTCL_INB').flux_expression+\n",
    "                                              model.reactions.get_by_id('5HLTDL_INB').flux_expression,\n",
    "    direction='max')\n",
    "model.objective = quadratic_objective"
   ]
  },
  {
   "cell_type": "code",
   "execution_count": 6,
   "metadata": {},
   "outputs": [],
   "source": [
    "# Changing the phe and tyr in the medium, because they also use for producing dopa.\n",
    "model.reactions.EX_phe_L_e.lower_bound=-0.1\n",
    "model.reactions.EX_phe_L_e.upper_bound=-0.1\n",
    "model.reactions.EX_tyr_L_e.lower_bound=-0.1"
   ]
  },
  {
   "cell_type": "code",
   "execution_count": 7,
   "metadata": {},
   "outputs": [
    {
     "data": {
      "text/plain": [
       "0.2547554000000001"
      ]
     },
     "execution_count": 7,
     "metadata": {},
     "output_type": "execute_result"
    },
    {
     "data": {
      "application/vnd.jupyter.widget-view+json": {
       "model_id": "2ee50db14c764fdc81d877f43a1f0fe9",
       "version_major": 2,
       "version_minor": 0
      },
      "text/plain": [
       "Builder(hide_secondary_metabolites=False, highlight_missing=True, reaction_data={'13DAMPPOX': 0.0, '1a_24_25VI…"
      ]
     },
     "metadata": {},
     "output_type": "display_data"
    }
   ],
   "source": [
    "model.reactions.EX_dopa_e_INB.upper_bound=1000\n",
    "model.reactions.EX_adrnl_e_INB.upper_bound=1000\n",
    "model.reactions.EX_srtn_e_INB.upper_bound=1000\n",
    "## Other reactions to produce l-dopa is forbidded\n",
    "model.reactions.TYRDOPO_INB.upper_bound=0\n",
    "model.reactions.TYR3MO2_INB.upper_bound=0\n",
    "## liver biomass is constant\n",
    "model.reactions.biomass_reaction.lower_bound=0.05\n",
    "model.reactions.biomass_reaction.upper_bound=0.05\n",
    "## do not need too much biomass in the brain\n",
    "model.reactions.biomass_reaction_INB.upper_bound=0.1\n",
    "# No phenylpyruvate exchange in the brain\n",
    "model.reactions.get_by_id('EX_phpyr_e_INB').upper_bound=0\n",
    "# Serotonin production\n",
    "model.reactions.get_by_id('5HLTDL_INB').lower_bound=0.095\n",
    "### No PAH in the brain\n",
    "model.reactions.PHETHPTOX2_INB.lower_bound=0\n",
    "model.reactions.PHETHPTOX2_INB.upper_bound=0\n",
    "model.reactions.r0399_INB.lower_bound=0\n",
    "model.reactions.r0399_INB.upper_bound=0\n",
    "### Tyrosine hydroxylase\n",
    "model.reactions.EX_TH_B_INB.upper_bound=1000\n",
    "model.reactions.LdopaTR_TOBD.upper_bound=0 ##No levodopa from liver to blood.\n",
    "model.reactions.Ti_To.upper_bound=0.198\n",
    "model.solver='glpk'\n",
    "sol = model.optimize()\n",
    "sol.objective_value\n",
    "fbasol = model.optimize()\n",
    "b = show_map(fbasol,map_loc)\n",
    "b"
   ]
  },
  {
   "cell_type": "code",
   "execution_count": 14,
   "metadata": {},
   "outputs": [],
   "source": [
    "model1=model.copy()\n",
    "# Simulating the Parkinson disease\n",
    "model1.reactions.TYRDOPO1_INB.upper_bound=0.02\n",
    "##PKU+Parkinson disease\n",
    "model1.genes.get_by_id('HGNC:8582').knock_out()\n",
    "# No phenylpyruvate production in the liver\n",
    "model1.reactions.PHPYRte.upper_bound=0\n",
    "model1.reactions.PHPYRte.lower_bound=0\n",
    "model1.reactions.EX_phpyr_e_INB.upper_bound=0"
   ]
  },
  {
   "cell_type": "code",
   "execution_count": 15,
   "metadata": {},
   "outputs": [
    {
     "data": {
      "text/plain": [
       "0.18734518083433804"
      ]
     },
     "execution_count": 15,
     "metadata": {},
     "output_type": "execute_result"
    }
   ],
   "source": [
    "model1.solver='glpk'\n",
    "sol = model1.optimize()\n",
    "sol.objective_value"
   ]
  },
  {
   "cell_type": "code",
   "execution_count": 16,
   "metadata": {},
   "outputs": [
    {
     "data": {
      "application/vnd.jupyter.widget-view+json": {
       "model_id": "de9b50da8f4248cb9c3fac72e644efb3",
       "version_major": 2,
       "version_minor": 0
      },
      "text/plain": [
       "Builder(hide_secondary_metabolites=False, highlight_missing=True, reaction_data={'13DAMPPOX': 0.0, '1a_24_25VI…"
      ]
     },
     "metadata": {},
     "output_type": "display_data"
    }
   ],
   "source": [
    "fbasol = model1.optimize()\n",
    "b = show_map(fbasol,map_loc)\n",
    "b"
   ]
  },
  {
   "cell_type": "code",
   "execution_count": 19,
   "metadata": {},
   "outputs": [],
   "source": [
    "### Adding levodopa in the medium\n",
    "model1.reactions.get_by_id('EX_Ldopa_BD').lower_bound=-0.05\n",
    "model1.reactions.get_by_id('EX_Ldopa_BD').upper_bound=-0.05\n",
    "model1.reactions.get_by_id('EX_34dhphe_e').upper_bound=1"
   ]
  },
  {
   "cell_type": "code",
   "execution_count": 20,
   "metadata": {},
   "outputs": [
    {
     "data": {
      "application/vnd.jupyter.widget-view+json": {
       "model_id": "ed139bbd3a0843b78904f8539f89dba7",
       "version_major": 2,
       "version_minor": 0
      },
      "text/plain": [
       "Builder(hide_secondary_metabolites=False, highlight_missing=True, reaction_data={'13DAMPPOX': 0.0, '1a_24_25VI…"
      ]
     },
     "metadata": {},
     "output_type": "display_data"
    }
   ],
   "source": [
    "fbasol = model1.optimize()\n",
    "b = show_map(fbasol,map_loc)\n",
    "b"
   ]
  },
  {
   "cell_type": "code",
   "execution_count": 21,
   "metadata": {},
   "outputs": [
    {
     "data": {
      "application/vnd.jupyter.widget-view+json": {
       "model_id": "bff703c7cfcf4e3da5972e9021d24d3b",
       "version_major": 2,
       "version_minor": 0
      },
      "text/plain": [
       "Builder(hide_secondary_metabolites=False, highlight_missing=True, reaction_data={'13DAMPPOX': 0.0, '1a_24_25VI…"
      ]
     },
     "metadata": {},
     "output_type": "display_data"
    }
   ],
   "source": [
    "model1.reactions.EX_phe_L_e.upper_bound=-0.05\n",
    "model1.reactions.EX_phe_L_e.lowerer_bound=-0.05\n",
    "fbasol = model1.optimize()\n",
    "b = show_map(fbasol,map_loc)\n",
    "b"
   ]
  },
  {
   "cell_type": "markdown",
   "metadata": {},
   "source": [
    "# Biomarker finding with Recon2.2plusthreeCompetitive"
   ]
  },
  {
   "cell_type": "code",
   "execution_count": 38,
   "metadata": {},
   "outputs": [],
   "source": [
    "import cobra\n",
    "import pandas as pd\n",
    "import numpy as np\n",
    "import pickle\n",
    "from cobra.flux_analysis import pfba"
   ]
  },
  {
   "cell_type": "code",
   "execution_count": 39,
   "metadata": {},
   "outputs": [],
   "source": [
    "from cobra.flux_analysis import pfba\n",
    "# import map visualization tools\n",
    "from utils import show_map\n",
    "import escher\n",
    "map_loc = 'Recon2.2plusthreeCompetitivemap.json' # the escher map used below\n",
    "# show all output\n",
    "from IPython.core.interactiveshell import InteractiveShell\n",
    "InteractiveShell.ast_node_interactivity = \"all\"\n",
    "\n",
    "# Load Recon2.2Model with a simplified medium for the course\n",
    "M = cobra.io.load_json_model('Recon2.2plusthreeCompetitive.json')"
   ]
  },
  {
   "cell_type": "code",
   "execution_count": 31,
   "metadata": {},
   "outputs": [],
   "source": [
    "# deleting brain medium composition because this metabolite will uptake from blood\n",
    "M.reactions.EX_co2_e_INB.lower_bound=0\n",
    "M.reactions.EX_co2_e.lower_bound=0\n",
    "M.reactions.EX_glc_e_INB.lower_bound=0\n",
    "M.reactions.EX_h_e.lower_bound=0\n",
    "M.reactions.EX_h_e_INB.lower_bound=0\n",
    "M.reactions.EX_hco3_e_INB.lower_bound=0\n",
    "M.reactions.EX_hco3_e.lower_bound=0\n",
    "M.reactions.EX_his_L_e_INB.lower_bound=0\n",
    "M.reactions.EX_ile_L_e_INB.lower_bound=0\n",
    "M.reactions.EX_leu_L_e_INB.lower_bound=0\n",
    "M.reactions.EX_lys_L_e_INB.lower_bound=0\n",
    "M.reactions.EX_met_L_e_INB.lower_bound=0\n",
    "M.reactions.EX_nh4_e_INB.lower_bound=0\n",
    "M.reactions.EX_o2_e_INB.lower_bound=0\n",
    "M.reactions.EX_phe_L_e_INB.lower_bound=0\n",
    "M.reactions.EX_pi_e_INB.lower_bound=0\n",
    "M.reactions.EX_so4_e_INB.lower_bound=0\n",
    "M.reactions.EX_thr_L_e_INB.lower_bound=0\n",
    "M.reactions.EX_trp_L_e_INB.lower_bound=0\n",
    "M.reactions.EX_val_L_e_INB.lower_bound=0"
   ]
  },
  {
   "cell_type": "code",
   "execution_count": 32,
   "metadata": {},
   "outputs": [],
   "source": [
    "model.reactions.EX_dopa_e_INB.upper_bound=1000\n",
    "model.reactions.EX_adrnl_e_INB.upper_bound=1000\n",
    "model.reactions.EX_srtn_e_INB.upper_bound=1000\n",
    "## Other reactions to produce l-dopa is forbidded\n",
    "model.reactions.TYRDOPO_INB.upper_bound=0\n",
    "model.reactions.TYR3MO2_INB.upper_bound=0\n",
    "## liver biomass is constant\n",
    "model.reactions.biomass_reaction.lower_bound=0.05\n",
    "model.reactions.biomass_reaction.upper_bound=0.05\n",
    "## do not need too much biomass in the brain\n",
    "model.reactions.biomass_reaction_INB.upper_bound=0.1\n",
    "# No phenylpyruvate exchange in the brain\n",
    "model.reactions.get_by_id('EX_phpyr_e_INB').upper_bound=0\n",
    "# Serotonin production\n",
    "model.reactions.get_by_id('5HLTDL_INB').lower_bound=0.095\n",
    "### No PAH in the brain\n",
    "model.reactions.PHETHPTOX2_INB.lower_bound=0\n",
    "model.reactions.PHETHPTOX2_INB.upper_bound=0\n",
    "model.reactions.r0399_INB.lower_bound=0\n",
    "model.reactions.r0399_INB.upper_bound=0\n",
    "### Tyrosine hydroxylase\n",
    "model.reactions.EX_TH_B_INB.upper_bound=1000\n",
    "model.reactions.LdopaTR_TOBD.upper_bound=0 ##No levodopa from liver to blood.\n",
    "model.reactions.Ti_To.upper_bound=0.198"
   ]
  },
  {
   "cell_type": "code",
   "execution_count": 33,
   "metadata": {},
   "outputs": [],
   "source": [
    "import cobra\n",
    "from utils import findBiomarkers\n",
    "import pandas as pd"
   ]
  },
  {
   "cell_type": "code",
   "execution_count": 34,
   "metadata": {},
   "outputs": [
    {
     "name": "stdout",
     "output_type": "stream",
     "text": [
      "Interpreting mode as IEMgene\n",
      "Finding reactions associated with modifier genes by knockout...\n",
      "Modifications will be performed on the following reactions:\n",
      "                                                       Description                                                                        Reaction\n",
      "PHETHPTOX2_INB  L-Phenylalanine,tetrahydrobiopterin:oxygen oxidore  o2_c_INB + phe_L_c_INB + thbpt_c_INB --> thbpt4acam_c_INB + tyr_L_c_INB       \n",
      "PHETHPTOX2      L-Phenylalanine,tetrahydrobiopterin:oxygen oxidore  o2_c + phe_L_c + thbpt_c --> thbpt4acam_c + tyr_L_c                           \n",
      "r0399_INB       L-Phenylalanine,tetrahydrobiopterin:oxygen oxidore  o2_c_INB + phe_L_c_INB + thbpt_c_INB --> dhbpt_c_INB + h2o_c_INB + tyr_L_c_INB\n",
      "r0399           L-Phenylalanine,tetrahydrobiopterin:oxygen oxidore  o2_c + phe_L_c + thbpt_c --> dhbpt_c + h2o_c + tyr_L_c                        \n",
      "\n",
      "190 low confidence biomarkers with scores below the threshold were                 found\n"
     ]
    },
    {
     "data": {
      "text/html": [
       "<div>\n",
       "<style scoped>\n",
       "    .dataframe tbody tr th:only-of-type {\n",
       "        vertical-align: middle;\n",
       "    }\n",
       "\n",
       "    .dataframe tbody tr th {\n",
       "        vertical-align: top;\n",
       "    }\n",
       "\n",
       "    .dataframe thead th {\n",
       "        text-align: right;\n",
       "    }\n",
       "</style>\n",
       "<table border=\"1\" class=\"dataframe\">\n",
       "  <thead>\n",
       "    <tr style=\"text-align: right;\">\n",
       "      <th></th>\n",
       "      <th>Name</th>\n",
       "      <th>Prediction</th>\n",
       "      <th>WT</th>\n",
       "      <th>Mutant</th>\n",
       "      <th>Score</th>\n",
       "    </tr>\n",
       "    <tr>\n",
       "      <th>ID</th>\n",
       "      <th></th>\n",
       "      <th></th>\n",
       "      <th></th>\n",
       "      <th></th>\n",
       "      <th></th>\n",
       "    </tr>\n",
       "  </thead>\n",
       "  <tbody>\n",
       "    <tr>\n",
       "      <th>34hpp_e</th>\n",
       "      <td>3-(4-hydroxyphenyl)pyruvate</td>\n",
       "      <td>Reduced</td>\n",
       "      <td>[-1.0, 3.979]</td>\n",
       "      <td>[-1.0, 0.992]</td>\n",
       "      <td>0.750691</td>\n",
       "    </tr>\n",
       "    <tr>\n",
       "      <th>tyr_L_e</th>\n",
       "      <td>L-tyrosine</td>\n",
       "      <td>Reduced</td>\n",
       "      <td>[-1.0, 3.979]</td>\n",
       "      <td>[-1.0, 0.992]</td>\n",
       "      <td>0.750691</td>\n",
       "    </tr>\n",
       "    <tr>\n",
       "      <th>tymsf_e</th>\n",
       "      <td>Tyramine O-sulfate</td>\n",
       "      <td>Reduced</td>\n",
       "      <td>[0.0, 4.979]</td>\n",
       "      <td>[0.0, 1.992]</td>\n",
       "      <td>0.599920</td>\n",
       "    </tr>\n",
       "    <tr>\n",
       "      <th>4hphac_e</th>\n",
       "      <td>4-hydroxyphenylacetate</td>\n",
       "      <td>Reduced</td>\n",
       "      <td>[0.0, 4.979]</td>\n",
       "      <td>[0.0, 1.992]</td>\n",
       "      <td>0.599920</td>\n",
       "    </tr>\n",
       "    <tr>\n",
       "      <th>q10_e</th>\n",
       "      <td>coenzyme Q10</td>\n",
       "      <td>Reduced</td>\n",
       "      <td>[-1.0, 5.979]</td>\n",
       "      <td>[-1.0, 2.992]</td>\n",
       "      <td>0.499582</td>\n",
       "    </tr>\n",
       "    <tr>\n",
       "      <th>q10h2_e</th>\n",
       "      <td>ubiquinol-10</td>\n",
       "      <td>Reduced</td>\n",
       "      <td>[-1.0, 5.979]</td>\n",
       "      <td>[-1.0, 2.992]</td>\n",
       "      <td>0.499582</td>\n",
       "    </tr>\n",
       "    <tr>\n",
       "      <th>34dhphe_e</th>\n",
       "      <td>L-dopa</td>\n",
       "      <td>Reduced</td>\n",
       "      <td>[-1.0, 5.979]</td>\n",
       "      <td>[-1.0, 2.992]</td>\n",
       "      <td>0.499582</td>\n",
       "    </tr>\n",
       "    <tr>\n",
       "      <th>dopa_e</th>\n",
       "      <td>dopaminium(1+)</td>\n",
       "      <td>Reduced</td>\n",
       "      <td>[-1.0, 6.979]</td>\n",
       "      <td>[-1.0, 3.992]</td>\n",
       "      <td>0.427998</td>\n",
       "    </tr>\n",
       "    <tr>\n",
       "      <th>dopasf_e</th>\n",
       "      <td>dopamine 3-O-sulfate</td>\n",
       "      <td>Reduced</td>\n",
       "      <td>[0.0, 7.979]</td>\n",
       "      <td>[0.0, 4.992]</td>\n",
       "      <td>0.374358</td>\n",
       "    </tr>\n",
       "    <tr>\n",
       "      <th>nrpphr_e</th>\n",
       "      <td>noradrenaline</td>\n",
       "      <td>Reduced</td>\n",
       "      <td>[-1.0, 7.979]</td>\n",
       "      <td>[-1.0, 4.992]</td>\n",
       "      <td>0.374358</td>\n",
       "    </tr>\n",
       "    <tr>\n",
       "      <th>34dhoxpeg_e</th>\n",
       "      <td>3,4-dihydroxyphenylethyleneglycol</td>\n",
       "      <td>Reduced</td>\n",
       "      <td>[0.0, 8.979]</td>\n",
       "      <td>[0.0, 5.992]</td>\n",
       "      <td>0.332665</td>\n",
       "    </tr>\n",
       "    <tr>\n",
       "      <th>mepi_e</th>\n",
       "      <td>L-Metanephrine</td>\n",
       "      <td>Reduced</td>\n",
       "      <td>[0.0, 8.979]</td>\n",
       "      <td>[0.0, 5.992]</td>\n",
       "      <td>0.332665</td>\n",
       "    </tr>\n",
       "    <tr>\n",
       "      <th>nrpphrsf_e</th>\n",
       "      <td>Sulfate derivative of norepinephrine</td>\n",
       "      <td>Reduced</td>\n",
       "      <td>[0.0, 8.979]</td>\n",
       "      <td>[0.0, 5.992]</td>\n",
       "      <td>0.332665</td>\n",
       "    </tr>\n",
       "    <tr>\n",
       "      <th>adrnl_e</th>\n",
       "      <td>adrenaline</td>\n",
       "      <td>Reduced</td>\n",
       "      <td>[0.0, 8.979]</td>\n",
       "      <td>[0.0, 5.992]</td>\n",
       "      <td>0.332665</td>\n",
       "    </tr>\n",
       "    <tr>\n",
       "      <th>phpyr_e</th>\n",
       "      <td>Keto-Phenylpyruvate</td>\n",
       "      <td>Elevated</td>\n",
       "      <td>[-1.0, 1.487]</td>\n",
       "      <td>[-1.0, 1.987]</td>\n",
       "      <td>0.251636</td>\n",
       "    </tr>\n",
       "    <tr>\n",
       "      <th>phe_L_e</th>\n",
       "      <td>L-phenylalanine</td>\n",
       "      <td>Elevated</td>\n",
       "      <td>[-1.0, 1.487]</td>\n",
       "      <td>[-1.0, 1.987]</td>\n",
       "      <td>0.251636</td>\n",
       "    </tr>\n",
       "    <tr>\n",
       "      <th>pheacgln_e</th>\n",
       "      <td>N(2)-phenylacetyl-L-glutaminate</td>\n",
       "      <td>Elevated</td>\n",
       "      <td>[0.0, 2.487]</td>\n",
       "      <td>[0.0, 2.987]</td>\n",
       "      <td>0.167392</td>\n",
       "    </tr>\n",
       "    <tr>\n",
       "      <th>phpyr_BD</th>\n",
       "      <td>keto-phenylpyruvate</td>\n",
       "      <td>Elevated</td>\n",
       "      <td>[0.0, 2.487]</td>\n",
       "      <td>[0.0, 2.987]</td>\n",
       "      <td>0.167392</td>\n",
       "    </tr>\n",
       "  </tbody>\n",
       "</table>\n",
       "</div>"
      ],
      "text/plain": [
       "                                             Name Prediction             WT         Mutant     Score\n",
       "ID                                                                                                  \n",
       "34hpp_e      3-(4-hydroxyphenyl)pyruvate           Reduced    [-1.0, 3.979]  [-1.0, 0.992]  0.750691\n",
       "tyr_L_e      L-tyrosine                            Reduced    [-1.0, 3.979]  [-1.0, 0.992]  0.750691\n",
       "tymsf_e      Tyramine O-sulfate                    Reduced    [0.0, 4.979]   [0.0, 1.992]   0.599920\n",
       "4hphac_e     4-hydroxyphenylacetate                Reduced    [0.0, 4.979]   [0.0, 1.992]   0.599920\n",
       "q10_e        coenzyme Q10                          Reduced    [-1.0, 5.979]  [-1.0, 2.992]  0.499582\n",
       "q10h2_e      ubiquinol-10                          Reduced    [-1.0, 5.979]  [-1.0, 2.992]  0.499582\n",
       "34dhphe_e    L-dopa                                Reduced    [-1.0, 5.979]  [-1.0, 2.992]  0.499582\n",
       "dopa_e       dopaminium(1+)                        Reduced    [-1.0, 6.979]  [-1.0, 3.992]  0.427998\n",
       "dopasf_e     dopamine 3-O-sulfate                  Reduced    [0.0, 7.979]   [0.0, 4.992]   0.374358\n",
       "nrpphr_e     noradrenaline                         Reduced    [-1.0, 7.979]  [-1.0, 4.992]  0.374358\n",
       "34dhoxpeg_e  3,4-dihydroxyphenylethyleneglycol     Reduced    [0.0, 8.979]   [0.0, 5.992]   0.332665\n",
       "mepi_e       L-Metanephrine                        Reduced    [0.0, 8.979]   [0.0, 5.992]   0.332665\n",
       "nrpphrsf_e   Sulfate derivative of norepinephrine  Reduced    [0.0, 8.979]   [0.0, 5.992]   0.332665\n",
       "adrnl_e      adrenaline                            Reduced    [0.0, 8.979]   [0.0, 5.992]   0.332665\n",
       "phpyr_e      Keto-Phenylpyruvate                   Elevated   [-1.0, 1.487]  [-1.0, 1.987]  0.251636\n",
       "phe_L_e      L-phenylalanine                       Elevated   [-1.0, 1.487]  [-1.0, 1.987]  0.251636\n",
       "pheacgln_e   N(2)-phenylacetyl-L-glutaminate       Elevated   [0.0, 2.487]   [0.0, 2.987]   0.167392\n",
       "phpyr_BD     keto-phenylpyruvate                   Elevated   [0.0, 2.487]   [0.0, 2.987]   0.167392"
      ]
     },
     "execution_count": 34,
     "metadata": {},
     "output_type": "execute_result"
    }
   ],
   "source": [
    "exchanges = [ rxn for rxn in model.reactions if rxn.products == [] and 'EX_' in rxn.id and 'INB' not in rxn.id]\n",
    "\n",
    "# Shlomi et al suggested using the following medium: everything in (-1) with a few exceptions \n",
    "# everything out (unlimited)\n",
    "# This was actually first proposed in (Sahoo et al, 2012)\n",
    "for rxn in exchanges:\n",
    "    rxn.lower_bound = -1\n",
    "    rxn.upper_bound = 999999\n",
    "        \n",
    "# specifics\n",
    "model.reactions.EX_o2_e.lower_bound = -40\n",
    "model.reactions.r0399.lower_bound=0\n",
    "\n",
    "for rxn in ['EX_h2o_e','EX_h_e','EX_co2_e','EX_nh4_e','EX_pi_e','EX_hco3_e','EX_so4_e']:\n",
    "    model.reactions.get_by_id(rxn).lower_bound = - 100\n",
    "\n",
    "# to reduce computation time we check all amino acids + a couple neurotransmitters\n",
    "biomarkers_to_check = ['EX_his_L_e','EX_ile_L_e','EX_leu_L_e','EX_lys_L_e','EX_met_L_e',\n",
    "                       'EX_phe_L_e','EX_thr_L_e','EX_trp_L_e','EX_val_L_e','EX_cys_L_e',\n",
    "                       'EX_glu_L_e','EX_tyr_L_e','EX_ala_L_e','EX_asp_L_e','EX_gly_e',\n",
    "                       'EX_arg_L_e','EX_gln_L_e','EX_pro_L_e','EX_ser_L_e','EX_asn_L_e',\n",
    "                        'EX_dopa_e','EX_adrnl_e','EX_srtn_e']\n",
    "\n",
    "# UNCOMMENT & FIX THE LINE BELOW\n",
    "# threshold higher than 0.1 will show.\n",
    "model.solver = 'glpk'\n",
    "findBiomarkers(model,fvaRxns=exchanges,mods=['HGNC:8582'],synchronous=True,fracOpt=0.5)"
   ]
  },
  {
   "cell_type": "code",
   "execution_count": 35,
   "metadata": {},
   "outputs": [
    {
     "name": "stdout",
     "output_type": "stream",
     "text": [
      "Interpreting mode as IEMgene\n",
      "Finding reactions associated with modifier genes by knockout...\n",
      "Modifications will be performed on the following reactions:\n",
      "                                                       Description                                                                        Reaction\n",
      "PHETHPTOX2_INB  L-Phenylalanine,tetrahydrobiopterin:oxygen oxidore  o2_c_INB + phe_L_c_INB + thbpt_c_INB --> thbpt4acam_c_INB + tyr_L_c_INB       \n",
      "PHETHPTOX2      L-Phenylalanine,tetrahydrobiopterin:oxygen oxidore  o2_c + phe_L_c + thbpt_c --> thbpt4acam_c + tyr_L_c                           \n",
      "r0399_INB       L-Phenylalanine,tetrahydrobiopterin:oxygen oxidore  o2_c_INB + phe_L_c_INB + thbpt_c_INB --> dhbpt_c_INB + h2o_c_INB + tyr_L_c_INB\n",
      "r0399           L-Phenylalanine,tetrahydrobiopterin:oxygen oxidore  o2_c + phe_L_c + thbpt_c --> dhbpt_c + h2o_c + tyr_L_c                        \n",
      "\n",
      "190 low confidence biomarkers with scores below the threshold were                 found\n"
     ]
    },
    {
     "data": {
      "text/html": [
       "<div>\n",
       "<style scoped>\n",
       "    .dataframe tbody tr th:only-of-type {\n",
       "        vertical-align: middle;\n",
       "    }\n",
       "\n",
       "    .dataframe tbody tr th {\n",
       "        vertical-align: top;\n",
       "    }\n",
       "\n",
       "    .dataframe thead th {\n",
       "        text-align: right;\n",
       "    }\n",
       "</style>\n",
       "<table border=\"1\" class=\"dataframe\">\n",
       "  <thead>\n",
       "    <tr style=\"text-align: right;\">\n",
       "      <th></th>\n",
       "      <th>Name</th>\n",
       "      <th>Prediction</th>\n",
       "      <th>WT</th>\n",
       "      <th>Mutant</th>\n",
       "      <th>Score</th>\n",
       "    </tr>\n",
       "    <tr>\n",
       "      <th>ID</th>\n",
       "      <th></th>\n",
       "      <th></th>\n",
       "      <th></th>\n",
       "      <th></th>\n",
       "      <th></th>\n",
       "    </tr>\n",
       "  </thead>\n",
       "  <tbody>\n",
       "    <tr>\n",
       "      <th>34hpp_e</th>\n",
       "      <td>3-(4-hydroxyphenyl)pyruvate</td>\n",
       "      <td>Reduced</td>\n",
       "      <td>[-1.0, 3.937]</td>\n",
       "      <td>[-1.0, 0.976]</td>\n",
       "      <td>0.752096</td>\n",
       "    </tr>\n",
       "    <tr>\n",
       "      <th>tyr_L_e</th>\n",
       "      <td>L-tyrosine</td>\n",
       "      <td>Reduced</td>\n",
       "      <td>[-1.0, 3.937]</td>\n",
       "      <td>[-1.0, 0.976]</td>\n",
       "      <td>0.752096</td>\n",
       "    </tr>\n",
       "    <tr>\n",
       "      <th>tymsf_e</th>\n",
       "      <td>Tyramine O-sulfate</td>\n",
       "      <td>Reduced</td>\n",
       "      <td>[0.0, 4.937]</td>\n",
       "      <td>[0.0, 1.976]</td>\n",
       "      <td>0.599757</td>\n",
       "    </tr>\n",
       "    <tr>\n",
       "      <th>4hphac_e</th>\n",
       "      <td>4-hydroxyphenylacetate</td>\n",
       "      <td>Reduced</td>\n",
       "      <td>[0.0, 4.937]</td>\n",
       "      <td>[0.0, 1.976]</td>\n",
       "      <td>0.599757</td>\n",
       "    </tr>\n",
       "    <tr>\n",
       "      <th>q10_e</th>\n",
       "      <td>coenzyme Q10</td>\n",
       "      <td>Reduced</td>\n",
       "      <td>[-1.0, 5.937]</td>\n",
       "      <td>[-1.0, 2.976]</td>\n",
       "      <td>0.498737</td>\n",
       "    </tr>\n",
       "    <tr>\n",
       "      <th>q10h2_e</th>\n",
       "      <td>ubiquinol-10</td>\n",
       "      <td>Reduced</td>\n",
       "      <td>[-1.0, 5.937]</td>\n",
       "      <td>[-1.0, 2.976]</td>\n",
       "      <td>0.498737</td>\n",
       "    </tr>\n",
       "    <tr>\n",
       "      <th>34dhphe_e</th>\n",
       "      <td>L-dopa</td>\n",
       "      <td>Reduced</td>\n",
       "      <td>[-1.0, 5.937]</td>\n",
       "      <td>[-1.0, 2.976]</td>\n",
       "      <td>0.498737</td>\n",
       "    </tr>\n",
       "    <tr>\n",
       "      <th>dopa_e</th>\n",
       "      <td>dopaminium(1+)</td>\n",
       "      <td>Reduced</td>\n",
       "      <td>[-1.0, 6.937]</td>\n",
       "      <td>[-1.0, 3.976]</td>\n",
       "      <td>0.426842</td>\n",
       "    </tr>\n",
       "    <tr>\n",
       "      <th>dopasf_e</th>\n",
       "      <td>dopamine 3-O-sulfate</td>\n",
       "      <td>Reduced</td>\n",
       "      <td>[0.0, 7.937]</td>\n",
       "      <td>[0.0, 4.976]</td>\n",
       "      <td>0.373063</td>\n",
       "    </tr>\n",
       "    <tr>\n",
       "      <th>nrpphr_e</th>\n",
       "      <td>noradrenaline</td>\n",
       "      <td>Reduced</td>\n",
       "      <td>[-1.0, 7.937]</td>\n",
       "      <td>[-1.0, 4.976]</td>\n",
       "      <td>0.373063</td>\n",
       "    </tr>\n",
       "    <tr>\n",
       "      <th>34dhoxpeg_e</th>\n",
       "      <td>3,4-dihydroxyphenylethyleneglycol</td>\n",
       "      <td>Reduced</td>\n",
       "      <td>[0.0, 8.937]</td>\n",
       "      <td>[0.0, 5.976]</td>\n",
       "      <td>0.331319</td>\n",
       "    </tr>\n",
       "    <tr>\n",
       "      <th>mepi_e</th>\n",
       "      <td>L-Metanephrine</td>\n",
       "      <td>Reduced</td>\n",
       "      <td>[0.0, 8.937]</td>\n",
       "      <td>[0.0, 5.976]</td>\n",
       "      <td>0.331319</td>\n",
       "    </tr>\n",
       "    <tr>\n",
       "      <th>nrpphrsf_e</th>\n",
       "      <td>Sulfate derivative of norepinephrine</td>\n",
       "      <td>Reduced</td>\n",
       "      <td>[0.0, 8.937]</td>\n",
       "      <td>[0.0, 5.976]</td>\n",
       "      <td>0.331319</td>\n",
       "    </tr>\n",
       "    <tr>\n",
       "      <th>adrnl_e</th>\n",
       "      <td>adrenaline</td>\n",
       "      <td>Reduced</td>\n",
       "      <td>[0.0, 8.937]</td>\n",
       "      <td>[0.0, 5.976]</td>\n",
       "      <td>0.331319</td>\n",
       "    </tr>\n",
       "    <tr>\n",
       "      <th>phpyr_e</th>\n",
       "      <td>Keto-Phenylpyruvate</td>\n",
       "      <td>Elevated</td>\n",
       "      <td>[-1.0, 1.461]</td>\n",
       "      <td>[-1.0, 1.961]</td>\n",
       "      <td>0.254972</td>\n",
       "    </tr>\n",
       "    <tr>\n",
       "      <th>phe_L_e</th>\n",
       "      <td>L-phenylalanine</td>\n",
       "      <td>Elevated</td>\n",
       "      <td>[-1.0, 1.461]</td>\n",
       "      <td>[-1.0, 1.961]</td>\n",
       "      <td>0.254972</td>\n",
       "    </tr>\n",
       "    <tr>\n",
       "      <th>pheacgln_e</th>\n",
       "      <td>N(2)-phenylacetyl-L-glutaminate</td>\n",
       "      <td>Elevated</td>\n",
       "      <td>[0.0, 2.461]</td>\n",
       "      <td>[0.0, 2.961]</td>\n",
       "      <td>0.168862</td>\n",
       "    </tr>\n",
       "    <tr>\n",
       "      <th>phpyr_BD</th>\n",
       "      <td>keto-phenylpyruvate</td>\n",
       "      <td>Elevated</td>\n",
       "      <td>[0.0, 2.461]</td>\n",
       "      <td>[0.0, 2.961]</td>\n",
       "      <td>0.168862</td>\n",
       "    </tr>\n",
       "  </tbody>\n",
       "</table>\n",
       "</div>"
      ],
      "text/plain": [
       "                                             Name Prediction             WT         Mutant     Score\n",
       "ID                                                                                                  \n",
       "34hpp_e      3-(4-hydroxyphenyl)pyruvate           Reduced    [-1.0, 3.937]  [-1.0, 0.976]  0.752096\n",
       "tyr_L_e      L-tyrosine                            Reduced    [-1.0, 3.937]  [-1.0, 0.976]  0.752096\n",
       "tymsf_e      Tyramine O-sulfate                    Reduced    [0.0, 4.937]   [0.0, 1.976]   0.599757\n",
       "4hphac_e     4-hydroxyphenylacetate                Reduced    [0.0, 4.937]   [0.0, 1.976]   0.599757\n",
       "q10_e        coenzyme Q10                          Reduced    [-1.0, 5.937]  [-1.0, 2.976]  0.498737\n",
       "q10h2_e      ubiquinol-10                          Reduced    [-1.0, 5.937]  [-1.0, 2.976]  0.498737\n",
       "34dhphe_e    L-dopa                                Reduced    [-1.0, 5.937]  [-1.0, 2.976]  0.498737\n",
       "dopa_e       dopaminium(1+)                        Reduced    [-1.0, 6.937]  [-1.0, 3.976]  0.426842\n",
       "dopasf_e     dopamine 3-O-sulfate                  Reduced    [0.0, 7.937]   [0.0, 4.976]   0.373063\n",
       "nrpphr_e     noradrenaline                         Reduced    [-1.0, 7.937]  [-1.0, 4.976]  0.373063\n",
       "34dhoxpeg_e  3,4-dihydroxyphenylethyleneglycol     Reduced    [0.0, 8.937]   [0.0, 5.976]   0.331319\n",
       "mepi_e       L-Metanephrine                        Reduced    [0.0, 8.937]   [0.0, 5.976]   0.331319\n",
       "nrpphrsf_e   Sulfate derivative of norepinephrine  Reduced    [0.0, 8.937]   [0.0, 5.976]   0.331319\n",
       "adrnl_e      adrenaline                            Reduced    [0.0, 8.937]   [0.0, 5.976]   0.331319\n",
       "phpyr_e      Keto-Phenylpyruvate                   Elevated   [-1.0, 1.461]  [-1.0, 1.961]  0.254972\n",
       "phe_L_e      L-phenylalanine                       Elevated   [-1.0, 1.461]  [-1.0, 1.961]  0.254972\n",
       "pheacgln_e   N(2)-phenylacetyl-L-glutaminate       Elevated   [0.0, 2.461]   [0.0, 2.961]   0.168862\n",
       "phpyr_BD     keto-phenylpyruvate                   Elevated   [0.0, 2.461]   [0.0, 2.961]   0.168862"
      ]
     },
     "execution_count": 35,
     "metadata": {},
     "output_type": "execute_result"
    }
   ],
   "source": [
    "exchanges = [ rxn for rxn in model.reactions if rxn.products == [] and 'EX_' in rxn.id and 'INB' not in rxn.id]\n",
    "\n",
    "# Shlomi et al suggested using the following medium: everything in (-1) with a few exceptions \n",
    "# everything out (unlimited)\n",
    "# This was actually first proposed in (Sahoo et al, 2012)\n",
    "for rxn in exchanges:\n",
    "    rxn.lower_bound = -1\n",
    "    rxn.upper_bound = 999999\n",
    "        \n",
    "# specifics\n",
    "model.reactions.EX_o2_e.lower_bound = -40\n",
    "model.reactions.r0399.lower_bound=0\n",
    "\n",
    "for rxn in ['EX_h2o_e','EX_h_e','EX_co2_e','EX_nh4_e','EX_pi_e','EX_hco3_e','EX_so4_e']:\n",
    "    model.reactions.get_by_id(rxn).lower_bound = - 100\n",
    "\n",
    "# to reduce computation time we check all amino acids + a couple neurotransmitters\n",
    "biomarkers_to_check = ['EX_his_L_e','EX_ile_L_e','EX_leu_L_e','EX_lys_L_e','EX_met_L_e',\n",
    "                       'EX_phe_L_e','EX_thr_L_e','EX_trp_L_e','EX_val_L_e','EX_cys_L_e',\n",
    "                       'EX_glu_L_e','EX_tyr_L_e','EX_ala_L_e','EX_asp_L_e','EX_gly_e',\n",
    "                       'EX_arg_L_e','EX_gln_L_e','EX_pro_L_e','EX_ser_L_e','EX_asn_L_e',\n",
    "                        'EX_dopa_e','EX_adrnl_e','EX_srtn_e']\n",
    "\n",
    "# UNCOMMENT & FIX THE LINE BELOW\n",
    "# threshold higher than 0.1 will show.\n",
    "model.solver = 'glpk'\n",
    "findBiomarkers(model,fvaRxns=exchanges,mods=['HGNC:8582'],synchronous=True,fracOpt=1)"
   ]
  },
  {
   "cell_type": "code",
   "execution_count": 37,
   "metadata": {},
   "outputs": [
    {
     "name": "stdout",
     "output_type": "stream",
     "text": [
      "Interpreting mode as IEMgene\n",
      "Finding reactions associated with modifier genes by knockout...\n",
      "Modifications will be performed on the following reactions:\n",
      "                                                       Description                                                                        Reaction\n",
      "PHETHPTOX2_INB  L-Phenylalanine,tetrahydrobiopterin:oxygen oxidore  o2_c_INB + phe_L_c_INB + thbpt_c_INB --> thbpt4acam_c_INB + tyr_L_c_INB       \n",
      "PHETHPTOX2      L-Phenylalanine,tetrahydrobiopterin:oxygen oxidore  o2_c + phe_L_c + thbpt_c --> thbpt4acam_c + tyr_L_c                           \n",
      "r0399_INB       L-Phenylalanine,tetrahydrobiopterin:oxygen oxidore  o2_c_INB + phe_L_c_INB + thbpt_c_INB --> dhbpt_c_INB + h2o_c_INB + tyr_L_c_INB\n",
      "r0399           L-Phenylalanine,tetrahydrobiopterin:oxygen oxidore  o2_c + phe_L_c + thbpt_c --> dhbpt_c + h2o_c + tyr_L_c                        \n",
      "\n",
      "190 low confidence biomarkers with scores below the threshold were                 found\n"
     ]
    },
    {
     "data": {
      "text/html": [
       "<div>\n",
       "<style scoped>\n",
       "    .dataframe tbody tr th:only-of-type {\n",
       "        vertical-align: middle;\n",
       "    }\n",
       "\n",
       "    .dataframe tbody tr th {\n",
       "        vertical-align: top;\n",
       "    }\n",
       "\n",
       "    .dataframe thead th {\n",
       "        text-align: right;\n",
       "    }\n",
       "</style>\n",
       "<table border=\"1\" class=\"dataframe\">\n",
       "  <thead>\n",
       "    <tr style=\"text-align: right;\">\n",
       "      <th></th>\n",
       "      <th>Name</th>\n",
       "      <th>Prediction</th>\n",
       "      <th>WT</th>\n",
       "      <th>Mutant</th>\n",
       "      <th>Score</th>\n",
       "    </tr>\n",
       "    <tr>\n",
       "      <th>ID</th>\n",
       "      <th></th>\n",
       "      <th></th>\n",
       "      <th></th>\n",
       "      <th></th>\n",
       "      <th></th>\n",
       "    </tr>\n",
       "  </thead>\n",
       "  <tbody>\n",
       "    <tr>\n",
       "      <th>34hpp_e</th>\n",
       "      <td>3-(4-hydroxyphenyl)pyruvate</td>\n",
       "      <td>Reduced</td>\n",
       "      <td>[-1.0, 3.979]</td>\n",
       "      <td>[-1.0, 0.992]</td>\n",
       "      <td>0.750691</td>\n",
       "    </tr>\n",
       "    <tr>\n",
       "      <th>tyr_L_e</th>\n",
       "      <td>L-tyrosine</td>\n",
       "      <td>Reduced</td>\n",
       "      <td>[-1.0, 3.979]</td>\n",
       "      <td>[-1.0, 0.992]</td>\n",
       "      <td>0.750691</td>\n",
       "    </tr>\n",
       "    <tr>\n",
       "      <th>tymsf_e</th>\n",
       "      <td>Tyramine O-sulfate</td>\n",
       "      <td>Reduced</td>\n",
       "      <td>[-0.0, 4.979]</td>\n",
       "      <td>[0.0, 1.992]</td>\n",
       "      <td>0.599920</td>\n",
       "    </tr>\n",
       "    <tr>\n",
       "      <th>4hphac_e</th>\n",
       "      <td>4-hydroxyphenylacetate</td>\n",
       "      <td>Reduced</td>\n",
       "      <td>[0.0, 4.979]</td>\n",
       "      <td>[0.0, 1.992]</td>\n",
       "      <td>0.599920</td>\n",
       "    </tr>\n",
       "    <tr>\n",
       "      <th>q10_e</th>\n",
       "      <td>coenzyme Q10</td>\n",
       "      <td>Reduced</td>\n",
       "      <td>[-1.0, 5.979]</td>\n",
       "      <td>[-1.0, 2.992]</td>\n",
       "      <td>0.499582</td>\n",
       "    </tr>\n",
       "    <tr>\n",
       "      <th>q10h2_e</th>\n",
       "      <td>ubiquinol-10</td>\n",
       "      <td>Reduced</td>\n",
       "      <td>[-1.0, 5.979]</td>\n",
       "      <td>[-1.0, 2.992]</td>\n",
       "      <td>0.499582</td>\n",
       "    </tr>\n",
       "    <tr>\n",
       "      <th>34dhphe_e</th>\n",
       "      <td>L-dopa</td>\n",
       "      <td>Reduced</td>\n",
       "      <td>[-1.0, 5.979]</td>\n",
       "      <td>[-1.0, 2.992]</td>\n",
       "      <td>0.499582</td>\n",
       "    </tr>\n",
       "    <tr>\n",
       "      <th>dopa_e</th>\n",
       "      <td>dopaminium(1+)</td>\n",
       "      <td>Reduced</td>\n",
       "      <td>[-1.0, 6.979]</td>\n",
       "      <td>[-1.0, 3.992]</td>\n",
       "      <td>0.427998</td>\n",
       "    </tr>\n",
       "    <tr>\n",
       "      <th>dopasf_e</th>\n",
       "      <td>dopamine 3-O-sulfate</td>\n",
       "      <td>Reduced</td>\n",
       "      <td>[0.0, 7.979]</td>\n",
       "      <td>[0.0, 4.992]</td>\n",
       "      <td>0.374358</td>\n",
       "    </tr>\n",
       "    <tr>\n",
       "      <th>nrpphr_e</th>\n",
       "      <td>noradrenaline</td>\n",
       "      <td>Reduced</td>\n",
       "      <td>[-1.0, 7.979]</td>\n",
       "      <td>[-1.0, 4.992]</td>\n",
       "      <td>0.374358</td>\n",
       "    </tr>\n",
       "    <tr>\n",
       "      <th>34dhoxpeg_e</th>\n",
       "      <td>3,4-dihydroxyphenylethyleneglycol</td>\n",
       "      <td>Reduced</td>\n",
       "      <td>[0.0, 8.979]</td>\n",
       "      <td>[0.0, 5.992]</td>\n",
       "      <td>0.332665</td>\n",
       "    </tr>\n",
       "    <tr>\n",
       "      <th>mepi_e</th>\n",
       "      <td>L-Metanephrine</td>\n",
       "      <td>Reduced</td>\n",
       "      <td>[0.0, 8.979]</td>\n",
       "      <td>[0.0, 5.992]</td>\n",
       "      <td>0.332665</td>\n",
       "    </tr>\n",
       "    <tr>\n",
       "      <th>nrpphrsf_e</th>\n",
       "      <td>Sulfate derivative of norepinephrine</td>\n",
       "      <td>Reduced</td>\n",
       "      <td>[0.0, 8.979]</td>\n",
       "      <td>[0.0, 5.992]</td>\n",
       "      <td>0.332665</td>\n",
       "    </tr>\n",
       "    <tr>\n",
       "      <th>adrnl_e</th>\n",
       "      <td>adrenaline</td>\n",
       "      <td>Reduced</td>\n",
       "      <td>[0.0, 8.979]</td>\n",
       "      <td>[0.0, 5.992]</td>\n",
       "      <td>0.332665</td>\n",
       "    </tr>\n",
       "    <tr>\n",
       "      <th>phpyr_e</th>\n",
       "      <td>Keto-Phenylpyruvate</td>\n",
       "      <td>Elevated</td>\n",
       "      <td>[-1.0, 1.487]</td>\n",
       "      <td>[-1.0, 1.987]</td>\n",
       "      <td>0.251636</td>\n",
       "    </tr>\n",
       "    <tr>\n",
       "      <th>phe_L_e</th>\n",
       "      <td>L-phenylalanine</td>\n",
       "      <td>Elevated</td>\n",
       "      <td>[-1.0, 1.487]</td>\n",
       "      <td>[-1.0, 1.987]</td>\n",
       "      <td>0.251636</td>\n",
       "    </tr>\n",
       "    <tr>\n",
       "      <th>pheacgln_e</th>\n",
       "      <td>N(2)-phenylacetyl-L-glutaminate</td>\n",
       "      <td>Elevated</td>\n",
       "      <td>[0.0, 2.487]</td>\n",
       "      <td>[0.0, 2.987]</td>\n",
       "      <td>0.167392</td>\n",
       "    </tr>\n",
       "    <tr>\n",
       "      <th>phpyr_BD</th>\n",
       "      <td>keto-phenylpyruvate</td>\n",
       "      <td>Elevated</td>\n",
       "      <td>[0.0, 2.487]</td>\n",
       "      <td>[0.0, 2.987]</td>\n",
       "      <td>0.167392</td>\n",
       "    </tr>\n",
       "  </tbody>\n",
       "</table>\n",
       "</div>"
      ],
      "text/plain": [
       "                                             Name Prediction             WT         Mutant     Score\n",
       "ID                                                                                                  \n",
       "34hpp_e      3-(4-hydroxyphenyl)pyruvate           Reduced    [-1.0, 3.979]  [-1.0, 0.992]  0.750691\n",
       "tyr_L_e      L-tyrosine                            Reduced    [-1.0, 3.979]  [-1.0, 0.992]  0.750691\n",
       "tymsf_e      Tyramine O-sulfate                    Reduced    [-0.0, 4.979]  [0.0, 1.992]   0.599920\n",
       "4hphac_e     4-hydroxyphenylacetate                Reduced    [0.0, 4.979]   [0.0, 1.992]   0.599920\n",
       "q10_e        coenzyme Q10                          Reduced    [-1.0, 5.979]  [-1.0, 2.992]  0.499582\n",
       "q10h2_e      ubiquinol-10                          Reduced    [-1.0, 5.979]  [-1.0, 2.992]  0.499582\n",
       "34dhphe_e    L-dopa                                Reduced    [-1.0, 5.979]  [-1.0, 2.992]  0.499582\n",
       "dopa_e       dopaminium(1+)                        Reduced    [-1.0, 6.979]  [-1.0, 3.992]  0.427998\n",
       "dopasf_e     dopamine 3-O-sulfate                  Reduced    [0.0, 7.979]   [0.0, 4.992]   0.374358\n",
       "nrpphr_e     noradrenaline                         Reduced    [-1.0, 7.979]  [-1.0, 4.992]  0.374358\n",
       "34dhoxpeg_e  3,4-dihydroxyphenylethyleneglycol     Reduced    [0.0, 8.979]   [0.0, 5.992]   0.332665\n",
       "mepi_e       L-Metanephrine                        Reduced    [0.0, 8.979]   [0.0, 5.992]   0.332665\n",
       "nrpphrsf_e   Sulfate derivative of norepinephrine  Reduced    [0.0, 8.979]   [0.0, 5.992]   0.332665\n",
       "adrnl_e      adrenaline                            Reduced    [0.0, 8.979]   [0.0, 5.992]   0.332665\n",
       "phpyr_e      Keto-Phenylpyruvate                   Elevated   [-1.0, 1.487]  [-1.0, 1.987]  0.251636\n",
       "phe_L_e      L-phenylalanine                       Elevated   [-1.0, 1.487]  [-1.0, 1.987]  0.251636\n",
       "pheacgln_e   N(2)-phenylacetyl-L-glutaminate       Elevated   [0.0, 2.487]   [0.0, 2.987]   0.167392\n",
       "phpyr_BD     keto-phenylpyruvate                   Elevated   [0.0, 2.487]   [0.0, 2.987]   0.167392"
      ]
     },
     "execution_count": 37,
     "metadata": {},
     "output_type": "execute_result"
    }
   ],
   "source": [
    "exchanges = [ rxn for rxn in model.reactions if rxn.products == [] and 'EX_' in rxn.id and 'INB' not in rxn.id]\n",
    "\n",
    "# Shlomi et al suggested using the following medium: everything in (-1) with a few exceptions \n",
    "# everything out (unlimited)\n",
    "# This was actually first proposed in (Sahoo et al, 2012)\n",
    "for rxn in exchanges:\n",
    "    rxn.lower_bound = -1\n",
    "    rxn.upper_bound = 999999\n",
    "        \n",
    "# specifics\n",
    "model.reactions.EX_o2_e.lower_bound = -40\n",
    "model.reactions.r0399.lower_bound=0\n",
    "\n",
    "for rxn in ['EX_h2o_e','EX_h_e','EX_co2_e','EX_nh4_e','EX_pi_e','EX_hco3_e','EX_so4_e']:\n",
    "    model.reactions.get_by_id(rxn).lower_bound = - 100\n",
    "\n",
    "# to reduce computation time we check all amino acids + a couple neurotransmitters\n",
    "biomarkers_to_check = ['EX_his_L_e','EX_ile_L_e','EX_leu_L_e','EX_lys_L_e','EX_met_L_e',\n",
    "                       'EX_phe_L_e','EX_thr_L_e','EX_trp_L_e','EX_val_L_e','EX_cys_L_e',\n",
    "                       'EX_glu_L_e','EX_tyr_L_e','EX_ala_L_e','EX_asp_L_e','EX_gly_e',\n",
    "                       'EX_arg_L_e','EX_gln_L_e','EX_pro_L_e','EX_ser_L_e','EX_asn_L_e',\n",
    "                        'EX_dopa_e','EX_adrnl_e','EX_srtn_e']\n",
    "\n",
    "# UNCOMMENT & FIX THE LINE BELOW\n",
    "# threshold higher than 0.1 will show.\n",
    "model.solver = 'glpk'\n",
    "findBiomarkers(model,fvaRxns=exchanges,mods=['HGNC:8582'],synchronous=True,fracOpt=0)"
   ]
  },
  {
   "cell_type": "code",
   "execution_count": null,
   "metadata": {},
   "outputs": [],
   "source": []
  }
 ],
 "metadata": {
  "kernelspec": {
   "display_name": "Python 3 (ipykernel)",
   "language": "python",
   "name": "python3"
  },
  "language_info": {
   "codemirror_mode": {
    "name": "ipython",
    "version": 3
   },
   "file_extension": ".py",
   "mimetype": "text/x-python",
   "name": "python",
   "nbconvert_exporter": "python",
   "pygments_lexer": "ipython3",
   "version": "3.10.6"
  },
  "toc": {
   "base_numbering": 1,
   "nav_menu": {},
   "number_sections": true,
   "sideBar": true,
   "skip_h1_title": false,
   "title_cell": "Table of Contents",
   "title_sidebar": "Contents",
   "toc_cell": false,
   "toc_position": {
    "height": "540px",
    "left": "318px",
    "top": "156px",
    "width": "168px"
   },
   "toc_section_display": true,
   "toc_window_display": true
  },
  "varInspector": {
   "cols": {
    "lenName": 16,
    "lenType": 16,
    "lenVar": 40
   },
   "kernels_config": {
    "python": {
     "delete_cmd_postfix": "",
     "delete_cmd_prefix": "del ",
     "library": "var_list.py",
     "varRefreshCmd": "print(var_dic_list())"
    },
    "r": {
     "delete_cmd_postfix": ") ",
     "delete_cmd_prefix": "rm(",
     "library": "var_list.r",
     "varRefreshCmd": "cat(var_dic_list()) "
    }
   },
   "types_to_exclude": [
    "module",
    "function",
    "builtin_function_or_method",
    "instance",
    "_Feature"
   ],
   "window_display": false
  }
 },
 "nbformat": 4,
 "nbformat_minor": 2
}
