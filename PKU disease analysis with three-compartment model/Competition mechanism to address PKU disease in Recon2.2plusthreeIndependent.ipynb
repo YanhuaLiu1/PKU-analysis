{
 "cells": [
  {
   "cell_type": "markdown",
   "metadata": {},
   "source": [
    "# Recon2.2plusthreeIndependent.json"
   ]
  },
  {
   "cell_type": "markdown",
   "metadata": {},
   "source": [
    "##Changing medium"
   ]
  },
  {
   "cell_type": "code",
   "execution_count": 1,
   "metadata": {},
   "outputs": [],
   "source": [
    "import cobra\n",
    "import pandas as pd\n",
    "import numpy as np\n",
    "import pickle\n",
    "from cobra.flux_analysis import pfba"
   ]
  },
  {
   "cell_type": "code",
   "execution_count": 2,
   "metadata": {},
   "outputs": [
    {
     "name": "stdout",
     "output_type": "stream",
     "text": [
      "Scaling...\n",
      " A: min|aij| =  1.000e+00  max|aij| =  1.000e+00  ratio =  1.000e+00\n",
      "Problem data seem to be well scaled\n"
     ]
    }
   ],
   "source": [
    "M = cobra.io.load_json_model('Recon2.2plusthreeIndependent.json')"
   ]
  },
  {
   "cell_type": "code",
   "execution_count": 3,
   "metadata": {},
   "outputs": [],
   "source": [
    "from cobra.flux_analysis import pfba\n",
    "# import map visualization tools\n",
    "from utils import show_map\n",
    "import escher\n",
    "map_loc = 'Recon2.2plusthreeIndependentMap.json' # the escher map used below\n",
    "# show all output\n",
    "from IPython.core.interactiveshell import InteractiveShell\n",
    "InteractiveShell.ast_node_interactivity = \"all\"\n",
    "\n",
    "model=M.copy()"
   ]
  },
  {
   "cell_type": "code",
   "execution_count": 4,
   "metadata": {},
   "outputs": [],
   "source": [
    "model1=model.copy()"
   ]
  },
  {
   "cell_type": "code",
   "execution_count": 5,
   "metadata": {},
   "outputs": [],
   "source": [
    "# Setting objective function: biomass reaction in the brain + dopamine production + serotonin production\n",
    "quadratic_objective = model1.problem.Objective(model1.reactions.biomass_reaction_INB.flux_expression+\n",
    "                                              model1.reactions.get_by_id('3HLYTCL_INB').flux_expression+\n",
    "                                              model1.reactions.get_by_id('5HLTDL_INB').flux_expression,\n",
    "    direction='max')\n",
    "model1.objective = quadratic_objective"
   ]
  },
  {
   "cell_type": "code",
   "execution_count": 6,
   "metadata": {},
   "outputs": [],
   "source": [
    "# Changing the phe and tyr in the medium, because they also use for producing dopa.\n",
    "model1.reactions.EX_phe_L_e.lower_bound=-0.2\n",
    "model1.reactions.EX_phe_L_e.upper_bound=-0.2\n",
    "model1.reactions.EX_tyr_L_e.lower_bound=-0.04"
   ]
  },
  {
   "cell_type": "code",
   "execution_count": 7,
   "metadata": {},
   "outputs": [
    {
     "data": {
      "text/plain": [
       "0.3751331"
      ]
     },
     "execution_count": 7,
     "metadata": {},
     "output_type": "execute_result"
    },
    {
     "data": {
      "application/vnd.jupyter.widget-view+json": {
       "model_id": "e74446bb50e54201a5d1202e7d8c0ca8",
       "version_major": 2,
       "version_minor": 0
      },
      "text/plain": [
       "Builder(hide_secondary_metabolites=False, highlight_missing=True, reaction_data={'13DAMPPOX': 0.0, '1a_24_25VI…"
      ]
     },
     "metadata": {},
     "output_type": "display_data"
    }
   ],
   "source": [
    "## Other reactions to produce l-dopa is forbidded\n",
    "model1.reactions.TYRDOPO_INB.upper_bound=0\n",
    "model1.reactions.TYR3MO2_INB.upper_bound=0\n",
    "## liver biomass is constant\n",
    "model1.reactions.biomass_reaction.lower_bound=0.05\n",
    "model1.reactions.biomass_reaction.upper_bound=0.05\n",
    "## do not need too much biomass in the brain\n",
    "model1.reactions.biomass_reaction_INB.upper_bound=0.1\n",
    "# Phe secretion in the blood is blocked, otherwise there is no competition.\n",
    "model1.reactions.EX_phe_L_BD.upper_bound=0\n",
    "# Phenylpyruvate production in the brain and Liver are limited\n",
    "model1.reactions.get_by_id('PHPYRte_INB').lower_bound=0\n",
    "model1.reactions.get_by_id('PHPYRte').lower_bound=0\n",
    "### No PAH in the brain\n",
    "model1.reactions.PHETHPTOX2_INB.lower_bound=0\n",
    "model1.reactions.PHETHPTOX2_INB.upper_bound=0\n",
    "model1.reactions.r0399_INB.lower_bound=0\n",
    "model1.reactions.r0399_INB.upper_bound=0\n",
    "### Tyrosine hydroxylase\n",
    "# model1.reactions.EX_TH_B_INB.upper_bound=1000\n",
    "# model1.reactions.Phe_TH_INB.upper_bound=0\n",
    "### No Tyr hydroxylase competition\n",
    "model1.reactions.Phe_TH_INB.upper_bound=0\n",
    "model1.reactions.PhePde_INB.upper_bound=0\n",
    "model1.reactions.get_by_id('34dhpheTR_TOBD').upper_bound=0 ##No levodopa from liver to blood.\n",
    "model1.solver='glpk'\n",
    "sol = model1.optimize()\n",
    "sol.objective_value\n",
    "b = show_map(sol,map_loc)\n",
    "b"
   ]
  },
  {
   "cell_type": "code",
   "execution_count": 8,
   "metadata": {},
   "outputs": [
    {
     "data": {
      "text/plain": [
       "0.2140536"
      ]
     },
     "execution_count": 8,
     "metadata": {},
     "output_type": "execute_result"
    },
    {
     "data": {
      "application/vnd.jupyter.widget-view+json": {
       "model_id": "011a4d07ccf54a2589065a90c739fc4c",
       "version_major": 2,
       "version_minor": 0
      },
      "text/plain": [
       "Builder(hide_secondary_metabolites=False, highlight_missing=True, reaction_data={'13DAMPPOX': 0.0, '1a_24_25VI…"
      ]
     },
     "metadata": {},
     "output_type": "display_data"
    }
   ],
   "source": [
    "model2=model1.copy()\n",
    "# Kncoking gene 'HGNC:8582' to simulate the PKU patients\n",
    "model2.genes.get_by_id('HGNC:8582').knock_out()\n",
    "# Phenylpyruvate production in the brain and Liver are limited, also phe-activated.\n",
    "model2.reactions.get_by_id('PHPYRte_INB').lower_bound=-0.1\n",
    "model2.reactions.get_by_id('PHPYRte').lower_bound=-0.1\n",
    "sol = model2.optimize()\n",
    "sol.objective_value\n",
    "b = show_map(sol,map_loc)\n",
    "b"
   ]
  },
  {
   "cell_type": "markdown",
   "metadata": {},
   "source": [
    "## Only Phe deprivation"
   ]
  },
  {
   "cell_type": "code",
   "execution_count": 9,
   "metadata": {},
   "outputs": [
    {
     "data": {
      "text/plain": [
       "0.21405359999999996"
      ]
     },
     "execution_count": 9,
     "metadata": {},
     "output_type": "execute_result"
    },
    {
     "data": {
      "application/vnd.jupyter.widget-view+json": {
       "model_id": "ffe611297e3046719829507d0c0a6ca1",
       "version_major": 2,
       "version_minor": 0
      },
      "text/plain": [
       "Builder(hide_secondary_metabolites=False, highlight_missing=True, reaction_data={'13DAMPPOX': 0.0, '1a_24_25VI…"
      ]
     },
     "metadata": {},
     "output_type": "display_data"
    }
   ],
   "source": [
    "model5=model2.copy()\n",
    "model5.reactions.EX_phe_L_e.upper_bound=-0.05\n",
    "model5.reactions.EX_phe_L_e.lower_bound=-0.05\n",
    "sol = model5.optimize()\n",
    "sol.objective_value\n",
    "fbasol = model5.optimize()\n",
    "b = show_map(fbasol,map_loc)\n",
    "b"
   ]
  },
  {
   "cell_type": "markdown",
   "metadata": {},
   "source": [
    "## Only supplying Tyr"
   ]
  },
  {
   "cell_type": "code",
   "execution_count": 10,
   "metadata": {},
   "outputs": [
    {
     "data": {
      "text/plain": [
       "0.3740536"
      ]
     },
     "execution_count": 10,
     "metadata": {},
     "output_type": "execute_result"
    },
    {
     "data": {
      "application/vnd.jupyter.widget-view+json": {
       "model_id": "6b94ed06c40047f1acf1ad529693f2a5",
       "version_major": 2,
       "version_minor": 0
      },
      "text/plain": [
       "Builder(hide_secondary_metabolites=False, highlight_missing=True, reaction_data={'13DAMPPOX': 0.0, '1a_24_25VI…"
      ]
     },
     "metadata": {},
     "output_type": "display_data"
    }
   ],
   "source": [
    "model3=model2.copy()\n",
    "model3.reactions.EX_tyr_L_e.lower_bound=-0.2\n",
    "sol = model3.optimize()\n",
    "sol.objective_value\n",
    "fbasol = model3.optimize()\n",
    "b = show_map(fbasol,map_loc)\n",
    "b"
   ]
  },
  {
   "cell_type": "markdown",
   "metadata": {},
   "source": [
    "##Even we consider the Phe toxicity for tyrosine hydroxylase, the system uptake more tyrosine could also improve the symptoms of PKU. So, the independent pathway for Phe, Tyr and Trp taking to brain could not describe the PKU disease. "
   ]
  },
  {
   "cell_type": "markdown",
   "metadata": {},
   "source": [
    "## Combining the Phe deprivation and Tyr addition"
   ]
  },
  {
   "cell_type": "code",
   "execution_count": 11,
   "metadata": {},
   "outputs": [
    {
     "data": {
      "text/plain": [
       "0.3740536"
      ]
     },
     "execution_count": 11,
     "metadata": {},
     "output_type": "execute_result"
    },
    {
     "data": {
      "application/vnd.jupyter.widget-view+json": {
       "model_id": "25fd3b98d584430b8a8a0a55e5426958",
       "version_major": 2,
       "version_minor": 0
      },
      "text/plain": [
       "Builder(hide_secondary_metabolites=False, highlight_missing=True, reaction_data={'13DAMPPOX': 0.0, '1a_24_25VI…"
      ]
     },
     "metadata": {},
     "output_type": "display_data"
    }
   ],
   "source": [
    "model4=model3.copy()\n",
    "model4.reactions.EX_phe_L_e.upper_bound=-0.05\n",
    "model4.reactions.EX_phe_L_e.lower_bound=-0.05\n",
    "sol = model4.optimize()\n",
    "sol.objective_value\n",
    "fbasol = model4.optimize()\n",
    "b = show_map(fbasol,map_loc)\n",
    "b"
   ]
  },
  {
   "cell_type": "markdown",
   "metadata": {},
   "source": [
    "# For Phe toxicity mechanism"
   ]
  },
  {
   "cell_type": "code",
   "execution_count": 12,
   "metadata": {},
   "outputs": [
    {
     "data": {
      "text/plain": [
       "0.26800409999999997"
      ]
     },
     "execution_count": 12,
     "metadata": {},
     "output_type": "execute_result"
    },
    {
     "data": {
      "application/vnd.jupyter.widget-view+json": {
       "model_id": "fa8413069b9e4662a8983e82b5ec342b",
       "version_major": 2,
       "version_minor": 0
      },
      "text/plain": [
       "Builder(hide_secondary_metabolites=False, highlight_missing=True, reaction_data={'13DAMPPOX': 0.0, '1a_24_25VI…"
      ]
     },
     "metadata": {},
     "output_type": "display_data"
    }
   ],
   "source": [
    "### Tyrosine hydroxylase competition\n",
    "model1.reactions.TH_AToB_INB.upper_bound=0.07\n",
    "model1.reactions.PhePde_INB.upper_bound=0.02\n",
    "model6=model1.copy()\n",
    "sol = model6.optimize()\n",
    "sol.objective_value\n",
    "b = show_map(sol,map_loc)\n",
    "b"
   ]
  },
  {
   "cell_type": "code",
   "execution_count": 17,
   "metadata": {},
   "outputs": [
    {
     "name": "stdout",
     "output_type": "stream",
     "text": [
      "0.08702650000000003\n"
     ]
    },
    {
     "data": {
      "text/plain": [
       "0.21300410000000003"
      ]
     },
     "execution_count": 17,
     "metadata": {},
     "output_type": "execute_result"
    },
    {
     "data": {
      "application/vnd.jupyter.widget-view+json": {
       "model_id": "3bda7903e4154fa09b90685549b4bddd",
       "version_major": 2,
       "version_minor": 0
      },
      "text/plain": [
       "Builder(hide_secondary_metabolites=False, highlight_missing=True, reaction_data={'13DAMPPOX': 0.0, '1a_24_25VI…"
      ]
     },
     "metadata": {},
     "output_type": "display_data"
    }
   ],
   "source": [
    "model7=model6.copy()\n",
    "model7.genes.get_by_id('HGNC:8582').knock_out()\n",
    "# Phenylpyruvate production in the brain and Liver are activated by high Phe concentration\n",
    "model7.reactions.get_by_id('PHPYRte_INB').lower_bound=-0.1\n",
    "model7.reactions.get_by_id('PHPYRte').lower_bound=-0.1\n",
    "sol = model7.optimize()\n",
    "fluxP=sol.fluxes.loc['PheTR_TOB']\n",
    "print(fluxP)\n",
    "if fluxP>=0.08:\n",
    "    model7.reactions.Phe_TH_INB.upper_bound=1000\n",
    "    model7.reactions.Phe_TH_INB.lower_bound=0.055\n",
    "sol = model7.optimize()\n",
    "sol.objective_value\n",
    "b = show_map(sol,map_loc)\n",
    "b"
   ]
  },
  {
   "cell_type": "markdown",
   "metadata": {},
   "source": [
    "## Only Phe deprivation"
   ]
  },
  {
   "cell_type": "code",
   "execution_count": 19,
   "metadata": {},
   "outputs": [
    {
     "name": "stdout",
     "output_type": "stream",
     "text": [
      "0.02594699999999997\n"
     ]
    },
    {
     "data": {
      "text/plain": [
       "0.21405359999999996"
      ]
     },
     "execution_count": 19,
     "metadata": {},
     "output_type": "execute_result"
    },
    {
     "data": {
      "application/vnd.jupyter.widget-view+json": {
       "model_id": "1ed909fe7f284a52a7ffeb8c6c19fabb",
       "version_major": 2,
       "version_minor": 0
      },
      "text/plain": [
       "Builder(hide_secondary_metabolites=False, highlight_missing=True, reaction_data={'13DAMPPOX': 0.0, '1a_24_25VI…"
      ]
     },
     "metadata": {},
     "output_type": "display_data"
    }
   ],
   "source": [
    "model8=model6.copy()\n",
    "model8.genes.get_by_id('HGNC:8582').knock_out()\n",
    "# Phenylpyruvate production in the brain and Liver are activated by high Phe concentration\n",
    "model8.reactions.get_by_id('PHPYRte_INB').lower_bound=-0.1\n",
    "model8.reactions.get_by_id('PHPYRte').lower_bound=-0.1\n",
    "model8.reactions.EX_phe_L_e.upper_bound=-0.05\n",
    "model8.reactions.EX_phe_L_e.lower_bound=-0.05\n",
    "sol = model8.optimize()\n",
    "fluxP=sol.fluxes.loc['PheTR_TOB']\n",
    "print(fluxP)\n",
    "if fluxP>=0.08:\n",
    "    model8.reactions.Phe_TH_INB.upper_bound=1000\n",
    "    model8.reactions.Phe_TH_INB.lower_bound=0.055\n",
    "sol = model8.optimize()\n",
    "sol.objective_value\n",
    "b = show_map(sol,map_loc)\n",
    "b"
   ]
  },
  {
   "cell_type": "markdown",
   "metadata": {},
   "source": [
    "## Only supplying Tyr"
   ]
  },
  {
   "cell_type": "code",
   "execution_count": 20,
   "metadata": {},
   "outputs": [
    {
     "name": "stdout",
     "output_type": "stream",
     "text": [
      "0.09546780000000213\n"
     ]
    },
    {
     "data": {
      "text/plain": [
       "0.22800410000000002"
      ]
     },
     "execution_count": 20,
     "metadata": {},
     "output_type": "execute_result"
    },
    {
     "data": {
      "application/vnd.jupyter.widget-view+json": {
       "model_id": "9ffb692f7f1847e9a3ec88ce938683b4",
       "version_major": 2,
       "version_minor": 0
      },
      "text/plain": [
       "Builder(hide_secondary_metabolites=False, highlight_missing=True, reaction_data={'13DAMPPOX': 0.0, '1a_24_25VI…"
      ]
     },
     "metadata": {},
     "output_type": "display_data"
    }
   ],
   "source": [
    "model9=model6.copy()\n",
    "model9.genes.get_by_id('HGNC:8582').knock_out()\n",
    "# Phenylpyruvate production in the brain and Liver are activated by high Phe concentration\n",
    "model9.reactions.get_by_id('PHPYRte_INB').lower_bound=-0.1\n",
    "model9.reactions.get_by_id('PHPYRte').lower_bound=-0.1\n",
    "model9.reactions.EX_tyr_L_e.lower_bound=-0.2\n",
    "sol = model9.optimize()\n",
    "fluxP=sol.fluxes.loc['PheTR_TOB']\n",
    "print(fluxP)\n",
    "if fluxP>=0.08:\n",
    "    model9.reactions.Phe_TH_INB.upper_bound=1000\n",
    "    model9.reactions.Phe_TH_INB.lower_bound=0.04\n",
    "sol = model9.optimize()\n",
    "sol.objective_value\n",
    "b = show_map(sol,map_loc)\n",
    "b"
   ]
  },
  {
   "cell_type": "markdown",
   "metadata": {},
   "source": [
    "## Combining Phe deprivation and Tyr addition"
   ]
  },
  {
   "cell_type": "code",
   "execution_count": 21,
   "metadata": {},
   "outputs": [
    {
     "name": "stdout",
     "output_type": "stream",
     "text": [
      "0.025946999999999974\n"
     ]
    },
    {
     "data": {
      "text/plain": [
       "0.26800409999999997"
      ]
     },
     "execution_count": 21,
     "metadata": {},
     "output_type": "execute_result"
    },
    {
     "data": {
      "application/vnd.jupyter.widget-view+json": {
       "model_id": "0a86099f70e24616a4e0ba007d1971a0",
       "version_major": 2,
       "version_minor": 0
      },
      "text/plain": [
       "Builder(hide_secondary_metabolites=False, highlight_missing=True, reaction_data={'13DAMPPOX': 0.0, '1a_24_25VI…"
      ]
     },
     "metadata": {},
     "output_type": "display_data"
    }
   ],
   "source": [
    "model10=model6.copy()\n",
    "model10.genes.get_by_id('HGNC:8582').knock_out()\n",
    "# Phenylpyruvate production in the brain and Liver are activated by high Phe concentration\n",
    "model10.reactions.get_by_id('PHPYRte_INB').lower_bound=-0.1\n",
    "model10.reactions.get_by_id('PHPYRte').lower_bound=-0.1\n",
    "model10.reactions.EX_phe_L_e.upper_bound=-0.05\n",
    "model10.reactions.EX_phe_L_e.lower_bound=-0.05\n",
    "model10.reactions.EX_tyr_L_e.lower_bound=-0.2\n",
    "sol = model10.optimize()\n",
    "fluxP=sol.fluxes.loc['PheTR_TOB']\n",
    "print(fluxP)\n",
    "if fluxP>=0.08:\n",
    "    model10.reactions.Phe_TH_INB.upper_bound=1000\n",
    "    model10.reactions.Phe_TH_INB.lower_bound=0.055\n",
    "sol = model10.optimize()\n",
    "sol.objective_value\n",
    "b = show_map(sol,map_loc)\n",
    "b"
   ]
  },
  {
   "cell_type": "code",
   "execution_count": null,
   "metadata": {},
   "outputs": [],
   "source": []
  }
 ],
 "metadata": {
  "kernelspec": {
   "display_name": "Python 3 (ipykernel)",
   "language": "python",
   "name": "python3"
  },
  "language_info": {
   "codemirror_mode": {
    "name": "ipython",
    "version": 3
   },
   "file_extension": ".py",
   "mimetype": "text/x-python",
   "name": "python",
   "nbconvert_exporter": "python",
   "pygments_lexer": "ipython3",
   "version": "3.10.6"
  },
  "toc": {
   "base_numbering": 1,
   "nav_menu": {},
   "number_sections": true,
   "sideBar": true,
   "skip_h1_title": false,
   "title_cell": "Table of Contents",
   "title_sidebar": "Contents",
   "toc_cell": false,
   "toc_position": {
    "height": "540px",
    "left": "318px",
    "top": "156px",
    "width": "168px"
   },
   "toc_section_display": true,
   "toc_window_display": true
  },
  "varInspector": {
   "cols": {
    "lenName": 16,
    "lenType": 16,
    "lenVar": 40
   },
   "kernels_config": {
    "python": {
     "delete_cmd_postfix": "",
     "delete_cmd_prefix": "del ",
     "library": "var_list.py",
     "varRefreshCmd": "print(var_dic_list())"
    },
    "r": {
     "delete_cmd_postfix": ") ",
     "delete_cmd_prefix": "rm(",
     "library": "var_list.r",
     "varRefreshCmd": "cat(var_dic_list()) "
    }
   },
   "types_to_exclude": [
    "module",
    "function",
    "builtin_function_or_method",
    "instance",
    "_Feature"
   ],
   "window_display": false
  }
 },
 "nbformat": 4,
 "nbformat_minor": 2
}
