{
 "cells": [
  {
   "cell_type": "markdown",
   "metadata": {},
   "source": [
    "# Competitive model [Competitive mechanism only]"
   ]
  },
  {
   "cell_type": "markdown",
   "metadata": {},
   "source": [
    "##Changing medium"
   ]
  },
  {
   "cell_type": "code",
   "execution_count": 1,
   "metadata": {},
   "outputs": [],
   "source": [
    "import cobra\n",
    "import pandas as pd\n",
    "import numpy as np\n",
    "import pickle\n",
    "from cobra.flux_analysis import pfba\n",
    "from utils import findBiomarkers"
   ]
  },
  {
   "cell_type": "code",
   "execution_count": 2,
   "metadata": {},
   "outputs": [
    {
     "name": "stdout",
     "output_type": "stream",
     "text": [
      "Scaling...\n",
      " A: min|aij| =  1.000e+00  max|aij| =  1.000e+00  ratio =  1.000e+00\n",
      "Problem data seem to be well scaled\n"
     ]
    }
   ],
   "source": [
    "M1 = cobra.io.load_json_model('Recon2.2plusthreeCompetitive.json')"
   ]
  },
  {
   "cell_type": "code",
   "execution_count": 16,
   "metadata": {},
   "outputs": [
    {
     "name": "stdout",
     "output_type": "stream",
     "text": [
      "EX_phpyr_BD: phpyr_BD --> \n",
      "EX_34dhphe_BD: 34dhphe_BD --> \n",
      "EX_glc_D_BD: glc_D_BD --> \n",
      "EX_phe_L_BD: phe_L_BD --> \n",
      "EX_tyr_L_BD: tyr_L_BD --> \n",
      "EX_his_L_BD: his_L_BD --> \n",
      "EX_ile_L_BD: ile_L_BD --> \n",
      "EX_leu_L_BD: leu_L_BD --> \n",
      "EX_met_L_BD: met_L_BD --> \n",
      "EX_thr_L_BD: thr_L_BD --> \n",
      "EX_trp_L_BD: trp_L_BD --> \n",
      "EX_val_L_BD: val_L_BD --> \n",
      "EX_lys_L_BD: lys_L_BD --> \n",
      "EX_ala_L_BD: ala_L_BD --> \n",
      "EX_arg_L_BD: arg_L_BD --> \n",
      "EX_asn_L_BD: asn_L_BD --> \n",
      "EX_asp_L_BD: asp_L_BD --> \n",
      "EX_cys_L_BD: cys_L_BD --> \n",
      "EX_glu_L_BD: glu_L_BD --> \n",
      "EX_gln_L_BD: gln_L_BD --> \n",
      "EX_gly_BD: gly_BD --> \n",
      "EX_pro_L_BD: pro_L_BD --> \n",
      "EX_ser_L_BD: ser_L_BD --> \n",
      "EX_o2_BD: o2_BD <=> \n",
      "EX_nh4_BD: nh4_BD --> \n",
      "EX_pi_BD: pi_BD --> \n",
      "EX_acac_BD: acac_BD --> \n",
      "EX_bhb_BD: bhb_BD --> \n",
      "EX_co2_BD: co2_BD --> \n",
      "EX_h_BD: h_BD --> \n",
      "EX_h2o_BD: h2o_BD --> \n",
      "EX_lac_D_BD: lac_D_BD --> \n",
      "EX_lac_L_BD: lac_L_BD --> \n",
      "EX_so4_BD: so4_BD --> \n",
      "EX_urea_BD: urea_BD --> \n",
      "EX_dopa_BD: dopa_BD --> \n",
      "EX_adrnl_BD: adrnl_BD --> \n",
      "EX_srtn_BD: srtn_BD --> \n"
     ]
    }
   ],
   "source": [
    "for reaction in M1.reactions:\n",
    "    if 'EX_'in reaction.id and M1.reactions.get_by_id(reaction.id).upper_bound>0:\n",
    "        print(reaction)"
   ]
  },
  {
   "cell_type": "markdown",
   "metadata": {},
   "source": [
    "## Tyrosine is not enough in the diet"
   ]
  },
  {
   "cell_type": "code",
   "execution_count": 3,
   "metadata": {},
   "outputs": [],
   "source": [
    "# import map visualization tools\n",
    "from utils import show_map\n",
    "import escher\n",
    "map_loc = 'Recon2.2plusthreeCompetitiveMap.json' # the escher map used below\n",
    "# show all output\n",
    "from IPython.core.interactiveshell import InteractiveShell\n",
    "InteractiveShell.ast_node_interactivity = \"all\"\n",
    "\n",
    "model=M1.copy()"
   ]
  },
  {
   "cell_type": "code",
   "execution_count": 4,
   "metadata": {},
   "outputs": [],
   "source": [
    "model1=model.copy()"
   ]
  },
  {
   "cell_type": "code",
   "execution_count": 5,
   "metadata": {},
   "outputs": [],
   "source": [
    "# Setting objective function: biomass reaction in the brain + dopamine production + serotonin production\n",
    "quadratic_objective = model1.problem.Objective(model1.reactions.biomass_reaction_INB.flux_expression+\n",
    "                                              model1.reactions.get_by_id('3HLYTCL_INB').flux_expression+\n",
    "                                              model1.reactions.get_by_id('5HLTDL_INB').flux_expression,\n",
    "    direction='max')\n",
    "model1.objective = quadratic_objective"
   ]
  },
  {
   "cell_type": "code",
   "execution_count": 6,
   "metadata": {},
   "outputs": [],
   "source": [
    "# Changing the phe and tyr in the medium, because they also use for producing dopa.\n",
    "model1.reactions.EX_phe_L_e.lower_bound=-0.2\n",
    "model1.reactions.EX_phe_L_e.upper_bound=-0.2\n",
    "model1.reactions.EX_tyr_L_e.lower_bound=-0.04"
   ]
  },
  {
   "cell_type": "code",
   "execution_count": 7,
   "metadata": {},
   "outputs": [
    {
     "data": {
      "text/plain": [
       "0.2547554000000001"
      ]
     },
     "execution_count": 7,
     "metadata": {},
     "output_type": "execute_result"
    },
    {
     "data": {
      "application/vnd.jupyter.widget-view+json": {
       "model_id": "c02611519ac347cfb362f46241f84e50",
       "version_major": 2,
       "version_minor": 0
      },
      "text/plain": [
       "Builder(hide_secondary_metabolites=False, highlight_missing=True, reaction_data={'13DAMPPOX': 0.0, '1a_24_25VI…"
      ]
     },
     "metadata": {},
     "output_type": "display_data"
    }
   ],
   "source": [
    "## Other reactions to produce l-dopa is forbidded\n",
    "model1.reactions.TYRDOPO_INB.upper_bound=0\n",
    "model1.reactions.TYR3MO2_INB.upper_bound=0\n",
    "## liver biomass is constant\n",
    "model1.reactions.biomass_reaction.lower_bound=0.05\n",
    "model1.reactions.biomass_reaction.upper_bound=0.05\n",
    "## do not need too much biomass in the brain\n",
    "model1.reactions.biomass_reaction_INB.upper_bound=0.1\n",
    "# Phenylpyruvate production in the brain and Liver are limited\n",
    "model1.reactions.get_by_id('PHPYRte_INB').lower_bound=-0.1\n",
    "model1.reactions.get_by_id('PHPYRte').lower_bound=-0.1\n",
    "# Phe secretion in the blood is blocked, otherwise there is no competition.\n",
    "model1.reactions.EX_phe_L_BD.upper_bound=0\n",
    "# Serotonin production\n",
    "model1.reactions.get_by_id('5HLTDL_INB').lower_bound=0.095\n",
    "### No PAH in the brain\n",
    "model1.reactions.PHETHPTOX2_INB.lower_bound=0\n",
    "model1.reactions.PHETHPTOX2_INB.upper_bound=0\n",
    "model1.reactions.r0399_INB.lower_bound=0\n",
    "model1.reactions.r0399_INB.upper_bound=0\n",
    "### Tyrosine hydroxylase\n",
    "# model1.reactions.EX_TH_B_INB.upper_bound=1000\n",
    "model1.reactions.get_by_id('34dhpheTR_TOBD').upper_bound=0 ##No levodopa from liver to blood.\n",
    "model1.reactions.Ti1_To1.upper_bound=0.198\n",
    "### No Tyr hydroxylase competition\n",
    "model1.reactions.Phe_TH_INB.upper_bound=0\n",
    "model1.reactions.PhePde_INB.upper_bound=0\n",
    "model1.solver='glpk'\n",
    "sol = model1.optimize()\n",
    "sol.objective_value\n",
    "fbasol = model1.optimize()\n",
    "b = show_map(fbasol,map_loc)\n",
    "b"
   ]
  },
  {
   "cell_type": "code",
   "execution_count": 8,
   "metadata": {},
   "outputs": [
    {
     "data": {
      "text/plain": [
       "0.18734518083434298"
      ]
     },
     "execution_count": 8,
     "metadata": {},
     "output_type": "execute_result"
    },
    {
     "data": {
      "application/vnd.jupyter.widget-view+json": {
       "model_id": "c9615926254e499e832bd532f389c137",
       "version_major": 2,
       "version_minor": 0
      },
      "text/plain": [
       "Builder(hide_secondary_metabolites=False, highlight_missing=True, reaction_data={'13DAMPPOX': 0.0, '1a_24_25VI…"
      ]
     },
     "metadata": {},
     "output_type": "display_data"
    }
   ],
   "source": [
    "model2=model1.copy()\n",
    "# Kncoking gene 'HGNC:8582' to simulate the PKU patients\n",
    "model2.genes.get_by_id('HGNC:8582').knock_out()\n",
    "sol = model2.optimize()\n",
    "sol.objective_value\n",
    "b = show_map(sol,map_loc)\n",
    "b"
   ]
  },
  {
   "cell_type": "code",
   "execution_count": 9,
   "metadata": {},
   "outputs": [
    {
     "data": {
      "text/plain": [
       "0.18734518083433532"
      ]
     },
     "execution_count": 9,
     "metadata": {},
     "output_type": "execute_result"
    },
    {
     "data": {
      "application/vnd.jupyter.widget-view+json": {
       "model_id": "251c7ebfe3254cf89468c25228a36dd8",
       "version_major": 2,
       "version_minor": 0
      },
      "text/plain": [
       "Builder(hide_secondary_metabolites=False, highlight_missing=True, reaction_data={'13DAMPPOX': 0.0, '1a_24_25VI…"
      ]
     },
     "metadata": {},
     "output_type": "display_data"
    }
   ],
   "source": [
    "## Only adding tyrosine\n",
    "model3=model2.copy()\n",
    "model3.reactions.EX_tyr_L_e.lower_bound=-0.1\n",
    "sol = model3.optimize()\n",
    "sol.objective_value\n",
    "b = show_map(sol,map_loc)\n",
    "b"
   ]
  },
  {
   "cell_type": "code",
   "execution_count": 10,
   "metadata": {},
   "outputs": [
    {
     "data": {
      "text/plain": [
       "0.2547554000000002"
      ]
     },
     "execution_count": 10,
     "metadata": {},
     "output_type": "execute_result"
    },
    {
     "data": {
      "application/vnd.jupyter.widget-view+json": {
       "model_id": "9c2e3af0a93141b891549ccedfd4b99a",
       "version_major": 2,
       "version_minor": 0
      },
      "text/plain": [
       "Builder(hide_secondary_metabolites=False, highlight_missing=True, reaction_data={'13DAMPPOX': 0.0, '1a_24_25VI…"
      ]
     },
     "metadata": {},
     "output_type": "display_data"
    }
   ],
   "source": [
    "## Phe deprivation and Tyr addition\n",
    "model3.reactions.EX_phe_L_e.upper_bound=-0.04\n",
    "model3.reactions.EX_phe_L_e.lower_bound=-0.04\n",
    "sol = model3.optimize()\n",
    "sol.objective_value\n",
    "b = show_map(sol,map_loc)\n",
    "b"
   ]
  },
  {
   "cell_type": "code",
   "execution_count": 11,
   "metadata": {},
   "outputs": [
    {
     "data": {
      "text/plain": [
       "0.21405359999999996"
      ]
     },
     "execution_count": 11,
     "metadata": {},
     "output_type": "execute_result"
    },
    {
     "data": {
      "application/vnd.jupyter.widget-view+json": {
       "model_id": "12e919ea048d4fadb0530f0217014518",
       "version_major": 2,
       "version_minor": 0
      },
      "text/plain": [
       "Builder(hide_secondary_metabolites=False, highlight_missing=True, reaction_data={'13DAMPPOX': 0.0, '1a_24_25VI…"
      ]
     },
     "metadata": {},
     "output_type": "display_data"
    }
   ],
   "source": [
    "#Only removing the Phe\n",
    "model4=model2.copy()\n",
    "model4.reactions.EX_phe_L_e.upper_bound=-0.04\n",
    "model4.reactions.EX_phe_L_e.lower_bound=-0.04\n",
    "sol = model4.optimize()\n",
    "sol.objective_value\n",
    "b = show_map(sol,map_loc)\n",
    "b"
   ]
  },
  {
   "cell_type": "code",
   "execution_count": 12,
   "metadata": {},
   "outputs": [
    {
     "data": {
      "text/plain": [
       "0.12953369253538088"
      ]
     },
     "execution_count": 12,
     "metadata": {},
     "output_type": "execute_result"
    },
    {
     "data": {
      "application/vnd.jupyter.widget-view+json": {
       "model_id": "12b14d51643940ceb5a9a345cc3a05e1",
       "version_major": 2,
       "version_minor": 0
      },
      "text/plain": [
       "Builder(hide_secondary_metabolites=False, highlight_missing=True, reaction_data={'13DAMPPOX': 0.0, '1a_24_25VI…"
      ]
     },
     "metadata": {},
     "output_type": "display_data"
    }
   ],
   "source": [
    "model5=model2.copy()\n",
    "# Taking more Phe for PKU patient to show protein synthesis in the brain\n",
    "model5.reactions.EX_phe_L_e.lower_bound=-0.21\n",
    "model5.reactions.EX_phe_L_e.upper_bound=-0.21\n",
    "sol = model5.optimize()\n",
    "sol.objective_value\n",
    "b = show_map(sol,map_loc)\n",
    "b"
   ]
  },
  {
   "cell_type": "markdown",
   "metadata": {},
   "source": [
    "## Tyrosine is enough in the diet"
   ]
  },
  {
   "cell_type": "code",
   "execution_count": 13,
   "metadata": {},
   "outputs": [],
   "source": [
    "model=M1.copy()\n",
    "# import map visualization tools\n",
    "from utils import show_map\n",
    "import escher\n",
    "map_loc = 'Recon2.2plusthreeCompetitiveMap.json' # the escher map used below\n",
    "# show all output\n",
    "from IPython.core.interactiveshell import InteractiveShell\n",
    "InteractiveShell.ast_node_interactivity = \"all\""
   ]
  },
  {
   "cell_type": "code",
   "execution_count": 14,
   "metadata": {},
   "outputs": [],
   "source": [
    "# Changing the phe and tyr in the medium, because they also use for producing dopa.\n",
    "model.reactions.EX_phe_L_e.lower_bound=-0.2\n",
    "model.reactions.EX_phe_L_e.upper_bound=-0.2\n",
    "model.reactions.EX_tyr_L_e.lower_bound=-0.1"
   ]
  },
  {
   "cell_type": "code",
   "execution_count": 15,
   "metadata": {},
   "outputs": [],
   "source": [
    "# Setting objective function: biomass reaction in the brain + dopamine production + serotonin production\n",
    "quadratic_objective = model.problem.Objective(model.reactions.biomass_reaction_INB.flux_expression+\n",
    "                                              model.reactions.get_by_id('3HLYTCL_INB').flux_expression+\n",
    "                                              model.reactions.get_by_id('5HLTDL_INB').flux_expression,\n",
    "    direction='max')\n",
    "model.objective = quadratic_objective"
   ]
  },
  {
   "cell_type": "code",
   "execution_count": 16,
   "metadata": {},
   "outputs": [],
   "source": [
    "model1=model.copy()"
   ]
  },
  {
   "cell_type": "code",
   "execution_count": 17,
   "metadata": {},
   "outputs": [
    {
     "data": {
      "text/plain": [
       "0.2547554"
      ]
     },
     "execution_count": 17,
     "metadata": {},
     "output_type": "execute_result"
    },
    {
     "data": {
      "application/vnd.jupyter.widget-view+json": {
       "model_id": "068d9405389f4b38a170033a02b02546",
       "version_major": 2,
       "version_minor": 0
      },
      "text/plain": [
       "Builder(hide_secondary_metabolites=False, highlight_missing=True, reaction_data={'13DAMPPOX': 0.0, '1a_24_25VI…"
      ]
     },
     "metadata": {},
     "output_type": "display_data"
    }
   ],
   "source": [
    "## Other reactions to produce l-dopa is forbidded\n",
    "model1.reactions.TYRDOPO_INB.upper_bound=0\n",
    "model1.reactions.TYR3MO2_INB.upper_bound=0\n",
    "## liver biomass is constant\n",
    "model1.reactions.biomass_reaction.lower_bound=0.05\n",
    "model1.reactions.biomass_reaction.upper_bound=0.05\n",
    "## do not need too much biomass in the brain\n",
    "model1.reactions.biomass_reaction_INB.upper_bound=0.1\n",
    "# Phenylpyruvate production in the brain and Liver are limited\n",
    "model1.reactions.get_by_id('PHPYRte_INB').lower_bound=0\n",
    "model1.reactions.get_by_id('PHPYRte').lower_bound=0\n",
    "# Phe secretion in the blood is blocked, otherwise there is no competition.\n",
    "model1.reactions.EX_phe_L_BD.upper_bound=0\n",
    "# Serotonin production\n",
    "model1.reactions.get_by_id('5HLTDL_INB').lower_bound=0.095\n",
    "### No PAH in the brain\n",
    "model1.reactions.PHETHPTOX2_INB.lower_bound=0\n",
    "model1.reactions.PHETHPTOX2_INB.upper_bound=0\n",
    "model1.reactions.r0399_INB.lower_bound=0\n",
    "model1.reactions.r0399_INB.upper_bound=0\n",
    "### Tyrosine hydroxylase\n",
    "# model1.reactions.EX_TH_B_INB.upper_bound=1000\n",
    "model1.reactions.get_by_id('34dhpheTR_TOBD').upper_bound=0 ##No levodopa from liver to blood.\n",
    "model1.reactions.Ti1_To1.upper_bound=0.198\n",
    "### No Tyr hydroxylase competition\n",
    "model1.reactions.Phe_TH_INB.upper_bound=0\n",
    "model1.reactions.PhePde_INB.upper_bound=0\n",
    "model1.solver='glpk'\n",
    "sol = model1.optimize()\n",
    "sol.objective_value\n",
    "fbasol = model1.optimize()\n",
    "b = show_map(fbasol,map_loc)\n",
    "b"
   ]
  },
  {
   "cell_type": "code",
   "execution_count": 18,
   "metadata": {},
   "outputs": [
    {
     "data": {
      "text/plain": [
       "0.18734518083433538"
      ]
     },
     "execution_count": 18,
     "metadata": {},
     "output_type": "execute_result"
    },
    {
     "data": {
      "application/vnd.jupyter.widget-view+json": {
       "model_id": "a0d8c1ed5533454bbc7280a4b6910db7",
       "version_major": 2,
       "version_minor": 0
      },
      "text/plain": [
       "Builder(hide_secondary_metabolites=False, highlight_missing=True, reaction_data={'13DAMPPOX': 0.0, '1a_24_25VI…"
      ]
     },
     "metadata": {},
     "output_type": "display_data"
    }
   ],
   "source": [
    "model2=model1.copy()\n",
    "# Kncoking gene 'HGNC:8582' to simulate the PKU patients\n",
    "model2.genes.get_by_id('HGNC:8582').knock_out()\n",
    "# Phenylpyruvate production in the brain and Liver are limited and Phe-activated.\n",
    "model2.reactions.get_by_id('PHPYRte_INB').lower_bound=-0.1\n",
    "model2.reactions.get_by_id('PHPYRte').lower_bound=-0.1\n",
    "sol = model2.optimize()\n",
    "sol.objective_value\n",
    "b = show_map(sol,map_loc)\n",
    "b"
   ]
  },
  {
   "cell_type": "code",
   "execution_count": 19,
   "metadata": {},
   "outputs": [
    {
     "data": {
      "text/plain": [
       "0.18734518083433543"
      ]
     },
     "execution_count": 19,
     "metadata": {},
     "output_type": "execute_result"
    },
    {
     "data": {
      "application/vnd.jupyter.widget-view+json": {
       "model_id": "9114e6813e454c4c851f4cbc8c828be4",
       "version_major": 2,
       "version_minor": 0
      },
      "text/plain": [
       "Builder(hide_secondary_metabolites=False, highlight_missing=True, reaction_data={'13DAMPPOX': 0.0, '1a_24_25VI…"
      ]
     },
     "metadata": {},
     "output_type": "display_data"
    }
   ],
   "source": [
    "## Adding more tyrosine\n",
    "model3=model2.copy()\n",
    "model3.reactions.EX_tyr_L_e.lower_bound=-0.2\n",
    "sol = model3.optimize()\n",
    "sol.objective_value\n",
    "b = show_map(sol,map_loc)\n",
    "b"
   ]
  },
  {
   "cell_type": "code",
   "execution_count": 20,
   "metadata": {},
   "outputs": [
    {
     "data": {
      "text/plain": [
       "0.2547554000000001"
      ]
     },
     "execution_count": 20,
     "metadata": {},
     "output_type": "execute_result"
    },
    {
     "data": {
      "application/vnd.jupyter.widget-view+json": {
       "model_id": "f607bf883e804544a840d2f7cd5bed2d",
       "version_major": 2,
       "version_minor": 0
      },
      "text/plain": [
       "Builder(hide_secondary_metabolites=False, highlight_missing=True, reaction_data={'13DAMPPOX': 0.0, '1a_24_25VI…"
      ]
     },
     "metadata": {},
     "output_type": "display_data"
    }
   ],
   "source": [
    "## Only Phe deprivation\n",
    "model4=model2.copy()\n",
    "model4.reactions.EX_phe_L_e.upper_bound=-0.04\n",
    "model4.reactions.EX_phe_L_e.lower_bound=-0.04\n",
    "sol = model4.optimize()\n",
    "sol.objective_value\n",
    "b = show_map(sol,map_loc)\n",
    "b"
   ]
  },
  {
   "cell_type": "code",
   "execution_count": 21,
   "metadata": {},
   "outputs": [
    {
     "data": {
      "text/plain": [
       "0.2547554000000001"
      ]
     },
     "execution_count": 21,
     "metadata": {},
     "output_type": "execute_result"
    },
    {
     "data": {
      "application/vnd.jupyter.widget-view+json": {
       "model_id": "f91648c4a186468f99ca691ca9403ffc",
       "version_major": 2,
       "version_minor": 0
      },
      "text/plain": [
       "Builder(hide_secondary_metabolites=False, highlight_missing=True, reaction_data={'13DAMPPOX': 0.0, '1a_24_25VI…"
      ]
     },
     "metadata": {},
     "output_type": "display_data"
    }
   ],
   "source": [
    "## Phe deprivation and Tyr addition\n",
    "model3.reactions.EX_phe_L_e.upper_bound=-0.04\n",
    "model3.reactions.EX_phe_L_e.lower_bound=-0.04\n",
    "sol = model3.optimize()\n",
    "sol.objective_value\n",
    "b = show_map(sol,map_loc)\n",
    "b"
   ]
  },
  {
   "cell_type": "markdown",
   "metadata": {},
   "source": [
    "# Competitive Model [Toxicity mechanism only]"
   ]
  },
  {
   "cell_type": "markdown",
   "metadata": {},
   "source": [
    "## Tyrosine is enough for producing 0.15 biomass"
   ]
  },
  {
   "cell_type": "code",
   "execution_count": 22,
   "metadata": {},
   "outputs": [],
   "source": [
    "import cobra\n",
    "import pandas as pd\n",
    "import numpy as np\n",
    "import pickle\n",
    "from cobra.flux_analysis import pfba\n",
    "model=M1.copy()"
   ]
  },
  {
   "cell_type": "code",
   "execution_count": 23,
   "metadata": {},
   "outputs": [],
   "source": [
    "# import map visualization tools\n",
    "from utils import show_map\n",
    "import escher\n",
    "map_loc = 'Recon2.2plusthreeCompetitiveMap.json' # the escher map used below\n",
    "# show all output\n",
    "from IPython.core.interactiveshell import InteractiveShell\n",
    "InteractiveShell.ast_node_interactivity = \"all\""
   ]
  },
  {
   "cell_type": "code",
   "execution_count": 24,
   "metadata": {},
   "outputs": [],
   "source": [
    "# Setting objective function: biomass reaction in the brain + dopamine production + serotonin production\n",
    "quadratic_objective = model.problem.Objective(model.reactions.biomass_reaction_INB.flux_expression+\n",
    "                                              model.reactions.get_by_id('3HLYTCL_INB').flux_expression+\n",
    "                                              model.reactions.get_by_id('5HLTDL_INB').flux_expression,\n",
    "    direction='max')\n",
    "model.objective = quadratic_objective"
   ]
  },
  {
   "cell_type": "code",
   "execution_count": 25,
   "metadata": {},
   "outputs": [],
   "source": [
    "# Changing the phe and tyr in the medium\n",
    "model.reactions.EX_phe_L_e.lower_bound=-0.2\n",
    "model.reactions.EX_phe_L_e.upper_bound=-0.2\n",
    "model.reactions.EX_tyr_L_e.lower_bound=-0.04"
   ]
  },
  {
   "cell_type": "code",
   "execution_count": 26,
   "metadata": {},
   "outputs": [
    {
     "data": {
      "text/plain": [
       "0.26800409999999997"
      ]
     },
     "execution_count": 26,
     "metadata": {},
     "output_type": "execute_result"
    },
    {
     "data": {
      "application/vnd.jupyter.widget-view+json": {
       "model_id": "5a074bc7a51743608d61725c90209459",
       "version_major": 2,
       "version_minor": 0
      },
      "text/plain": [
       "Builder(hide_secondary_metabolites=False, highlight_missing=True, reaction_data={'13DAMPPOX': 0.0, '1a_24_25VI…"
      ]
     },
     "metadata": {},
     "output_type": "display_data"
    }
   ],
   "source": [
    "## Other reactions to produce l-dopa is forbidded\n",
    "model.reactions.TYRDOPO_INB.upper_bound=0\n",
    "model.reactions.TYR3MO2_INB.upper_bound=0\n",
    "## liver biomass is constant\n",
    "model.reactions.biomass_reaction.lower_bound=0.05\n",
    "model.reactions.biomass_reaction.upper_bound=0.05\n",
    "model.reactions.biomass_reaction_INB.upper_bound=0.1\n",
    "# minimal serotonin production\n",
    "model.reactions.get_by_id('5HLTDL_INB').lower_bound=0.095\n",
    "# Phenylpyruvate production in the brain and Liver are limited\n",
    "model.reactions.get_by_id('PHPYRte_INB').lower_bound=0\n",
    "model.reactions.get_by_id('PHPYRte').lower_bound=0\n",
    "# Phe secretion in the blood is blocked, otherwise there is no competition.\n",
    "model.reactions.EX_phe_L_BD.upper_bound=0\n",
    "### No PAH in the brain\n",
    "model.reactions.PHETHPTOX2_INB.lower_bound=0\n",
    "model.reactions.PHETHPTOX2_INB.upper_bound=0\n",
    "model.reactions.r0399_INB.lower_bound=0\n",
    "model.reactions.r0399_INB.upper_bound=0\n",
    "### Tyrosine hydroxylase\n",
    "# model.reactions.EX_TH_B_INB.upper_bound=1000\n",
    "model.reactions.get_by_id('34dhpheTR_TOBD').upper_bound=0 ##No levodopa from liver to blood.\n",
    "### Tyrosine hydroxylase competition\n",
    "model.reactions.TH_AToB_INB.upper_bound=0.07\n",
    "model.reactions.PhePde_INB.upper_bound=0.02\n",
    "#\n",
    "model.solver='glpk'\n",
    "sol = model.optimize()\n",
    "sol.objective_value\n",
    "fbasol = model.optimize()\n",
    "b = show_map(fbasol,map_loc)\n",
    "b"
   ]
  },
  {
   "cell_type": "code",
   "execution_count": 27,
   "metadata": {},
   "outputs": [
    {
     "name": "stdout",
     "output_type": "stream",
     "text": [
      "0.10392741791710691\n"
     ]
    },
    {
     "data": {
      "text/plain": [
       "0.2130041"
      ]
     },
     "execution_count": 27,
     "metadata": {},
     "output_type": "execute_result"
    },
    {
     "data": {
      "application/vnd.jupyter.widget-view+json": {
       "model_id": "6bf2af33fe074b8092eda9f66ff4e50c",
       "version_major": 2,
       "version_minor": 0
      },
      "text/plain": [
       "Builder(hide_secondary_metabolites=False, highlight_missing=True, reaction_data={'13DAMPPOX': 0.03906, '1a_24_…"
      ]
     },
     "metadata": {},
     "output_type": "display_data"
    }
   ],
   "source": [
    "model1=model.copy()\n",
    "# Kncoking gene 'HGNC:8582' to simulate the PKU patients\n",
    "model1.genes.get_by_id('HGNC:8582').knock_out()\n",
    "# Phenylpyruvate production in the brain and Liver are activated by high Phe concentration\n",
    "model1.reactions.get_by_id('PHPYRte_INB').lower_bound=-0.1\n",
    "model1.reactions.get_by_id('PHPYRte').lower_bound=-0.1\n",
    "model1.reactions.PhePde_INB.upper_bound=0.02\n",
    "sol = model1.optimize()\n",
    "fluxP=sol.fluxes.loc['PheTR_TOB']\n",
    "print(fluxP)\n",
    "if fluxP>=0.08:\n",
    "    model1.reactions.Phe_TH_INB.lower_bound=0.055\n",
    "sol = model1.optimize()    \n",
    "sol.objective_value\n",
    "b = show_map(sol,map_loc)\n",
    "b"
   ]
  },
  {
   "cell_type": "code",
   "execution_count": 28,
   "metadata": {},
   "outputs": [
    {
     "data": {
      "text/plain": [
       "0.2130041"
      ]
     },
     "execution_count": 28,
     "metadata": {},
     "output_type": "execute_result"
    },
    {
     "data": {
      "application/vnd.jupyter.widget-view+json": {
       "model_id": "324b42d091a2493aa0482e382314b9ce",
       "version_major": 2,
       "version_minor": 0
      },
      "text/plain": [
       "Builder(hide_secondary_metabolites=False, highlight_missing=True, reaction_data={'13DAMPPOX': 0.0, '1a_24_25VI…"
      ]
     },
     "metadata": {},
     "output_type": "display_data"
    }
   ],
   "source": [
    "### Tyr supplementation alone\n",
    "model2=model1.copy()\n",
    "model2.reactions.EX_tyr_L_e.lower_bound=-0.1\n",
    "sol = model2.optimize()\n",
    "sol.objective_value\n",
    "b = show_map(sol,map_loc)\n",
    "b"
   ]
  },
  {
   "cell_type": "code",
   "execution_count": 29,
   "metadata": {},
   "outputs": [
    {
     "data": {
      "text/plain": [
       "0.26800409999999997"
      ]
     },
     "execution_count": 29,
     "metadata": {},
     "output_type": "execute_result"
    },
    {
     "data": {
      "application/vnd.jupyter.widget-view+json": {
       "model_id": "c725ede34e854cd9a29d76bb49ca897a",
       "version_major": 2,
       "version_minor": 0
      },
      "text/plain": [
       "Builder(hide_secondary_metabolites=False, highlight_missing=True, reaction_data={'13DAMPPOX': 0.0, '1a_24_25VI…"
      ]
     },
     "metadata": {},
     "output_type": "display_data"
    }
   ],
   "source": [
    "### Phe deprivation and Tyr supplementation\n",
    "model3=model2.copy()\n",
    "model3.reactions.Phe_TH_INB.lower_bound=0\n",
    "model3.reactions.EX_phe_L_e.upper_bound=-0.04\n",
    "model3.reactions.EX_phe_L_e.lower_bound=-0.04\n",
    "sol = model3.optimize()\n",
    "sol.objective_value\n",
    "fbasol = model3.optimize()\n",
    "b = show_map(fbasol,map_loc)\n",
    "b"
   ]
  },
  {
   "cell_type": "code",
   "execution_count": 30,
   "metadata": {},
   "outputs": [
    {
     "data": {
      "text/plain": [
       "0.21405359999999996"
      ]
     },
     "execution_count": 30,
     "metadata": {},
     "output_type": "execute_result"
    },
    {
     "data": {
      "application/vnd.jupyter.widget-view+json": {
       "model_id": "5ab88b7b0f45479fb04ac334cc4bb964",
       "version_major": 2,
       "version_minor": 0
      },
      "text/plain": [
       "Builder(hide_secondary_metabolites=False, highlight_missing=True, reaction_data={'13DAMPPOX': 0.0, '1a_24_25VI…"
      ]
     },
     "metadata": {},
     "output_type": "display_data"
    }
   ],
   "source": [
    "## Phe deprivation alone\n",
    "model5=model1.copy()\n",
    "model5.reactions.Phe_TH_INB.lower_bound=0\n",
    "model5.reactions.EX_phe_L_e.upper_bound=-0.04\n",
    "model5.reactions.EX_phe_L_e.lower_bound=-0.04\n",
    "sol = model5.optimize()\n",
    "sol.objective_value\n",
    "b = show_map(sol,map_loc)\n",
    "b"
   ]
  },
  {
   "cell_type": "markdown",
   "metadata": {},
   "source": [
    "## Tyrosine is not enough for producing 0.15 biomass"
   ]
  },
  {
   "cell_type": "code",
   "execution_count": 31,
   "metadata": {},
   "outputs": [],
   "source": [
    "import cobra\n",
    "import pandas as pd\n",
    "import numpy as np\n",
    "import pickle\n",
    "from cobra.flux_analysis import pfba\n",
    "model=M1.copy()"
   ]
  },
  {
   "cell_type": "code",
   "execution_count": 32,
   "metadata": {},
   "outputs": [],
   "source": [
    "# import map visualization tools\n",
    "from utils import show_map\n",
    "import escher\n",
    "map_loc = 'Recon2.2plusthreeCompetitiveMap.json' # the escher map used below\n",
    "# show all output\n",
    "from IPython.core.interactiveshell import InteractiveShell\n",
    "InteractiveShell.ast_node_interactivity = \"all\""
   ]
  },
  {
   "cell_type": "code",
   "execution_count": 33,
   "metadata": {},
   "outputs": [],
   "source": [
    "# Setting objective function: biomass reaction in the brain + dopamine production + serotonin production\n",
    "quadratic_objective = model.problem.Objective(model.reactions.biomass_reaction_INB.flux_expression+\n",
    "                                              model.reactions.get_by_id('3HLYTCL_INB').flux_expression+\n",
    "                                              model.reactions.get_by_id('5HLTDL_INB').flux_expression,\n",
    "    direction='max')\n",
    "model.objective = quadratic_objective"
   ]
  },
  {
   "cell_type": "code",
   "execution_count": 34,
   "metadata": {},
   "outputs": [],
   "source": [
    "# Changing the phe and tyr in the medium\n",
    "model.reactions.EX_phe_L_e.lower_bound=-0.2\n",
    "model.reactions.EX_phe_L_e.upper_bound=-0.2\n",
    "model.reactions.EX_tyr_L_e.lower_bound=-0.02"
   ]
  },
  {
   "cell_type": "code",
   "execution_count": 35,
   "metadata": {},
   "outputs": [
    {
     "data": {
      "text/plain": [
       "0.26800409999999997"
      ]
     },
     "execution_count": 35,
     "metadata": {},
     "output_type": "execute_result"
    },
    {
     "data": {
      "application/vnd.jupyter.widget-view+json": {
       "model_id": "36baed08c2f646fb973e2b26312e0aa8",
       "version_major": 2,
       "version_minor": 0
      },
      "text/plain": [
       "Builder(hide_secondary_metabolites=False, highlight_missing=True, reaction_data={'13DAMPPOX': 0.0, '1a_24_25VI…"
      ]
     },
     "metadata": {},
     "output_type": "display_data"
    }
   ],
   "source": [
    "## Other reactions to produce l-dopa is forbidded\n",
    "model.reactions.TYRDOPO_INB.upper_bound=0\n",
    "model.reactions.TYR3MO2_INB.upper_bound=0\n",
    "## liver biomass is constant\n",
    "model.reactions.biomass_reaction.lower_bound=0.05\n",
    "model.reactions.biomass_reaction.upper_bound=0.05\n",
    "model.reactions.biomass_reaction_INB.upper_bound=0.1\n",
    "# minimal serotonin production\n",
    "model.reactions.get_by_id('5HLTDL_INB').lower_bound=0.095\n",
    "# Phenylpyruvate production in the brain and Liver are limited\n",
    "model.reactions.get_by_id('PHPYRte_INB').lower_bound=0\n",
    "model.reactions.get_by_id('PHPYRte').lower_bound=0\n",
    "# Phe secretion in the blood is blocked, otherwise there is no competition.\n",
    "model.reactions.EX_phe_L_BD.upper_bound=0\n",
    "### No PAH in the brain\n",
    "model.reactions.PHETHPTOX2_INB.lower_bound=0\n",
    "model.reactions.PHETHPTOX2_INB.upper_bound=0\n",
    "model.reactions.r0399_INB.lower_bound=0\n",
    "model.reactions.r0399_INB.upper_bound=0\n",
    "### Tyrosine hydroxylase\n",
    "# model.reactions.EX_TH_B_INB.upper_bound=1000\n",
    "model.reactions.get_by_id('34dhpheTR_TOBD').upper_bound=0 ##No levodopa from liver to blood.\n",
    "### Tyrosine hydroxylase competition\n",
    "model.reactions.TH_AToB_INB.upper_bound=0.07\n",
    "model.reactions.PhePde_INB.upper_bound=0.02\n",
    "#\n",
    "model.solver='glpk'\n",
    "sol = model.optimize()\n",
    "sol.objective_value\n",
    "fbasol = model.optimize()\n",
    "b = show_map(fbasol,map_loc)\n",
    "b"
   ]
  },
  {
   "cell_type": "code",
   "execution_count": 36,
   "metadata": {},
   "outputs": [
    {
     "name": "stdout",
     "output_type": "stream",
     "text": [
      "0.08702650000000005\n"
     ]
    },
    {
     "data": {
      "text/plain": [
       "0.17359165779420038"
      ]
     },
     "execution_count": 36,
     "metadata": {},
     "output_type": "execute_result"
    },
    {
     "data": {
      "application/vnd.jupyter.widget-view+json": {
       "model_id": "2a4337c9df2f413ebd73572223e07d9e",
       "version_major": 2,
       "version_minor": 0
      },
      "text/plain": [
       "Builder(hide_secondary_metabolites=False, highlight_missing=True, reaction_data={'13DAMPPOX': 0.0, '1a_24_25VI…"
      ]
     },
     "metadata": {},
     "output_type": "display_data"
    }
   ],
   "source": [
    "model1=model.copy()\n",
    "# Kncoking gene 'HGNC:8582' to simulate the PKU patients\n",
    "model1.genes.get_by_id('HGNC:8582').knock_out()\n",
    "# Phenylpyruvate production in the brain and Liver are activated by high Phe concentration\n",
    "model1.reactions.get_by_id('PHPYRte_INB').lower_bound=-0.1\n",
    "model1.reactions.get_by_id('PHPYRte').lower_bound=-0.1\n",
    "model1.reactions.PhePde_INB.upper_bound=0.02\n",
    "sol = model1.optimize()\n",
    "fluxP=sol.fluxes.loc['PheTR_TOB']\n",
    "print(fluxP)\n",
    "if fluxP>=0.08:\n",
    "    model1.reactions.Phe_TH_INB.lower_bound=0.055\n",
    "sol = model1.optimize()    \n",
    "sol.objective_value\n",
    "b = show_map(sol,map_loc)\n",
    "b"
   ]
  },
  {
   "cell_type": "code",
   "execution_count": 37,
   "metadata": {},
   "outputs": [
    {
     "data": {
      "text/plain": [
       "0.21300409999999997"
      ]
     },
     "execution_count": 37,
     "metadata": {},
     "output_type": "execute_result"
    },
    {
     "data": {
      "application/vnd.jupyter.widget-view+json": {
       "model_id": "1a57ddbc0617435498d531f70ffb04be",
       "version_major": 2,
       "version_minor": 0
      },
      "text/plain": [
       "Builder(hide_secondary_metabolites=False, highlight_missing=True, reaction_data={'13DAMPPOX': 0.0, '1a_24_25VI…"
      ]
     },
     "metadata": {},
     "output_type": "display_data"
    }
   ],
   "source": [
    "### Tyr supplementation alone\n",
    "model2=model1.copy()\n",
    "model2.reactions.EX_tyr_L_e.lower_bound=-0.1\n",
    "sol = model2.optimize()\n",
    "sol.objective_value\n",
    "b = show_map(sol,map_loc)\n",
    "b"
   ]
  },
  {
   "cell_type": "code",
   "execution_count": 38,
   "metadata": {},
   "outputs": [
    {
     "data": {
      "text/plain": [
       "0.26800409999999997"
      ]
     },
     "execution_count": 38,
     "metadata": {},
     "output_type": "execute_result"
    },
    {
     "data": {
      "application/vnd.jupyter.widget-view+json": {
       "model_id": "92aca551f126400cae3d579049789264",
       "version_major": 2,
       "version_minor": 0
      },
      "text/plain": [
       "Builder(hide_secondary_metabolites=False, highlight_missing=True, reaction_data={'13DAMPPOX': 0.0, '1a_24_25VI…"
      ]
     },
     "metadata": {},
     "output_type": "display_data"
    }
   ],
   "source": [
    "### Phe deprivation and Tyr supplementation\n",
    "model3=model2.copy()\n",
    "model3.reactions.Phe_TH_INB.lower_bound=0\n",
    "model3.reactions.EX_phe_L_e.upper_bound=-0.04\n",
    "model3.reactions.EX_phe_L_e.lower_bound=-0.04\n",
    "sol = model3.optimize()\n",
    "sol.objective_value\n",
    "fbasol = model3.optimize()\n",
    "b = show_map(fbasol,map_loc)\n",
    "b"
   ]
  },
  {
   "cell_type": "code",
   "execution_count": 39,
   "metadata": {},
   "outputs": [
    {
     "data": {
      "text/plain": [
       "0.17359165779420035"
      ]
     },
     "execution_count": 39,
     "metadata": {},
     "output_type": "execute_result"
    },
    {
     "data": {
      "application/vnd.jupyter.widget-view+json": {
       "model_id": "7d08fee0575b4695840db6bb25a8c929",
       "version_major": 2,
       "version_minor": 0
      },
      "text/plain": [
       "Builder(hide_secondary_metabolites=False, highlight_missing=True, reaction_data={'13DAMPPOX': 0.0, '1a_24_25VI…"
      ]
     },
     "metadata": {},
     "output_type": "display_data"
    }
   ],
   "source": [
    "## Phe deprivation alone\n",
    "model5=model1.copy()\n",
    "model5.reactions.Phe_TH_INB.lower_bound=0\n",
    "model5.reactions.EX_phe_L_e.upper_bound=-0.04\n",
    "model5.reactions.EX_phe_L_e.lower_bound=-0.04\n",
    "sol = model5.optimize()\n",
    "sol.objective_value\n",
    "b = show_map(sol,map_loc)\n",
    "b"
   ]
  },
  {
   "cell_type": "code",
   "execution_count": null,
   "metadata": {},
   "outputs": [],
   "source": []
  },
  {
   "cell_type": "markdown",
   "metadata": {},
   "source": [
    "##Tyrosine is not enough for total biomass synthesis: Toxicity mechanism could not describe the biomass synthesis (protein synthesis) in the brain when we add more tyrosine for PKU diseae.\n",
    "Tyrosine is enough for total biomass synthesis: Toxicity mechanism could not describe the effective of Phe deprivation alone.\n",
    "So, at least only toxicity mechanism could not add PKU disease."
   ]
  },
  {
   "cell_type": "markdown",
   "metadata": {},
   "source": [
    "# Compating the results from two mechanism or only transport competitive"
   ]
  },
  {
   "cell_type": "markdown",
   "metadata": {},
   "source": [
    "## Competitive Model [Toxicity mechanism and Competitive mechanism]"
   ]
  },
  {
   "cell_type": "markdown",
   "metadata": {},
   "source": [
    "###Dopamine is more important than serotonin for objective function. We did not set the minimal serotonin production in the model."
   ]
  },
  {
   "cell_type": "code",
   "execution_count": 40,
   "metadata": {},
   "outputs": [],
   "source": [
    "import cobra\n",
    "import pandas as pd\n",
    "import numpy as np\n",
    "import pickle\n",
    "from cobra.flux_analysis import pfba\n",
    "model=M1.copy()"
   ]
  },
  {
   "cell_type": "code",
   "execution_count": 41,
   "metadata": {},
   "outputs": [],
   "source": [
    "# import map visualization tools\n",
    "from utils import show_map\n",
    "import escher\n",
    "map_loc = 'Recon2.2plusthreeCompetitiveMap.json' # the escher map used below\n",
    "# show all output\n",
    "from IPython.core.interactiveshell import InteractiveShell\n",
    "InteractiveShell.ast_node_interactivity = \"all\""
   ]
  },
  {
   "cell_type": "code",
   "execution_count": 42,
   "metadata": {},
   "outputs": [],
   "source": [
    "# Setting objective function: biomass reaction in the brain + dopamine production + serotonin production\n",
    "quadratic_objective = model.problem.Objective(model.reactions.biomass_reaction_INB.flux_expression+\n",
    "                                              2*model.reactions.get_by_id('3HLYTCL_INB').flux_expression+\n",
    "                                              model.reactions.get_by_id('5HLTDL_INB').flux_expression,\n",
    "    direction='max')\n",
    "model.objective = quadratic_objective"
   ]
  },
  {
   "cell_type": "code",
   "execution_count": 43,
   "metadata": {},
   "outputs": [],
   "source": [
    "# Changing the phe and tyr in the medium\n",
    "model.reactions.EX_phe_L_e.lower_bound=-0.2\n",
    "model.reactions.EX_phe_L_e.upper_bound=-0.2\n",
    "model.reactions.EX_tyr_L_e.lower_bound=-0.04"
   ]
  },
  {
   "cell_type": "code",
   "execution_count": 45,
   "metadata": {},
   "outputs": [
    {
     "data": {
      "text/plain": [
       "0.3247554"
      ]
     },
     "execution_count": 45,
     "metadata": {},
     "output_type": "execute_result"
    },
    {
     "data": {
      "application/vnd.jupyter.widget-view+json": {
       "model_id": "8b7bb264444d4f0780b4868c854f2b1d",
       "version_major": 2,
       "version_minor": 0
      },
      "text/plain": [
       "Builder(hide_secondary_metabolites=False, highlight_missing=True, reaction_data={'13DAMPPOX': 0.0, '1a_24_25VI…"
      ]
     },
     "metadata": {},
     "output_type": "display_data"
    }
   ],
   "source": [
    "## Other reactions to produce l-dopa is forbidded\n",
    "model.reactions.TYRDOPO_INB.upper_bound=0\n",
    "model.reactions.TYR3MO2_INB.upper_bound=0\n",
    "## liver biomass is constant\n",
    "model.reactions.biomass_reaction.lower_bound=0.05\n",
    "model.reactions.biomass_reaction.upper_bound=0.05\n",
    "model.reactions.biomass_reaction_INB.upper_bound=0.1\n",
    "# minimal serotonin production\n",
    "# model.reactions.get_by_id('5HLTDL_INB').lower_bound=0.0848\n",
    "# Phe secretion in the blood is blocked, otherwise there is no competition.\n",
    "model.reactions.EX_phe_L_BD.upper_bound=0\n",
    "# Phenylpyruvate production in the brain and Liver are limited\n",
    "model.reactions.get_by_id('PHPYRte_INB').lower_bound=0\n",
    "model.reactions.get_by_id('PHPYRte').lower_bound=0\n",
    "### No PAH in the brain\n",
    "model.reactions.PHETHPTOX2_INB.lower_bound=0\n",
    "model.reactions.PHETHPTOX2_INB.upper_bound=0\n",
    "model.reactions.r0399_INB.lower_bound=0\n",
    "model.reactions.r0399_INB.upper_bound=0\n",
    "### Tyrosine hydroxylase\n",
    "# model.reactions.EX_TH_B_INB.upper_bound=1000\n",
    "model.reactions.get_by_id('34dhpheTR_TOBD').upper_bound=0 ##No levodopa from liver to blood.\n",
    "model.reactions.Ti1_To1.upper_bound=0.198\n",
    "### Tyrosine hydroxylase competition\n",
    "model.reactions.TH_AToB_INB.upper_bound=0.07\n",
    "model.reactions.PhePde_INB.upper_bound=0.02\n",
    "model.solver='glpk'\n",
    "sol = model.optimize()\n",
    "sol.objective_value\n",
    "fbasol = model.optimize()\n",
    "b = show_map(fbasol,map_loc)\n",
    "b"
   ]
  },
  {
   "cell_type": "code",
   "execution_count": 46,
   "metadata": {},
   "outputs": [
    {
     "name": "stdout",
     "output_type": "stream",
     "text": [
      "0.08702649999999995\n"
     ]
    },
    {
     "data": {
      "text/plain": [
       "0.20867590000000008"
      ]
     },
     "execution_count": 46,
     "metadata": {},
     "output_type": "execute_result"
    },
    {
     "data": {
      "application/vnd.jupyter.widget-view+json": {
       "model_id": "dddf3eddbe854755bac4501ad5ab6fe5",
       "version_major": 2,
       "version_minor": 0
      },
      "text/plain": [
       "Builder(hide_secondary_metabolites=False, highlight_missing=True, reaction_data={'13DAMPPOX': 0.0, '1a_24_25VI…"
      ]
     },
     "metadata": {},
     "output_type": "display_data"
    }
   ],
   "source": [
    "model1=model.copy()\n",
    "# Kncoking gene 'HGNC:8582' to simulate the PKU patients\n",
    "model1.genes.get_by_id('HGNC:8582').knock_out()\n",
    "model1.reactions.get_by_id('PHPYRte_INB').lower_bound=-0.1\n",
    "model1.reactions.get_by_id('PHPYRte').lower_bound=-0.1\n",
    "sol = model1.optimize()\n",
    "fluxP=sol.fluxes.loc['PheTR_TOB']\n",
    "print(fluxP)\n",
    "if fluxP>=0.08:\n",
    "    model1.reactions.Phe_TH_INB.lower_bound=0.055\n",
    "sol = model1.optimize()\n",
    "sol.objective_value\n",
    "fbasol = model1.optimize()\n",
    "b = show_map(fbasol,map_loc)\n",
    "b"
   ]
  },
  {
   "cell_type": "code",
   "execution_count": 47,
   "metadata": {},
   "outputs": [
    {
     "data": {
      "text/plain": [
       "0.2086759"
      ]
     },
     "execution_count": 47,
     "metadata": {},
     "output_type": "execute_result"
    },
    {
     "data": {
      "application/vnd.jupyter.widget-view+json": {
       "model_id": "df76b6fee2794c4d942ad46a0231ecd6",
       "version_major": 2,
       "version_minor": 0
      },
      "text/plain": [
       "Builder(hide_secondary_metabolites=False, highlight_missing=True, reaction_data={'13DAMPPOX': 0.0, '1a_24_25VI…"
      ]
     },
     "metadata": {},
     "output_type": "display_data"
    }
   ],
   "source": [
    "model2=model1.copy()\n",
    "model2.reactions.EX_tyr_L_e.lower_bound=-0.1\n",
    "sol = model2.optimize()\n",
    "sol.objective_value\n",
    "b = show_map(sol,map_loc)\n",
    "b"
   ]
  },
  {
   "cell_type": "markdown",
   "metadata": {},
   "source": [
    "##Now we found only Tyr supplementation is useless even dopamine is more important in the system."
   ]
  },
  {
   "cell_type": "markdown",
   "metadata": {},
   "source": [
    "## Try supplementation for only Transport competitive mechanism"
   ]
  },
  {
   "cell_type": "code",
   "execution_count": 48,
   "metadata": {},
   "outputs": [
    {
     "data": {
      "text/plain": [
       "0.20972539999999995"
      ]
     },
     "execution_count": 48,
     "metadata": {},
     "output_type": "execute_result"
    },
    {
     "data": {
      "application/vnd.jupyter.widget-view+json": {
       "model_id": "71b41352910b4f6b8c78b613a5a805ae",
       "version_major": 2,
       "version_minor": 0
      },
      "text/plain": [
       "Builder(hide_secondary_metabolites=False, highlight_missing=True, reaction_data={'13DAMPPOX': 0.0, '1a_24_25VI…"
      ]
     },
     "metadata": {},
     "output_type": "display_data"
    }
   ],
   "source": [
    "model3=model.copy()\n",
    "model3.genes.get_by_id('HGNC:8582').knock_out()\n",
    "model3.reactions.get_by_id('PHPYRte_INB').lower_bound=-0.1\n",
    "model3.reactions.get_by_id('PHPYRte').lower_bound=-0.1\n",
    "model3.reactions.Phe_TH_INB.upper_bound=0\n",
    "sol = model3.optimize()\n",
    "sol.objective_value\n",
    "fbasol = model3.optimize()\n",
    "b = show_map(fbasol,map_loc)\n",
    "b"
   ]
  },
  {
   "cell_type": "code",
   "execution_count": 49,
   "metadata": {},
   "outputs": [
    {
     "data": {
      "text/plain": [
       "0.26367589999999996"
      ]
     },
     "execution_count": 49,
     "metadata": {},
     "output_type": "execute_result"
    },
    {
     "data": {
      "application/vnd.jupyter.widget-view+json": {
       "model_id": "c5c3fcec1ea742448722099ab4034df0",
       "version_major": 2,
       "version_minor": 0
      },
      "text/plain": [
       "Builder(hide_secondary_metabolites=False, highlight_missing=True, reaction_data={'13DAMPPOX': 0.0, '1a_24_25VI…"
      ]
     },
     "metadata": {},
     "output_type": "display_data"
    }
   ],
   "source": [
    "model3.reactions.EX_tyr_L_e.lower_bound=-0.1\n",
    "sol = model3.optimize()\n",
    "sol.objective_value\n",
    "b = show_map(sol,map_loc)\n",
    "b"
   ]
  },
  {
   "cell_type": "code",
   "execution_count": null,
   "metadata": {},
   "outputs": [],
   "source": []
  }
 ],
 "metadata": {
  "kernelspec": {
   "display_name": "Python 3 (ipykernel)",
   "language": "python",
   "name": "python3"
  },
  "language_info": {
   "codemirror_mode": {
    "name": "ipython",
    "version": 3
   },
   "file_extension": ".py",
   "mimetype": "text/x-python",
   "name": "python",
   "nbconvert_exporter": "python",
   "pygments_lexer": "ipython3",
   "version": "3.10.6"
  },
  "toc": {
   "base_numbering": 1,
   "nav_menu": {},
   "number_sections": true,
   "sideBar": true,
   "skip_h1_title": false,
   "title_cell": "Table of Contents",
   "title_sidebar": "Contents",
   "toc_cell": false,
   "toc_position": {
    "height": "540px",
    "left": "318px",
    "top": "156px",
    "width": "168px"
   },
   "toc_section_display": true,
   "toc_window_display": true
  },
  "varInspector": {
   "cols": {
    "lenName": 16,
    "lenType": 16,
    "lenVar": 40
   },
   "kernels_config": {
    "python": {
     "delete_cmd_postfix": "",
     "delete_cmd_prefix": "del ",
     "library": "var_list.py",
     "varRefreshCmd": "print(var_dic_list())"
    },
    "r": {
     "delete_cmd_postfix": ") ",
     "delete_cmd_prefix": "rm(",
     "library": "var_list.r",
     "varRefreshCmd": "cat(var_dic_list()) "
    }
   },
   "types_to_exclude": [
    "module",
    "function",
    "builtin_function_or_method",
    "instance",
    "_Feature"
   ],
   "window_display": false
  }
 },
 "nbformat": 4,
 "nbformat_minor": 2
}
