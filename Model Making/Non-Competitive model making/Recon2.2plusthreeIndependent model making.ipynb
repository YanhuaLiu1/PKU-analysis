{
 "cells": [
  {
   "cell_type": "markdown",
   "metadata": {},
   "source": [
    "# Recon2.2plusthreeCompetitionII.json [Competitive mechanism only]"
   ]
  },
  {
   "cell_type": "markdown",
   "metadata": {},
   "source": [
    "##Changing medium"
   ]
  },
  {
   "cell_type": "code",
   "execution_count": 1,
   "metadata": {},
   "outputs": [],
   "source": [
    "import cobra\n",
    "import pandas as pd\n",
    "import numpy as np\n",
    "import pickle\n",
    "from cobra.flux_analysis import pfba\n",
    "from utils import findBiomarkers"
   ]
  },
  {
   "cell_type": "code",
   "execution_count": 2,
   "metadata": {},
   "outputs": [
    {
     "name": "stdout",
     "output_type": "stream",
     "text": [
      "Scaling...\n",
      " A: min|aij| =  1.000e+00  max|aij| =  1.000e+00  ratio =  1.000e+00\n",
      "Problem data seem to be well scaled\n"
     ]
    }
   ],
   "source": [
    "M1 = cobra.io.load_json_model('Recon2.2plusthreeIndependent(previous).json')"
   ]
  },
  {
   "cell_type": "code",
   "execution_count": 3,
   "metadata": {},
   "outputs": [],
   "source": [
    "M=M1.copy()"
   ]
  },
  {
   "cell_type": "code",
   "execution_count": 4,
   "metadata": {},
   "outputs": [],
   "source": [
    "# deleting brain medium composition because this metabolite will uptake from blood\n",
    "M.reactions.EX_co2_e_INB.lower_bound=0\n",
    "M.reactions.EX_glc_e_INB.lower_bound=0\n",
    "M.reactions.EX_h_e_INB.lower_bound=0\n",
    "M.reactions.EX_h2o_e_INB.lower_bound=0\n",
    "M.reactions.EX_hco3_e_INB.lower_bound=0\n",
    "M.reactions.EX_his_L_e_INB.lower_bound=0\n",
    "M.reactions.EX_ile_L_e_INB.lower_bound=0\n",
    "M.reactions.EX_leu_L_e_INB.lower_bound=0\n",
    "M.reactions.EX_lys_L_e_INB.lower_bound=0\n",
    "M.reactions.EX_met_L_e_INB.lower_bound=0\n",
    "M.reactions.EX_nh4_e_INB.lower_bound=0\n",
    "M.reactions.EX_o2_e_INB.lower_bound=0\n",
    "M.reactions.EX_phe_L_e_INB.lower_bound=0\n",
    "M.reactions.EX_pi_e_INB.lower_bound=0\n",
    "M.reactions.EX_so4_e_INB.lower_bound=0\n",
    "M.reactions.EX_thr_L_e_INB.lower_bound=0\n",
    "M.reactions.EX_trp_L_e_INB.lower_bound=0\n",
    "M.reactions.EX_val_L_e_INB.lower_bound=0\n",
    "M.reactions.EX_hco3_e.lower_bound=0\n",
    "# deleting liver and brain secreted reactions which no metabolites could not secrete in liver and brain.\n",
    "M.reactions.EX_acac_e.upper_bound=0\n",
    "M.reactions.EX_bhb_e.upper_bound=0\n",
    "M.reactions.EX_co2_e.upper_bound=0\n",
    "M.reactions.EX_h_e.upper_bound=0\n",
    "M.reactions.EX_h2o_e.upper_bound=0\n",
    "M.reactions.EX_lac_D_e.upper_bound=0\n",
    "M.reactions.EX_lac_L_e.upper_bound=0\n",
    "M.reactions.EX_nh4_e.upper_bound=0\n",
    "M.reactions.EX_pi_e.upper_bound=0\n",
    "M.reactions.EX_so4_e.upper_bound=0\n",
    "M.reactions.EX_urea_e.upper_bound=0\n",
    "M.reactions.EX_phpyr_e.upper_bound=0\n",
    "M.reactions.EX_acac_e_INB.upper_bound=0\n",
    "M.reactions.EX_bhb_e_INB.upper_bound=0\n",
    "M.reactions.EX_co2_e_INB.upper_bound=0\n",
    "M.reactions.EX_h_e_INB.upper_bound=0\n",
    "M.reactions.EX_h2o_e_INB.upper_bound=0\n",
    "M.reactions.EX_lac_D_e_INB.upper_bound=0\n",
    "M.reactions.EX_lac_L_e_INB.upper_bound=0\n",
    "M.reactions.EX_nh4_e_INB.upper_bound=0\n",
    "M.reactions.EX_pi_e_INB.upper_bound=0\n",
    "M.reactions.EX_so4_e_INB.upper_bound=0\n",
    "M.reactions.EX_urea_e_INB.upper_bound=0\n",
    "M.reactions.EX_phpyr_e_INB.upper_bound=0"
   ]
  },
  {
   "cell_type": "code",
   "execution_count": 5,
   "metadata": {},
   "outputs": [],
   "source": [
    "M.reactions.EX_TH_B_INB.upper_bound=0"
   ]
  },
  {
   "cell_type": "code",
   "execution_count": 6,
   "metadata": {},
   "outputs": [],
   "source": [
    "### Adding the transport reaction for metabolites from liver to blood and from brain to blood\n",
    "### We assumed that they did nou use any transporters.\n",
    "MetaAddTR=['acac','bhb','co2','h','h2o','lac_D','lac_L','nh4','pi','so4','urea','dopa','adrnl','srtn']"
   ]
  },
  {
   "cell_type": "code",
   "execution_count": 7,
   "metadata": {},
   "outputs": [],
   "source": [
    "for META in MetaAddTR:\n",
    "    META_c=META + '_c'\n",
    "    META_e_INB=META + '_e'+'_INB'\n",
    "    from cobra import Model, Reaction, Metabolite\n",
    "    # Adding reaction from liver to blood\n",
    "    rxn_id = f'{META}_TOBD'\n",
    "    reaction = Reaction(rxn_id)\n",
    "    reaction.name = f'Transport reaction of {META} from liver to blood'\n",
    "    reaction.lower_bound = -1000  \n",
    "    reaction.upper_bound = 1000\n",
    "\n",
    "    # Create metabolite object\n",
    "    meta = Metabolite(f'{META}_BD', formula='', name='', compartment='blood')\n",
    "    meta2=M.metabolites.get_by_id(META_c)\n",
    "    reaction.add_metabolites({meta: 1.0, meta2:-1})\n",
    "    reaction.gene_reaction_rule = ''\n",
    "    # Add reaction to model\n",
    "    M.add_reactions([reaction])\n",
    "    \n",
    "    # Adding reaction from blood to brain\n",
    "    rxn_id = f'{META}_TOB'\n",
    "    reaction = Reaction(rxn_id)\n",
    "    reaction.name = f'Transport reaction of {META} from blood to brain'\n",
    "    reaction.lower_bound = -1000  \n",
    "    reaction.upper_bound = 1000\n",
    "\n",
    "    # Create metabolite object\n",
    "    meta = Metabolite(f'{META}_BD', formula='', name='', compartment='blood')\n",
    "    meta3=M.metabolites.get_by_id(META_e_INB)\n",
    "    reaction.add_metabolites({meta: -1.0, meta3:1})\n",
    "    reaction.gene_reaction_rule = ''\n",
    "    # Add reaction to model\n",
    "    M.add_reactions([reaction])"
   ]
  },
  {
   "cell_type": "code",
   "execution_count": 8,
   "metadata": {},
   "outputs": [
    {
     "data": {
      "text/plain": [
       "36"
      ]
     },
     "execution_count": 8,
     "metadata": {},
     "output_type": "execute_result"
    }
   ],
   "source": [
    "BloodMeta1=[meta for meta in M.metabolites if '_BD' in meta.id\n",
    "            and '34dhphe' not in meta.id \n",
    "            and 'phpyr_BD'not in meta.id and 'To' not in meta.id]\n",
    "len(BloodMeta1)"
   ]
  },
  {
   "cell_type": "code",
   "execution_count": 9,
   "metadata": {},
   "outputs": [],
   "source": [
    "### Add some exchange reactions (all together) in the blood\n",
    "for META in BloodMeta1:\n",
    "    meta_id_c = META.id\n",
    "    from cobra import Model, Reaction, Metabolite\n",
    "    # Adding exchange reaction\n",
    "    rxn_id = f'EX_{meta_id_c}'\n",
    "    reaction = Reaction(rxn_id)\n",
    "    reaction.name = f'Exchange of {meta_id_c}'\n",
    "    reaction.lower_bound = 0  \n",
    "    reaction.upper_bound = 1000\n",
    "    # Create metabolite object\n",
    "    meta=M.metabolites.get_by_id(META.id)\n",
    "    reaction.add_metabolites({meta: -1.0})\n",
    "    reaction.gene_reaction_rule = ''\n",
    "    # Add reaction to model\n",
    "    M.add_reactions([reaction])"
   ]
  },
  {
   "cell_type": "code",
   "execution_count": 10,
   "metadata": {},
   "outputs": [],
   "source": [
    "## O2 uptake from blood and not from liver, the rest medium metabolites take up from liver\n",
    "M.reactions.EX_o2_e.lower_bound=0\n",
    "M.reactions.EX_o2_BD.lower_bound=-1000"
   ]
  },
  {
   "cell_type": "code",
   "execution_count": 11,
   "metadata": {},
   "outputs": [
    {
     "data": {
      "text/plain": [
       "0.16888753778858667"
      ]
     },
     "execution_count": 11,
     "metadata": {},
     "output_type": "execute_result"
    }
   ],
   "source": [
    "M.solver='glpk'\n",
    "sol = M.optimize()\n",
    "sol.objective_value"
   ]
  },
  {
   "cell_type": "code",
   "execution_count": 12,
   "metadata": {},
   "outputs": [
    {
     "data": {
      "text/plain": [
       "38"
      ]
     },
     "execution_count": 12,
     "metadata": {},
     "output_type": "execute_result"
    }
   ],
   "source": [
    "SecretedRXN=[rxn for rxn in M.reactions if M.reactions.get_by_id(rxn.id).upper_bound>0 and 'EX_' in rxn.id]\n",
    "len(SecretedRXN)"
   ]
  },
  {
   "cell_type": "code",
   "execution_count": 13,
   "metadata": {},
   "outputs": [],
   "source": [
    "cobra.io.save_json_model(M,'Recon2.2plusthreeIndependent.json')"
   ]
  },
  {
   "cell_type": "code",
   "execution_count": null,
   "metadata": {},
   "outputs": [],
   "source": []
  }
 ],
 "metadata": {
  "kernelspec": {
   "display_name": "Python 3 (ipykernel)",
   "language": "python",
   "name": "python3"
  },
  "language_info": {
   "codemirror_mode": {
    "name": "ipython",
    "version": 3
   },
   "file_extension": ".py",
   "mimetype": "text/x-python",
   "name": "python",
   "nbconvert_exporter": "python",
   "pygments_lexer": "ipython3",
   "version": "3.10.6"
  },
  "toc": {
   "base_numbering": 1,
   "nav_menu": {},
   "number_sections": true,
   "sideBar": true,
   "skip_h1_title": false,
   "title_cell": "Table of Contents",
   "title_sidebar": "Contents",
   "toc_cell": false,
   "toc_position": {
    "height": "540px",
    "left": "318px",
    "top": "156px",
    "width": "168px"
   },
   "toc_section_display": true,
   "toc_window_display": true
  },
  "varInspector": {
   "cols": {
    "lenName": 16,
    "lenType": 16,
    "lenVar": 40
   },
   "kernels_config": {
    "python": {
     "delete_cmd_postfix": "",
     "delete_cmd_prefix": "del ",
     "library": "var_list.py",
     "varRefreshCmd": "print(var_dic_list())"
    },
    "r": {
     "delete_cmd_postfix": ") ",
     "delete_cmd_prefix": "rm(",
     "library": "var_list.r",
     "varRefreshCmd": "cat(var_dic_list()) "
    }
   },
   "types_to_exclude": [
    "module",
    "function",
    "builtin_function_or_method",
    "instance",
    "_Feature"
   ],
   "window_display": false
  }
 },
 "nbformat": 4,
 "nbformat_minor": 2
}
