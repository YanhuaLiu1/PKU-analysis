{
 "cells": [
  {
   "cell_type": "markdown",
   "metadata": {},
   "source": [
    "# Recon3DplusthreeCompetitive"
   ]
  },
  {
   "cell_type": "code",
   "execution_count": 1,
   "metadata": {},
   "outputs": [],
   "source": [
    "import cobra\n",
    "import pandas as pd\n",
    "import numpy as np\n",
    "import pickle\n",
    "from cobra.flux_analysis import pfba"
   ]
  },
  {
   "cell_type": "code",
   "execution_count": 2,
   "metadata": {},
   "outputs": [
    {
     "name": "stdout",
     "output_type": "stream",
     "text": [
      "Scaling...\n",
      " A: min|aij| =  1.000e+00  max|aij| =  1.000e+00  ratio =  1.000e+00\n",
      "Problem data seem to be well scaled\n"
     ]
    }
   ],
   "source": [
    "# import map visualization tools\n",
    "from utils import show_map\n",
    "import escher\n",
    "map_loc = 'Recon3DplusthreeCompetitiveforObesityMap.json' # the escher map used below\n",
    "# show all output\n",
    "from IPython.core.interactiveshell import InteractiveShell\n",
    "InteractiveShell.ast_node_interactivity = \"all\"\n",
    "\n",
    "# Load Recon2.2Model with a simplified medium for the course\n",
    "M = cobra.io.load_json_model('Recon3DplusthreeCompetitive.json')"
   ]
  },
  {
   "cell_type": "code",
   "execution_count": 3,
   "metadata": {},
   "outputs": [],
   "source": [
    "model=M.copy()"
   ]
  },
  {
   "cell_type": "code",
   "execution_count": 4,
   "metadata": {},
   "outputs": [],
   "source": [
    "phe_L_c_related=['lyspheile_TOBD','phetyr_TOBD','phetyrgln_TOBD','hisphearg_TOBD','valtrpphe_TOBD','phetyrlys_TOBD',\n",
    "                    'glyphe_TOBD','lysvalphe_TOBD','thrphearg_TOBD','argleuphe_TOBD','tyralaphe_TOBD','cysaspphe_TOBD',\n",
    "                    'argphearg_TOBD','glylysphe_TOBD','metphearg_TOBD','mettrpphe_TOBD','prophe_TOBD','pheasnmet_TOBD',\n",
    "                    'pheasp_TOBD','pheglnphe_TOBD','pheleu_TOBD','pheleuasp_TOBD','pheleuhis_TOBD','tyrphetyr_TOBD',\n",
    "                    'phelysala_TOBD','phelyspro_TOBD','tyrtrpphe_TOBD','asnpheasp_TOBD','asnphecys_TOBD','phepheasn_TOBD',\n",
    "                    'asntyrphe_TOBD','serphelys_TOBD','pheproarg_TOBD','valleuphe_TOBD','phesertrp_TOBD','lysglnphe_TOBD',\n",
    "                    'argalaphe_TOBD','phethrlys_TOBD','trpphe_TOBD','phetrpleu_TOBD','valphearg_TOBD','phephethr_TOBD',\n",
    "                'phephe_TOBD','glyphe_TOBD','trpglyphe_TOBD']\n",
    "for reaction in phe_L_c_related:\n",
    "    model.reactions.get_by_id(reaction).lower_bound=0\n",
    "    model.reactions.get_by_id(reaction).upper_bound=0"
   ]
  },
  {
   "cell_type": "code",
   "execution_count": 5,
   "metadata": {},
   "outputs": [],
   "source": [
    "# Setting objective function: biomass reaction in the brain + dopamine production + serotonin production\n",
    "quadratic_objective = model.problem.Objective(model.reactions.biomass_reaction_INB.flux_expression+\n",
    "                                              model.reactions.get_by_id('3HLYTCL_INB').flux_expression+\n",
    "                                              model.reactions.get_by_id('5HLTDL_INB').flux_expression,\n",
    "    direction='max')\n",
    "model.objective = quadratic_objective"
   ]
  },
  {
   "cell_type": "code",
   "execution_count": 6,
   "metadata": {},
   "outputs": [],
   "source": [
    "# Changing the phe and tyr in the medium, because they also use for producing dopa.\n",
    "model.reactions.EX_phe_L_e.lower_bound=-0.2\n",
    "model.reactions.EX_phe_L_e.upper_bound=-0.2\n",
    "model.reactions.EX_tyr_L_e.lower_bound=-0.1"
   ]
  },
  {
   "cell_type": "code",
   "execution_count": 7,
   "metadata": {},
   "outputs": [],
   "source": [
    "for rxn in model.metabolites.phe_L_c.reactions:\n",
    "    model.reactions.get_by_id(rxn.id).upper_bound=0\n",
    "    model.reactions.PheTR_TOBD.upper_bound=1000\n",
    "    model.reactions.biomass_reaction.upper_bound=1000\n",
    "    model.reactions.r0399.upper_bound=1000\n",
    "    model.reactions.PHETHPTOX2.upper_bound=1000"
   ]
  },
  {
   "cell_type": "code",
   "execution_count": 8,
   "metadata": {},
   "outputs": [
    {
     "data": {
      "text/plain": [
       "0.2517557"
      ]
     },
     "execution_count": 8,
     "metadata": {},
     "output_type": "execute_result"
    },
    {
     "data": {
      "application/vnd.jupyter.widget-view+json": {
       "model_id": "14018de0f43c424cb9164527b43ab557",
       "version_major": 2,
       "version_minor": 0
      },
      "text/plain": [
       "Builder(hide_secondary_metabolites=False, highlight_missing=True, reaction_data={'10FTHF5GLUtl': 0.0, '10FTHF5…"
      ]
     },
     "metadata": {},
     "output_type": "display_data"
    }
   ],
   "source": [
    "## Other reactions to produce l-dopa is forbidded\n",
    "model.reactions.TYRDOPO_INB.upper_bound=0\n",
    "model.reactions.TYR3MO2_INB.upper_bound=0\n",
    "## liver biomass is constant\n",
    "model.reactions.biomass_reaction.lower_bound=0.05\n",
    "model.reactions.biomass_reaction.upper_bound=0.05\n",
    "## do not need too much biomass in the brain\n",
    "model.reactions.biomass_reaction_INB.upper_bound=0.1\n",
    "# Phe secretion in the blood is blocked, otherwise there is no competition.\n",
    "model.reactions.EX_phe_L_BD.upper_bound=0\n",
    "# No phenylpyruvate production in the brain and liver\n",
    "model.reactions.PHETA1.upper_bound=0\n",
    "model.reactions.PHETA1_INB.upper_bound=0\n",
    "# Serotonin production\n",
    "model.reactions.get_by_id('5HLTDL_INB').lower_bound=0.095\n",
    "### No PAH in the brain\n",
    "model.reactions.PHETHPTOX2_INB.lower_bound=0\n",
    "model.reactions.PHETHPTOX2_INB.upper_bound=0\n",
    "model.reactions.r0399_INB.lower_bound=0\n",
    "model.reactions.r0399_INB.upper_bound=0\n",
    "### Tyrosine hydroxylase\n",
    "### No Tyr hydroxylase competition\n",
    "model.reactions.Phe_TH_INB.upper_bound=0\n",
    "model.reactions.PhePde_INB.upper_bound=0\n",
    "model.reactions.get_by_id('34dhpheTR_TOBD').upper_bound=0 ##No levodopa from liver to blood.\n",
    "model.reactions.Ti1_To1.upper_bound=0.195\n",
    "model.solver='glpk'\n",
    "sol = model.optimize()\n",
    "sol.objective_value\n",
    "b = show_map(sol,map_loc)\n",
    "b"
   ]
  },
  {
   "cell_type": "code",
   "execution_count": 9,
   "metadata": {},
   "outputs": [],
   "source": [
    "### Essential need for model\n",
    "model.reactions.biomass_reaction_INB.lower_bound=0.1\n",
    "model.reactions.get_by_id('3HLYTCL_INB').lower_bound=0.0567\n",
    "model.reactions.get_by_id('5HLTDL_INB').lower_bound=0.095"
   ]
  },
  {
   "cell_type": "code",
   "execution_count": 10,
   "metadata": {},
   "outputs": [
    {
     "data": {
      "text/plain": [
       "0.036507422342019015"
      ]
     },
     "execution_count": 10,
     "metadata": {},
     "output_type": "execute_result"
    }
   ],
   "source": [
    "model.objective='EX_tag_hs_BD'\n",
    "model.solver='glpk'\n",
    "sol = model.optimize()\n",
    "sol.objective_value"
   ]
  },
  {
   "cell_type": "code",
   "execution_count": 11,
   "metadata": {},
   "outputs": [
    {
     "data": {
      "application/vnd.jupyter.widget-view+json": {
       "model_id": "c58e246ccfd443f48b3d22b49a7cd471",
       "version_major": 2,
       "version_minor": 0
      },
      "text/plain": [
       "Builder(hide_secondary_metabolites=False, highlight_missing=True, reaction_data={'10FTHF5GLUtl': 0.0, '10FTHF5…"
      ]
     },
     "metadata": {},
     "output_type": "display_data"
    }
   ],
   "source": [
    "fbasol = model.optimize()\n",
    "b = show_map(fbasol,map_loc)\n",
    "b"
   ]
  },
  {
   "cell_type": "code",
   "execution_count": 12,
   "metadata": {},
   "outputs": [
    {
     "data": {
      "text/plain": [
       "0.10012162264150908"
      ]
     },
     "execution_count": 12,
     "metadata": {},
     "output_type": "execute_result"
    }
   ],
   "source": [
    "# To simulate the case for PKU patient (low Phe diet and high glucose)\n",
    "model1=model.copy()\n",
    "# Kncoking gene '5053.1' to simulate the PKU patients\n",
    "model1.genes.get_by_id('5053.1').knock_out()\n",
    "# No phenylpyruvate production in the brain and liver\n",
    "model1.reactions.PHETA1.upper_bound=0.1\n",
    "model1.reactions.PHETA1_INB.upper_bound=0.1\n",
    "model1.reactions.EX_phe_L_e.upper_bound=-0.05\n",
    "model1.reactions.EX_phe_L_e.lower_bound=-0.05\n",
    "## The Phe-restricted diet contains more carbohydrate content, We assumed more glucose.\n",
    "model1.reactions.EX_glc_D_e.lower_bound=-2\n",
    "sol = model1.optimize()\n",
    "sol.objective_value"
   ]
  },
  {
   "cell_type": "code",
   "execution_count": 13,
   "metadata": {},
   "outputs": [
    {
     "data": {
      "application/vnd.jupyter.widget-view+json": {
       "model_id": "d56f61ad71fd40b0867bbd48d96c7ea1",
       "version_major": 2,
       "version_minor": 0
      },
      "text/plain": [
       "Builder(hide_secondary_metabolites=False, highlight_missing=True, reaction_data={'10FTHF5GLUtl': 0.0, '10FTHF5…"
      ]
     },
     "metadata": {},
     "output_type": "display_data"
    }
   ],
   "source": [
    "fbasol = model1.optimize()\n",
    "b = show_map(fbasol,map_loc)\n",
    "b"
   ]
  },
  {
   "cell_type": "code",
   "execution_count": 14,
   "metadata": {},
   "outputs": [
    {
     "data": {
      "text/plain": [
       "0.11317708391734049"
      ]
     },
     "execution_count": 14,
     "metadata": {},
     "output_type": "execute_result"
    }
   ],
   "source": [
    "## Normal person uptake more glucose\n",
    "model2=model.copy()\n",
    "model2.reactions.EX_glc_D_e.lower_bound=-2\n",
    "sol = model2.optimize()\n",
    "sol.objective_value"
   ]
  },
  {
   "cell_type": "code",
   "execution_count": 15,
   "metadata": {},
   "outputs": [
    {
     "data": {
      "application/vnd.jupyter.widget-view+json": {
       "model_id": "2119e4d34380439a8963586f2a9b9e50",
       "version_major": 2,
       "version_minor": 0
      },
      "text/plain": [
       "Builder(hide_secondary_metabolites=False, highlight_missing=True, reaction_data={'10FTHF5GLUtl': 0.0, '10FTHF5…"
      ]
     },
     "metadata": {},
     "output_type": "display_data"
    }
   ],
   "source": [
    "fbasol = model2.optimize()\n",
    "b = show_map(fbasol,map_loc)\n",
    "b"
   ]
  },
  {
   "cell_type": "code",
   "execution_count": 16,
   "metadata": {},
   "outputs": [
    {
     "data": {
      "text/plain": [
       "0.023451961066187767"
      ]
     },
     "execution_count": 16,
     "metadata": {},
     "output_type": "execute_result"
    }
   ],
   "source": [
    "## PKU patient uptake same glucose as normal person\n",
    "model3=model.copy()\n",
    "# Kncoking gene '5053.1' to simulate the PKU patients\n",
    "model3.genes.get_by_id('5053.1').knock_out()\n",
    "# No phenylpyruvate production in the brain and liver\n",
    "model3.reactions.PHETA1.upper_bound=0.1\n",
    "model3.reactions.PHETA1_INB.upper_bound=0.1\n",
    "model3.reactions.EX_phe_L_e.upper_bound=-0.05\n",
    "model3.reactions.EX_phe_L_e.lower_bound=-0.05\n",
    "## The Phe-restricted diet contains more carbohydrate content, We assumed more glucose.\n",
    "model3.reactions.EX_glc_D_e.lower_bound=-1\n",
    "sol = model3.optimize()\n",
    "sol.objective_value"
   ]
  },
  {
   "cell_type": "code",
   "execution_count": 17,
   "metadata": {},
   "outputs": [
    {
     "data": {
      "application/vnd.jupyter.widget-view+json": {
       "model_id": "0f4ad15dbf5e400da8acd7a59e481066",
       "version_major": 2,
       "version_minor": 0
      },
      "text/plain": [
       "Builder(hide_secondary_metabolites=False, highlight_missing=True, reaction_data={'10FTHF5GLUtl': 0.0, '10FTHF5…"
      ]
     },
     "metadata": {},
     "output_type": "display_data"
    }
   ],
   "source": [
    "fbasol = model3.optimize()\n",
    "b = show_map(fbasol,map_loc)\n",
    "b"
   ]
  },
  {
   "cell_type": "code",
   "execution_count": 20,
   "metadata": {},
   "outputs": [
    {
     "data": {
      "text/html": [
       "\n",
       "        <table>\n",
       "            <tr>\n",
       "                <td><strong>Reaction identifier</strong></td><td>EX_2hyoxplac_e</td>\n",
       "            </tr><tr>\n",
       "                <td><strong>Name</strong></td><td>2-Hydroxyphenylacetate</td>\n",
       "            </tr><tr>\n",
       "                <td><strong>Memory address</strong></td>\n",
       "                <td>0x12952ff70</td>\n",
       "            </tr><tr>\n",
       "                <td><strong>Stoichiometry</strong></td>\n",
       "                <td>\n",
       "                    <p style='text-align:right'>2hyoxplac_e --></p>\n",
       "                    <p style='text-align:right'>2-Hydroxyphenylacetate --></p>\n",
       "                </td>\n",
       "            </tr><tr>\n",
       "                <td><strong>GPR</strong></td><td></td>\n",
       "            </tr><tr>\n",
       "                <td><strong>Lower bound</strong></td><td>0.0</td>\n",
       "            </tr><tr>\n",
       "                <td><strong>Upper bound</strong></td><td>0.0</td>\n",
       "            </tr>\n",
       "        </table>\n",
       "        "
      ],
      "text/plain": [
       "<Reaction EX_2hyoxplac_e at 0x12952ff70>"
      ]
     },
     "execution_count": 20,
     "metadata": {},
     "output_type": "execute_result"
    }
   ],
   "source": [
    "model.reactions.EX_2hyoxplac_e"
   ]
  },
  {
   "cell_type": "code",
   "execution_count": null,
   "metadata": {},
   "outputs": [],
   "source": []
  }
 ],
 "metadata": {
  "kernelspec": {
   "display_name": "Python 3 (ipykernel)",
   "language": "python",
   "name": "python3"
  },
  "language_info": {
   "codemirror_mode": {
    "name": "ipython",
    "version": 3
   },
   "file_extension": ".py",
   "mimetype": "text/x-python",
   "name": "python",
   "nbconvert_exporter": "python",
   "pygments_lexer": "ipython3",
   "version": "3.10.6"
  },
  "toc": {
   "base_numbering": 1,
   "nav_menu": {},
   "number_sections": true,
   "sideBar": true,
   "skip_h1_title": false,
   "title_cell": "Table of Contents",
   "title_sidebar": "Contents",
   "toc_cell": false,
   "toc_position": {
    "height": "calc(100% - 180px)",
    "left": "10px",
    "top": "150px",
    "width": "165px"
   },
   "toc_section_display": true,
   "toc_window_display": true
  },
  "varInspector": {
   "cols": {
    "lenName": 16,
    "lenType": 16,
    "lenVar": 40
   },
   "kernels_config": {
    "python": {
     "delete_cmd_postfix": "",
     "delete_cmd_prefix": "del ",
     "library": "var_list.py",
     "varRefreshCmd": "print(var_dic_list())"
    },
    "r": {
     "delete_cmd_postfix": ") ",
     "delete_cmd_prefix": "rm(",
     "library": "var_list.r",
     "varRefreshCmd": "cat(var_dic_list()) "
    }
   },
   "types_to_exclude": [
    "module",
    "function",
    "builtin_function_or_method",
    "instance",
    "_Feature"
   ],
   "window_display": false
  }
 },
 "nbformat": 4,
 "nbformat_minor": 2
}
