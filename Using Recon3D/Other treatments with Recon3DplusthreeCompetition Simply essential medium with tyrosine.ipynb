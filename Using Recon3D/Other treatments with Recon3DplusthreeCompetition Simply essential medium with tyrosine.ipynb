{
 "cells": [
  {
   "cell_type": "markdown",
   "metadata": {},
   "source": [
    "# Recon3DplusthreeCompetition.json [Competitive mechanism only]"
   ]
  },
  {
   "cell_type": "markdown",
   "metadata": {},
   "source": [
    "##Changing medium"
   ]
  },
  {
   "cell_type": "code",
   "execution_count": 1,
   "metadata": {},
   "outputs": [],
   "source": [
    "import cobra\n",
    "import pandas as pd\n",
    "import numpy as np\n",
    "import pickle\n",
    "from cobra.flux_analysis import pfba"
   ]
  },
  {
   "cell_type": "code",
   "execution_count": 2,
   "metadata": {},
   "outputs": [
    {
     "name": "stdout",
     "output_type": "stream",
     "text": [
      "Scaling...\n",
      " A: min|aij| =  1.000e+00  max|aij| =  1.000e+00  ratio =  1.000e+00\n",
      "Problem data seem to be well scaled\n"
     ]
    }
   ],
   "source": [
    "M = cobra.io.load_json_model('Recon3DplusthreeCompetitive.json')"
   ]
  },
  {
   "cell_type": "markdown",
   "metadata": {},
   "source": [
    "# Other treatment"
   ]
  },
  {
   "cell_type": "markdown",
   "metadata": {},
   "source": [
    "## Recon2.2plus with exercise (Other treatment)"
   ]
  },
  {
   "cell_type": "code",
   "execution_count": 3,
   "metadata": {},
   "outputs": [],
   "source": [
    "# import map visualization tools\n",
    "from utils import show_map\n",
    "import escher\n",
    "map_loc = 'Recon3DplusthreeCompetitiveMap.json' # the escher map used below\n",
    "# show all output\n",
    "from IPython.core.interactiveshell import InteractiveShell\n",
    "InteractiveShell.ast_node_interactivity = \"all\""
   ]
  },
  {
   "cell_type": "code",
   "execution_count": 4,
   "metadata": {},
   "outputs": [],
   "source": [
    "model=M.copy()"
   ]
  },
  {
   "cell_type": "code",
   "execution_count": 5,
   "metadata": {},
   "outputs": [],
   "source": [
    "# Setting objective function: biomass reaction in the brain + dopamine production + serotonin production\n",
    "quadratic_objective = model.problem.Objective(model.reactions.biomass_reaction_INB.flux_expression+\n",
    "                                              model.reactions.get_by_id('3HLYTCL_INB').flux_expression+\n",
    "                                              model.reactions.get_by_id('5HLTDL_INB').flux_expression,\n",
    "    direction='max')\n",
    "model.objective = quadratic_objective"
   ]
  },
  {
   "cell_type": "code",
   "execution_count": 6,
   "metadata": {},
   "outputs": [],
   "source": [
    "# Changing the phe and tyr in the medium\n",
    "model.reactions.EX_phe_L_e.lower_bound=-0.2\n",
    "model.reactions.EX_phe_L_e.upper_bound=-0.2\n",
    "model.reactions.EX_tyr_L_e.lower_bound=-0.1"
   ]
  },
  {
   "cell_type": "code",
   "execution_count": 7,
   "metadata": {},
   "outputs": [],
   "source": [
    "phe_L_c_related=['lyspheile_TOBD','phetyr_TOBD','phetyrgln_TOBD','hisphearg_TOBD','valtrpphe_TOBD','phetyrlys_TOBD',\n",
    "                    'glyphe_TOBD','lysvalphe_TOBD','thrphearg_TOBD','argleuphe_TOBD','tyralaphe_TOBD','cysaspphe_TOBD',\n",
    "                    'argphearg_TOBD','glylysphe_TOBD','metphearg_TOBD','mettrpphe_TOBD','prophe_TOBD','pheasnmet_TOBD',\n",
    "                    'pheasp_TOBD','pheglnphe_TOBD','pheleu_TOBD','pheleuasp_TOBD','pheleuhis_TOBD','tyrphetyr_TOBD',\n",
    "                    'phelysala_TOBD','phelyspro_TOBD','tyrtrpphe_TOBD','asnpheasp_TOBD','asnphecys_TOBD','phepheasn_TOBD',\n",
    "                    'asntyrphe_TOBD','serphelys_TOBD','pheproarg_TOBD','valleuphe_TOBD','phesertrp_TOBD','lysglnphe_TOBD',\n",
    "                    'argalaphe_TOBD','phethrlys_TOBD','trpphe_TOBD','phetrpleu_TOBD','valphearg_TOBD','phephethr_TOBD',\n",
    "                'phephe_TOBD','glyphe_TOBD','trpglyphe_TOBD']\n",
    "for reaction in phe_L_c_related:\n",
    "    model.reactions.get_by_id(reaction).lower_bound=0\n",
    "    model.reactions.get_by_id(reaction).upper_bound=0"
   ]
  },
  {
   "cell_type": "code",
   "execution_count": 8,
   "metadata": {},
   "outputs": [],
   "source": [
    "for rxn in model.metabolites.phe_L_c.reactions:\n",
    "    model.reactions.get_by_id(rxn.id).upper_bound=0\n",
    "    model.reactions.PheTR_TOBD.upper_bound=1000\n",
    "    model.reactions.biomass_reaction.upper_bound=1000\n",
    "    model.reactions.r0399.upper_bound=1000\n",
    "    model.reactions.PHETHPTOX2.upper_bound=1000"
   ]
  },
  {
   "cell_type": "code",
   "execution_count": 9,
   "metadata": {},
   "outputs": [
    {
     "data": {
      "text/plain": [
       "0.2517557"
      ]
     },
     "execution_count": 9,
     "metadata": {},
     "output_type": "execute_result"
    },
    {
     "data": {
      "application/vnd.jupyter.widget-view+json": {
       "model_id": "8a1411a1a4a44026b7a695925f5e0ead",
       "version_major": 2,
       "version_minor": 0
      },
      "text/plain": [
       "Builder(hide_secondary_metabolites=False, highlight_missing=True, reaction_data={'10FTHF5GLUtl': 0.0, '10FTHF5…"
      ]
     },
     "metadata": {},
     "output_type": "display_data"
    }
   ],
   "source": [
    "## Other reactions to produce l-dopa is forbidded\n",
    "model.reactions.TYRDOPO_INB.upper_bound=0\n",
    "model.reactions.TYR3MO2_INB.upper_bound=0\n",
    "## liver biomass is constant\n",
    "model.reactions.biomass_reaction.lower_bound=0.05\n",
    "model.reactions.biomass_reaction.upper_bound=0.05\n",
    "## do not need too much biomass in the brain\n",
    "model.reactions.biomass_reaction_INB.upper_bound=0.1\n",
    "# Phe secretion in the blood is blocked, otherwise there is no competition.\n",
    "model.reactions.EX_phe_L_BD.upper_bound=0\n",
    "# No phenylpyruvate production in the brain and liver\n",
    "model.reactions.PHETA1.upper_bound=0\n",
    "model.reactions.PHETA1_INB.upper_bound=0\n",
    "# Serotonin production\n",
    "model.reactions.get_by_id('5HLTDL_INB').lower_bound=0.095\n",
    "### No PAH in the brain\n",
    "model.reactions.PHETHPTOX2_INB.lower_bound=0\n",
    "model.reactions.PHETHPTOX2_INB.upper_bound=0\n",
    "model.reactions.r0399_INB.lower_bound=0\n",
    "model.reactions.r0399_INB.upper_bound=0\n",
    "### Tyrosine hydroxylase\n",
    "### No Tyr hydroxylase competition\n",
    "model.reactions.Phe_TH_INB.upper_bound=0\n",
    "model.reactions.PhePde_INB.upper_bound=0\n",
    "model.reactions.get_by_id('34dhpheTR_TOBD').upper_bound=0 ##No levodopa from liver to blood.\n",
    "model.reactions.Ti1_To1.upper_bound=0.195\n",
    "model.solver='glpk'\n",
    "sol = model.optimize()\n",
    "sol.objective_value\n",
    "b = show_map(sol,map_loc)\n",
    "b"
   ]
  },
  {
   "cell_type": "code",
   "execution_count": 10,
   "metadata": {},
   "outputs": [
    {
     "data": {
      "text/plain": [
       "0.1700001445278853"
      ]
     },
     "execution_count": 10,
     "metadata": {},
     "output_type": "execute_result"
    }
   ],
   "source": [
    "model1=model.copy()\n",
    "# Kncoking gene '5053.1' to simulate the PKU patients\n",
    "model1.genes.get_by_id('5053.1').knock_out()\n",
    "# No phenylpyruvate productionn in the brain and liver\n",
    "model1.reactions.PHETA1.upper_bound=0.1\n",
    "model1.reactions.PHETA1_INB.upper_bound=0.1\n",
    "sol = model1.optimize()\n",
    "sol.objective_value"
   ]
  },
  {
   "cell_type": "code",
   "execution_count": 11,
   "metadata": {},
   "outputs": [
    {
     "data": {
      "application/vnd.jupyter.widget-view+json": {
       "model_id": "e0f3782a45754a158786dbe5d1a7d54f",
       "version_major": 2,
       "version_minor": 0
      },
      "text/plain": [
       "Builder(hide_secondary_metabolites=False, highlight_missing=True, reaction_data={'10FTHF5GLUtl': 0.0, '10FTHF5…"
      ]
     },
     "metadata": {},
     "output_type": "display_data"
    }
   ],
   "source": [
    "fbasol = pfba(model1)\n",
    "b = show_map(fbasol,map_loc)\n",
    "b"
   ]
  },
  {
   "cell_type": "code",
   "execution_count": 12,
   "metadata": {},
   "outputs": [],
   "source": [
    "#Remembering to add other amino acid\n",
    "model1.reactions.EX_glc_D_e.lower_bound=-1.1##Do not need much glucsoe.\n",
    "model1.reactions.EX_his_L_e.lower_bound=-0.2\n",
    "model1.reactions.EX_ile_L_e.lower_bound=-0.2\n",
    "model1.reactions.EX_leu_L_e.lower_bound=-0.2\n",
    "model1.reactions.EX_lys_L_e.lower_bound=-0.2\n",
    "model1.reactions.EX_met_L_e.lower_bound=-0.2\n",
    "model1.reactions.EX_thr_L_e.lower_bound=-0.2\n",
    "model1.reactions.EX_trp_L_e.lower_bound=-0.1\n",
    "model1.reactions.EX_val_L_e.lower_bound=-0.2"
   ]
  },
  {
   "cell_type": "code",
   "execution_count": 13,
   "metadata": {},
   "outputs": [
    {
     "data": {
      "text/plain": [
       "0.2203488805288013"
      ]
     },
     "execution_count": 13,
     "metadata": {},
     "output_type": "execute_result"
    }
   ],
   "source": [
    "model1.reactions.biomass_reaction.upper_bound=0.5\n",
    "sol = model1.optimize()\n",
    "sol.objective_value"
   ]
  },
  {
   "cell_type": "code",
   "execution_count": 14,
   "metadata": {},
   "outputs": [
    {
     "data": {
      "application/vnd.jupyter.widget-view+json": {
       "model_id": "615ffe7e784248c8a5967b45abcef8a1",
       "version_major": 2,
       "version_minor": 0
      },
      "text/plain": [
       "Builder(hide_secondary_metabolites=False, highlight_missing=True, reaction_data={'10FTHF5GLUtl': 0.0, '10FTHF5…"
      ]
     },
     "metadata": {},
     "output_type": "display_data"
    }
   ],
   "source": [
    "fbasol = pfba(model1)\n",
    "b = show_map(fbasol,map_loc)\n",
    "b"
   ]
  },
  {
   "cell_type": "markdown",
   "metadata": {},
   "source": [
    "## More carriers for model"
   ]
  },
  {
   "cell_type": "code",
   "execution_count": 15,
   "metadata": {},
   "outputs": [
    {
     "data": {
      "text/plain": [
       "0.1700001445278853"
      ]
     },
     "execution_count": 15,
     "metadata": {},
     "output_type": "execute_result"
    }
   ],
   "source": [
    "model2=model.copy()\n",
    "# Kncoking gene '5053.1' to simulate the PKU patients\n",
    "model2.genes.get_by_id('5053.1').knock_out()\n",
    "# No phenylpyruvate productionn in the brain and liver\n",
    "model2.reactions.PHETA1.upper_bound=0.1\n",
    "model2.reactions.PHETA1_INB.upper_bound=0.1\n",
    "sol = model2.optimize()\n",
    "sol.objective_value"
   ]
  },
  {
   "cell_type": "code",
   "execution_count": 16,
   "metadata": {},
   "outputs": [
    {
     "data": {
      "application/vnd.jupyter.widget-view+json": {
       "model_id": "d2cc1d39af4e49a28f0b50b7550a2bf8",
       "version_major": 2,
       "version_minor": 0
      },
      "text/plain": [
       "Builder(hide_secondary_metabolites=False, highlight_missing=True, reaction_data={'10FTHF5GLUtl': 0.0, '10FTHF5…"
      ]
     },
     "metadata": {},
     "output_type": "display_data"
    }
   ],
   "source": [
    "fbasol = pfba(model2)\n",
    "b = show_map(fbasol,map_loc)\n",
    "b"
   ]
  },
  {
   "cell_type": "code",
   "execution_count": 17,
   "metadata": {},
   "outputs": [
    {
     "data": {
      "text/plain": [
       "0.27405345000000003"
      ]
     },
     "execution_count": 17,
     "metadata": {},
     "output_type": "execute_result"
    },
    {
     "data": {
      "application/vnd.jupyter.widget-view+json": {
       "model_id": "85802077d02b4197af4a679af8ccf19f",
       "version_major": 2,
       "version_minor": 0
      },
      "text/plain": [
       "Builder(hide_secondary_metabolites=False, highlight_missing=True, reaction_data={'10FTHF5GLUtl': 0.0, '10FTHF5…"
      ]
     },
     "metadata": {},
     "output_type": "display_data"
    }
   ],
   "source": [
    "model2.reactions.Ti1_To1.upper_bound=0.3\n",
    "sol = model2.optimize()\n",
    "sol.objective_value\n",
    "fbasol = pfba(model2)\n",
    "b = show_map(fbasol,map_loc)\n",
    "b"
   ]
  },
  {
   "cell_type": "code",
   "execution_count": null,
   "metadata": {},
   "outputs": [],
   "source": []
  },
  {
   "cell_type": "code",
   "execution_count": null,
   "metadata": {},
   "outputs": [],
   "source": []
  },
  {
   "cell_type": "code",
   "execution_count": null,
   "metadata": {},
   "outputs": [],
   "source": []
  }
 ],
 "metadata": {
  "kernelspec": {
   "display_name": "Python 3 (ipykernel)",
   "language": "python",
   "name": "python3"
  },
  "language_info": {
   "codemirror_mode": {
    "name": "ipython",
    "version": 3
   },
   "file_extension": ".py",
   "mimetype": "text/x-python",
   "name": "python",
   "nbconvert_exporter": "python",
   "pygments_lexer": "ipython3",
   "version": "3.10.6"
  },
  "toc": {
   "base_numbering": 1,
   "nav_menu": {},
   "number_sections": true,
   "sideBar": true,
   "skip_h1_title": false,
   "title_cell": "Table of Contents",
   "title_sidebar": "Contents",
   "toc_cell": false,
   "toc_position": {
    "height": "540px",
    "left": "318px",
    "top": "156px",
    "width": "168px"
   },
   "toc_section_display": true,
   "toc_window_display": true
  },
  "varInspector": {
   "cols": {
    "lenName": 16,
    "lenType": 16,
    "lenVar": 40
   },
   "kernels_config": {
    "python": {
     "delete_cmd_postfix": "",
     "delete_cmd_prefix": "del ",
     "library": "var_list.py",
     "varRefreshCmd": "print(var_dic_list())"
    },
    "r": {
     "delete_cmd_postfix": ") ",
     "delete_cmd_prefix": "rm(",
     "library": "var_list.r",
     "varRefreshCmd": "cat(var_dic_list()) "
    }
   },
   "types_to_exclude": [
    "module",
    "function",
    "builtin_function_or_method",
    "instance",
    "_Feature"
   ],
   "window_display": false
  }
 },
 "nbformat": 4,
 "nbformat_minor": 2
}
