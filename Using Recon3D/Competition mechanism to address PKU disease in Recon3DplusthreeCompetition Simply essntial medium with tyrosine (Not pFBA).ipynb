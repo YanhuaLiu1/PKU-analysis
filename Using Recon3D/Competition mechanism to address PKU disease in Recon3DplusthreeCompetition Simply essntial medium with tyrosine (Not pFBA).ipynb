{
 "cells": [
  {
   "cell_type": "markdown",
   "metadata": {},
   "source": [
    "# Recon3DplusthreeCompetition).json [Competitive mechanism only]"
   ]
  },
  {
   "cell_type": "markdown",
   "metadata": {},
   "source": [
    "##Changing medium"
   ]
  },
  {
   "cell_type": "code",
   "execution_count": 1,
   "metadata": {},
   "outputs": [],
   "source": [
    "import cobra\n",
    "import pandas as pd\n",
    "import numpy as np\n",
    "import pickle\n",
    "from cobra.flux_analysis import pfba"
   ]
  },
  {
   "cell_type": "code",
   "execution_count": 2,
   "metadata": {},
   "outputs": [
    {
     "name": "stdout",
     "output_type": "stream",
     "text": [
      "Scaling...\n",
      " A: min|aij| =  1.000e+00  max|aij| =  1.000e+00  ratio =  1.000e+00\n",
      "Problem data seem to be well scaled\n"
     ]
    }
   ],
   "source": [
    "M = cobra.io.load_json_model('Recon3DplusthreeCompetitive.json')"
   ]
  },
  {
   "cell_type": "markdown",
   "metadata": {},
   "source": [
    "## Tyrosine is not enough in the diet (model1)"
   ]
  },
  {
   "cell_type": "code",
   "execution_count": 3,
   "metadata": {},
   "outputs": [],
   "source": [
    "from cobra.flux_analysis import pfba\n",
    "# import map visualization tools\n",
    "from utils import show_map\n",
    "import escher\n",
    "map_loc = 'Recon3DplusthreeCompetitiveMap.json' # the escher map used below\n",
    "# show all output\n",
    "from IPython.core.interactiveshell import InteractiveShell\n",
    "InteractiveShell.ast_node_interactivity = \"all\"\n",
    "\n",
    "model=M.copy()"
   ]
  },
  {
   "cell_type": "code",
   "execution_count": 4,
   "metadata": {},
   "outputs": [],
   "source": [
    "model1=model.copy()"
   ]
  },
  {
   "cell_type": "code",
   "execution_count": 5,
   "metadata": {},
   "outputs": [],
   "source": [
    "phe_L_c_related=['lyspheile_TOBD','phetyr_TOBD','phetyrgln_TOBD','hisphearg_TOBD','valtrpphe_TOBD','phetyrlys_TOBD',\n",
    "                    'glyphe_TOBD','lysvalphe_TOBD','thrphearg_TOBD','argleuphe_TOBD','tyralaphe_TOBD','cysaspphe_TOBD',\n",
    "                    'argphearg_TOBD','glylysphe_TOBD','metphearg_TOBD','mettrpphe_TOBD','prophe_TOBD','pheasnmet_TOBD',\n",
    "                    'pheasp_TOBD','pheglnphe_TOBD','pheleu_TOBD','pheleuasp_TOBD','pheleuhis_TOBD','tyrphetyr_TOBD',\n",
    "                    'phelysala_TOBD','phelyspro_TOBD','tyrtrpphe_TOBD','asnpheasp_TOBD','asnphecys_TOBD','phepheasn_TOBD',\n",
    "                    'asntyrphe_TOBD','serphelys_TOBD','pheproarg_TOBD','valleuphe_TOBD','phesertrp_TOBD','lysglnphe_TOBD',\n",
    "                    'argalaphe_TOBD','phethrlys_TOBD','trpphe_TOBD','phetrpleu_TOBD','valphearg_TOBD','phephethr_TOBD',\n",
    "                'phephe_TOBD','glyphe_TOBD','trpglyphe_TOBD']\n",
    "for reaction in phe_L_c_related:\n",
    "    model1.reactions.get_by_id(reaction).lower_bound=0\n",
    "    model1.reactions.get_by_id(reaction).upper_bound=0"
   ]
  },
  {
   "cell_type": "markdown",
   "metadata": {},
   "source": [
    "phe_L_c_related=['EX_lyspheile_e','EX_phetyr_e','EX_phetyrgln_e','EX_hisphearg_e','EX_valtrpphe_e','EX_phetyrlys_e',\n",
    "                    'EX_glyphe_e','EX_lysvalphe_e','EX_thrphearg_e','EX_argleuphe_e','EX_tyralaphe_e','EX_cysaspphe_e',\n",
    "                    'EX_argphearg_e','EX_glylysphe_e','EX_metphearg_e','EX_mettrpphe_e','EX_prophe_e','EX_pheasnmet_e',\n",
    "                    'EX_pheasp_e','EX_pheglnphe_e','EX_pheleu_e','EX_pheleuasp_e','EX_pheleuhis_e','EX_tyrphetyr_e',\n",
    "                    'EX_phelysala_e','EX_phelyspro_e','EX_tyrtrpphe_e','EX_asnpheasp_e','EX_asnphecys_e','EX_phepheasn_e',\n",
    "                    'EX_asntyrphe_e','EX_serphelys_e','EX_pheproarg_e','EX_valleuphe_e','EX_phesertrp_e','EX_lysglnphe_e',\n",
    "                    'EX_argalaphe_e','EX_phethrlys_e','EX_trpphe_e','EX_phetrpleu_e','EX_valphearg_e','EX_phephethr_e',\n",
    "                'EX_phephe_e','EX_glyphe_e','EX_trpglyphe_e']\n",
    "for reaction in phe_L_c_related:\n",
    "    model1.reactions.get_by_id(reaction).lower_bound=0\n",
    "    model1.reactions.get_by_id(reaction).upper_bound=0"
   ]
  },
  {
   "cell_type": "code",
   "execution_count": 6,
   "metadata": {},
   "outputs": [],
   "source": [
    "# Setting objective function: biomass reaction in the brain + dopamine production + serotonin production\n",
    "quadratic_objective = model1.problem.Objective(model1.reactions.biomass_reaction_INB.flux_expression+\n",
    "                                              model1.reactions.get_by_id('3HLYTCL_INB').flux_expression+\n",
    "                                              model1.reactions.get_by_id('5HLTDL_INB').flux_expression,\n",
    "    direction='max')\n",
    "model1.objective = quadratic_objective"
   ]
  },
  {
   "cell_type": "code",
   "execution_count": 7,
   "metadata": {},
   "outputs": [],
   "source": [
    "# Changing the phe and tyr in the medium, because they also use for producing dopa.\n",
    "model1.reactions.EX_phe_L_e.lower_bound=-0.2\n",
    "model1.reactions.EX_phe_L_e.upper_bound=-0.2\n",
    "model1.reactions.EX_tyr_L_e.lower_bound=-0.04"
   ]
  },
  {
   "cell_type": "code",
   "execution_count": 8,
   "metadata": {},
   "outputs": [],
   "source": [
    "for rxn in model1.metabolites.phe_L_c.reactions:\n",
    "    model1.reactions.get_by_id(rxn.id).upper_bound=0\n",
    "    model1.reactions.PheTR_TOBD.upper_bound=1000\n",
    "    model1.reactions.biomass_reaction.upper_bound=1000\n",
    "    model1.reactions.r0399.upper_bound=1000\n",
    "    model1.reactions.PHETHPTOX2.upper_bound=1000"
   ]
  },
  {
   "cell_type": "code",
   "execution_count": 9,
   "metadata": {},
   "outputs": [
    {
     "data": {
      "text/plain": [
       "0.2517557"
      ]
     },
     "execution_count": 9,
     "metadata": {},
     "output_type": "execute_result"
    },
    {
     "data": {
      "application/vnd.jupyter.widget-view+json": {
       "model_id": "220518c1c763430eb1984339a4bbd789",
       "version_major": 2,
       "version_minor": 0
      },
      "text/plain": [
       "Builder(hide_secondary_metabolites=False, highlight_missing=True, reaction_data={'10FTHF5GLUtl': 0.0, '10FTHF5…"
      ]
     },
     "metadata": {},
     "output_type": "display_data"
    }
   ],
   "source": [
    "## Other reactions to produce l-dopa is forbidded\n",
    "model1.reactions.TYRDOPO_INB.upper_bound=0\n",
    "model1.reactions.TYR3MO2_INB.upper_bound=0\n",
    "## liver biomass is constant\n",
    "model1.reactions.biomass_reaction.lower_bound=0.05\n",
    "model1.reactions.biomass_reaction.upper_bound=0.05\n",
    "## do not need too much biomass in the brain\n",
    "model1.reactions.biomass_reaction_INB.upper_bound=0.1\n",
    "# Phe secretion in the blood is blocked, otherwise there is no competition.\n",
    "model1.reactions.EX_phe_L_BD.upper_bound=0\n",
    "# No phenylpyruvate production in the brain and liver\n",
    "model1.reactions.PHETA1.upper_bound=0\n",
    "model1.reactions.PHETA1_INB.upper_bound=0\n",
    "# Serotonin production\n",
    "model1.reactions.get_by_id('5HLTDL_INB').lower_bound=0.095\n",
    "### No PAH in the brain\n",
    "model1.reactions.PHETHPTOX2_INB.lower_bound=0\n",
    "model1.reactions.PHETHPTOX2_INB.upper_bound=0\n",
    "model1.reactions.r0399_INB.lower_bound=0\n",
    "model1.reactions.r0399_INB.upper_bound=0\n",
    "### Tyrosine hydroxylase\n",
    "### No Tyr hydroxylase competition\n",
    "model1.reactions.Phe_TH_INB.upper_bound=0\n",
    "model1.reactions.PhePde_INB.upper_bound=0\n",
    "model1.reactions.get_by_id('34dhpheTR_TOBD').upper_bound=0 ##No levodopa from liver to blood.\n",
    "model1.reactions.Ti1_To1.upper_bound=0.195\n",
    "model1.solver='glpk'\n",
    "sol = model1.optimize()\n",
    "sol.objective_value\n",
    "b = show_map(sol,map_loc)\n",
    "b"
   ]
  },
  {
   "cell_type": "code",
   "execution_count": 10,
   "metadata": {},
   "outputs": [],
   "source": [
    "model2=model1.copy()"
   ]
  },
  {
   "cell_type": "code",
   "execution_count": 11,
   "metadata": {},
   "outputs": [
    {
     "data": {
      "text/plain": [
       "0.17000014452788614"
      ]
     },
     "execution_count": 11,
     "metadata": {},
     "output_type": "execute_result"
    },
    {
     "data": {
      "application/vnd.jupyter.widget-view+json": {
       "model_id": "2c5c4d4c03034bd894eb6e4207b7391e",
       "version_major": 2,
       "version_minor": 0
      },
      "text/plain": [
       "Builder(hide_secondary_metabolites=False, highlight_missing=True, reaction_data={'10FTHF5GLUtl': 0.0, '10FTHF5…"
      ]
     },
     "metadata": {},
     "output_type": "display_data"
    }
   ],
   "source": [
    "# Kncoking gene '5053.1' to simulate the PKU patients\n",
    "model2.genes.get_by_id('5053.1').knock_out()\n",
    "# No phenylpyruvate productionn in the brain and liver\n",
    "model2.reactions.PHETA1.upper_bound=0.1\n",
    "model2.reactions.PHETA1_INB.upper_bound=0.1\n",
    "sol = model2.optimize()\n",
    "sol.objective_value\n",
    "fbasol = pfba(model2)\n",
    "b = show_map(fbasol,map_loc)\n",
    "b"
   ]
  },
  {
   "cell_type": "code",
   "execution_count": 12,
   "metadata": {},
   "outputs": [],
   "source": [
    "model3=model2.copy()"
   ]
  },
  {
   "cell_type": "code",
   "execution_count": 13,
   "metadata": {},
   "outputs": [
    {
     "data": {
      "text/plain": [
       "0.17000014452788542"
      ]
     },
     "execution_count": 13,
     "metadata": {},
     "output_type": "execute_result"
    },
    {
     "data": {
      "application/vnd.jupyter.widget-view+json": {
       "model_id": "fae4be428ddc4c1b944b1f2fc0889b95",
       "version_major": 2,
       "version_minor": 0
      },
      "text/plain": [
       "Builder(hide_secondary_metabolites=False, highlight_missing=True, reaction_data={'10FTHF5GLUtl': 0.0, '10FTHF5…"
      ]
     },
     "metadata": {},
     "output_type": "display_data"
    }
   ],
   "source": [
    "## Only adding tyrosine\n",
    "model3.reactions.EX_tyr_L_e.lower_bound=-0.1\n",
    "model3.reactions.PHEPHEr.lower_bound=0\n",
    "model3.reactions.PHEPHETHRr.lower_bound=0\n",
    "sol = model3.optimize()\n",
    "sol.objective_value\n",
    "fbasol = model3.optimize()\n",
    "b = show_map(fbasol,map_loc)\n",
    "b"
   ]
  },
  {
   "cell_type": "code",
   "execution_count": 14,
   "metadata": {},
   "outputs": [
    {
     "data": {
      "text/plain": [
       "0.2517557"
      ]
     },
     "execution_count": 14,
     "metadata": {},
     "output_type": "execute_result"
    },
    {
     "data": {
      "application/vnd.jupyter.widget-view+json": {
       "model_id": "eb2d4815edbd474eb49fa409177e8f87",
       "version_major": 2,
       "version_minor": 0
      },
      "text/plain": [
       "Builder(hide_secondary_metabolites=False, highlight_missing=True, reaction_data={'10FTHF5GLUtl': 0.0, '10FTHF5…"
      ]
     },
     "metadata": {},
     "output_type": "display_data"
    }
   ],
   "source": [
    "## Phe deprivation and Tyr addition\n",
    "model3.reactions.EX_phe_L_e.upper_bound=-0.04\n",
    "model3.reactions.EX_phe_L_e.lower_bound=-0.04\n",
    "sol = model3.optimize()\n",
    "sol.objective_value\n",
    "fbasol = model3.optimize()\n",
    "b = show_map(fbasol,map_loc)\n",
    "b"
   ]
  },
  {
   "cell_type": "code",
   "execution_count": 15,
   "metadata": {},
   "outputs": [
    {
     "data": {
      "text/plain": [
       "0.21405345"
      ]
     },
     "execution_count": 15,
     "metadata": {},
     "output_type": "execute_result"
    },
    {
     "data": {
      "application/vnd.jupyter.widget-view+json": {
       "model_id": "1ec871ccf364489e8ae280e3b28ba9ac",
       "version_major": 2,
       "version_minor": 0
      },
      "text/plain": [
       "Builder(hide_secondary_metabolites=False, highlight_missing=True, reaction_data={'10FTHF5GLUtl': 0.0, '10FTHF5…"
      ]
     },
     "metadata": {},
     "output_type": "display_data"
    }
   ],
   "source": [
    "#Only removing the Phe\n",
    "model4=model2.copy()\n",
    "model4.reactions.EX_phe_L_e.upper_bound=-0.04\n",
    "model4.reactions.EX_phe_L_e.lower_bound=-0.04\n",
    "sol = model4.optimize()\n",
    "sol.objective_value\n",
    "fbasol = model4.optimize()\n",
    "b = show_map(fbasol,map_loc)\n",
    "b"
   ]
  },
  {
   "cell_type": "code",
   "execution_count": 16,
   "metadata": {},
   "outputs": [
    {
     "data": {
      "text/plain": [
       "0.11218899044381636"
      ]
     },
     "execution_count": 16,
     "metadata": {},
     "output_type": "execute_result"
    },
    {
     "data": {
      "application/vnd.jupyter.widget-view+json": {
       "model_id": "109b27a1cb914ae882202ba09a965a8d",
       "version_major": 2,
       "version_minor": 0
      },
      "text/plain": [
       "Builder(hide_secondary_metabolites=False, highlight_missing=True, reaction_data={'10FTHF5GLUtl': 0.0, '10FTHF5…"
      ]
     },
     "metadata": {},
     "output_type": "display_data"
    }
   ],
   "source": [
    "model5=model2.copy()\n",
    "# Taking more Phe for PKU patient to show protein synthesis in the brain\n",
    "model5.reactions.EX_phe_L_e.lower_bound=-0.21\n",
    "model5.reactions.EX_phe_L_e.upper_bound=-0.21\n",
    "sol = model5.optimize()\n",
    "sol.objective_value\n",
    "fbasol=pfba(model5)\n",
    "b = show_map(fbasol,map_loc)\n",
    "b"
   ]
  },
  {
   "cell_type": "code",
   "execution_count": null,
   "metadata": {},
   "outputs": [],
   "source": []
  }
 ],
 "metadata": {
  "kernelspec": {
   "display_name": "Python 3 (ipykernel)",
   "language": "python",
   "name": "python3"
  },
  "language_info": {
   "codemirror_mode": {
    "name": "ipython",
    "version": 3
   },
   "file_extension": ".py",
   "mimetype": "text/x-python",
   "name": "python",
   "nbconvert_exporter": "python",
   "pygments_lexer": "ipython3",
   "version": "3.10.6"
  },
  "toc": {
   "base_numbering": 1,
   "nav_menu": {},
   "number_sections": true,
   "sideBar": true,
   "skip_h1_title": false,
   "title_cell": "Table of Contents",
   "title_sidebar": "Contents",
   "toc_cell": false,
   "toc_position": {
    "height": "540px",
    "left": "318px",
    "top": "156px",
    "width": "168px"
   },
   "toc_section_display": true,
   "toc_window_display": true
  },
  "varInspector": {
   "cols": {
    "lenName": 16,
    "lenType": 16,
    "lenVar": 40
   },
   "kernels_config": {
    "python": {
     "delete_cmd_postfix": "",
     "delete_cmd_prefix": "del ",
     "library": "var_list.py",
     "varRefreshCmd": "print(var_dic_list())"
    },
    "r": {
     "delete_cmd_postfix": ") ",
     "delete_cmd_prefix": "rm(",
     "library": "var_list.r",
     "varRefreshCmd": "cat(var_dic_list()) "
    }
   },
   "types_to_exclude": [
    "module",
    "function",
    "builtin_function_or_method",
    "instance",
    "_Feature"
   ],
   "window_display": false
  }
 },
 "nbformat": 4,
 "nbformat_minor": 2
}
