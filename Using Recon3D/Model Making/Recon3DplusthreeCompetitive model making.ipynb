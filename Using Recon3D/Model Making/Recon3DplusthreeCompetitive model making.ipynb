{
 "cells": [
  {
   "cell_type": "markdown",
   "metadata": {},
   "source": [
    "# Recon2.2plusthreeCompetitionII.json [Competitive mechanism only]"
   ]
  },
  {
   "cell_type": "markdown",
   "metadata": {},
   "source": [
    "##Changing medium"
   ]
  },
  {
   "cell_type": "code",
   "execution_count": 1,
   "metadata": {},
   "outputs": [],
   "source": [
    "import cobra\n",
    "import pandas as pd\n",
    "import numpy as np\n",
    "import pickle\n",
    "from cobra.flux_analysis import pfba\n",
    "from utils import findBiomarkers"
   ]
  },
  {
   "cell_type": "code",
   "execution_count": 2,
   "metadata": {},
   "outputs": [
    {
     "name": "stdout",
     "output_type": "stream",
     "text": [
      "Scaling...\n",
      " A: min|aij| =  1.000e+00  max|aij| =  1.000e+00  ratio =  1.000e+00\n",
      "Problem data seem to be well scaled\n"
     ]
    }
   ],
   "source": [
    "M1 = cobra.io.load_json_model('Recon3DplusthreeCompetitive(previous).json')"
   ]
  },
  {
   "cell_type": "code",
   "execution_count": 21,
   "metadata": {},
   "outputs": [],
   "source": [
    "M=M1.copy()"
   ]
  },
  {
   "cell_type": "code",
   "execution_count": 22,
   "metadata": {},
   "outputs": [],
   "source": [
    "# deleting brain medium composition because this metabolite will uptake from blood\n",
    "M.reactions.EX_co2_e_INB.lower_bound=0\n",
    "M.reactions.EX_glc_D_e_INB.lower_bound=0\n",
    "M.reactions.EX_h_e_INB.lower_bound=0\n",
    "M.reactions.EX_h2o_e_INB.lower_bound=0\n",
    "M.reactions.EX_hco3_e_INB.lower_bound=0\n",
    "M.reactions.EX_his_L_e_INB.lower_bound=0\n",
    "M.reactions.EX_ile_L_e_INB.lower_bound=0\n",
    "M.reactions.EX_leu_L_e_INB.lower_bound=0\n",
    "M.reactions.EX_lys_L_e_INB.lower_bound=0\n",
    "M.reactions.EX_met_L_e_INB.lower_bound=0\n",
    "M.reactions.EX_nh4_e_INB.lower_bound=0\n",
    "M.reactions.EX_o2_e_INB.lower_bound=0\n",
    "M.reactions.EX_phe_L_e_INB.lower_bound=0\n",
    "M.reactions.EX_pi_e_INB.lower_bound=0\n",
    "M.reactions.EX_so4_e_INB.lower_bound=0\n",
    "M.reactions.EX_thr_L_e_INB.lower_bound=0\n",
    "M.reactions.EX_trp_L_e_INB.lower_bound=0\n",
    "M.reactions.EX_val_L_e_INB.lower_bound=0\n",
    "M.reactions.EX_tyr_L_e_INB.lower_bound=0\n",
    "M.reactions.EX_hco3_e.lower_bound=0\n",
    "# deleting liver and brain secreted reactions which no metabolites could not secrete in liver and brain.\n",
    "SecretedRXN=[rxn for rxn in M.reactions if M.reactions.get_by_id(rxn.id).upper_bound>0 and 'EX_' in rxn.id]\n",
    "for reaction in SecretedRXN:\n",
    "    M.reactions.get_by_id(reaction.id).upper_bound=0"
   ]
  },
  {
   "cell_type": "code",
   "execution_count": 23,
   "metadata": {},
   "outputs": [],
   "source": [
    "M.reactions.EX_TH_B_INB.upper_bound=0"
   ]
  },
  {
   "cell_type": "code",
   "execution_count": 24,
   "metadata": {},
   "outputs": [
    {
     "data": {
      "text/plain": [
       "32"
      ]
     },
     "execution_count": 24,
     "metadata": {},
     "output_type": "execute_result"
    }
   ],
   "source": [
    "BloodMeta1=[meta for meta in M.metabolites if '_BD' in meta.id\n",
    "            and '34dhphe' not in meta.id \n",
    "            and 'phpyr_BD'not in meta.id]\n",
    "len(BloodMeta1)"
   ]
  },
  {
   "cell_type": "code",
   "execution_count": 25,
   "metadata": {},
   "outputs": [],
   "source": [
    "## phenylpyruvate and levodopa (34dhphe_BD) alreadly exist\n",
    "BloodMetaExist=['glc_D_c','phe_L_c','tyr_L_c','his_L_c','ile_L_c','leu_L_c','met_L_c',\n",
    "          'thr_L_c','trp_L_c','val_L_c','lys_L_c','ala_L_c','arg_L_c','asn_L_c','asp_L_c','cys_L_c',\n",
    "          'glu_L_c','gln_L_c','gly_c','pro_L_c','ser_L_c','o2_c','nh4_c','pi_c','34dhphe_c','phpyr_c']"
   ]
  },
  {
   "cell_type": "code",
   "execution_count": 26,
   "metadata": {},
   "outputs": [
    {
     "data": {
      "text/plain": [
       "2125"
      ]
     },
     "execution_count": 26,
     "metadata": {},
     "output_type": "execute_result"
    }
   ],
   "source": [
    "MetaCystol=[metab for metab in M.metabolites if metab.compartment == 'c'and '_INB' not in metab.id]\n",
    "len(MetaCystol)"
   ]
  },
  {
   "cell_type": "code",
   "execution_count": 27,
   "metadata": {},
   "outputs": [],
   "source": [
    "SPECIFIC=['11_cis_retfa','retinol_cis_11','9_cis_retfa','retinol_9_cis','13_cis_oretn','13_cis_retn',\n",
    "          'retinal_cis_13','retinal_11_cis','retinal_cis_9','retinol_cis_13','13_cis_retnglc']"
   ]
  },
  {
   "cell_type": "code",
   "execution_count": 28,
   "metadata": {},
   "outputs": [],
   "source": [
    "for META in SPECIFIC:\n",
    "    META_c=META + '_c'\n",
    "    META_c_INB=META + '_c'+'_INB'\n",
    "    from cobra import Model, Reaction, Metabolite\n",
    "    # Adding reaction from liver to blood\n",
    "    rxn_id = f'{META}_TOBD'\n",
    "    reaction = Reaction(rxn_id)\n",
    "    reaction.name = f'Transport reaction of {META} from liver to blood'\n",
    "    reaction.lower_bound = -1000  \n",
    "    reaction.upper_bound = 1000\n",
    "\n",
    "    # Create metabolite object\n",
    "    meta = Metabolite(f'{META}_BD', formula='', name='', compartment='blood')\n",
    "    meta2=M.metabolites.get_by_id(META_c)\n",
    "    reaction.add_metabolites({meta: 1.0, meta2:-1})\n",
    "    reaction.gene_reaction_rule = ''\n",
    "    # Add reaction to model\n",
    "    M.add_reactions([reaction])\n",
    "    \n",
    "    # Adding reaction from blood to brain\n",
    "    rxn_id = f'{META}_TOB'\n",
    "    reaction = Reaction(rxn_id)\n",
    "    reaction.name = f'Transport reaction of {META} from blood to brain'\n",
    "    reaction.lower_bound = -1000  \n",
    "    reaction.upper_bound = 1000\n",
    "\n",
    "    # Create metabolite object\n",
    "    meta = Metabolite(f'{META}_BD', formula='', name='', compartment='blood')\n",
    "    meta3=M.metabolites.get_by_id(META_c_INB)\n",
    "    reaction.add_metabolites({meta: -1.0, meta3:1})\n",
    "    reaction.gene_reaction_rule = ''\n",
    "    # Add reaction to model\n",
    "    M.add_reactions([reaction])"
   ]
  },
  {
   "cell_type": "code",
   "execution_count": 29,
   "metadata": {},
   "outputs": [
    {
     "data": {
      "text/plain": [
       "2088"
      ]
     },
     "execution_count": 29,
     "metadata": {},
     "output_type": "execute_result"
    }
   ],
   "source": [
    "## Phenylpyruvate and leveedopa are in MeetaCystol.\n",
    "MetaCystol=[metab for metab in M.metabolites if metab.compartment == 'c' and '_cis' not in metab.id\n",
    "           and '_car' not in metab.id and '_INB' not in metab.id and metab.id not in BloodMetaExist]\n",
    "len(MetaCystol)"
   ]
  },
  {
   "cell_type": "code",
   "execution_count": 30,
   "metadata": {},
   "outputs": [],
   "source": [
    "for META in MetaCystol:\n",
    "    meta_id_c = META.id.replace(\"_c\",\"\")\n",
    "    meta_id_c1 = META.id.replace(\"_c\",\"_c_INB\")\n",
    "    from cobra import Model, Reaction, Metabolite\n",
    "    # Adding reaction from liver to blood\n",
    "    rxn_id = f'{meta_id_c}_TOBD'\n",
    "    reaction = Reaction(rxn_id)\n",
    "    reaction.name = f'Transport reaction of {meta_id_c} from liver to blood'\n",
    "    ## Irrevisble because they are too many oligopeptide in the model which will make amino acid cross the BBB\n",
    "    reaction.lower_bound = 0  \n",
    "    reaction.upper_bound = 1000\n",
    "\n",
    "    # Create metabolite object\n",
    "    meta = Metabolite(f'{meta_id_c}_BD', formula='', name='', compartment='blood')\n",
    "    meta2=M.metabolites.get_by_id(META.id)\n",
    "    reaction.add_metabolites({meta: 1.0, meta2:-1})\n",
    "    reaction.gene_reaction_rule = ''\n",
    "    # Add reaction to model\n",
    "    M.add_reactions([reaction])\n",
    "    \n",
    "    # Adding reaction from blood to brain\n",
    "    rxn_id = f'{meta_id_c}_TOB'\n",
    "    reaction = Reaction(rxn_id)\n",
    "    reaction.name = f'Transport reaction of {meta_id_c} from blood to brain'\n",
    "    reaction.lower_bound = -1000\n",
    "    reaction.upper_bound = 0\n",
    "\n",
    "    # Create metabolite object\n",
    "    meta = Metabolite(f'{meta_id_c}_BD', formula='', name='', compartment='blood')\n",
    "    meta3=M.metabolites.get_by_id(meta_id_c1)\n",
    "    reaction.add_metabolites({meta: -1.0, meta3:1})\n",
    "    reaction.gene_reaction_rule = ''\n",
    "    # Add reaction to model\n",
    "    M.add_reactions([reaction])"
   ]
  },
  {
   "cell_type": "code",
   "execution_count": 31,
   "metadata": {},
   "outputs": [
    {
     "data": {
      "text/plain": [
       "2131"
      ]
     },
     "execution_count": 31,
     "metadata": {},
     "output_type": "execute_result"
    }
   ],
   "source": [
    "BloodMeta1=[meta for meta in M.metabolites if '_BD' in meta.id\n",
    "            and '34dhphe' not in meta.id \n",
    "            and 'phpyr_BD'not in meta.id]\n",
    "len(BloodMeta1)"
   ]
  },
  {
   "cell_type": "code",
   "execution_count": 32,
   "metadata": {},
   "outputs": [],
   "source": [
    "### Add some exchange reactions (all together) in the blood\n",
    "for META in BloodMeta1:\n",
    "    meta_id_c = META.id\n",
    "    from cobra import Model, Reaction, Metabolite\n",
    "    # Adding exchange reaction\n",
    "    rxn_id = f'EX_{meta_id_c}'\n",
    "    reaction = Reaction(rxn_id)\n",
    "    reaction.name = f'Exchange of {meta_id_c}'\n",
    "    reaction.lower_bound = 0  \n",
    "    reaction.upper_bound = 1000\n",
    "    # Create metabolite object\n",
    "    meta=M.metabolites.get_by_id(META.id)\n",
    "    reaction.add_metabolites({meta: -1.0})\n",
    "    reaction.gene_reaction_rule = ''\n",
    "    # Add reaction to model\n",
    "    M.add_reactions([reaction])"
   ]
  },
  {
   "cell_type": "code",
   "execution_count": 33,
   "metadata": {},
   "outputs": [],
   "source": [
    "## O2 uptake from blood and not from liver, the rest medium metabolites take up from liver\n",
    "M.reactions.EX_o2_e.lower_bound=0\n",
    "M.reactions.EX_o2_BD.lower_bound=-1000"
   ]
  },
  {
   "cell_type": "code",
   "execution_count": 34,
   "metadata": {},
   "outputs": [
    {
     "data": {
      "text/plain": [
       "0.16888639687627724"
      ]
     },
     "execution_count": 34,
     "metadata": {},
     "output_type": "execute_result"
    }
   ],
   "source": [
    "M.solver='glpk'\n",
    "sol = M.optimize()\n",
    "sol.objective_value"
   ]
  },
  {
   "cell_type": "code",
   "execution_count": 35,
   "metadata": {},
   "outputs": [],
   "source": [
    "M.reactions.EX_To1_BD.upper_bound=0\n",
    "M.reactions.EX_To2_BD.upper_bound=0\n",
    "M.reactions.EX_To3_BD.upper_bound=0\n",
    "M.reactions.EX_To4_BD.upper_bound=0\n",
    "M.reactions.EX_To5_BD.upper_bound=0\n",
    "M.reactions.EX_To6_BD.upper_bound=0\n",
    "M.reactions.EX_To7_BD.upper_bound=0\n",
    "M.reactions.EX_To8_BD.upper_bound=0\n",
    "M.reactions.EX_34dhphe_BD.upper_bound=1000\n",
    "M.reactions.EX_phpyr_BD.upper_bound=1000"
   ]
  },
  {
   "cell_type": "code",
   "execution_count": 36,
   "metadata": {},
   "outputs": [
    {
     "data": {
      "text/plain": [
       "2125"
      ]
     },
     "execution_count": 36,
     "metadata": {},
     "output_type": "execute_result"
    }
   ],
   "source": [
    "SecretedRXN=[rxn for rxn in M.reactions if M.reactions.get_by_id(rxn.id).upper_bound>0 and 'EX_' in rxn.id]\n",
    "len(SecretedRXN)"
   ]
  },
  {
   "cell_type": "code",
   "execution_count": 37,
   "metadata": {},
   "outputs": [],
   "source": [
    "M.reactions.get_by_id('34dhpheTR_TOB').lower_bound=-1000"
   ]
  },
  {
   "cell_type": "code",
   "execution_count": 38,
   "metadata": {},
   "outputs": [],
   "source": [
    "cobra.io.save_json_model(M,'Recon3DplusthreeCompetitive.json')"
   ]
  },
  {
   "cell_type": "code",
   "execution_count": null,
   "metadata": {},
   "outputs": [],
   "source": []
  }
 ],
 "metadata": {
  "kernelspec": {
   "display_name": "Python 3 (ipykernel)",
   "language": "python",
   "name": "python3"
  },
  "language_info": {
   "codemirror_mode": {
    "name": "ipython",
    "version": 3
   },
   "file_extension": ".py",
   "mimetype": "text/x-python",
   "name": "python",
   "nbconvert_exporter": "python",
   "pygments_lexer": "ipython3",
   "version": "3.10.6"
  },
  "toc": {
   "base_numbering": 1,
   "nav_menu": {},
   "number_sections": true,
   "sideBar": true,
   "skip_h1_title": false,
   "title_cell": "Table of Contents",
   "title_sidebar": "Contents",
   "toc_cell": false,
   "toc_position": {
    "height": "540px",
    "left": "318px",
    "top": "156px",
    "width": "168px"
   },
   "toc_section_display": true,
   "toc_window_display": true
  },
  "varInspector": {
   "cols": {
    "lenName": 16,
    "lenType": 16,
    "lenVar": 40
   },
   "kernels_config": {
    "python": {
     "delete_cmd_postfix": "",
     "delete_cmd_prefix": "del ",
     "library": "var_list.py",
     "varRefreshCmd": "print(var_dic_list())"
    },
    "r": {
     "delete_cmd_postfix": ") ",
     "delete_cmd_prefix": "rm(",
     "library": "var_list.r",
     "varRefreshCmd": "cat(var_dic_list()) "
    }
   },
   "types_to_exclude": [
    "module",
    "function",
    "builtin_function_or_method",
    "instance",
    "_Feature"
   ],
   "window_display": false
  }
 },
 "nbformat": 4,
 "nbformat_minor": 2
}
