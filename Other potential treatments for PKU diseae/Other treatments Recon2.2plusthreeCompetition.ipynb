{
 "cells": [
  {
   "cell_type": "markdown",
   "metadata": {},
   "source": [
    "# Recon2.2plusthreeCompetition.json [Transport Competitive mechanism only]"
   ]
  },
  {
   "cell_type": "markdown",
   "metadata": {},
   "source": [
    "##Changing medium"
   ]
  },
  {
   "cell_type": "code",
   "execution_count": 1,
   "metadata": {},
   "outputs": [],
   "source": [
    "import cobra\n",
    "import pandas as pd\n",
    "import numpy as np\n",
    "import pickle\n",
    "from cobra.flux_analysis import pfba"
   ]
  },
  {
   "cell_type": "code",
   "execution_count": 2,
   "metadata": {},
   "outputs": [
    {
     "name": "stdout",
     "output_type": "stream",
     "text": [
      "Scaling...\n",
      " A: min|aij| =  1.000e+00  max|aij| =  1.000e+00  ratio =  1.000e+00\n",
      "Problem data seem to be well scaled\n"
     ]
    }
   ],
   "source": [
    "M = cobra.io.load_json_model('Recon2.2plusthreeCompetitive.json')"
   ]
  },
  {
   "cell_type": "markdown",
   "metadata": {},
   "source": [
    "# Other treatment"
   ]
  },
  {
   "cell_type": "markdown",
   "metadata": {},
   "source": [
    "## Exercise (Other treatment)"
   ]
  },
  {
   "cell_type": "code",
   "execution_count": 3,
   "metadata": {},
   "outputs": [],
   "source": [
    "from cobra.flux_analysis import pfba\n",
    "# import map visualization tools\n",
    "from utils import show_map\n",
    "import escher\n",
    "map_loc = 'Recon2.2plusthreeCompetitiveMap.json' # the escher map used below\n",
    "# show all output\n",
    "from IPython.core.interactiveshell import InteractiveShell\n",
    "InteractiveShell.ast_node_interactivity = \"all\"\n",
    "model=M.copy()"
   ]
  },
  {
   "cell_type": "code",
   "execution_count": 4,
   "metadata": {},
   "outputs": [],
   "source": [
    "# Setting objective function: biomass reaction in the brain + dopamine production + serotonin production\n",
    "quadratic_objective = model.problem.Objective(model.reactions.biomass_reaction_INB.flux_expression+\n",
    "                                              model.reactions.get_by_id('3HLYTCL_INB').flux_expression+\n",
    "                                              model.reactions.get_by_id('5HLTDL_INB').flux_expression,\n",
    "    direction='max')\n",
    "model.objective = quadratic_objective"
   ]
  },
  {
   "cell_type": "code",
   "execution_count": 5,
   "metadata": {},
   "outputs": [],
   "source": [
    "# Changing the phe and tyr in the medium\n",
    "model.reactions.EX_phe_L_e.lower_bound=-0.2\n",
    "model.reactions.EX_phe_L_e.upper_bound=-0.2\n",
    "model.reactions.EX_tyr_L_e.lower_bound=-0.04"
   ]
  },
  {
   "cell_type": "code",
   "execution_count": 6,
   "metadata": {},
   "outputs": [
    {
     "data": {
      "text/plain": [
       "0.2547554"
      ]
     },
     "execution_count": 6,
     "metadata": {},
     "output_type": "execute_result"
    },
    {
     "data": {
      "application/vnd.jupyter.widget-view+json": {
       "model_id": "fa79d8c7089e4a479b672de6a8e173df",
       "version_major": 2,
       "version_minor": 0
      },
      "text/plain": [
       "Builder(hide_secondary_metabolites=False, highlight_missing=True, reaction_data={'13DAMPPOX': 0.0, '1a_24_25VI…"
      ]
     },
     "metadata": {},
     "output_type": "display_data"
    }
   ],
   "source": [
    "## Other reactions to produce l-dopa is forbidded\n",
    "model.reactions.TYRDOPO_INB.upper_bound=0\n",
    "model.reactions.TYR3MO2_INB.upper_bound=0\n",
    "## liver biomass is constant\n",
    "model.reactions.biomass_reaction.lower_bound=0.05\n",
    "model.reactions.biomass_reaction.upper_bound=0.05\n",
    "## do not need too much biomass in the brain\n",
    "model.reactions.biomass_reaction_INB.upper_bound=0.1\n",
    "# Phe secretion in the blood is blocked, otherwise there is no competition.\n",
    "model.reactions.EX_phe_L_BD.upper_bound=0\n",
    "# Phenylpyruvate production in the brain and Liver are limited\n",
    "model.reactions.get_by_id('PHPYRte_INB').lower_bound=0\n",
    "model.reactions.get_by_id('PHPYRte').lower_bound=0\n",
    "# Serotonin production\n",
    "model.reactions.get_by_id('5HLTDL_INB').lower_bound=0.095\n",
    "### No PAH in the brain\n",
    "model.reactions.PHETHPTOX2_INB.lower_bound=0\n",
    "model.reactions.PHETHPTOX2_INB.upper_bound=0\n",
    "model.reactions.r0399_INB.lower_bound=0\n",
    "model.reactions.r0399_INB.upper_bound=0\n",
    "### Tyrosine hydroxylase\n",
    "model.reactions.EX_TH_B_INB.upper_bound=1000\n",
    "model.reactions.get_by_id('34dhpheTR_TOBD').upper_bound=0 ##No levodopa from liver to blood.\n",
    "model.reactions.Ti1_To1.upper_bound=0.198\n",
    "### Only consider the transport competitive mechanism\n",
    "model.reactions.Phe_TH_INB.upper_bound=0\n",
    "model.solver='glpk'\n",
    "sol = model.optimize()\n",
    "sol.objective_value\n",
    "fbasol = model.optimize()\n",
    "b = show_map(fbasol,map_loc)\n",
    "b"
   ]
  },
  {
   "cell_type": "code",
   "execution_count": 7,
   "metadata": {},
   "outputs": [
    {
     "data": {
      "text/plain": [
       "0.18734518083433527"
      ]
     },
     "execution_count": 7,
     "metadata": {},
     "output_type": "execute_result"
    }
   ],
   "source": [
    "model1=model.copy()\n",
    "# Kncoking gene 'HGNC:8582' to simulate the PKU patients\n",
    "model1.genes.get_by_id('HGNC:8582').knock_out()\n",
    "model1.reactions.get_by_id('PHPYRte_INB').lower_bound=-0.1\n",
    "model1.reactions.get_by_id('PHPYRte').lower_bound=-0.1\n",
    "sol = model1.optimize()\n",
    "sol.objective_value"
   ]
  },
  {
   "cell_type": "code",
   "execution_count": 8,
   "metadata": {
    "scrolled": true
   },
   "outputs": [
    {
     "data": {
      "application/vnd.jupyter.widget-view+json": {
       "model_id": "0b197e1955864c73874b7bd0c10fd429",
       "version_major": 2,
       "version_minor": 0
      },
      "text/plain": [
       "Builder(hide_secondary_metabolites=False, highlight_missing=True, reaction_data={'13DAMPPOX': 0.0, '1a_24_25VI…"
      ]
     },
     "metadata": {},
     "output_type": "display_data"
    }
   ],
   "source": [
    "fbasol = model1.optimize()\n",
    "b = show_map(fbasol,map_loc)\n",
    "b"
   ]
  },
  {
   "cell_type": "code",
   "execution_count": 9,
   "metadata": {},
   "outputs": [],
   "source": [
    "#Remembering to add other amino acid\n",
    "model1.reactions.EX_glc_e.lower_bound=-2##Do not need much glucsoe.\n",
    "model1.reactions.EX_his_L_e.lower_bound=-0.2\n",
    "model1.reactions.EX_ile_L_e.lower_bound=-0.2\n",
    "model1.reactions.EX_leu_L_e.lower_bound=-0.2\n",
    "model1.reactions.EX_lys_L_e.lower_bound=-0.2\n",
    "model1.reactions.EX_met_L_e.lower_bound=-0.2\n",
    "model1.reactions.EX_thr_L_e.lower_bound=-0.2\n",
    "model1.reactions.EX_trp_L_e.lower_bound=-0.1\n",
    "model1.reactions.EX_val_L_e.lower_bound=-0.2\n",
    "model1.reactions.EX_tyr_L_e.lower_bound=-0.1"
   ]
  },
  {
   "cell_type": "code",
   "execution_count": 10,
   "metadata": {},
   "outputs": [
    {
     "data": {
      "text/plain": [
       "0.24190296608223907"
      ]
     },
     "execution_count": 10,
     "metadata": {},
     "output_type": "execute_result"
    }
   ],
   "source": [
    "model1.reactions.biomass_reaction.upper_bound=0.5\n",
    "sol = model1.optimize()\n",
    "sol.objective_value"
   ]
  },
  {
   "cell_type": "code",
   "execution_count": 11,
   "metadata": {},
   "outputs": [
    {
     "data": {
      "application/vnd.jupyter.widget-view+json": {
       "model_id": "693e156cf79f4548b8d5abe380fb00a1",
       "version_major": 2,
       "version_minor": 0
      },
      "text/plain": [
       "Builder(hide_secondary_metabolites=False, highlight_missing=True, reaction_data={'13DAMPPOX': 0.0, '1a_24_25VI…"
      ]
     },
     "metadata": {},
     "output_type": "display_data"
    }
   ],
   "source": [
    "fbasol = model1.optimize()\n",
    "b = show_map(fbasol,map_loc)\n",
    "b"
   ]
  },
  {
   "cell_type": "markdown",
   "metadata": {},
   "source": [
    "## More carriers for model"
   ]
  },
  {
   "cell_type": "code",
   "execution_count": 12,
   "metadata": {},
   "outputs": [
    {
     "data": {
      "text/plain": [
       "0.2140536"
      ]
     },
     "execution_count": 12,
     "metadata": {},
     "output_type": "execute_result"
    },
    {
     "data": {
      "application/vnd.jupyter.widget-view+json": {
       "model_id": "a6ea663a34a7417695cfd28134d11021",
       "version_major": 2,
       "version_minor": 0
      },
      "text/plain": [
       "Builder(hide_secondary_metabolites=False, highlight_missing=True, reaction_data={'13DAMPPOX': 0.0, '1a_24_25VI…"
      ]
     },
     "metadata": {},
     "output_type": "display_data"
    }
   ],
   "source": [
    "model2=model.copy()\n",
    "# Kncoking gene 'HGNC:8582' to simulate the PKU patients\n",
    "model2.genes.get_by_id('HGNC:8582').knock_out()\n",
    "model2.reactions.get_by_id('PHPYRte_INB').lower_bound=-0.1\n",
    "model2.reactions.get_by_id('PHPYRte').lower_bound=-0.1\n",
    "model2.reactions.Ti1_To1.upper_bound=0.3\n",
    "sol = model2.optimize()\n",
    "sol.objective_value\n",
    "b = show_map(sol,map_loc)\n",
    "b"
   ]
  },
  {
   "cell_type": "markdown",
   "metadata": {},
   "source": [
    "# Young PKU patient VS elderly PKU patient with Recon2.2plusthreeCompetitive"
   ]
  },
  {
   "cell_type": "markdown",
   "metadata": {},
   "source": [
    "##We assume the treatment should not produce the Phenylpyruvate in the system."
   ]
  },
  {
   "cell_type": "code",
   "execution_count": 1,
   "metadata": {},
   "outputs": [],
   "source": [
    "import cobra\n",
    "import pandas as pd\n",
    "import numpy as np\n",
    "import pickle\n",
    "from cobra.flux_analysis import pfba"
   ]
  },
  {
   "cell_type": "code",
   "execution_count": 2,
   "metadata": {},
   "outputs": [
    {
     "name": "stdout",
     "output_type": "stream",
     "text": [
      "Scaling...\n",
      " A: min|aij| =  1.000e+00  max|aij| =  1.000e+00  ratio =  1.000e+00\n",
      "Problem data seem to be well scaled\n"
     ]
    }
   ],
   "source": [
    "# import map visualization tools\n",
    "from utils import show_map\n",
    "import escher\n",
    "map_loc = 'Recon2.2plusthreeCompetitiveMap.json' # the escher map used below\n",
    "# show all output\n",
    "from IPython.core.interactiveshell import InteractiveShell\n",
    "InteractiveShell.ast_node_interactivity = \"all\"\n",
    "\n",
    "# Load Recon2.2Model with a simplified medium for the course\n",
    "M = cobra.io.load_json_model('Recon2.2plusthreeCompetitive.json')"
   ]
  },
  {
   "cell_type": "code",
   "execution_count": 3,
   "metadata": {},
   "outputs": [],
   "source": [
    "model=M.copy()"
   ]
  },
  {
   "cell_type": "code",
   "execution_count": 4,
   "metadata": {},
   "outputs": [],
   "source": [
    "# Setting objective function: biomass reaction in the brain + dopamine production + serotonin production\n",
    "quadratic_objective = model.problem.Objective(model.reactions.biomass_reaction_INB.flux_expression+\n",
    "                                              model.reactions.get_by_id('3HLYTCL_INB').flux_expression+\n",
    "                                              model.reactions.get_by_id('5HLTDL_INB').flux_expression,\n",
    "    direction='max')\n",
    "model.objective = quadratic_objective"
   ]
  },
  {
   "cell_type": "code",
   "execution_count": 5,
   "metadata": {},
   "outputs": [],
   "source": [
    "# Changing the phe and tyr in the medium\n",
    "model.reactions.EX_phe_L_e.lower_bound=-0.2\n",
    "model.reactions.EX_phe_L_e.upper_bound=-0.2\n",
    "model.reactions.EX_tyr_L_e.lower_bound=-0.1"
   ]
  },
  {
   "cell_type": "code",
   "execution_count": 6,
   "metadata": {},
   "outputs": [
    {
     "data": {
      "text/plain": [
       "0.2547554000000001"
      ]
     },
     "execution_count": 6,
     "metadata": {},
     "output_type": "execute_result"
    },
    {
     "data": {
      "application/vnd.jupyter.widget-view+json": {
       "model_id": "e8f8b93d164a4eaba505cc42048bc875",
       "version_major": 2,
       "version_minor": 0
      },
      "text/plain": [
       "Builder(hide_secondary_metabolites=False, highlight_missing=True, reaction_data={'13DAMPPOX': 0.0, '1a_24_25VI…"
      ]
     },
     "metadata": {},
     "output_type": "display_data"
    }
   ],
   "source": [
    "## Other reactions to produce l-dopa is forbidded\n",
    "model.reactions.TYRDOPO_INB.upper_bound=0\n",
    "model.reactions.TYR3MO2_INB.upper_bound=0\n",
    "## liver biomass is constant\n",
    "model.reactions.biomass_reaction.lower_bound=0.05\n",
    "model.reactions.biomass_reaction.upper_bound=0.05\n",
    "## do not need too much biomass in the brain\n",
    "model.reactions.biomass_reaction_INB.upper_bound=0.1\n",
    "# Phe secretion in the blood is blocked, otherwise there is no competition.\n",
    "model.reactions.EX_phe_L_BD.upper_bound=0\n",
    "# Phenylpyruvate production in the brain and Liver are limited\n",
    "model.reactions.get_by_id('PHPYRte_INB').lower_bound=0\n",
    "model.reactions.get_by_id('PHPYRte').lower_bound=0\n",
    "# Serotonin production\n",
    "model.reactions.get_by_id('5HLTDL_INB').lower_bound=0.095\n",
    "### No PAH in the brain\n",
    "model.reactions.PHETHPTOX2_INB.lower_bound=0\n",
    "model.reactions.PHETHPTOX2_INB.upper_bound=0\n",
    "model.reactions.r0399_INB.lower_bound=0\n",
    "model.reactions.r0399_INB.upper_bound=0\n",
    "### Tyrosine hydroxylase\n",
    "model.reactions.EX_TH_B_INB.upper_bound=1000\n",
    "model.reactions.get_by_id('34dhpheTR_TOBD').upper_bound=0 ##No levodopa from liver to blood.\n",
    "model.reactions.Ti1_To1.upper_bound=0.198\n",
    "### Only consider the transport competitive mechanism\n",
    "model.reactions.Phe_TH_INB.upper_bound=0\n",
    "model.solver='glpk'\n",
    "sol = model.optimize()\n",
    "sol.objective_value\n",
    "fbasol = model.optimize()\n",
    "b = show_map(fbasol,map_loc)\n",
    "b"
   ]
  },
  {
   "cell_type": "code",
   "execution_count": 7,
   "metadata": {},
   "outputs": [
    {
     "data": {
      "text/plain": [
       "0.18734518083433555"
      ]
     },
     "execution_count": 7,
     "metadata": {},
     "output_type": "execute_result"
    }
   ],
   "source": [
    "model1=model.copy()\n",
    "# Kncoking gene 'HGNC:8582' to simulate the PKU patients\n",
    "model1.genes.get_by_id('HGNC:8582').knock_out()\n",
    "model1.reactions.get_by_id('PHPYRte_INB').lower_bound=-0.1\n",
    "model1.reactions.get_by_id('PHPYRte').lower_bound=-0.1\n",
    "sol = model1.optimize()\n",
    "sol.objective_value"
   ]
  },
  {
   "cell_type": "code",
   "execution_count": 8,
   "metadata": {},
   "outputs": [
    {
     "data": {
      "application/vnd.jupyter.widget-view+json": {
       "model_id": "2bc3765a3fda49059ca1128ad7916dd9",
       "version_major": 2,
       "version_minor": 0
      },
      "text/plain": [
       "Builder(hide_secondary_metabolites=False, highlight_missing=True, reaction_data={'13DAMPPOX': 0.0, '1a_24_25VI…"
      ]
     },
     "metadata": {},
     "output_type": "display_data"
    }
   ],
   "source": [
    "fbasol = model1.optimize()\n",
    "b = show_map(fbasol,map_loc)\n",
    "b"
   ]
  },
  {
   "cell_type": "code",
   "execution_count": 52,
   "metadata": {},
   "outputs": [],
   "source": [
    "# For children\n",
    "model2=model1.copy()\n",
    "model2.solver='glpk'"
   ]
  },
  {
   "cell_type": "code",
   "execution_count": 53,
   "metadata": {},
   "outputs": [
    {
     "data": {
      "application/vnd.jupyter.widget-view+json": {
       "model_id": "273ccd881e47447bafbbf66cfe2181b3",
       "version_major": 2,
       "version_minor": 0
      },
      "text/plain": [
       "Builder(hide_secondary_metabolites=False, highlight_missing=True, reaction_data={'13DAMPPOX': 0.0, '1a_24_25VI…"
      ]
     },
     "metadata": {},
     "output_type": "display_data"
    }
   ],
   "source": [
    "model2.reactions.biomass_reaction_INB.upper_bound=0.1\n",
    "model2.reactions.biomass_reaction_INB.lower_bound=0.1\n",
    "model2.reactions.get_by_id('3HLYTCL_INB').lower_bound=0.0596\n",
    "model2.reactions.get_by_id('3HLYTCL_INB').upper_bound=0.0596\n",
    "model2.reactions.get_by_id('5HLTDL_INB').upper_bound=0.095\n",
    "model2.reactions.get_by_id('5HLTDL_INB').lower_bound=0.095\n",
    "### No Phenylpyruvate production in liver\n",
    "model2.reactions.PHETA1.upper_bound=0.0001\n",
    "model2.reactions.EX_phe_L_e.upper_bound=-0.039\n",
    "model2.reactions.EX_phe_L_e.lower_bound=-0.039\n",
    "fbasol = model2.optimize()\n",
    "b = show_map(fbasol,map_loc)\n",
    "b"
   ]
  },
  {
   "cell_type": "markdown",
   "metadata": {},
   "source": [
    "##For children, the basic need for Phe is 0.0389. And if they need the biomass, dopamine and serotonin in the brain be normal, they should decrease the Phe uptake flux to 0.04."
   ]
  },
  {
   "cell_type": "code",
   "execution_count": 56,
   "metadata": {},
   "outputs": [
    {
     "data": {
      "application/vnd.jupyter.widget-view+json": {
       "model_id": "c6acb52455d740198dc99eaa1228e313",
       "version_major": 2,
       "version_minor": 0
      },
      "text/plain": [
       "Builder(hide_secondary_metabolites=False, highlight_missing=True, reaction_data={'13DAMPPOX': 0.0, '1a_24_25VI…"
      ]
     },
     "metadata": {},
     "output_type": "display_data"
    }
   ],
   "source": [
    "#For adult person\n",
    "model3=model1.copy()\n",
    "### No Phenylpyruvate production in liver\n",
    "model3.reactions.PHETA1.upper_bound=0.0001\n",
    "model3.reactions.biomass_reaction_INB.upper_bound=0.05\n",
    "model3.reactions.biomass_reaction_INB.lower_bound=0.05\n",
    "model3.reactions.get_by_id('3HLYTCL_INB').upper_bound=0.0596\n",
    "model3.reactions.get_by_id('3HLYTCL_INB').lower_bound=0.0596\n",
    "model3.reactions.get_by_id('5HLTDL_INB').upper_bound=0.095\n",
    "model3.reactions.get_by_id('5HLTDL_INB').lower_bound=0.095\n",
    "model3.reactions.EX_phe_L_e.upper_bound=-0.0475\n",
    "model3.reactions.EX_phe_L_e.lower_bound=-0.0475\n",
    "fbasol = model3.optimize()\n",
    "b = show_map(fbasol,map_loc)\n",
    "b"
   ]
  },
  {
   "cell_type": "code",
   "execution_count": 58,
   "metadata": {},
   "outputs": [
    {
     "data": {
      "application/vnd.jupyter.widget-view+json": {
       "model_id": "7e91463f746e4aed950d999872f8bfda",
       "version_major": 2,
       "version_minor": 0
      },
      "text/plain": [
       "Builder(hide_secondary_metabolites=False, highlight_missing=True, reaction_data={'13DAMPPOX': 0.0, '1a_24_25VI…"
      ]
     },
     "metadata": {},
     "output_type": "display_data"
    }
   ],
   "source": [
    "#For old person\n",
    "model4=model1.copy()\n",
    "### No Phenylpyruvate production in liver\n",
    "model4.reactions.PHETA1.upper_bound=0.0001\n",
    "model4.reactions.biomass_reaction_INB.upper_bound=0.02\n",
    "model4.reactions.biomass_reaction_INB.lower_bound=0.02\n",
    "model4.reactions.get_by_id('3HLYTCL_INB').upper_bound=0.07\n",
    "model4.reactions.get_by_id('3HLYTCL_INB').lower_bound=0.07\n",
    "model4.reactions.get_by_id('5HLTDL_INB').upper_bound=0.095\n",
    "model4.reactions.get_by_id('5HLTDL_INB').lower_bound=0.095\n",
    "model4.reactions.EX_phe_L_e.upper_bound=-0.0425\n",
    "model4.reactions.EX_phe_L_e.lower_bound=-0.0425\n",
    "fbasol = model4.optimize()\n",
    "b = show_map(fbasol,map_loc)\n",
    "b"
   ]
  },
  {
   "cell_type": "code",
   "execution_count": 62,
   "metadata": {},
   "outputs": [
    {
     "data": {
      "application/vnd.jupyter.widget-view+json": {
       "model_id": "ac628a6be7f6478ea87bec42a8414593",
       "version_major": 2,
       "version_minor": 0
      },
      "text/plain": [
       "Builder(hide_secondary_metabolites=False, highlight_missing=True, reaction_data={'13DAMPPOX': 0.0, '1a_24_25VI…"
      ]
     },
     "metadata": {},
     "output_type": "display_data"
    }
   ],
   "source": [
    "#For old person (less biomass and more dopamine)\n",
    "model5=model1.copy()\n",
    "### No Phenylpyruvate production in liver\n",
    "model5.reactions.PHETA1.upper_bound=0.0001\n",
    "model5.reactions.biomass_reaction_INB.upper_bound=0.02\n",
    "model5.reactions.biomass_reaction_INB.lower_bound=0.02\n",
    "model5.reactions.get_by_id('3HLYTCL_INB').upper_bound=0.06\n",
    "model5.reactions.get_by_id('3HLYTCL_INB').lower_bound=0.06\n",
    "model5.reactions.get_by_id('5HLTDL_INB').upper_bound=0.095\n",
    "model5.reactions.get_by_id('5HLTDL_INB').lower_bound=0.095\n",
    "model5.reactions.EX_phe_L_e.upper_bound=-0.0525\n",
    "model5.reactions.EX_phe_L_e.lower_bound=-0.0525\n",
    "fbasol = model5.optimize()\n",
    "b = show_map(fbasol,map_loc)\n",
    "b"
   ]
  },
  {
   "cell_type": "code",
   "execution_count": null,
   "metadata": {},
   "outputs": [],
   "source": []
  }
 ],
 "metadata": {
  "kernelspec": {
   "display_name": "Python 3 (ipykernel)",
   "language": "python",
   "name": "python3"
  },
  "language_info": {
   "codemirror_mode": {
    "name": "ipython",
    "version": 3
   },
   "file_extension": ".py",
   "mimetype": "text/x-python",
   "name": "python",
   "nbconvert_exporter": "python",
   "pygments_lexer": "ipython3",
   "version": "3.10.6"
  },
  "toc": {
   "base_numbering": 1,
   "nav_menu": {},
   "number_sections": true,
   "sideBar": true,
   "skip_h1_title": false,
   "title_cell": "Table of Contents",
   "title_sidebar": "Contents",
   "toc_cell": false,
   "toc_position": {
    "height": "540px",
    "left": "318px",
    "top": "156px",
    "width": "168px"
   },
   "toc_section_display": true,
   "toc_window_display": true
  },
  "varInspector": {
   "cols": {
    "lenName": 16,
    "lenType": 16,
    "lenVar": 40
   },
   "kernels_config": {
    "python": {
     "delete_cmd_postfix": "",
     "delete_cmd_prefix": "del ",
     "library": "var_list.py",
     "varRefreshCmd": "print(var_dic_list())"
    },
    "r": {
     "delete_cmd_postfix": ") ",
     "delete_cmd_prefix": "rm(",
     "library": "var_list.r",
     "varRefreshCmd": "cat(var_dic_list()) "
    }
   },
   "types_to_exclude": [
    "module",
    "function",
    "builtin_function_or_method",
    "instance",
    "_Feature"
   ],
   "window_display": false
  }
 },
 "nbformat": 4,
 "nbformat_minor": 2
}
