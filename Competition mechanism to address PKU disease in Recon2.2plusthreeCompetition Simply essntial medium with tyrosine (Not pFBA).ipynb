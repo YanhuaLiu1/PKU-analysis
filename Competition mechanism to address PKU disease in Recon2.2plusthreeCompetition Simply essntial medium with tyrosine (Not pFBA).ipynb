{
 "cells": [
  {
   "cell_type": "markdown",
   "metadata": {},
   "source": [
    "# Recon2.2plusthreeCompetition).json [Competitive mechanism only]"
   ]
  },
  {
   "cell_type": "markdown",
   "metadata": {},
   "source": [
    "##Changing medium"
   ]
  },
  {
   "cell_type": "code",
   "execution_count": 1,
   "metadata": {},
   "outputs": [],
   "source": [
    "import cobra\n",
    "import pandas as pd\n",
    "import numpy as np\n",
    "import pickle\n",
    "from cobra.flux_analysis import pfba"
   ]
  },
  {
   "cell_type": "code",
   "execution_count": 2,
   "metadata": {},
   "outputs": [
    {
     "name": "stdout",
     "output_type": "stream",
     "text": [
      "Scaling...\n",
      " A: min|aij| =  1.000e+00  max|aij| =  1.000e+00  ratio =  1.000e+00\n",
      "Problem data seem to be well scaled\n"
     ]
    }
   ],
   "source": [
    "M = cobra.io.load_json_model('Recon2.2plusthreeCompetitive.json')"
   ]
  },
  {
   "cell_type": "code",
   "execution_count": 3,
   "metadata": {},
   "outputs": [],
   "source": [
    "# deleting brain medium composition because this metabolite will uptake from blood\n",
    "M.reactions.EX_co2_e_INB.lower_bound=0\n",
    "M.reactions.EX_co2_e.lower_bound=0\n",
    "M.reactions.EX_glc_e_INB.lower_bound=0\n",
    "M.reactions.EX_h_e.lower_bound=0\n",
    "M.reactions.EX_h_e_INB.lower_bound=0\n",
    "M.reactions.EX_hco3_e_INB.lower_bound=0\n",
    "M.reactions.EX_hco3_e.lower_bound=0\n",
    "M.reactions.EX_his_L_e_INB.lower_bound=0\n",
    "M.reactions.EX_ile_L_e_INB.lower_bound=0\n",
    "M.reactions.EX_leu_L_e_INB.lower_bound=0\n",
    "M.reactions.EX_lys_L_e_INB.lower_bound=0\n",
    "M.reactions.EX_met_L_e_INB.lower_bound=0\n",
    "M.reactions.EX_nh4_e_INB.lower_bound=0\n",
    "M.reactions.EX_o2_e_INB.lower_bound=0\n",
    "M.reactions.EX_phe_L_e_INB.lower_bound=0\n",
    "M.reactions.EX_pi_e_INB.lower_bound=0\n",
    "M.reactions.EX_so4_e_INB.lower_bound=0\n",
    "M.reactions.EX_thr_L_e_INB.lower_bound=0\n",
    "M.reactions.EX_trp_L_e_INB.lower_bound=0\n",
    "M.reactions.EX_val_L_e_INB.lower_bound=0"
   ]
  },
  {
   "cell_type": "code",
   "execution_count": 4,
   "metadata": {},
   "outputs": [
    {
     "data": {
      "text/plain": [
       "0.16888753778858653"
      ]
     },
     "execution_count": 4,
     "metadata": {},
     "output_type": "execute_result"
    }
   ],
   "source": [
    "M.solver='glpk'\n",
    "sol = M.optimize()\n",
    "sol.objective_value"
   ]
  },
  {
   "cell_type": "markdown",
   "metadata": {},
   "source": [
    "## Tyrosine is not enough in the diet (model1)"
   ]
  },
  {
   "cell_type": "code",
   "execution_count": 15,
   "metadata": {},
   "outputs": [],
   "source": [
    "import cobra\n",
    "import pandas as pd\n",
    "import numpy as np"
   ]
  },
  {
   "cell_type": "code",
   "execution_count": 16,
   "metadata": {},
   "outputs": [],
   "source": [
    "from cobra.flux_analysis import pfba\n",
    "# import map visualization tools\n",
    "from utils import show_map\n",
    "import escher\n",
    "map_loc = 'Recon2.2plusthreeCompetitivemap.json' # the escher map used below\n",
    "# show all output\n",
    "from IPython.core.interactiveshell import InteractiveShell\n",
    "InteractiveShell.ast_node_interactivity = \"all\"\n",
    "\n",
    "model=M.copy()\n",
    "model1=model.copy()"
   ]
  },
  {
   "cell_type": "code",
   "execution_count": 17,
   "metadata": {},
   "outputs": [],
   "source": [
    "# Setting objective function: biomass reaction in the brain + dopamine production + serotonin production\n",
    "quadratic_objective = model1.problem.Objective(model1.reactions.biomass_reaction_INB.flux_expression+\n",
    "                                              model1.reactions.get_by_id('3HLYTCL_INB').flux_expression+\n",
    "                                              model1.reactions.get_by_id('5HLTDL_INB').flux_expression,\n",
    "    direction='max')\n",
    "model1.objective = quadratic_objective"
   ]
  },
  {
   "cell_type": "code",
   "execution_count": 18,
   "metadata": {},
   "outputs": [],
   "source": [
    "# Changing the phe and tyr in the medium, because they also use for producing dopa.\n",
    "model1.reactions.EX_phe_L_e.lower_bound=-0.1\n",
    "model1.reactions.EX_phe_L_e.upper_bound=-0.1\n",
    "model1.reactions.EX_tyr_L_e.lower_bound=-0.04"
   ]
  },
  {
   "cell_type": "code",
   "execution_count": 19,
   "metadata": {},
   "outputs": [
    {
     "data": {
      "text/plain": [
       "0.2547554000000002"
      ]
     },
     "execution_count": 19,
     "metadata": {},
     "output_type": "execute_result"
    },
    {
     "data": {
      "application/vnd.jupyter.widget-view+json": {
       "model_id": "4b8f7d757bf04776b06f9e504b6cc1c1",
       "version_major": 2,
       "version_minor": 0
      },
      "text/plain": [
       "Builder(hide_secondary_metabolites=False, highlight_missing=True, reaction_data={'13DAMPPOX': 0.0, '1a_24_25VI…"
      ]
     },
     "metadata": {},
     "output_type": "display_data"
    }
   ],
   "source": [
    "model1.reactions.EX_dopa_e_INB.upper_bound=1000\n",
    "model1.reactions.EX_adrnl_e_INB.upper_bound=1000\n",
    "model1.reactions.EX_srtn_e_INB.upper_bound=1000\n",
    "## Other reactions to produce l-dopa is forbidded\n",
    "model1.reactions.TYRDOPO_INB.upper_bound=0\n",
    "model1.reactions.TYR3MO2_INB.upper_bound=0\n",
    "## liver biomass is constant\n",
    "model1.reactions.biomass_reaction.lower_bound=0.05\n",
    "model1.reactions.biomass_reaction.upper_bound=0.05\n",
    "## do not need too much biomass in the brain\n",
    "model1.reactions.biomass_reaction_INB.upper_bound=0.1\n",
    "# No phenylpyruvate exchange in the brain\n",
    "model1.reactions.get_by_id('EX_phpyr_e_INB').upper_bound=0\n",
    "# Serotonin production\n",
    "model1.reactions.get_by_id('5HLTDL_INB').lower_bound=0.095\n",
    "### No PAH in the brain\n",
    "model1.reactions.PHETHPTOX2_INB.lower_bound=0\n",
    "model1.reactions.PHETHPTOX2_INB.upper_bound=0\n",
    "model1.reactions.r0399_INB.lower_bound=0\n",
    "model1.reactions.r0399_INB.upper_bound=0\n",
    "### Tyrosine hydroxylase\n",
    "model1.reactions.EX_TH_B_INB.upper_bound=1000\n",
    "model1.reactions.LdopaTR_TOBD.upper_bound=0 ##No levodopa from liver to blood.\n",
    "model1.reactions.Ti_To.upper_bound=0.198\n",
    "model1.solver='glpk'\n",
    "sol = model1.optimize()\n",
    "sol.objective_value\n",
    "fbasol = model1.optimize()\n",
    "b = show_map(fbasol,map_loc)\n",
    "b"
   ]
  },
  {
   "cell_type": "code",
   "execution_count": 20,
   "metadata": {},
   "outputs": [
    {
     "data": {
      "text/plain": [
       "0.1873451808343353"
      ]
     },
     "execution_count": 20,
     "metadata": {},
     "output_type": "execute_result"
    },
    {
     "data": {
      "application/vnd.jupyter.widget-view+json": {
       "model_id": "7c937347d5ab4ab3893d58c2cb6495ac",
       "version_major": 2,
       "version_minor": 0
      },
      "text/plain": [
       "Builder(hide_secondary_metabolites=False, highlight_missing=True, reaction_data={'13DAMPPOX': 0.0, '1a_24_25VI…"
      ]
     },
     "metadata": {},
     "output_type": "display_data"
    }
   ],
   "source": [
    "model2=model1.copy()\n",
    "# Kncoking gene 'HGNC:8582' to simulate the PKU patients\n",
    "model2.genes.get_by_id('HGNC:8582').knock_out()\n",
    "model2.reactions.PHPYRte.upper_bound=0\n",
    "model2.reactions.PHPYRte.lower_bound=0\n",
    "sol = model2.optimize()\n",
    "sol.objective_value\n",
    "fbasol = model2.optimize()\n",
    "b = show_map(fbasol,map_loc)\n",
    "b"
   ]
  },
  {
   "cell_type": "code",
   "execution_count": 21,
   "metadata": {},
   "outputs": [
    {
     "data": {
      "text/plain": [
       "0.18734518083433524"
      ]
     },
     "execution_count": 21,
     "metadata": {},
     "output_type": "execute_result"
    },
    {
     "data": {
      "application/vnd.jupyter.widget-view+json": {
       "model_id": "d0fb0a9ca87840998ad5028cf2f04425",
       "version_major": 2,
       "version_minor": 0
      },
      "text/plain": [
       "Builder(hide_secondary_metabolites=False, highlight_missing=True, reaction_data={'13DAMPPOX': 0.0, '1a_24_25VI…"
      ]
     },
     "metadata": {},
     "output_type": "display_data"
    }
   ],
   "source": [
    "## Only adding tyrosine\n",
    "model3=model2.copy()\n",
    "model3.reactions.EX_tyr_L_e.lower_bound=-0.1\n",
    "sol = model3.optimize()\n",
    "sol.objective_value\n",
    "fbasol = model3.optimize()\n",
    "b = show_map(fbasol,map_loc)\n",
    "b"
   ]
  },
  {
   "cell_type": "code",
   "execution_count": 22,
   "metadata": {},
   "outputs": [
    {
     "data": {
      "text/plain": [
       "0.25367589999999995"
      ]
     },
     "execution_count": 22,
     "metadata": {},
     "output_type": "execute_result"
    },
    {
     "data": {
      "application/vnd.jupyter.widget-view+json": {
       "model_id": "a4a6ddf2acbc4da3ad1680dabca8bbe3",
       "version_major": 2,
       "version_minor": 0
      },
      "text/plain": [
       "Builder(hide_secondary_metabolites=False, highlight_missing=True, reaction_data={'13DAMPPOX': 0.0, '1a_24_25VI…"
      ]
     },
     "metadata": {},
     "output_type": "display_data"
    }
   ],
   "source": [
    "## Phe deprivation and Tyr addition\n",
    "model3.reactions.EX_phe_L_e.upper_bound=-0.04\n",
    "model3.reactions.EX_phe_L_e.lower_bound=-0.04\n",
    "sol = model3.optimize()\n",
    "sol.objective_value\n",
    "fbasol = model3.optimize()\n",
    "b = show_map(fbasol,map_loc)\n",
    "b"
   ]
  },
  {
   "cell_type": "code",
   "execution_count": 23,
   "metadata": {},
   "outputs": [
    {
     "data": {
      "text/plain": [
       "0.2140535999999998"
      ]
     },
     "execution_count": 23,
     "metadata": {},
     "output_type": "execute_result"
    },
    {
     "data": {
      "application/vnd.jupyter.widget-view+json": {
       "model_id": "732af53a4ef74af4aaf4e632bceca62a",
       "version_major": 2,
       "version_minor": 0
      },
      "text/plain": [
       "Builder(hide_secondary_metabolites=False, highlight_missing=True, reaction_data={'13DAMPPOX': 0.0, '1a_24_25VI…"
      ]
     },
     "metadata": {},
     "output_type": "display_data"
    }
   ],
   "source": [
    "#Only removing the Phe\n",
    "model4=model2.copy()\n",
    "model4.reactions.EX_phe_L_e.upper_bound=-0.04\n",
    "model4.reactions.EX_phe_L_e.lower_bound=-0.04\n",
    "sol = model4.optimize()\n",
    "sol.objective_value\n",
    "fbasol = model4.optimize()\n",
    "b = show_map(fbasol,map_loc)\n",
    "b"
   ]
  },
  {
   "cell_type": "code",
   "execution_count": 24,
   "metadata": {},
   "outputs": [
    {
     "data": {
      "text/plain": [
       "0.12953369253538077"
      ]
     },
     "execution_count": 24,
     "metadata": {},
     "output_type": "execute_result"
    },
    {
     "data": {
      "application/vnd.jupyter.widget-view+json": {
       "model_id": "9d4d99dc447c4aec9bccd3bbe6c3fc27",
       "version_major": 2,
       "version_minor": 0
      },
      "text/plain": [
       "Builder(hide_secondary_metabolites=False, highlight_missing=True, reaction_data={'13DAMPPOX': 0.0, '1a_24_25VI…"
      ]
     },
     "metadata": {},
     "output_type": "display_data"
    }
   ],
   "source": [
    "model5=model2.copy()\n",
    "# Taking more Phe for PKU patient to show protein synthesis in the brain\n",
    "model5.reactions.EX_phe_L_e.lower_bound=-0.11\n",
    "model5.reactions.EX_phe_L_e.upper_bound=-0.11\n",
    "sol = model5.optimize()\n",
    "sol.objective_value\n",
    "fbasol = model5.optimize()\n",
    "b = show_map(fbasol,map_loc)\n",
    "b"
   ]
  },
  {
   "cell_type": "markdown",
   "metadata": {},
   "source": [
    "### Dopamine is more important than serotonin."
   ]
  },
  {
   "cell_type": "markdown",
   "metadata": {},
   "source": [
    "##Only competitive mechanism could address most symptoms of PKU disease and treatments. But if dopamine is more important than serotonin in the brain which I will show more objective proportion, only competitive mechanism still could not solve the improvement from only adding tyrosine. Because the system will sacrifice the production of serotonin. Now we should combine the toxicity mechanism. This is why we combine these two mechanism to address PKU disease."
   ]
  },
  {
   "cell_type": "code",
   "execution_count": 25,
   "metadata": {},
   "outputs": [],
   "source": [
    "from cobra.flux_analysis import pfba\n",
    "# import map visualization tools\n",
    "from utils import show_map\n",
    "import escher\n",
    "map_loc = 'Recon2.2plusthreeCompetitivemap.json' # the escher map used below\n",
    "# show all output\n",
    "from IPython.core.interactiveshell import InteractiveShell\n",
    "InteractiveShell.ast_node_interactivity = \"all\"\n",
    "\n",
    "model=M.copy()\n",
    "model1=model.copy()"
   ]
  },
  {
   "cell_type": "code",
   "execution_count": 26,
   "metadata": {},
   "outputs": [],
   "source": [
    "# Setting objective function: biomass reaction in the brain + dopamine production + serotonin production\n",
    "quadratic_objective = model1.problem.Objective(model1.reactions.biomass_reaction_INB.flux_expression+\n",
    "                                              2*model1.reactions.get_by_id('3HLYTCL_INB').flux_expression+\n",
    "                                              model1.reactions.get_by_id('5HLTDL_INB').flux_expression,\n",
    "    direction='max')\n",
    "model1.objective = quadratic_objective"
   ]
  },
  {
   "cell_type": "code",
   "execution_count": 27,
   "metadata": {},
   "outputs": [],
   "source": [
    "# Changing the phe and tyr in the medium, because they also use for producing dopa.\n",
    "model1.reactions.EX_phe_L_e.lower_bound=-0.1\n",
    "model1.reactions.EX_phe_L_e.upper_bound=-0.1\n",
    "model1.reactions.EX_tyr_L_e.lower_bound=-0.04"
   ]
  },
  {
   "cell_type": "code",
   "execution_count": 28,
   "metadata": {},
   "outputs": [
    {
     "data": {
      "text/plain": [
       "0.3127554000000001"
      ]
     },
     "execution_count": 28,
     "metadata": {},
     "output_type": "execute_result"
    },
    {
     "data": {
      "application/vnd.jupyter.widget-view+json": {
       "model_id": "6bc695838ac24db99306e34c8168dd55",
       "version_major": 2,
       "version_minor": 0
      },
      "text/plain": [
       "Builder(hide_secondary_metabolites=False, highlight_missing=True, reaction_data={'13DAMPPOX': 0.0, '1a_24_25VI…"
      ]
     },
     "metadata": {},
     "output_type": "display_data"
    }
   ],
   "source": [
    "model1.reactions.EX_dopa_e_INB.upper_bound=1000\n",
    "model1.reactions.EX_adrnl_e_INB.upper_bound=1000\n",
    "model1.reactions.EX_srtn_e_INB.upper_bound=1000\n",
    "## Other reactions to produce l-dopa is forbidded\n",
    "model1.reactions.TYRDOPO_INB.upper_bound=0\n",
    "model1.reactions.TYR3MO2_INB.upper_bound=0\n",
    "## liver biomass is constant\n",
    "model1.reactions.biomass_reaction.lower_bound=0.05\n",
    "model1.reactions.biomass_reaction.upper_bound=0.05\n",
    "## do not need too much biomass in the brain\n",
    "model1.reactions.biomass_reaction_INB.upper_bound=0.1\n",
    "# minimal serotonin production\n",
    "# model1.reactions.get_by_id('5HLTDL_INB').lower_bound=0.06\n",
    "### No PAH in the brain\n",
    "model1.reactions.PHETHPTOX2_INB.lower_bound=0\n",
    "model1.reactions.PHETHPTOX2_INB.upper_bound=0\n",
    "model1.reactions.r0399_INB.lower_bound=0\n",
    "model1.reactions.r0399_INB.upper_bound=0\n",
    "### Tyrosine hydroxylase\n",
    "model1.reactions.EX_TH_B_INB.upper_bound=1000\n",
    "model1.reactions.LdopaTR_TOBD.upper_bound=0 ##No levodopa from liver to blood.\n",
    "model1.reactions.Ti_To.upper_bound=0.198\n",
    "model1.reactions.TH_AToB_INB.upper_bound=0.058\n",
    "model1.solver='glpk'\n",
    "sol = model1.optimize()\n",
    "sol.objective_value\n",
    "fbasol = model1.optimize()\n",
    "b = show_map(fbasol,map_loc)\n",
    "b"
   ]
  },
  {
   "cell_type": "code",
   "execution_count": 29,
   "metadata": {},
   "outputs": [
    {
     "name": "stdout",
     "output_type": "stream",
     "text": [
      "0.08702649999999976\n"
     ]
    },
    {
     "data": {
      "text/plain": [
       "0.19667590000000001"
      ]
     },
     "execution_count": 29,
     "metadata": {},
     "output_type": "execute_result"
    },
    {
     "data": {
      "application/vnd.jupyter.widget-view+json": {
       "model_id": "56d3c2bc8f3f454797eb7bd6120a8b4a",
       "version_major": 2,
       "version_minor": 0
      },
      "text/plain": [
       "Builder(hide_secondary_metabolites=False, highlight_missing=True, reaction_data={'13DAMPPOX': 0.0, '1a_24_25VI…"
      ]
     },
     "metadata": {},
     "output_type": "display_data"
    }
   ],
   "source": [
    "model2=model1.copy()\n",
    "# Kncoking gene 'HGNC:8582' to simulate the PKU patients\n",
    "model2.genes.get_by_id('HGNC:8582').knock_out()\n",
    "model2.reactions.PHPYRte.upper_bound=0\n",
    "model2.reactions.PHPYRte.lower_bound=0\n",
    "sol = model2.optimize()\n",
    "fluxP=sol.fluxes.loc['PheTR_TOB']\n",
    "print(fluxP)\n",
    "if fluxP>=0.08:\n",
    "    model2.reactions.Phe_TH_INB.lower_bound=0.055\n",
    "sol = model2.optimize()\n",
    "sol.objective_value\n",
    "fbasol = model2.optimize()\n",
    "b = show_map(fbasol,map_loc)\n",
    "b"
   ]
  },
  {
   "cell_type": "code",
   "execution_count": 30,
   "metadata": {},
   "outputs": [
    {
     "data": {
      "text/plain": [
       "0.19667590000000001"
      ]
     },
     "execution_count": 30,
     "metadata": {},
     "output_type": "execute_result"
    },
    {
     "data": {
      "application/vnd.jupyter.widget-view+json": {
       "model_id": "3aa8eb16880949c8b440c2a5630f8499",
       "version_major": 2,
       "version_minor": 0
      },
      "text/plain": [
       "Builder(hide_secondary_metabolites=False, highlight_missing=True, reaction_data={'13DAMPPOX': 0.0, '1a_24_25VI…"
      ]
     },
     "metadata": {},
     "output_type": "display_data"
    }
   ],
   "source": [
    "model3=model2.copy()\n",
    "model3.reactions.EX_tyr_L_e.lower_bound=-0.1\n",
    "sol = model3.optimize()\n",
    "sol.objective_value\n",
    "fba = model3.optimize()\n",
    "b = show_map(fba,map_loc)\n",
    "b"
   ]
  },
  {
   "cell_type": "code",
   "execution_count": 31,
   "metadata": {},
   "outputs": [
    {
     "data": {
      "text/plain": [
       "0.19667590000000001"
      ]
     },
     "execution_count": 31,
     "metadata": {},
     "output_type": "execute_result"
    },
    {
     "data": {
      "application/vnd.jupyter.widget-view+json": {
       "model_id": "00ddf867dfc541b9b04e379a9aa3973d",
       "version_major": 2,
       "version_minor": 0
      },
      "text/plain": [
       "Builder(hide_secondary_metabolites=False, highlight_missing=True, reaction_data={'13DAMPPOX': 0.0, '1a_24_25VI…"
      ]
     },
     "metadata": {},
     "output_type": "display_data"
    }
   ],
   "source": [
    "model4=model1.copy()\n",
    "# Kncoking gene 'HGNC:8582' to simulate the PKU patients\n",
    "model4.genes.get_by_id('HGNC:8582').knock_out()\n",
    "model4.reactions.EX_phpyr_e_INB.upper_bound=0\n",
    "model4.reactions.PHPYRte.upper_bound=0\n",
    "model4.reactions.PHPYRte.lower_bound=0\n",
    "sol = model2.optimize()\n",
    "sol.objective_value\n",
    "fbasol = model2.optimize()\n",
    "b = show_map(fbasol,map_loc)\n",
    "b"
   ]
  },
  {
   "cell_type": "code",
   "execution_count": 32,
   "metadata": {},
   "outputs": [],
   "source": [
    "model5=model4.copy()"
   ]
  },
  {
   "cell_type": "code",
   "execution_count": 33,
   "metadata": {},
   "outputs": [
    {
     "data": {
      "text/plain": [
       "0.25167590000000006"
      ]
     },
     "execution_count": 33,
     "metadata": {},
     "output_type": "execute_result"
    },
    {
     "data": {
      "application/vnd.jupyter.widget-view+json": {
       "model_id": "cc26c51993684ea0b1ea2bbc3b454f5b",
       "version_major": 2,
       "version_minor": 0
      },
      "text/plain": [
       "Builder(hide_secondary_metabolites=False, highlight_missing=True, reaction_data={'13DAMPPOX': 0.0, '1a_24_25VI…"
      ]
     },
     "metadata": {},
     "output_type": "display_data"
    }
   ],
   "source": [
    "model5.reactions.EX_tyr_L_e.lower_bound=-0.1\n",
    "fba = model5.optimize()\n",
    "fba.objective_value\n",
    "b = show_map(fba,map_loc)\n",
    "b"
   ]
  },
  {
   "cell_type": "markdown",
   "metadata": {},
   "source": [
    "## Tyrosine is enough in the diet"
   ]
  },
  {
   "cell_type": "code",
   "execution_count": 80,
   "metadata": {},
   "outputs": [],
   "source": [
    "model = M.copy()\n",
    "from cobra.flux_analysis import pfba\n",
    "# import map visualization tools\n",
    "from utils import show_map\n",
    "import escher\n",
    "map_loc = 'Recon2.2plusthreeCCompetitivemap.json' # the escher map used below\n",
    "# show all output\n",
    "from IPython.core.interactiveshell import InteractiveShell\n",
    "InteractiveShell.ast_node_interactivity = \"all\"\n",
    "\n",
    "model=M.copy()"
   ]
  },
  {
   "cell_type": "code",
   "execution_count": 81,
   "metadata": {},
   "outputs": [],
   "source": [
    "# Setting objective function: biomass reaction in the brain + dopamine production + serotonin production\n",
    "quadratic_objective = model.problem.Objective(model.reactions.biomass_reaction_INB.flux_expression+\n",
    "                                              model.reactions.get_by_id('3HLYTCL_INB').flux_expression+\n",
    "                                              model.reactions.get_by_id('5HLTDL_INB').flux_expression,\n",
    "    direction='max')\n",
    "model.objective = quadratic_objective"
   ]
  },
  {
   "cell_type": "code",
   "execution_count": 82,
   "metadata": {},
   "outputs": [],
   "source": [
    "# Changing the phe and tyr in the medium, because they also use for producing dopa.\n",
    "model.reactions.EX_phe_L_e.lower_bound=-0.1\n",
    "model.reactions.EX_phe_L_e.upper_bound=-0.1\n",
    "model.reactions.EX_tyr_L_e.lower_bound=-0.1"
   ]
  },
  {
   "cell_type": "code",
   "execution_count": 83,
   "metadata": {},
   "outputs": [
    {
     "data": {
      "text/plain": [
       "0.25475539999999997"
      ]
     },
     "execution_count": 83,
     "metadata": {},
     "output_type": "execute_result"
    },
    {
     "data": {
      "application/vnd.jupyter.widget-view+json": {
       "model_id": "dd290ff369ae48acbd369797b299d00c",
       "version_major": 2,
       "version_minor": 0
      },
      "text/plain": [
       "Builder(hide_secondary_metabolites=False, highlight_missing=True, reaction_data={'13DAMPPOX': 0.0, '1a_24_25VI…"
      ]
     },
     "metadata": {},
     "output_type": "display_data"
    }
   ],
   "source": [
    "model.reactions.EX_dopa_e_INB.upper_bound=1000\n",
    "model.reactions.EX_adrnl_e_INB.upper_bound=1000\n",
    "model.reactions.EX_srtn_e_INB.upper_bound=1000\n",
    "## Other reactions to produce l-dopa is forbidded\n",
    "model.reactions.TYRDOPO_INB.upper_bound=0\n",
    "model.reactions.TYR3MO2_INB.upper_bound=0\n",
    "## liver biomass is constant\n",
    "model.reactions.biomass_reaction.lower_bound=0.05\n",
    "model.reactions.biomass_reaction.upper_bound=0.05\n",
    "## do not need too much biomass in the brain\n",
    "model.reactions.biomass_reaction_INB.upper_bound=0.1\n",
    "# No phenylpyruvate exchange in the brain\n",
    "model.reactions.get_by_id('EX_phpyr_e_INB').upper_bound=0\n",
    "# Serotonin production\n",
    "model.reactions.get_by_id('5HLTDL_INB').lower_bound=0.095\n",
    "### No PAH in the brain\n",
    "model.reactions.PHETHPTOX2_INB.lower_bound=0\n",
    "model.reactions.PHETHPTOX2_INB.upper_bound=0\n",
    "model.reactions.r0399_INB.lower_bound=0\n",
    "model.reactions.r0399_INB.upper_bound=0\n",
    "### Tyrosine hydroxylase\n",
    "model.reactions.EX_TH_B_INB.upper_bound=1000\n",
    "model.reactions.LdopaTR_TOBD.upper_bound=0 ##No levodopa from liver to blood.\n",
    "model.reactions.Ti_To.upper_bound=0.198\n",
    "model.solver='glpk'\n",
    "sol = model.optimize()\n",
    "sol.objective_value\n",
    "fbasol = model.optimize()\n",
    "b = show_map(fbasol,map_loc)\n",
    "b"
   ]
  },
  {
   "cell_type": "code",
   "execution_count": 84,
   "metadata": {},
   "outputs": [
    {
     "data": {
      "text/plain": [
       "0.18734518083433543"
      ]
     },
     "execution_count": 84,
     "metadata": {},
     "output_type": "execute_result"
    },
    {
     "data": {
      "application/vnd.jupyter.widget-view+json": {
       "model_id": "5119a5331f83450fa0a9c8d0593cdc0b",
       "version_major": 2,
       "version_minor": 0
      },
      "text/plain": [
       "Builder(hide_secondary_metabolites=False, highlight_missing=True, reaction_data={'13DAMPPOX': 0.0, '1a_24_25VI…"
      ]
     },
     "metadata": {},
     "output_type": "display_data"
    }
   ],
   "source": [
    "model1=model.copy()\n",
    "# Kncoking gene 'HGNC:8582' to simulate the PKU patients\n",
    "model1.genes.get_by_id('HGNC:8582').knock_out()\n",
    "model1.reactions.PHPYRte.upper_bound=0\n",
    "model1.reactions.PHPYRte.lower_bound=0\n",
    "sol = model1.optimize()\n",
    "sol.objective_value\n",
    "fbasol = model1.optimize()\n",
    "b = show_map(fbasol,map_loc)\n",
    "b"
   ]
  },
  {
   "cell_type": "code",
   "execution_count": 85,
   "metadata": {},
   "outputs": [
    {
     "data": {
      "text/plain": [
       "0.18734518083433538"
      ]
     },
     "execution_count": 85,
     "metadata": {},
     "output_type": "execute_result"
    },
    {
     "data": {
      "application/vnd.jupyter.widget-view+json": {
       "model_id": "d2c28252eee548cc824f3750277652c5",
       "version_major": 2,
       "version_minor": 0
      },
      "text/plain": [
       "Builder(hide_secondary_metabolites=False, highlight_missing=True, reaction_data={'13DAMPPOX': 0.0, '1a_24_25VI…"
      ]
     },
     "metadata": {},
     "output_type": "display_data"
    }
   ],
   "source": [
    "model3=model1.copy()\n",
    "model3.reactions.EX_tyr_L_e.lower_bound=-0.2\n",
    "sol = model3.optimize()\n",
    "sol.objective_value\n",
    "fbasol = model3.optimize()\n",
    "b = show_map(fbasol,map_loc)\n",
    "b"
   ]
  },
  {
   "cell_type": "code",
   "execution_count": 69,
   "metadata": {},
   "outputs": [
    {
     "data": {
      "text/plain": [
       "0.25367589999999995"
      ]
     },
     "execution_count": 69,
     "metadata": {},
     "output_type": "execute_result"
    },
    {
     "data": {
      "application/vnd.jupyter.widget-view+json": {
       "model_id": "96821f5d333248d3badb8734bda05bbe",
       "version_major": 2,
       "version_minor": 0
      },
      "text/plain": [
       "Builder(hide_secondary_metabolites=False, highlight_missing=True, reaction_data={'13DAMPPOX': 0.0, '1a_24_25VI…"
      ]
     },
     "metadata": {},
     "output_type": "display_data"
    }
   ],
   "source": [
    "model2=model1.copy()\n",
    "model2.reactions.EX_tyr_L_e.lower_bound=-0.2\n",
    "model2.reactions.EX_phe_L_e.upper_bound=-0.04\n",
    "model2.reactions.EX_phe_L_e.lower_bound=-0.04\n",
    "sol = model2.optimize()\n",
    "sol.objective_value\n",
    "fbasol = model2.optimize()\n",
    "b = show_map(fbasol,map_loc)\n",
    "b"
   ]
  },
  {
   "cell_type": "code",
   "execution_count": 68,
   "metadata": {},
   "outputs": [
    {
     "data": {
      "text/plain": [
       "0.25367589999999995"
      ]
     },
     "execution_count": 68,
     "metadata": {},
     "output_type": "execute_result"
    },
    {
     "data": {
      "application/vnd.jupyter.widget-view+json": {
       "model_id": "bd375f968ff24c819dd4062eb41d026a",
       "version_major": 2,
       "version_minor": 0
      },
      "text/plain": [
       "Builder(hide_secondary_metabolites=False, highlight_missing=True, reaction_data={'13DAMPPOX': 0.0, '1a_24_25VI…"
      ]
     },
     "metadata": {},
     "output_type": "display_data"
    }
   ],
   "source": [
    "model2.reactions.EX_phe_L_e.upper_bound=-0.04\n",
    "model2.reactions.EX_phe_L_e.lower_bound=-0.04\n",
    "model2.reactions.EX_tyr_L_e.lower_bound=-0.1\n",
    "sol = model2.optimize()\n",
    "sol.objective_value\n",
    "fbasol = model2.optimize()\n",
    "b = show_map(fbasol,map_loc)\n",
    "b"
   ]
  },
  {
   "cell_type": "markdown",
   "metadata": {},
   "source": [
    "# Recon2.2plusthreeCompetition.json [Toxicity mechanism only]"
   ]
  },
  {
   "cell_type": "code",
   "execution_count": 66,
   "metadata": {},
   "outputs": [],
   "source": [
    "import cobra\n",
    "import pandas as pd\n",
    "import numpy as np\n",
    "import pickle\n",
    "from cobra.flux_analysis import pfba\n",
    "M = cobra.io.load_json_model('Recon2.2plusthreeCompetitive.json')\n",
    "# deleting brain medium composition because this metabolite will uptake from blood\n",
    "M.reactions.EX_co2_e_INB.lower_bound=0\n",
    "M.reactions.EX_co2_e.lower_bound=0\n",
    "M.reactions.EX_glc_e_INB.lower_bound=0\n",
    "M.reactions.EX_h_e.lower_bound=0\n",
    "M.reactions.EX_h_e_INB.lower_bound=0\n",
    "M.reactions.EX_hco3_e_INB.lower_bound=0\n",
    "M.reactions.EX_hco3_e.lower_bound=0\n",
    "M.reactions.EX_his_L_e_INB.lower_bound=0\n",
    "M.reactions.EX_ile_L_e_INB.lower_bound=0\n",
    "M.reactions.EX_leu_L_e_INB.lower_bound=0\n",
    "M.reactions.EX_lys_L_e_INB.lower_bound=0\n",
    "M.reactions.EX_met_L_e_INB.lower_bound=0\n",
    "M.reactions.EX_nh4_e_INB.lower_bound=0\n",
    "M.reactions.EX_o2_e_INB.lower_bound=0\n",
    "M.reactions.EX_phe_L_e_INB.lower_bound=0\n",
    "M.reactions.EX_pi_e_INB.lower_bound=0\n",
    "M.reactions.EX_so4_e_INB.lower_bound=0\n",
    "M.reactions.EX_thr_L_e_INB.lower_bound=0\n",
    "M.reactions.EX_trp_L_e_INB.lower_bound=0\n",
    "M.reactions.EX_val_L_e_INB.lower_bound=0"
   ]
  },
  {
   "cell_type": "code",
   "execution_count": 67,
   "metadata": {},
   "outputs": [],
   "source": [
    "from cobra.flux_analysis import pfba\n",
    "# import map visualization tools\n",
    "from utils import show_map\n",
    "import escher\n",
    "map_loc = 'Recon2.2plusthreeCompetitivemap.json' # the escher map used below\n",
    "# show all output\n",
    "from IPython.core.interactiveshell import InteractiveShell\n",
    "InteractiveShell.ast_node_interactivity = \"all\"\n",
    "\n",
    "model=M.copy()"
   ]
  },
  {
   "cell_type": "code",
   "execution_count": 68,
   "metadata": {},
   "outputs": [],
   "source": [
    "# Setting objective function: biomass reaction in the brain + dopamine production + serotonin production\n",
    "quadratic_objective = model1.problem.Objective(model.reactions.biomass_reaction_INB.flux_expression+\n",
    "                                              model.reactions.get_by_id('3HLYTCL_INB').flux_expression+\n",
    "                                              model.reactions.get_by_id('5HLTDL_INB').flux_expression,\n",
    "    direction='max')\n",
    "model.objective = quadratic_objective"
   ]
  },
  {
   "cell_type": "code",
   "execution_count": 69,
   "metadata": {},
   "outputs": [],
   "source": [
    "# Changing the phe and tyr in the medium, because they also use for producing dopa.\n",
    "model.reactions.EX_phe_L_e.lower_bound=-0.1\n",
    "model.reactions.EX_phe_L_e.upper_bound=-0.1\n",
    "model.reactions.EX_tyr_L_e.lower_bound=-0.02"
   ]
  },
  {
   "cell_type": "code",
   "execution_count": 71,
   "metadata": {},
   "outputs": [
    {
     "data": {
      "text/plain": [
       "0.25513309999999995"
      ]
     },
     "execution_count": 71,
     "metadata": {},
     "output_type": "execute_result"
    },
    {
     "data": {
      "application/vnd.jupyter.widget-view+json": {
       "model_id": "058fa68207f447259ae61b5c7c17f6bf",
       "version_major": 2,
       "version_minor": 0
      },
      "text/plain": [
       "Builder(hide_secondary_metabolites=False, highlight_missing=True, reaction_data={'13DAMPPOX': 0.0, '1a_24_25VI…"
      ]
     },
     "metadata": {},
     "output_type": "display_data"
    }
   ],
   "source": [
    "model.reactions.EX_dopa_e_INB.upper_bound=1000\n",
    "model.reactions.EX_adrnl_e_INB.upper_bound=1000\n",
    "model.reactions.EX_srtn_e_INB.upper_bound=1000\n",
    "## Other reactions to produce l-dopa is forbidded\n",
    "model.reactions.TYRDOPO_INB.upper_bound=0\n",
    "model.reactions.TYR3MO2_INB.upper_bound=0\n",
    "## liver biomass is constant\n",
    "model.reactions.biomass_reaction.lower_bound=0.05\n",
    "model.reactions.biomass_reaction.upper_bound=0.05\n",
    "model.reactions.biomass_reaction_INB.upper_bound=0.1\n",
    "# minimal serotonin production\n",
    "# model.reactions.get_by_id('5HLTDL_INB').lower_bound=0.098\n",
    "### No PAH in the brain\n",
    "model.reactions.PHETHPTOX2_INB.lower_bound=0\n",
    "model.reactions.PHETHPTOX2_INB.upper_bound=0\n",
    "model.reactions.r0399_INB.lower_bound=0\n",
    "model.reactions.r0399_INB.upper_bound=0\n",
    "### Tyrosine hydroxylase\n",
    "model.reactions.EX_TH_B_INB.upper_bound=1000\n",
    "model.reactions.LdopaTR_TOBD.upper_bound=0 ##No levodopa from liver to blood.\n",
    "# model.reactions.Ti_To.upper_bound=0.198\n",
    "### Tyrosine hydroxylase competition\n",
    "model.reactions.TH_AToB_INB.upper_bound=0.0572\n",
    "model.solver='glpk'\n",
    "sol = model.optimize()\n",
    "sol.objective_value\n",
    "fbasol = model.optimize()\n",
    "b = show_map(fbasol,map_loc)\n",
    "b"
   ]
  },
  {
   "cell_type": "code",
   "execution_count": 72,
   "metadata": {},
   "outputs": [
    {
     "name": "stdout",
     "output_type": "stream",
     "text": [
      "0.08702650000000002\n"
     ]
    },
    {
     "data": {
      "text/plain": [
       "0.1735916577942005"
      ]
     },
     "execution_count": 72,
     "metadata": {},
     "output_type": "execute_result"
    },
    {
     "data": {
      "application/vnd.jupyter.widget-view+json": {
       "model_id": "474e5839b4724ed6882aec1c7fe96b1d",
       "version_major": 2,
       "version_minor": 0
      },
      "text/plain": [
       "Builder(hide_secondary_metabolites=False, highlight_missing=True, reaction_data={'13DAMPPOX': 0.0, '1a_24_25VI…"
      ]
     },
     "metadata": {},
     "output_type": "display_data"
    }
   ],
   "source": [
    "model1=model.copy()\n",
    "# Kncoking gene 'HGNC:8582' to simulate the PKU patients\n",
    "model1.genes.get_by_id('HGNC:8582').knock_out()\n",
    "model1.reactions.PHETA1.upper_bound=0\n",
    "sol = model1.optimize()\n",
    "fluxP=sol.fluxes.loc['PheTR_TOB']\n",
    "print(fluxP)\n",
    "if fluxP>=0.08:\n",
    "    model1.reactions.Phe_TH_INB.lower_bound=0.055\n",
    "sol.objective_value\n",
    "fbasol = model1.optimize()\n",
    "b = show_map(fbasol,map_loc)\n",
    "b"
   ]
  },
  {
   "cell_type": "code",
   "execution_count": 44,
   "metadata": {},
   "outputs": [
    {
     "data": {
      "text/plain": [
       "0.2002041"
      ]
     },
     "execution_count": 44,
     "metadata": {},
     "output_type": "execute_result"
    },
    {
     "data": {
      "application/vnd.jupyter.widget-view+json": {
       "model_id": "7e4f4960031b480c8a192596ac80b66b",
       "version_major": 2,
       "version_minor": 0
      },
      "text/plain": [
       "Builder(hide_secondary_metabolites=False, highlight_missing=True, reaction_data={'13DAMPPOX': 0.0, '1a_24_25VI…"
      ]
     },
     "metadata": {},
     "output_type": "display_data"
    }
   ],
   "source": [
    "model2=model1.copy()\n",
    "model2.reactions.EX_tyr_L_e.lower_bound=-0.1\n",
    "sol = model2.optimize()\n",
    "sol.objective_value\n",
    "fbasol = model2.optimize()\n",
    "b = show_map(fbasol,map_loc)\n",
    "b"
   ]
  },
  {
   "cell_type": "code",
   "execution_count": 47,
   "metadata": {},
   "outputs": [
    {
     "data": {
      "text/plain": [
       "0.25520410000000004"
      ]
     },
     "execution_count": 47,
     "metadata": {},
     "output_type": "execute_result"
    },
    {
     "data": {
      "application/vnd.jupyter.widget-view+json": {
       "model_id": "8152fca5dd624c01a10459feee1d6a91",
       "version_major": 2,
       "version_minor": 0
      },
      "text/plain": [
       "Builder(hide_secondary_metabolites=False, highlight_missing=True, reaction_data={'13DAMPPOX': 0.0, '1a_24_25VI…"
      ]
     },
     "metadata": {},
     "output_type": "display_data"
    }
   ],
   "source": [
    "model3=model2.copy()\n",
    "model3.reactions.Phe_TH_INB.lower_bound=0\n",
    "model3.reactions.EX_phe_L_e.upper_bound=-0.039\n",
    "model3.reactions.EX_phe_L_e.lower_bound=-0.039\n",
    "sol = model3.optimize()\n",
    "sol.objective_value\n",
    "fbasol = model3.optimize()\n",
    "b = show_map(fbasol,map_loc)\n",
    "b"
   ]
  },
  {
   "cell_type": "markdown",
   "metadata": {},
   "source": [
    "##Toxicity mechanism could describe the reduction of dopamine and could not describe the biomass synthesis (protein synthesis) in the brain when we add more tyrosine for PKU diseae. So, at least only toxicity mechanism could not add PKU disease."
   ]
  },
  {
   "cell_type": "markdown",
   "metadata": {},
   "source": [
    "# Recon2.2plusthreeCompetition.json [Toxicity mechanism and Competitive mechanism]"
   ]
  },
  {
   "cell_type": "code",
   "execution_count": 58,
   "metadata": {},
   "outputs": [],
   "source": [
    "import cobra\n",
    "import pandas as pd\n",
    "import numpy as np\n",
    "import pickle\n",
    "from cobra.flux_analysis import pfba\n",
    "M = cobra.io.load_json_model('Recon2.2plusthreeCompetitive.json')\n",
    "# deleting brain medium composition because this metabolite will uptake from blood\n",
    "M.reactions.EX_co2_e_INB.lower_bound=0\n",
    "M.reactions.EX_co2_e.lower_bound=0\n",
    "M.reactions.EX_glc_e_INB.lower_bound=0\n",
    "M.reactions.EX_h_e.lower_bound=0\n",
    "M.reactions.EX_h_e_INB.lower_bound=0\n",
    "M.reactions.EX_hco3_e_INB.lower_bound=0\n",
    "M.reactions.EX_hco3_e.lower_bound=0\n",
    "M.reactions.EX_his_L_e_INB.lower_bound=0\n",
    "M.reactions.EX_ile_L_e_INB.lower_bound=0\n",
    "M.reactions.EX_leu_L_e_INB.lower_bound=0\n",
    "M.reactions.EX_lys_L_e_INB.lower_bound=0\n",
    "M.reactions.EX_met_L_e_INB.lower_bound=0\n",
    "M.reactions.EX_nh4_e_INB.lower_bound=0\n",
    "M.reactions.EX_o2_e_INB.lower_bound=0\n",
    "M.reactions.EX_phe_L_e_INB.lower_bound=0\n",
    "M.reactions.EX_pi_e_INB.lower_bound=0\n",
    "M.reactions.EX_so4_e_INB.lower_bound=0\n",
    "M.reactions.EX_thr_L_e_INB.lower_bound=0\n",
    "M.reactions.EX_trp_L_e_INB.lower_bound=0\n",
    "M.reactions.EX_val_L_e_INB.lower_bound=0"
   ]
  },
  {
   "cell_type": "code",
   "execution_count": 59,
   "metadata": {},
   "outputs": [],
   "source": [
    "from cobra.flux_analysis import pfba\n",
    "# import map visualization tools\n",
    "from utils import show_map\n",
    "import escher\n",
    "map_loc = 'Recon2.2plusthreeCompetitivemap.json' # the escher map used below\n",
    "# show all output\n",
    "from IPython.core.interactiveshell import InteractiveShell\n",
    "InteractiveShell.ast_node_interactivity = \"all\"\n",
    "\n",
    "model=M.copy()"
   ]
  },
  {
   "cell_type": "code",
   "execution_count": 60,
   "metadata": {},
   "outputs": [],
   "source": [
    "# Setting objective function: biomass reaction in the brain + dopamine production + serotonin production\n",
    "quadratic_objective = model1.problem.Objective(model.reactions.biomass_reaction_INB.flux_expression+\n",
    "                                              model.reactions.get_by_id('3HLYTCL_INB').flux_expression+\n",
    "                                              model.reactions.get_by_id('5HLTDL_INB').flux_expression,\n",
    "    direction='max')\n",
    "model.objective = quadratic_objective"
   ]
  },
  {
   "cell_type": "code",
   "execution_count": 61,
   "metadata": {},
   "outputs": [],
   "source": [
    "# Changing the phe and tyr in the medium, because they also use for producing dopa.\n",
    "model.reactions.EX_phe_L_e.lower_bound=-0.1\n",
    "model.reactions.EX_phe_L_e.upper_bound=-0.1\n",
    "model.reactions.EX_tyr_L_e.lower_bound=-0.02"
   ]
  },
  {
   "cell_type": "code",
   "execution_count": 62,
   "metadata": {},
   "outputs": [
    {
     "data": {
      "text/plain": [
       "0.2547554000000001"
      ]
     },
     "execution_count": 62,
     "metadata": {},
     "output_type": "execute_result"
    },
    {
     "data": {
      "application/vnd.jupyter.widget-view+json": {
       "model_id": "2a3ca60d1a3b4b15b07b39961bb851bb",
       "version_major": 2,
       "version_minor": 0
      },
      "text/plain": [
       "Builder(hide_secondary_metabolites=False, highlight_missing=True, reaction_data={'13DAMPPOX': 0.0, '1a_24_25VI…"
      ]
     },
     "metadata": {},
     "output_type": "display_data"
    }
   ],
   "source": [
    "model.reactions.EX_dopa_e_INB.upper_bound=1000\n",
    "model.reactions.EX_adrnl_e_INB.upper_bound=1000\n",
    "model.reactions.EX_srtn_e_INB.upper_bound=1000\n",
    "## Other reactions to produce l-dopa is forbidded\n",
    "model.reactions.TYRDOPO_INB.upper_bound=0\n",
    "model.reactions.TYR3MO2_INB.upper_bound=0\n",
    "## liver biomass is constant\n",
    "model.reactions.biomass_reaction.lower_bound=0.05\n",
    "model.reactions.biomass_reaction.upper_bound=0.05\n",
    "model.reactions.biomass_reaction_INB.upper_bound=0.1\n",
    "# minimal serotonin production\n",
    "# model.reactions.get_by_id('5HLTDL_INB').lower_bound=0.098\n",
    "### No PAH in the brain\n",
    "model.reactions.PHETHPTOX2_INB.lower_bound=0\n",
    "model.reactions.PHETHPTOX2_INB.upper_bound=0\n",
    "model.reactions.r0399_INB.lower_bound=0\n",
    "model.reactions.r0399_INB.upper_bound=0\n",
    "### Tyrosine hydroxylase\n",
    "model.reactions.EX_TH_B_INB.upper_bound=1000\n",
    "model.reactions.LdopaTR_TOBD.upper_bound=0 ##No levodopa from liver to blood.\n",
    "model.reactions.Ti_To.upper_bound=0.198\n",
    "### Tyrosine hydroxylase competition\n",
    "model.reactions.TH_AToB_INB.upper_bound=0.0572\n",
    "model.solver='glpk'\n",
    "sol = model.optimize()\n",
    "sol.objective_value\n",
    "fbasol = model.optimize()\n",
    "b = show_map(fbasol,map_loc)\n",
    "b"
   ]
  },
  {
   "cell_type": "code",
   "execution_count": 63,
   "metadata": {},
   "outputs": [
    {
     "name": "stdout",
     "output_type": "stream",
     "text": [
      "0.08664880000000005\n"
     ]
    },
    {
     "data": {
      "text/plain": [
       "0.1735916577941996"
      ]
     },
     "execution_count": 63,
     "metadata": {},
     "output_type": "execute_result"
    },
    {
     "data": {
      "application/vnd.jupyter.widget-view+json": {
       "model_id": "d3beaa0414294e288d59578c5baf8efe",
       "version_major": 2,
       "version_minor": 0
      },
      "text/plain": [
       "Builder(hide_secondary_metabolites=False, highlight_missing=True, reaction_data={'13DAMPPOX': 0.0, '1a_24_25VI…"
      ]
     },
     "metadata": {},
     "output_type": "display_data"
    }
   ],
   "source": [
    "model1=model.copy()\n",
    "# Kncoking gene 'HGNC:8582' to simulate the PKU patients\n",
    "model1.genes.get_by_id('HGNC:8582').knock_out()\n",
    "model1.reactions.PHPYRbtBD.upper_bound=0\n",
    "sol = model1.optimize()\n",
    "fluxP=sol.fluxes.loc['PheTR_TOB']\n",
    "print(fluxP)\n",
    "if fluxP>=0.08:\n",
    "    model1.reactions.Phe_TH_INB.lower_bound=0.055\n",
    "sol.objective_value\n",
    "fbasol = model1.optimize()\n",
    "b = show_map(fbasol,map_loc)\n",
    "b"
   ]
  },
  {
   "cell_type": "code",
   "execution_count": 64,
   "metadata": {},
   "outputs": [
    {
     "data": {
      "text/plain": [
       "0.19975540000000003"
      ]
     },
     "execution_count": 64,
     "metadata": {},
     "output_type": "execute_result"
    },
    {
     "data": {
      "application/vnd.jupyter.widget-view+json": {
       "model_id": "5674ce3af8e84920b9928cddb825f6f5",
       "version_major": 2,
       "version_minor": 0
      },
      "text/plain": [
       "Builder(hide_secondary_metabolites=False, highlight_missing=True, reaction_data={'13DAMPPOX': 0.0, '1a_24_25VI…"
      ]
     },
     "metadata": {},
     "output_type": "display_data"
    }
   ],
   "source": [
    "model2=model1.copy()\n",
    "model2.reactions.EX_tyr_L_e.lower_bound=-0.1\n",
    "sol = model2.optimize()\n",
    "sol.objective_value\n",
    "fbasol = model2.optimize()\n",
    "b = show_map(fbasol,map_loc)\n",
    "b"
   ]
  },
  {
   "cell_type": "markdown",
   "metadata": {},
   "source": [
    "##Even we found that the biomass production increased in the brain, it sacrificed the serotonin production."
   ]
  },
  {
   "cell_type": "code",
   "execution_count": 65,
   "metadata": {},
   "outputs": [
    {
     "data": {
      "text/plain": [
       "0.2547554000000001"
      ]
     },
     "execution_count": 65,
     "metadata": {},
     "output_type": "execute_result"
    },
    {
     "data": {
      "application/vnd.jupyter.widget-view+json": {
       "model_id": "e8f329c2b0354cb09998f14e02561a9a",
       "version_major": 2,
       "version_minor": 0
      },
      "text/plain": [
       "Builder(hide_secondary_metabolites=False, highlight_missing=True, reaction_data={'13DAMPPOX': 0.0, '1a_24_25VI…"
      ]
     },
     "metadata": {},
     "output_type": "display_data"
    }
   ],
   "source": [
    "model3=model2.copy()\n",
    "model3.reactions.Phe_TH_INB.lower_bound=0\n",
    "model3.reactions.EX_phe_L_e.upper_bound=-0.039\n",
    "model3.reactions.EX_phe_L_e.lower_bound=-0.039\n",
    "sol = model3.optimize()\n",
    "sol.objective_value\n",
    "fbasol = model3.optimize()\n",
    "b = show_map(fbasol,map_loc)\n",
    "b"
   ]
  },
  {
   "cell_type": "markdown",
   "metadata": {},
   "source": [
    "##Finally, we found phe-deprivation conbining with tyrosine when it was needed is useful treatment."
   ]
  },
  {
   "cell_type": "markdown",
   "metadata": {},
   "source": [
    "# Recon2.2plus with exercise (Other treatment)"
   ]
  },
  {
   "cell_type": "code",
   "execution_count": 1,
   "metadata": {},
   "outputs": [],
   "source": [
    "import cobra\n",
    "import pandas as pd\n",
    "import numpy as np\n",
    "import pickle\n",
    "from cobra.flux_analysis import pfba"
   ]
  },
  {
   "cell_type": "code",
   "execution_count": 2,
   "metadata": {},
   "outputs": [
    {
     "name": "stderr",
     "output_type": "stream",
     "text": [
      "/Users/yanhualiu/Desktop/New_topic/model_building/model_building_exercise_by_yanhua/for different models/Competition between Phe, Tyr, Trp and L-dopa/Making brain specific model and complex model/utils/findBiomarkers.py:6: FutureWarning: Passing a negative integer is deprecated in version 1.0 and will not be supported in future version. Instead, use None to not limit the column width.\n",
      "  pd.set_option('display.max_colwidth', -1)\n"
     ]
    },
    {
     "name": "stdout",
     "output_type": "stream",
     "text": [
      "Scaling...\n",
      " A: min|aij| =  1.000e+00  max|aij| =  1.000e+00  ratio =  1.000e+00\n",
      "Problem data seem to be well scaled\n"
     ]
    }
   ],
   "source": [
    "from cobra.flux_analysis import pfba\n",
    "# import map visualization tools\n",
    "from utils import show_map\n",
    "import escher\n",
    "map_loc = 'Recon2.2plusthreeCompetitivemap.json' # the escher map used below\n",
    "# show all output\n",
    "from IPython.core.interactiveshell import InteractiveShell\n",
    "InteractiveShell.ast_node_interactivity = \"all\"\n",
    "\n",
    "# Load Recon2.2Model with a simplified medium for the course\n",
    "M = cobra.io.load_json_model('Recon2.2plusthreeCompetitive.json')"
   ]
  },
  {
   "cell_type": "code",
   "execution_count": 3,
   "metadata": {},
   "outputs": [],
   "source": [
    "# deleting brain medium composition because this metabolite will uptake from blood\n",
    "M.reactions.EX_co2_e_INB.lower_bound=0\n",
    "M.reactions.EX_co2_e.lower_bound=0\n",
    "M.reactions.EX_glc_e_INB.lower_bound=0\n",
    "M.reactions.EX_h_e.lower_bound=0\n",
    "M.reactions.EX_h_e_INB.lower_bound=0\n",
    "M.reactions.EX_hco3_e_INB.lower_bound=0\n",
    "M.reactions.EX_hco3_e.lower_bound=0\n",
    "M.reactions.EX_his_L_e_INB.lower_bound=0\n",
    "M.reactions.EX_ile_L_e_INB.lower_bound=0\n",
    "M.reactions.EX_leu_L_e_INB.lower_bound=0\n",
    "M.reactions.EX_lys_L_e_INB.lower_bound=0\n",
    "M.reactions.EX_met_L_e_INB.lower_bound=0\n",
    "M.reactions.EX_nh4_e_INB.lower_bound=0\n",
    "M.reactions.EX_o2_e_INB.lower_bound=0\n",
    "M.reactions.EX_phe_L_e_INB.lower_bound=0\n",
    "M.reactions.EX_pi_e_INB.lower_bound=0\n",
    "M.reactions.EX_so4_e_INB.lower_bound=0\n",
    "M.reactions.EX_thr_L_e_INB.lower_bound=0\n",
    "M.reactions.EX_trp_L_e_INB.lower_bound=0\n",
    "M.reactions.EX_val_L_e_INB.lower_bound=0"
   ]
  },
  {
   "cell_type": "code",
   "execution_count": 4,
   "metadata": {},
   "outputs": [],
   "source": [
    "model=M.copy()"
   ]
  },
  {
   "cell_type": "code",
   "execution_count": 5,
   "metadata": {},
   "outputs": [],
   "source": [
    "# Setting objective function: biomass reaction in the brain + dopamine production + serotonin production\n",
    "quadratic_objective = model.problem.Objective(model.reactions.biomass_reaction_INB.flux_expression+\n",
    "                                              model.reactions.get_by_id('3HLYTCL_INB').flux_expression+\n",
    "                                              model.reactions.get_by_id('5HLTDL_INB').flux_expression,\n",
    "    direction='max')\n",
    "model.objective = quadratic_objective"
   ]
  },
  {
   "cell_type": "code",
   "execution_count": 6,
   "metadata": {},
   "outputs": [],
   "source": [
    "# Changing the phe and tyr in the medium, because they also use for producing dopa.\n",
    "model.reactions.EX_phe_L_e.lower_bound=-0.1\n",
    "model.reactions.EX_phe_L_e.upper_bound=-0.1\n",
    "model.reactions.EX_tyr_L_e.lower_bound=-0.1"
   ]
  },
  {
   "cell_type": "code",
   "execution_count": 7,
   "metadata": {},
   "outputs": [
    {
     "data": {
      "text/plain": [
       "0.2547554000000001"
      ]
     },
     "execution_count": 7,
     "metadata": {},
     "output_type": "execute_result"
    },
    {
     "data": {
      "application/vnd.jupyter.widget-view+json": {
       "model_id": "a3ded9c360bf4b78a2f0cb0d170b6d44",
       "version_major": 2,
       "version_minor": 0
      },
      "text/plain": [
       "Builder(hide_secondary_metabolites=False, highlight_missing=True, reaction_data={'13DAMPPOX': 0.0, '1a_24_25VI…"
      ]
     },
     "metadata": {},
     "output_type": "display_data"
    }
   ],
   "source": [
    "model.reactions.EX_dopa_e_INB.upper_bound=1000\n",
    "model.reactions.EX_adrnl_e_INB.upper_bound=1000\n",
    "model.reactions.EX_srtn_e_INB.upper_bound=1000\n",
    "## Other reactions to produce l-dopa is forbidded\n",
    "model.reactions.TYRDOPO_INB.upper_bound=0\n",
    "model.reactions.TYR3MO2_INB.upper_bound=0\n",
    "## liver biomass is constant\n",
    "model.reactions.biomass_reaction.lower_bound=0.05\n",
    "model.reactions.biomass_reaction.upper_bound=0.05\n",
    "## do not need too much biomass in the brain\n",
    "model.reactions.biomass_reaction_INB.upper_bound=0.1\n",
    "# No phenylpyruvate exchange in the brain\n",
    "model.reactions.get_by_id('EX_phpyr_e_INB').upper_bound=0\n",
    "# Serotonin production\n",
    "model.reactions.get_by_id('5HLTDL_INB').lower_bound=0.095\n",
    "### No PAH in the brain\n",
    "model.reactions.PHETHPTOX2_INB.lower_bound=0\n",
    "model.reactions.PHETHPTOX2_INB.upper_bound=0\n",
    "model.reactions.r0399_INB.lower_bound=0\n",
    "model.reactions.r0399_INB.upper_bound=0\n",
    "### Tyrosine hydroxylase\n",
    "model.reactions.EX_TH_B_INB.upper_bound=1000\n",
    "model.reactions.LdopaTR_TOBD.upper_bound=0 ##No levodopa from liver to blood.\n",
    "model.reactions.Ti_To.upper_bound=0.198\n",
    "model.solver='glpk'\n",
    "sol = model.optimize()\n",
    "sol.objective_value\n",
    "fbasol = model.optimize()\n",
    "b = show_map(fbasol,map_loc)\n",
    "b"
   ]
  },
  {
   "cell_type": "code",
   "execution_count": 8,
   "metadata": {},
   "outputs": [
    {
     "data": {
      "text/plain": [
       "0.18734518083433543"
      ]
     },
     "execution_count": 8,
     "metadata": {},
     "output_type": "execute_result"
    }
   ],
   "source": [
    "model1=model.copy()\n",
    "# Kncoking gene 'HGNC:8582' to simulate the PKU patients\n",
    "model1.genes.get_by_id('HGNC:8582').knock_out()\n",
    "model1.reactions.PHPYRte.upper_bound=0\n",
    "model1.reactions.PHPYRte.lower_bound=0\n",
    "model1.reactions.EX_phpyr_e_INB.upper_bound=0\n",
    "sol = model1.optimize()\n",
    "sol.objective_value"
   ]
  },
  {
   "cell_type": "code",
   "execution_count": 9,
   "metadata": {},
   "outputs": [
    {
     "data": {
      "application/vnd.jupyter.widget-view+json": {
       "model_id": "871242773df44d1e94109915e44eca4e",
       "version_major": 2,
       "version_minor": 0
      },
      "text/plain": [
       "Builder(hide_secondary_metabolites=False, highlight_missing=True, reaction_data={'13DAMPPOX': 0.0, '1a_24_25VI…"
      ]
     },
     "metadata": {},
     "output_type": "display_data"
    }
   ],
   "source": [
    "fbasol = model1.optimize()\n",
    "b = show_map(fbasol,map_loc)\n",
    "b"
   ]
  },
  {
   "cell_type": "code",
   "execution_count": 10,
   "metadata": {},
   "outputs": [],
   "source": [
    "#Remembering to add other amino acid\n",
    "model1.reactions.EX_glc_e.lower_bound=-2##Do not need much glucsoe.\n",
    "model1.reactions.EX_his_L_e.lower_bound=-0.2\n",
    "model1.reactions.EX_ile_L_e.lower_bound=-0.2\n",
    "model1.reactions.EX_leu_L_e.lower_bound=-0.2\n",
    "model1.reactions.EX_lys_L_e.lower_bound=-0.2\n",
    "model1.reactions.EX_met_L_e.lower_bound=-0.2\n",
    "model1.reactions.EX_thr_L_e.lower_bound=-0.2\n",
    "model1.reactions.EX_trp_L_e.lower_bound=-0.1\n",
    "model1.reactions.EX_val_L_e.lower_bound=-0.2"
   ]
  },
  {
   "cell_type": "code",
   "execution_count": 11,
   "metadata": {},
   "outputs": [
    {
     "data": {
      "text/plain": [
       "0.24190296608223896"
      ]
     },
     "execution_count": 11,
     "metadata": {},
     "output_type": "execute_result"
    }
   ],
   "source": [
    "model1.reactions.biomass_reaction.upper_bound=0.5\n",
    "sol = model1.optimize()\n",
    "sol.objective_value"
   ]
  },
  {
   "cell_type": "code",
   "execution_count": 12,
   "metadata": {},
   "outputs": [
    {
     "data": {
      "application/vnd.jupyter.widget-view+json": {
       "model_id": "840155e4781641b8bd88fd8e4cfa844a",
       "version_major": 2,
       "version_minor": 0
      },
      "text/plain": [
       "Builder(hide_secondary_metabolites=False, highlight_missing=True, reaction_data={'13DAMPPOX': 0.0, '1a_24_25VI…"
      ]
     },
     "metadata": {},
     "output_type": "display_data"
    }
   ],
   "source": [
    "fbasol = model1.optimize()\n",
    "b = show_map(fbasol,map_loc)\n",
    "b"
   ]
  },
  {
   "cell_type": "markdown",
   "metadata": {},
   "source": [
    "## More carriers for model"
   ]
  },
  {
   "cell_type": "code",
   "execution_count": 13,
   "metadata": {},
   "outputs": [
    {
     "data": {
      "text/plain": [
       "0.18734518083433543"
      ]
     },
     "execution_count": 13,
     "metadata": {},
     "output_type": "execute_result"
    }
   ],
   "source": [
    "model2=model.copy()\n",
    "# Kncoking gene 'HGNC:8582' to simulate the PKU patients\n",
    "model2.genes.get_by_id('HGNC:8582').knock_out()\n",
    "model2.reactions.PHPYRte.upper_bound=0\n",
    "model2.reactions.PHPYRte.lower_bound=0\n",
    "model2.reactions.EX_phpyr_e_INB.upper_bound=0\n",
    "sol = model2.optimize()\n",
    "sol.objective_value"
   ]
  },
  {
   "cell_type": "code",
   "execution_count": 14,
   "metadata": {},
   "outputs": [
    {
     "data": {
      "application/vnd.jupyter.widget-view+json": {
       "model_id": "b03c77d28e03494b903b628c3c5ecb9d",
       "version_major": 2,
       "version_minor": 0
      },
      "text/plain": [
       "Builder(hide_secondary_metabolites=False, highlight_missing=True, reaction_data={'13DAMPPOX': 0.0, '1a_24_25VI…"
      ]
     },
     "metadata": {},
     "output_type": "display_data"
    }
   ],
   "source": [
    "fbasol = model2.optimize()\n",
    "b = show_map(fbasol,map_loc)\n",
    "b"
   ]
  },
  {
   "cell_type": "code",
   "execution_count": 16,
   "metadata": {},
   "outputs": [
    {
     "data": {
      "text/plain": [
       "0.27405359999999995"
      ]
     },
     "execution_count": 16,
     "metadata": {},
     "output_type": "execute_result"
    },
    {
     "data": {
      "application/vnd.jupyter.widget-view+json": {
       "model_id": "c92ad8e6a9324030a1e1dc14fe7e7ab2",
       "version_major": 2,
       "version_minor": 0
      },
      "text/plain": [
       "Builder(hide_secondary_metabolites=False, highlight_missing=True, reaction_data={'13DAMPPOX': 0.0, '1a_24_25VI…"
      ]
     },
     "metadata": {},
     "output_type": "display_data"
    }
   ],
   "source": [
    "model2.reactions.Ti_To.upper_bound=0.3\n",
    "sol = model2.optimize()\n",
    "sol.objective_value\n",
    "fbasol = model2.optimize()\n",
    "b = show_map(fbasol,map_loc)\n",
    "b"
   ]
  },
  {
   "cell_type": "code",
   "execution_count": null,
   "metadata": {},
   "outputs": [],
   "source": []
  }
 ],
 "metadata": {
  "kernelspec": {
   "display_name": "Python 3 (ipykernel)",
   "language": "python",
   "name": "python3"
  },
  "language_info": {
   "codemirror_mode": {
    "name": "ipython",
    "version": 3
   },
   "file_extension": ".py",
   "mimetype": "text/x-python",
   "name": "python",
   "nbconvert_exporter": "python",
   "pygments_lexer": "ipython3",
   "version": "3.10.6"
  },
  "toc": {
   "base_numbering": 1,
   "nav_menu": {},
   "number_sections": true,
   "sideBar": true,
   "skip_h1_title": false,
   "title_cell": "Table of Contents",
   "title_sidebar": "Contents",
   "toc_cell": false,
   "toc_position": {
    "height": "540px",
    "left": "318px",
    "top": "156px",
    "width": "168px"
   },
   "toc_section_display": true,
   "toc_window_display": true
  },
  "varInspector": {
   "cols": {
    "lenName": 16,
    "lenType": 16,
    "lenVar": 40
   },
   "kernels_config": {
    "python": {
     "delete_cmd_postfix": "",
     "delete_cmd_prefix": "del ",
     "library": "var_list.py",
     "varRefreshCmd": "print(var_dic_list())"
    },
    "r": {
     "delete_cmd_postfix": ") ",
     "delete_cmd_prefix": "rm(",
     "library": "var_list.r",
     "varRefreshCmd": "cat(var_dic_list()) "
    }
   },
   "types_to_exclude": [
    "module",
    "function",
    "builtin_function_or_method",
    "instance",
    "_Feature"
   ],
   "window_display": false
  }
 },
 "nbformat": 4,
 "nbformat_minor": 2
}
